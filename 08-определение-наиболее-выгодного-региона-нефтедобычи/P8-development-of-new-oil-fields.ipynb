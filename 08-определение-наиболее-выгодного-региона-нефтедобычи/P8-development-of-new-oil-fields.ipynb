{
 "cells": [
  {
   "cell_type": "markdown",
   "id": "788ac0cc",
   "metadata": {
    "toc": true
   },
   "source": [
    "<h1>Table of Contents<span class=\"tocSkip\"></span></h1>\n",
    "<div class=\"toc\"><ul class=\"toc-item\"><li><span><a href=\"#Описание-проекта\" data-toc-modified-id=\"Описание-проекта-1\"><span class=\"toc-item-num\">1&nbsp;&nbsp;</span>Описание проекта</a></span></li><li><span><a href=\"#Описание-и-подготовка-данных\" data-toc-modified-id=\"Описание-и-подготовка-данных-2\"><span class=\"toc-item-num\">2&nbsp;&nbsp;</span>Описание и подготовка данных</a></span></li><li><span><a href=\"#Обучение-и-проверка-моделей\" data-toc-modified-id=\"Обучение-и-проверка-моделей-3\"><span class=\"toc-item-num\">3&nbsp;&nbsp;</span>Обучение и проверка моделей</a></span></li><li><span><a href=\"#Расчет-прибыли\" data-toc-modified-id=\"Расчет-прибыли-4\"><span class=\"toc-item-num\">4&nbsp;&nbsp;</span>Расчет прибыли</a></span><ul class=\"toc-item\"><li><span><a href=\"#Подготовка-к-расчету-прибыли\" data-toc-modified-id=\"Подготовка-к-расчету-прибыли-4.1\"><span class=\"toc-item-num\">4.1&nbsp;&nbsp;</span>Подготовка к расчету прибыли</a></span></li><li><span><a href=\"#Расчет-прибыли-по-реальным-данным\" data-toc-modified-id=\"Расчет-прибыли-по-реальным-данным-4.2\"><span class=\"toc-item-num\">4.2&nbsp;&nbsp;</span>Расчет прибыли по реальным данным</a></span></li></ul></li><li><span><a href=\"#Выбор-региона\" data-toc-modified-id=\"Выбор-региона-5\"><span class=\"toc-item-num\">5&nbsp;&nbsp;</span>Выбор региона</a></span></li><li><span><a href=\"#Итоговые-выводы\" data-toc-modified-id=\"Итоговые-выводы-6\"><span class=\"toc-item-num\">6&nbsp;&nbsp;</span>Итоговые выводы</a></span></li></ul></div>"
   ]
  },
  {
   "cell_type": "code",
   "execution_count": 1,
   "id": "a46b4564",
   "metadata": {},
   "outputs": [],
   "source": [
    "import pandas as pd\n",
    "import numpy as np\n",
    "import matplotlib.pyplot as plt\n",
    "from sklearn.model_selection import train_test_split\n",
    "from sklearn.linear_model import LinearRegression\n",
    "from sklearn.metrics import mean_squared_error"
   ]
  },
  {
   "cell_type": "markdown",
   "id": "d6f378aa",
   "metadata": {},
   "source": [
    "# Выбор локации для скважины"
   ]
  },
  {
   "cell_type": "markdown",
   "id": "9c9f8406",
   "metadata": {},
   "source": [
    "## Описание проекта"
   ]
  },
  {
   "cell_type": "markdown",
   "id": "c5386ee4",
   "metadata": {},
   "source": [
    "**Заказчик** - добывающая компания «ГлавРосГосНефть». Им необходимо решить, где осуществить бурение новой скважины.\n",
    "\n",
    "Решение о выборе локации принимается на основании следующих шагов:\n",
    "* В избранном регионе собираются характеристики для скважин: качество нефти и объём её запасов;\n",
    "* Строятся модель для предсказания объёма запасов в новых скважинах;\n",
    "* Выбираются скважины с самыми высокими оценками значений;\n",
    "* Определяются регион с максимальной суммарной прибылью отобранных скважин.\n",
    "\n",
    "**Исходные данные** - пробы нефти в трёх регионах: их характеристики и объемы запасов в скважинах. "
   ]
  },
  {
   "cell_type": "markdown",
   "id": "9344e007",
   "metadata": {},
   "source": [
    "Каждый из исходных датафреймов состоит из 5 столбцов, отвечающих за следующие характеристики:\n",
    "* id — уникальный идентификатор скважины;\n",
    "* f0, f1, f2 — три признака точек (неважно, что они означают, но сами признаки значимы);\n",
    "* product — объём запасов в скважине (тыс. баррелей)."
   ]
  },
  {
   "cell_type": "markdown",
   "id": "7ca44e9e",
   "metadata": {},
   "source": [
    "**Ход исследования**\n",
    "\n",
    "Данное исследование будет состоять из 6 основных этапов, а именно:\n",
    "\n",
    "1. Описание проекта\n",
    "2. Описание и подготовка данных\n",
    "3. Обучение и проверка моделей\n",
    "4. Расчет прибыли\n",
    "    * Подготовка к расчету прибыли\n",
    "    * Расчет прибыли по реальным данным\n",
    "5. Выбор региона\n",
    "6. Итоговые выводы"
   ]
  },
  {
   "cell_type": "markdown",
   "id": "62a67b58",
   "metadata": {},
   "source": [
    "## Описание и подготовка данных"
   ]
  },
  {
   "cell_type": "markdown",
   "id": "5845e794",
   "metadata": {},
   "source": [
    "Начнем с общего анализа и описания исходных данных. "
   ]
  },
  {
   "cell_type": "code",
   "execution_count": 2,
   "id": "12c39976",
   "metadata": {},
   "outputs": [],
   "source": [
    "try:\n",
    "    geo_1 = pd.read_csv('/datasets/geo_data_0.csv')\n",
    "    geo_2 = pd.read_csv('/datasets/geo_data_1.csv')\n",
    "    geo_3 = pd.read_csv('/datasets/geo_data_2.csv')\n",
    "except:\n",
    "    geo_1 = pd.read_csv('geo_data_0.csv')\n",
    "    geo_2 = pd.read_csv('geo_data_1.csv')\n",
    "    geo_3 = pd.read_csv('geo_data_2.csv')"
   ]
  },
  {
   "cell_type": "code",
   "execution_count": 3,
   "id": "bc16613a",
   "metadata": {},
   "outputs": [
    {
     "name": "stdout",
     "output_type": "stream",
     "text": [
      "Инфографика по данным из 1-го региона\n",
      "\n",
      "<class 'pandas.core.frame.DataFrame'>\n",
      "RangeIndex: 100000 entries, 0 to 99999\n",
      "Data columns (total 5 columns):\n",
      " #   Column   Non-Null Count   Dtype  \n",
      "---  ------   --------------   -----  \n",
      " 0   id       100000 non-null  object \n",
      " 1   f0       100000 non-null  float64\n",
      " 2   f1       100000 non-null  float64\n",
      " 3   f2       100000 non-null  float64\n",
      " 4   product  100000 non-null  float64\n",
      "dtypes: float64(4), object(1)\n",
      "memory usage: 3.8+ MB\n"
     ]
    },
    {
     "data": {
      "text/plain": [
       "None"
      ]
     },
     "metadata": {},
     "output_type": "display_data"
    },
    {
     "data": {
      "text/html": [
       "<div>\n",
       "<style scoped>\n",
       "    .dataframe tbody tr th:only-of-type {\n",
       "        vertical-align: middle;\n",
       "    }\n",
       "\n",
       "    .dataframe tbody tr th {\n",
       "        vertical-align: top;\n",
       "    }\n",
       "\n",
       "    .dataframe thead th {\n",
       "        text-align: right;\n",
       "    }\n",
       "</style>\n",
       "<table border=\"1\" class=\"dataframe\">\n",
       "  <thead>\n",
       "    <tr style=\"text-align: right;\">\n",
       "      <th></th>\n",
       "      <th>id</th>\n",
       "      <th>f0</th>\n",
       "      <th>f1</th>\n",
       "      <th>f2</th>\n",
       "      <th>product</th>\n",
       "    </tr>\n",
       "  </thead>\n",
       "  <tbody>\n",
       "    <tr>\n",
       "      <th>0</th>\n",
       "      <td>txEyH</td>\n",
       "      <td>0.705745</td>\n",
       "      <td>-0.497823</td>\n",
       "      <td>1.221170</td>\n",
       "      <td>105.280062</td>\n",
       "    </tr>\n",
       "    <tr>\n",
       "      <th>1</th>\n",
       "      <td>2acmU</td>\n",
       "      <td>1.334711</td>\n",
       "      <td>-0.340164</td>\n",
       "      <td>4.365080</td>\n",
       "      <td>73.037750</td>\n",
       "    </tr>\n",
       "    <tr>\n",
       "      <th>2</th>\n",
       "      <td>409Wp</td>\n",
       "      <td>1.022732</td>\n",
       "      <td>0.151990</td>\n",
       "      <td>1.419926</td>\n",
       "      <td>85.265647</td>\n",
       "    </tr>\n",
       "    <tr>\n",
       "      <th>3</th>\n",
       "      <td>iJLyR</td>\n",
       "      <td>-0.032172</td>\n",
       "      <td>0.139033</td>\n",
       "      <td>2.978566</td>\n",
       "      <td>168.620776</td>\n",
       "    </tr>\n",
       "    <tr>\n",
       "      <th>4</th>\n",
       "      <td>Xdl7t</td>\n",
       "      <td>1.988431</td>\n",
       "      <td>0.155413</td>\n",
       "      <td>4.751769</td>\n",
       "      <td>154.036647</td>\n",
       "    </tr>\n",
       "  </tbody>\n",
       "</table>\n",
       "</div>"
      ],
      "text/plain": [
       "      id        f0        f1        f2     product\n",
       "0  txEyH  0.705745 -0.497823  1.221170  105.280062\n",
       "1  2acmU  1.334711 -0.340164  4.365080   73.037750\n",
       "2  409Wp  1.022732  0.151990  1.419926   85.265647\n",
       "3  iJLyR -0.032172  0.139033  2.978566  168.620776\n",
       "4  Xdl7t  1.988431  0.155413  4.751769  154.036647"
      ]
     },
     "metadata": {},
     "output_type": "display_data"
    },
    {
     "name": "stdout",
     "output_type": "stream",
     "text": [
      "Инфографика по данным из 2-го региона\n",
      "\n",
      "<class 'pandas.core.frame.DataFrame'>\n",
      "RangeIndex: 100000 entries, 0 to 99999\n",
      "Data columns (total 5 columns):\n",
      " #   Column   Non-Null Count   Dtype  \n",
      "---  ------   --------------   -----  \n",
      " 0   id       100000 non-null  object \n",
      " 1   f0       100000 non-null  float64\n",
      " 2   f1       100000 non-null  float64\n",
      " 3   f2       100000 non-null  float64\n",
      " 4   product  100000 non-null  float64\n",
      "dtypes: float64(4), object(1)\n",
      "memory usage: 3.8+ MB\n"
     ]
    },
    {
     "data": {
      "text/plain": [
       "None"
      ]
     },
     "metadata": {},
     "output_type": "display_data"
    },
    {
     "data": {
      "text/html": [
       "<div>\n",
       "<style scoped>\n",
       "    .dataframe tbody tr th:only-of-type {\n",
       "        vertical-align: middle;\n",
       "    }\n",
       "\n",
       "    .dataframe tbody tr th {\n",
       "        vertical-align: top;\n",
       "    }\n",
       "\n",
       "    .dataframe thead th {\n",
       "        text-align: right;\n",
       "    }\n",
       "</style>\n",
       "<table border=\"1\" class=\"dataframe\">\n",
       "  <thead>\n",
       "    <tr style=\"text-align: right;\">\n",
       "      <th></th>\n",
       "      <th>id</th>\n",
       "      <th>f0</th>\n",
       "      <th>f1</th>\n",
       "      <th>f2</th>\n",
       "      <th>product</th>\n",
       "    </tr>\n",
       "  </thead>\n",
       "  <tbody>\n",
       "    <tr>\n",
       "      <th>0</th>\n",
       "      <td>kBEdx</td>\n",
       "      <td>-15.001348</td>\n",
       "      <td>-8.276000</td>\n",
       "      <td>-0.005876</td>\n",
       "      <td>3.179103</td>\n",
       "    </tr>\n",
       "    <tr>\n",
       "      <th>1</th>\n",
       "      <td>62mP7</td>\n",
       "      <td>14.272088</td>\n",
       "      <td>-3.475083</td>\n",
       "      <td>0.999183</td>\n",
       "      <td>26.953261</td>\n",
       "    </tr>\n",
       "    <tr>\n",
       "      <th>2</th>\n",
       "      <td>vyE1P</td>\n",
       "      <td>6.263187</td>\n",
       "      <td>-5.948386</td>\n",
       "      <td>5.001160</td>\n",
       "      <td>134.766305</td>\n",
       "    </tr>\n",
       "    <tr>\n",
       "      <th>3</th>\n",
       "      <td>KcrkZ</td>\n",
       "      <td>-13.081196</td>\n",
       "      <td>-11.506057</td>\n",
       "      <td>4.999415</td>\n",
       "      <td>137.945408</td>\n",
       "    </tr>\n",
       "    <tr>\n",
       "      <th>4</th>\n",
       "      <td>AHL4O</td>\n",
       "      <td>12.702195</td>\n",
       "      <td>-8.147433</td>\n",
       "      <td>5.004363</td>\n",
       "      <td>134.766305</td>\n",
       "    </tr>\n",
       "  </tbody>\n",
       "</table>\n",
       "</div>"
      ],
      "text/plain": [
       "      id         f0         f1        f2     product\n",
       "0  kBEdx -15.001348  -8.276000 -0.005876    3.179103\n",
       "1  62mP7  14.272088  -3.475083  0.999183   26.953261\n",
       "2  vyE1P   6.263187  -5.948386  5.001160  134.766305\n",
       "3  KcrkZ -13.081196 -11.506057  4.999415  137.945408\n",
       "4  AHL4O  12.702195  -8.147433  5.004363  134.766305"
      ]
     },
     "metadata": {},
     "output_type": "display_data"
    },
    {
     "name": "stdout",
     "output_type": "stream",
     "text": [
      "Инфографика по данным из 3-го региона\n",
      "\n",
      "<class 'pandas.core.frame.DataFrame'>\n",
      "RangeIndex: 100000 entries, 0 to 99999\n",
      "Data columns (total 5 columns):\n",
      " #   Column   Non-Null Count   Dtype  \n",
      "---  ------   --------------   -----  \n",
      " 0   id       100000 non-null  object \n",
      " 1   f0       100000 non-null  float64\n",
      " 2   f1       100000 non-null  float64\n",
      " 3   f2       100000 non-null  float64\n",
      " 4   product  100000 non-null  float64\n",
      "dtypes: float64(4), object(1)\n",
      "memory usage: 3.8+ MB\n"
     ]
    },
    {
     "data": {
      "text/plain": [
       "None"
      ]
     },
     "metadata": {},
     "output_type": "display_data"
    },
    {
     "data": {
      "text/html": [
       "<div>\n",
       "<style scoped>\n",
       "    .dataframe tbody tr th:only-of-type {\n",
       "        vertical-align: middle;\n",
       "    }\n",
       "\n",
       "    .dataframe tbody tr th {\n",
       "        vertical-align: top;\n",
       "    }\n",
       "\n",
       "    .dataframe thead th {\n",
       "        text-align: right;\n",
       "    }\n",
       "</style>\n",
       "<table border=\"1\" class=\"dataframe\">\n",
       "  <thead>\n",
       "    <tr style=\"text-align: right;\">\n",
       "      <th></th>\n",
       "      <th>id</th>\n",
       "      <th>f0</th>\n",
       "      <th>f1</th>\n",
       "      <th>f2</th>\n",
       "      <th>product</th>\n",
       "    </tr>\n",
       "  </thead>\n",
       "  <tbody>\n",
       "    <tr>\n",
       "      <th>0</th>\n",
       "      <td>fwXo0</td>\n",
       "      <td>-1.146987</td>\n",
       "      <td>0.963328</td>\n",
       "      <td>-0.828965</td>\n",
       "      <td>27.758673</td>\n",
       "    </tr>\n",
       "    <tr>\n",
       "      <th>1</th>\n",
       "      <td>WJtFt</td>\n",
       "      <td>0.262778</td>\n",
       "      <td>0.269839</td>\n",
       "      <td>-2.530187</td>\n",
       "      <td>56.069697</td>\n",
       "    </tr>\n",
       "    <tr>\n",
       "      <th>2</th>\n",
       "      <td>ovLUW</td>\n",
       "      <td>0.194587</td>\n",
       "      <td>0.289035</td>\n",
       "      <td>-5.586433</td>\n",
       "      <td>62.871910</td>\n",
       "    </tr>\n",
       "    <tr>\n",
       "      <th>3</th>\n",
       "      <td>q6cA6</td>\n",
       "      <td>2.236060</td>\n",
       "      <td>-0.553760</td>\n",
       "      <td>0.930038</td>\n",
       "      <td>114.572842</td>\n",
       "    </tr>\n",
       "    <tr>\n",
       "      <th>4</th>\n",
       "      <td>WPMUX</td>\n",
       "      <td>-0.515993</td>\n",
       "      <td>1.716266</td>\n",
       "      <td>5.899011</td>\n",
       "      <td>149.600746</td>\n",
       "    </tr>\n",
       "  </tbody>\n",
       "</table>\n",
       "</div>"
      ],
      "text/plain": [
       "      id        f0        f1        f2     product\n",
       "0  fwXo0 -1.146987  0.963328 -0.828965   27.758673\n",
       "1  WJtFt  0.262778  0.269839 -2.530187   56.069697\n",
       "2  ovLUW  0.194587  0.289035 -5.586433   62.871910\n",
       "3  q6cA6  2.236060 -0.553760  0.930038  114.572842\n",
       "4  WPMUX -0.515993  1.716266  5.899011  149.600746"
      ]
     },
     "metadata": {},
     "output_type": "display_data"
    }
   ],
   "source": [
    "count = 1\n",
    "for data in [geo_1, geo_2, geo_3]:\n",
    "    print(f'Инфографика по данным из {count}-го региона')\n",
    "    print()\n",
    "    display(data.info())\n",
    "    display(data.head())\n",
    "    count += 1"
   ]
  },
  {
   "cell_type": "markdown",
   "id": "61615cc8",
   "metadata": {},
   "source": [
    "Что можно сказать по полученным результатам? \n",
    "\n",
    "Прежде всего, в данных нет пропусков - количество наблюдений в переменных по всем трем наборам данных совпадает. За исключением одного столбца, остальные имеют тип `float`. Первый столбец, отвечающий за уникальный идентификатор скважины, имеет тип `object` и является слабоинформативным при нашем исследовании. Именно поэтому мы не станем включать данную характеристику в список переменных при моделировании."
   ]
  },
  {
   "cell_type": "markdown",
   "id": "7cff297f",
   "metadata": {},
   "source": [
    "Также заранее зададим некоторые параметры, которые пригодятся нам при дальнейшей работе."
   ]
  },
  {
   "cell_type": "code",
   "execution_count": 4,
   "id": "ee48ff84",
   "metadata": {},
   "outputs": [],
   "source": [
    "RANDOM_STATE = 9"
   ]
  },
  {
   "cell_type": "markdown",
   "id": "5b80674f",
   "metadata": {},
   "source": [
    "## Обучение и проверка моделей"
   ]
  },
  {
   "cell_type": "markdown",
   "id": "887df851",
   "metadata": {},
   "source": [
    "Перейдем к следующему этапу работы над проектом. Займемся обучением моделей машинного обучения. От заказчика был получен запрос на построение именно линейной регрессии, поскольку остальные модели являются недостаточно предсказуемыми."
   ]
  },
  {
   "cell_type": "markdown",
   "id": "9a7d25bd",
   "metadata": {},
   "source": [
    "Для упрощения работы создадим функцию, которая будет разделять исходную выборку на тренировочную и валидационную, обучать линейную модель, делать предсказания и выводить значимую информацию о результатах.\n",
    "\n",
    "В качестве итога она будет возвращать датафрейм, состоящий из двух столбцов - фактического объема запасов в скважинах, отобранных для валидационной выборки, а также предсказания от полученных моделей для этих же скважин."
   ]
  },
  {
   "cell_type": "code",
   "execution_count": 5,
   "id": "a2646c45",
   "metadata": {},
   "outputs": [],
   "source": [
    "def lin_reg(data):\n",
    "# Делим выборку на тренировочную и валидационную\n",
    "    X_train, X_valid, y_train, y_valid = train_test_split(\n",
    "        data[['f0', 'f1', 'f2']], \n",
    "        data['product'],\n",
    "        test_size=0.25,\n",
    "        random_state=RANDOM_STATE)\n",
    "    \n",
    "# Обучаем линейную регрессию\n",
    "    reg =  LinearRegression().fit(X_train, y_train)\n",
    "# Делаем предсказания\n",
    "    pred = reg.predict(X_valid)\n",
    "# Объединяем предсказания и фактические величины таргета в датафрейм\n",
    "    result = pd.DataFrame({'prediction': np.array(pred), 'target': pd.Series(y_valid)})\n",
    "    print('Средний запас предсказанного сырья:', pred.mean())\n",
    "    print('Root mean squared error %.2f:' % mean_squared_error(y_valid, pred) ** 0.5)\n",
    "    return result"
   ]
  },
  {
   "cell_type": "markdown",
   "id": "96922a1f",
   "metadata": {},
   "source": [
    "Применим полученную функцию к каждому из наборов данных."
   ]
  },
  {
   "cell_type": "code",
   "execution_count": 6,
   "id": "e5c6605a",
   "metadata": {},
   "outputs": [
    {
     "name": "stdout",
     "output_type": "stream",
     "text": [
      "Информация о первом регионе:\n",
      "Средний запас предсказанного сырья: 92.45151127970036\n",
      "Root mean squared error 37.86:\n"
     ]
    }
   ],
   "source": [
    "print(f'Информация о первом регионе:')\n",
    "res_geo1 = lin_reg(geo_1)"
   ]
  },
  {
   "cell_type": "code",
   "execution_count": 7,
   "id": "db79d3c2",
   "metadata": {},
   "outputs": [
    {
     "name": "stdout",
     "output_type": "stream",
     "text": [
      "Информация о втором регионе:\n",
      "Средний запас предсказанного сырья: 68.87279592823421\n",
      "Root mean squared error 0.89:\n"
     ]
    }
   ],
   "source": [
    "print(f'Информация о втором регионе:')\n",
    "res_geo2 = lin_reg(geo_2)"
   ]
  },
  {
   "cell_type": "code",
   "execution_count": 8,
   "id": "be83eac7",
   "metadata": {},
   "outputs": [
    {
     "name": "stdout",
     "output_type": "stream",
     "text": [
      "Информация о третьем регионе:\n",
      "Средний запас предсказанного сырья: 95.00165908499928\n",
      "Root mean squared error 40.23:\n"
     ]
    }
   ],
   "source": [
    "print(f'Информация о третьем регионе:')\n",
    "res_geo3 = lin_reg(geo_3)"
   ]
  },
  {
   "cell_type": "markdown",
   "id": "86000f73",
   "metadata": {},
   "source": [
    "Что можно сказать о регионах на основании полученной информации?\n",
    "\n",
    "Первый и третий регионы довольно похожи: они имеют относительно высокое значение средних по региону предсказанных запасов, однако также имеют немаленькую среднеквадратичную ошибку. Это говорит о том, что в среднем запасы в скважинах в каждом из регионов примерно на 40 тыс. баррелей отличаются от полученного нами среднего.\n",
    "\n",
    "Второй регион, напротив, имеет меньшее значение средних предсказанных запасов сырья, однако значение среднеквадратичной ошибки для данного региона также существенно меньше, что говорит о более точных предсказаниях модели для данного региона."
   ]
  },
  {
   "cell_type": "markdown",
   "id": "09c3b44c",
   "metadata": {},
   "source": [
    "## Расчет прибыли"
   ]
  },
  {
   "cell_type": "markdown",
   "id": "5feb97fc",
   "metadata": {},
   "source": [
    "### Подготовка к расчету прибыли"
   ]
  },
  {
   "cell_type": "markdown",
   "id": "316cb3ff",
   "metadata": {},
   "source": [
    "Перейдем к расчету потенциальной прибыли от скважин. Однако прежде совершим работу по подготовке к расчетам. Прежде всего, сохраним ключевые для расчетов значения в переменные. Это значительно упростит работу, поскольку при необходимости нам будет необходимо изменить только значения параметров, а не менять дальнейший код."
   ]
  },
  {
   "cell_type": "code",
   "execution_count": 9,
   "id": "1e47cf1a",
   "metadata": {},
   "outputs": [],
   "source": [
    "BUDGET = 10000000\n",
    "INCOM = 450\n",
    "WELLS_FINAL = 200\n",
    "WELLS_FIRST = 500\n",
    "\n",
    "# Переменные budget и incom указаны в тысячах"
   ]
  },
  {
   "cell_type": "markdown",
   "id": "a14de775",
   "metadata": {},
   "source": [
    "Также рассчитаем достаточный объём сырья для безубыточной разработки новой скважины. Дополнительно сравним полученный объём сырья со средним запасом в каждом регионе."
   ]
  },
  {
   "cell_type": "code",
   "execution_count": 10,
   "id": "7ddb8df2",
   "metadata": {},
   "outputs": [
    {
     "name": "stdout",
     "output_type": "stream",
     "text": [
      "Для безубыточной разработки новой скважины нужно примерно 111 тыс. баррелей\n"
     ]
    }
   ],
   "source": [
    "breakeven = BUDGET/(INCOM*WELLS_FINAL)\n",
    "print(f'Для безубыточной разработки новой скважины нужно примерно {int(breakeven)} тыс. баррелей')"
   ]
  },
  {
   "cell_type": "markdown",
   "id": "63786dcd",
   "metadata": {},
   "source": [
    "Как можно заметить, предсказанные нашими моделями средние объемы запасов сырья в каждом из исследуемых регионов меньше безубыточного объема. Между тем, фактический результат запасов может быть достаточным для безубыточной разработки, а проблема будет заключаться в некачественных предсказаниях наших моделей."
   ]
  },
  {
   "cell_type": "markdown",
   "id": "9f354110",
   "metadata": {},
   "source": [
    "### Расчет прибыли по реальным данным"
   ]
  },
  {
   "cell_type": "markdown",
   "id": "e493e580",
   "metadata": {},
   "source": [
    "еперь займемся расчетом прибыли по  выбранным скважинам и предсказаниям модели. Для этого создадим функцию, которая на вход будет принимать датафрейм с предсказаниями и фактическим объемом, а на выход будет возвращать выручку, рассчитанную по 200 потенциально лучшим скважинам - именно столько выбирает компания при разведке региона."
   ]
  },
  {
   "cell_type": "code",
   "execution_count": 11,
   "id": "2b4915b6",
   "metadata": {},
   "outputs": [],
   "source": [
    "def profit(data, amount):\n",
    "# Отсортируем входной датафрейм в порядке убывания по значенриям предсказаний\n",
    "    data = data.sort_values(by='prediction', ascending = False)\n",
    "# Отберем 200 топовых скважин\n",
    "    selected = data['target'][data.index][:amount]\n",
    "# Рассчитаем прибыль\n",
    "    revenue = selected.sum() * INCOM - BUDGET\n",
    "    return revenue"
   ]
  },
  {
   "cell_type": "markdown",
   "id": "4828f64c",
   "metadata": {},
   "source": [
    "Применим полученную функцию к полученным в третьем пункту датафреймам для расчета выручки. "
   ]
  },
  {
   "cell_type": "code",
   "execution_count": 12,
   "id": "33bbf7b2",
   "metadata": {},
   "outputs": [
    {
     "name": "stdout",
     "output_type": "stream",
     "text": [
      "Прибыль от полученного сырья в 1-ом регионе: 3360764.3065996747.\n",
      "Прибыль от полученного сырья в 2-ом регионе: 2415086.6966815125.\n",
      "Прибыль от полученного сырья в 3-ом регионе: 2536479.130021617.\n"
     ]
    }
   ],
   "source": [
    "count = 1\n",
    "for data in [res_geo1, res_geo2, res_geo3]:\n",
    "    print(f'Прибыль от полученного сырья в {count}-ом регионе: {profit(data, WELLS_FINAL)}.')\n",
    "    count += 1"
   ]
  },
  {
   "cell_type": "markdown",
   "id": "cd88886f",
   "metadata": {},
   "source": [
    "Напомним, что полученный нами значения исчисляются в тысячах рублей.\n",
    "\n",
    "Согласно проведенными нами расчетам, наибольшее значение прибыли достигается в первом регионе - она составляет 3,3 млрд. рублей. Расчетная прибыль во втором и третьем регионах примерно равна и составляется порядка 2,5 млрд.\n",
    "\n",
    "Однако полученные нами в данном пункте результаты могут быть неточными, поскольку для расчетов прибыли мы используем сильно урезанную выборку - лишь 200 наблюдений из 25 000. Для более объективной оценки проведем дополнительную работу по оценке потенциальной прибыли."
   ]
  },
  {
   "cell_type": "markdown",
   "id": "05638f24",
   "metadata": {},
   "source": [
    "## Выбор региона"
   ]
  },
  {
   "cell_type": "markdown",
   "id": "81ec7093",
   "metadata": {},
   "source": [
    "Мы уже упоминали ранее, что полученные нами размеры прибыли могут быть несколько не объективными относительно всего набора. Для получения более точного значения прибыли воспользуемся техникой Bootstrap - она создаст заданное количество подвыборок, рассчитает для них прибыль, после чего мы усредним полученные значения и получим более объективные размеры потенциальной прибыли для каждого из регионов. \n",
    "\n",
    "Также рассчитаем потенциальные риски и убытки от добычи. По условию заказчика, допустимо оставлять только те регионы, в которых вероятность убытков меньше 2.5%. Среди них выбирается итоговый регион на основании наибольшего размера средней прибыли."
   ]
  },
  {
   "cell_type": "code",
   "execution_count": 13,
   "id": "f61db0ce",
   "metadata": {},
   "outputs": [],
   "source": [
    "state = np.random.RandomState(RANDOM_STATE)"
   ]
  },
  {
   "cell_type": "code",
   "execution_count": 14,
   "id": "18014051",
   "metadata": {},
   "outputs": [],
   "source": [
    "def risk_revenue(data, total, ammount, interval):\n",
    "    values = []\n",
    "    for i in range(1000):\n",
    "        target_subsample = data['target'].sample(n=total, replace=True, random_state=state)\n",
    "        probs_subsample = data['prediction'][target_subsample.index] \n",
    "        new_data = pd.DataFrame({'prediction': pd.Series(probs_subsample), \n",
    "                                'target': pd.Series(target_subsample)})\n",
    "        values.append(profit(new_data, ammount))\n",
    "\n",
    "    values = pd.Series(values)\n",
    "    lower = values.quantile(1-interval)\n",
    "    upper = values.quantile(interval)\n",
    "    mean = values.mean()\n",
    "    loss = values.quantile(0.025)\n",
    "    \n",
    "    print(\"Средняя прибыль:\", mean)\n",
    "    print(\"5%-квантиль:\", lower)\n",
    "    print(\"95%-квантиль:\", upper)\n",
    "    if loss < 0:\n",
    "        print(f'С вероятностью 2.5% убыток будет равняться {loss*(-1)} тыс. рублей.')\n",
    "    else: print(f'С вероятностью 2.5% прибыль будет равняться {loss} тыс. рублей.')\n",
    "    print(f'Вероятность убытков составляет {(values < 0).mean()*100}%')\n",
    "    return"
   ]
  },
  {
   "cell_type": "code",
   "execution_count": 15,
   "id": "6f88ed3e",
   "metadata": {
    "scrolled": false
   },
   "outputs": [
    {
     "name": "stdout",
     "output_type": "stream",
     "text": [
      "Информация по 1-ому региону:\n",
      "Средняя прибыль: 402307.08634044515\n",
      "5%-квантиль: -69508.66209429344\n",
      "95%-квантиль: 858128.7272632724\n",
      "С вероятностью 2.5% убыток будет равняться 153332.15781436817 тыс. рублей.\n",
      "Вероятность убытков составляет 7.6%\n",
      "\n",
      "Информация по 2-ому региону:\n",
      "Средняя прибыль: 496930.0513132936\n",
      "5%-квантиль: 138681.653110249\n",
      "95%-квантиль: 857372.7352301951\n",
      "С вероятностью 2.5% прибыль будет равняться 57428.456070956076 тыс. рублей.\n",
      "Вероятность убытков составляет 1.0999999999999999%\n",
      "\n",
      "Информация по 3-ому региону:\n",
      "Средняя прибыль: 333483.45528260653\n",
      "5%-квантиль: -142768.30174572568\n",
      "95%-квантиль: 806548.5292256572\n",
      "С вероятностью 2.5% убыток будет равняться 226652.80505422704 тыс. рублей.\n",
      "Вероятность убытков составляет 13.100000000000001%\n",
      "\n"
     ]
    }
   ],
   "source": [
    "count = 1\n",
    "for data in [res_geo1, res_geo2, res_geo3]:\n",
    "    print(f'Информация по {count}-ому региону:')\n",
    "    risk_revenue(data, WELLS_FIRST, WELLS_FINAL, 0.95)\n",
    "    count += 1\n",
    "    print('')"
   ]
  },
  {
   "cell_type": "markdown",
   "id": "f20a4184",
   "metadata": {},
   "source": [
    "Как можно заметить, полученные после применения техники Bootstrap размеры средней прибыли для каждого из регионов существенно изменились. Теперь лидирующую позицию по данному значению занимает второй регион с прибылью порядка 500 млн. В остальных регионах размер средней прибыли несколько меньше - порядка 400 млн. для первого и 340 млн. для третьего.\n",
    "\n",
    "Обратим также внимание на полученные квантили и вероятности убытков. По итогу две из трех регионов будут иметь убытки с вероятностью не меньше 2.5% - более того, даже 5% квантили у данных регионов имеют отрицательные размеры прибыли. Между тем, второй регион, напротив, имеет прибыль, а не убытки, что делает его единственным регионом, подошедшим под установленные заказчиком критерии. На основании этого (а также того факта, что максимальная средняя прибыль также достигается во втором регионе), мы предлагаем для разработки скважин именно второй регион.  "
   ]
  },
  {
   "cell_type": "markdown",
   "id": "5bb829c6",
   "metadata": {},
   "source": [
    "## Итоговые выводы"
   ]
  },
  {
   "cell_type": "markdown",
   "id": "3991ec62",
   "metadata": {},
   "source": [
    "Подведем итоги проделанной нами работы. Перед нами стояла задача по выбору наилучшего региона для бурения новой скважины. Изначально нам была предоставлена информация о пробах нефти в трёх регионах. Первичный анализ показал, что исходные данные полные и не нуждаются в существенной доработке.\n",
    "\n",
    "Нами были построены три модели линейной регрессии - для каждого региона соответственно. На основании предсказаний наших моделей мы рассчитали средний запас в скважинах в каждом регионе и качество полученных моделей. По итогу первый и третий регионы обладали наибольшим средним объемом запасов с 92 и 98 тыс. баррелями, однако также они обладали наибольшим размером среднеквадратичной ошибки - порядка 40 тыс. баррелей. Второй регион, напротив, обладал меньшим размером как среднего объема - 68 тыс. баррелей, так и ошибки - 0.89 тыс. баррелей. Также мы сравнили полученные значения средних объемов каждого из регионов с необходимым объемом для покрытия расходов - средние показатели ни одной из моделей не перешли порог для безубыточности.\n",
    "\n",
    "Далее мы рассчитали потенциальную фактическую прибыль по 200 лучшим скважинам, отобранным по результатам предсказаний. Лидирующую позицию занял первый регион - 3,3 млрд. рублей, а значение прибыли во втором и третьем регионах было довольно близко - порядка 2,5 млрд. рублей.\n",
    "\n",
    "Однако после расчета прибыли с применением техники Bootstrap позиции регионов сильно изменились. Первый и третий регионы выбыли из рассмотрения вследствие несоответствия одного из условий заказчика - остаются лишь те регионы, в которых вероятность убытков меньше 2.5%. При этом наибольшей средней прибылью стал обладать именно второй регион - порядка 500 млн. На основании полученных в последнем пункте результатов мы рекомендуем использовать для разработки скважин именно второй регион."
   ]
  }
 ],
 "metadata": {
  "ExecuteTimeLog": [
   {
    "duration": 1565,
    "start_time": "2022-06-26T18:50:41.027Z"
   },
   {
    "duration": 373,
    "start_time": "2022-06-26T18:50:42.594Z"
   },
   {
    "duration": 73,
    "start_time": "2022-06-26T18:50:42.972Z"
   },
   {
    "duration": 3,
    "start_time": "2022-06-26T18:50:43.046Z"
   },
   {
    "duration": 6,
    "start_time": "2022-06-26T18:50:43.051Z"
   },
   {
    "duration": 166,
    "start_time": "2022-06-26T18:50:43.058Z"
   },
   {
    "duration": 97,
    "start_time": "2022-06-26T18:50:43.227Z"
   },
   {
    "duration": 122,
    "start_time": "2022-06-26T18:50:43.327Z"
   },
   {
    "duration": 73,
    "start_time": "2022-06-26T18:50:43.452Z"
   },
   {
    "duration": 98,
    "start_time": "2022-06-26T18:50:43.531Z"
   },
   {
    "duration": 5,
    "start_time": "2022-06-26T18:50:43.631Z"
   },
   {
    "duration": 20,
    "start_time": "2022-06-26T18:50:43.637Z"
   },
   {
    "duration": 3,
    "start_time": "2022-06-26T18:50:43.659Z"
   },
   {
    "duration": 6,
    "start_time": "2022-06-26T18:50:43.663Z"
   },
   {
    "duration": 5598,
    "start_time": "2022-06-26T18:50:43.670Z"
   },
   {
    "duration": 6,
    "start_time": "2022-06-26T18:59:06.963Z"
   },
   {
    "duration": 5504,
    "start_time": "2022-06-26T18:59:12.601Z"
   },
   {
    "duration": 6,
    "start_time": "2022-06-26T18:59:33.235Z"
   },
   {
    "duration": 5446,
    "start_time": "2022-06-26T18:59:38.570Z"
   },
   {
    "duration": 8,
    "start_time": "2022-06-26T19:00:09.804Z"
   },
   {
    "duration": 5553,
    "start_time": "2022-06-26T19:00:10.019Z"
   },
   {
    "duration": 1390,
    "start_time": "2022-06-27T11:36:55.132Z"
   },
   {
    "duration": 654,
    "start_time": "2022-06-27T11:36:59.969Z"
   },
   {
    "duration": 66,
    "start_time": "2022-06-27T11:37:00.625Z"
   },
   {
    "duration": 2,
    "start_time": "2022-06-27T11:37:04.551Z"
   },
   {
    "duration": 4,
    "start_time": "2022-06-27T11:37:06.317Z"
   },
   {
    "duration": 32,
    "start_time": "2022-06-27T11:37:06.938Z"
   },
   {
    "duration": 29,
    "start_time": "2022-06-27T11:37:08.799Z"
   },
   {
    "duration": 31,
    "start_time": "2022-06-27T11:37:09.585Z"
   },
   {
    "duration": 3,
    "start_time": "2022-06-27T11:37:13.819Z"
   },
   {
    "duration": 3,
    "start_time": "2022-06-27T11:37:18.736Z"
   },
   {
    "duration": 3,
    "start_time": "2022-06-27T11:37:21.248Z"
   },
   {
    "duration": 17,
    "start_time": "2022-06-27T11:37:25.930Z"
   },
   {
    "duration": 2,
    "start_time": "2022-06-27T11:37:37.963Z"
   },
   {
    "duration": 7,
    "start_time": "2022-06-27T11:37:38.972Z"
   },
   {
    "duration": 102,
    "start_time": "2022-06-27T11:37:43.079Z"
   },
   {
    "duration": 6,
    "start_time": "2022-06-27T11:37:54.771Z"
   },
   {
    "duration": 5546,
    "start_time": "2022-06-27T11:37:55.779Z"
   },
   {
    "duration": 46,
    "start_time": "2022-06-27T11:39:34.714Z"
   },
   {
    "duration": 5,
    "start_time": "2022-06-27T11:39:53.435Z"
   },
   {
    "duration": 5647,
    "start_time": "2022-06-27T11:39:54.527Z"
   },
   {
    "duration": 1230,
    "start_time": "2022-06-27T11:40:16.679Z"
   },
   {
    "duration": 300,
    "start_time": "2022-06-27T11:40:17.911Z"
   },
   {
    "duration": 72,
    "start_time": "2022-06-27T11:40:18.213Z"
   },
   {
    "duration": 2,
    "start_time": "2022-06-27T11:40:18.287Z"
   },
   {
    "duration": 5,
    "start_time": "2022-06-27T11:40:18.291Z"
   },
   {
    "duration": 77,
    "start_time": "2022-06-27T11:40:18.298Z"
   },
   {
    "duration": 114,
    "start_time": "2022-06-27T11:40:18.377Z"
   },
   {
    "duration": 198,
    "start_time": "2022-06-27T11:40:18.493Z"
   },
   {
    "duration": 2,
    "start_time": "2022-06-27T11:40:18.693Z"
   },
   {
    "duration": 3,
    "start_time": "2022-06-27T11:40:18.769Z"
   },
   {
    "duration": 95,
    "start_time": "2022-06-27T11:40:18.774Z"
   },
   {
    "duration": 36,
    "start_time": "2022-06-27T11:40:18.870Z"
   },
   {
    "duration": 3,
    "start_time": "2022-06-27T11:40:18.909Z"
   },
   {
    "duration": 25,
    "start_time": "2022-06-27T11:40:18.914Z"
   },
   {
    "duration": 5402,
    "start_time": "2022-06-27T11:40:18.941Z"
   },
   {
    "duration": 1278,
    "start_time": "2022-06-27T11:40:59.232Z"
   },
   {
    "duration": 321,
    "start_time": "2022-06-27T11:41:00.512Z"
   },
   {
    "duration": 73,
    "start_time": "2022-06-27T11:41:00.835Z"
   },
   {
    "duration": 2,
    "start_time": "2022-06-27T11:41:00.910Z"
   },
   {
    "duration": 22,
    "start_time": "2022-06-27T11:41:00.915Z"
   },
   {
    "duration": 129,
    "start_time": "2022-06-27T11:41:00.939Z"
   },
   {
    "duration": 114,
    "start_time": "2022-06-27T11:41:01.071Z"
   },
   {
    "duration": 196,
    "start_time": "2022-06-27T11:41:01.186Z"
   },
   {
    "duration": 84,
    "start_time": "2022-06-27T11:41:01.384Z"
   },
   {
    "duration": 99,
    "start_time": "2022-06-27T11:41:01.470Z"
   },
   {
    "duration": 19,
    "start_time": "2022-06-27T11:41:01.571Z"
   },
   {
    "duration": 27,
    "start_time": "2022-06-27T11:41:01.592Z"
   },
   {
    "duration": 4,
    "start_time": "2022-06-27T11:41:01.621Z"
   },
   {
    "duration": 19,
    "start_time": "2022-06-27T11:41:01.626Z"
   },
   {
    "duration": 5540,
    "start_time": "2022-06-27T11:41:01.647Z"
   },
   {
    "duration": 1360,
    "start_time": "2022-06-27T12:41:12.054Z"
   },
   {
    "duration": 326,
    "start_time": "2022-06-27T12:41:13.417Z"
   },
   {
    "duration": 69,
    "start_time": "2022-06-27T12:41:13.745Z"
   },
   {
    "duration": 3,
    "start_time": "2022-06-27T12:41:13.816Z"
   },
   {
    "duration": 15,
    "start_time": "2022-06-27T12:41:13.822Z"
   },
   {
    "duration": 56,
    "start_time": "2022-06-27T12:41:13.839Z"
   },
   {
    "duration": 109,
    "start_time": "2022-06-27T12:41:13.973Z"
   },
   {
    "duration": 283,
    "start_time": "2022-06-27T12:41:14.087Z"
   },
   {
    "duration": 4,
    "start_time": "2022-06-27T12:41:14.372Z"
   },
   {
    "duration": 119,
    "start_time": "2022-06-27T12:41:14.378Z"
   },
   {
    "duration": 16,
    "start_time": "2022-06-27T12:41:14.499Z"
   },
   {
    "duration": 41,
    "start_time": "2022-06-27T12:41:14.517Z"
   },
   {
    "duration": 4,
    "start_time": "2022-06-27T12:41:14.560Z"
   },
   {
    "duration": 27,
    "start_time": "2022-06-27T12:41:14.567Z"
   },
   {
    "duration": 6122,
    "start_time": "2022-06-27T12:41:14.597Z"
   }
  ],
  "kernelspec": {
   "display_name": "Python 3 (ipykernel)",
   "language": "python",
   "name": "python3"
  },
  "language_info": {
   "codemirror_mode": {
    "name": "ipython",
    "version": 3
   },
   "file_extension": ".py",
   "mimetype": "text/x-python",
   "name": "python",
   "nbconvert_exporter": "python",
   "pygments_lexer": "ipython3",
   "version": "3.9.7"
  },
  "toc": {
   "base_numbering": 1,
   "nav_menu": {},
   "number_sections": true,
   "sideBar": true,
   "skip_h1_title": true,
   "title_cell": "Table of Contents",
   "title_sidebar": "Contents",
   "toc_cell": true,
   "toc_position": {},
   "toc_section_display": true,
   "toc_window_display": false
  }
 },
 "nbformat": 4,
 "nbformat_minor": 5
}
