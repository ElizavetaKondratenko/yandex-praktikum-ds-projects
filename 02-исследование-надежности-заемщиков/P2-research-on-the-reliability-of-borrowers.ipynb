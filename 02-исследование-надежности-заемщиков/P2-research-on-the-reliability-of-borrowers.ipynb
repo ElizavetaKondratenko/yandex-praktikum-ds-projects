{
 "cells": [
  {
   "cell_type": "markdown",
   "id": "16e94a1f",
   "metadata": {
    "toc": true
   },
   "source": [
    "<h1>Table of Contents<span class=\"tocSkip\"></span></h1>\n",
    "<div class=\"toc\"><ul class=\"toc-item\"><li><span><a href=\"#Описание-проекта\" data-toc-modified-id=\"Описание-проекта-1\"><span class=\"toc-item-num\">1&nbsp;&nbsp;</span>Описание проекта</a></span></li><li><span><a href=\"#Обзор-данных\" data-toc-modified-id=\"Обзор-данных-2\"><span class=\"toc-item-num\">2&nbsp;&nbsp;</span>Обзор данных</a></span></li><li><span><a href=\"#Предобработка-данных\" data-toc-modified-id=\"Предобработка-данных-3\"><span class=\"toc-item-num\">3&nbsp;&nbsp;</span>Предобработка данных</a></span><ul class=\"toc-item\"><li><span><a href=\"#Выявление-и-заполнение-пропущенных-значений\" data-toc-modified-id=\"Выявление-и-заполнение-пропущенных-значений-3.1\"><span class=\"toc-item-num\">3.1&nbsp;&nbsp;</span>Выявление и заполнение пропущенных значений</a></span></li><li><span><a href=\"#Обработка-аномалий\" data-toc-modified-id=\"Обработка-аномалий-3.2\"><span class=\"toc-item-num\">3.2&nbsp;&nbsp;</span>Обработка аномалий</a></span></li><li><span><a href=\"#Преобразование-типа-данных\" data-toc-modified-id=\"Преобразование-типа-данных-3.3\"><span class=\"toc-item-num\">3.3&nbsp;&nbsp;</span>Преобразование типа данных</a></span></li><li><span><a href=\"#Обработка-дубликатов\" data-toc-modified-id=\"Обработка-дубликатов-3.4\"><span class=\"toc-item-num\">3.4&nbsp;&nbsp;</span>Обработка дубликатов</a></span></li><li><span><a href=\"#Создание-словарей\" data-toc-modified-id=\"Создание-словарей-3.5\"><span class=\"toc-item-num\">3.5&nbsp;&nbsp;</span>Создание словарей</a></span></li><li><span><a href=\"#Создание-категориальных-переменных\" data-toc-modified-id=\"Создание-категориальных-переменных-3.6\"><span class=\"toc-item-num\">3.6&nbsp;&nbsp;</span>Создание категориальных переменных</a></span></li></ul></li><li><span><a href=\"#Ответы-на-поставленные-вопросы\" data-toc-modified-id=\"Ответы-на-поставленные-вопросы-4\"><span class=\"toc-item-num\">4&nbsp;&nbsp;</span>Ответы на поставленные вопросы</a></span></li><li><span><a href=\"#Итоговые-выводы\" data-toc-modified-id=\"Итоговые-выводы-5\"><span class=\"toc-item-num\">5&nbsp;&nbsp;</span>Итоговые выводы</a></span></li></ul></div>"
   ]
  },
  {
   "cell_type": "markdown",
   "id": "casual-choir",
   "metadata": {},
   "source": [
    "# Исследование надёжности заёмщиков"
   ]
  },
  {
   "cell_type": "markdown",
   "id": "interstate-publicity",
   "metadata": {},
   "source": [
    "## Описание проекта"
   ]
  },
  {
   "cell_type": "markdown",
   "id": "russian-signal",
   "metadata": {},
   "source": [
    "**Заказчик** — кредитный отдел банка. Нужно разобраться, влияет ли семейное положение и количество детей клиента на факт погашения кредита в срок. \n",
    "\n",
    "Другими словами, в ходе работы будет необходимо ответить на следующие вопросы:\n",
    "* Есть ли зависимость между количеством детей и возвратом кредита в срок?\n",
    "* Есть ли зависимость между семейным положением и возвратом кредита в срок?\n",
    "* Есть ли зависимость между уровнем дохода и возвратом кредита в срок?\n",
    "* Как разные цели кредита влияют на его возврат в срок?\n",
    "\n",
    "**Входные данные от банка** — статистика о платёжеспособности клиентов.\n",
    "Результаты исследования будут учтены при построении модели *кредитного скоринга* — специальной системы, которая оценивает способность потенциального заёмщика вернуть кредит банку.\n",
    "\n",
    "**Ход исследования**\n",
    "\n",
    "Исследование будет состоять из 4 основных этапов:\n",
    " 1. Описание проекта.\n",
    " 2. Обзор данных.\n",
    " 3. Предобработка данных.\n",
    "    - Выявление и заполнение пропущенных значений.\n",
    "    - Обработка аномалий.\n",
    "    - Преобразование типа данных.\n",
    "    - Обработка дубликатов.\n",
    "    - Создание словарей.\n",
    "    - Создание категориальных переменных.\n",
    " 4. Ответы на поставленные вопросы.\n",
    " 5. Итоговые выводы."
   ]
  },
  {
   "cell_type": "markdown",
   "id": "sustained-tuition",
   "metadata": {},
   "source": [
    "## Обзор данных"
   ]
  },
  {
   "cell_type": "markdown",
   "id": "delayed-editing",
   "metadata": {},
   "source": [
    "Для начала импортируем все необходимые для работы библиотеки."
   ]
  },
  {
   "cell_type": "code",
   "execution_count": 1,
   "id": "occupational-timothy",
   "metadata": {},
   "outputs": [],
   "source": [
    "import pandas as pd\n",
    "import matplotlib.pyplot as plt"
   ]
  },
  {
   "cell_type": "markdown",
   "id": "civil-transport",
   "metadata": {},
   "source": [
    "Теперь перейдем к непосредственной работе с данными. Загрузим данные в систему и сохраним их в переменной `data`."
   ]
  },
  {
   "cell_type": "code",
   "execution_count": 2,
   "id": "based-ukraine",
   "metadata": {},
   "outputs": [],
   "source": [
    "data = pd.read_csv('data_credit.csv')"
   ]
  },
  {
   "cell_type": "markdown",
   "id": "398bff0f",
   "metadata": {},
   "source": [
    "Сначала выведем несколько первых строк имеющихся данных, а потом просмотрим основную информацию по ним."
   ]
  },
  {
   "cell_type": "code",
   "execution_count": 3,
   "id": "funky-median",
   "metadata": {},
   "outputs": [
    {
     "name": "stdout",
     "output_type": "stream",
     "text": [
      "<class 'pandas.core.frame.DataFrame'>\n",
      "RangeIndex: 21525 entries, 0 to 21524\n",
      "Data columns (total 12 columns):\n",
      " #   Column            Non-Null Count  Dtype  \n",
      "---  ------            --------------  -----  \n",
      " 0   children          21525 non-null  int64  \n",
      " 1   days_employed     19351 non-null  float64\n",
      " 2   dob_years         21525 non-null  int64  \n",
      " 3   education         21525 non-null  object \n",
      " 4   education_id      21525 non-null  int64  \n",
      " 5   family_status     21525 non-null  object \n",
      " 6   family_status_id  21525 non-null  int64  \n",
      " 7   gender            21525 non-null  object \n",
      " 8   income_type       21525 non-null  object \n",
      " 9   debt              21525 non-null  int64  \n",
      " 10  total_income      19351 non-null  float64\n",
      " 11  purpose           21525 non-null  object \n",
      "dtypes: float64(2), int64(5), object(5)\n",
      "memory usage: 2.0+ MB\n"
     ]
    },
    {
     "data": {
      "text/html": [
       "<div>\n",
       "<style scoped>\n",
       "    .dataframe tbody tr th:only-of-type {\n",
       "        vertical-align: middle;\n",
       "    }\n",
       "\n",
       "    .dataframe tbody tr th {\n",
       "        vertical-align: top;\n",
       "    }\n",
       "\n",
       "    .dataframe thead th {\n",
       "        text-align: right;\n",
       "    }\n",
       "</style>\n",
       "<table border=\"1\" class=\"dataframe\">\n",
       "  <thead>\n",
       "    <tr style=\"text-align: right;\">\n",
       "      <th></th>\n",
       "      <th>children</th>\n",
       "      <th>days_employed</th>\n",
       "      <th>dob_years</th>\n",
       "      <th>education</th>\n",
       "      <th>education_id</th>\n",
       "      <th>family_status</th>\n",
       "      <th>family_status_id</th>\n",
       "      <th>gender</th>\n",
       "      <th>income_type</th>\n",
       "      <th>debt</th>\n",
       "      <th>total_income</th>\n",
       "      <th>purpose</th>\n",
       "    </tr>\n",
       "  </thead>\n",
       "  <tbody>\n",
       "    <tr>\n",
       "      <th>0</th>\n",
       "      <td>1</td>\n",
       "      <td>-8437.673028</td>\n",
       "      <td>42</td>\n",
       "      <td>высшее</td>\n",
       "      <td>0</td>\n",
       "      <td>женат / замужем</td>\n",
       "      <td>0</td>\n",
       "      <td>F</td>\n",
       "      <td>сотрудник</td>\n",
       "      <td>0</td>\n",
       "      <td>253875.639453</td>\n",
       "      <td>покупка жилья</td>\n",
       "    </tr>\n",
       "    <tr>\n",
       "      <th>1</th>\n",
       "      <td>1</td>\n",
       "      <td>-4024.803754</td>\n",
       "      <td>36</td>\n",
       "      <td>среднее</td>\n",
       "      <td>1</td>\n",
       "      <td>женат / замужем</td>\n",
       "      <td>0</td>\n",
       "      <td>F</td>\n",
       "      <td>сотрудник</td>\n",
       "      <td>0</td>\n",
       "      <td>112080.014102</td>\n",
       "      <td>приобретение автомобиля</td>\n",
       "    </tr>\n",
       "    <tr>\n",
       "      <th>2</th>\n",
       "      <td>0</td>\n",
       "      <td>-5623.422610</td>\n",
       "      <td>33</td>\n",
       "      <td>Среднее</td>\n",
       "      <td>1</td>\n",
       "      <td>женат / замужем</td>\n",
       "      <td>0</td>\n",
       "      <td>M</td>\n",
       "      <td>сотрудник</td>\n",
       "      <td>0</td>\n",
       "      <td>145885.952297</td>\n",
       "      <td>покупка жилья</td>\n",
       "    </tr>\n",
       "    <tr>\n",
       "      <th>3</th>\n",
       "      <td>3</td>\n",
       "      <td>-4124.747207</td>\n",
       "      <td>32</td>\n",
       "      <td>среднее</td>\n",
       "      <td>1</td>\n",
       "      <td>женат / замужем</td>\n",
       "      <td>0</td>\n",
       "      <td>M</td>\n",
       "      <td>сотрудник</td>\n",
       "      <td>0</td>\n",
       "      <td>267628.550329</td>\n",
       "      <td>дополнительное образование</td>\n",
       "    </tr>\n",
       "    <tr>\n",
       "      <th>4</th>\n",
       "      <td>0</td>\n",
       "      <td>340266.072047</td>\n",
       "      <td>53</td>\n",
       "      <td>среднее</td>\n",
       "      <td>1</td>\n",
       "      <td>гражданский брак</td>\n",
       "      <td>1</td>\n",
       "      <td>F</td>\n",
       "      <td>пенсионер</td>\n",
       "      <td>0</td>\n",
       "      <td>158616.077870</td>\n",
       "      <td>сыграть свадьбу</td>\n",
       "    </tr>\n",
       "    <tr>\n",
       "      <th>5</th>\n",
       "      <td>0</td>\n",
       "      <td>-926.185831</td>\n",
       "      <td>27</td>\n",
       "      <td>высшее</td>\n",
       "      <td>0</td>\n",
       "      <td>гражданский брак</td>\n",
       "      <td>1</td>\n",
       "      <td>M</td>\n",
       "      <td>компаньон</td>\n",
       "      <td>0</td>\n",
       "      <td>255763.565419</td>\n",
       "      <td>покупка жилья</td>\n",
       "    </tr>\n",
       "    <tr>\n",
       "      <th>6</th>\n",
       "      <td>0</td>\n",
       "      <td>-2879.202052</td>\n",
       "      <td>43</td>\n",
       "      <td>высшее</td>\n",
       "      <td>0</td>\n",
       "      <td>женат / замужем</td>\n",
       "      <td>0</td>\n",
       "      <td>F</td>\n",
       "      <td>компаньон</td>\n",
       "      <td>0</td>\n",
       "      <td>240525.971920</td>\n",
       "      <td>операции с жильем</td>\n",
       "    </tr>\n",
       "    <tr>\n",
       "      <th>7</th>\n",
       "      <td>0</td>\n",
       "      <td>-152.779569</td>\n",
       "      <td>50</td>\n",
       "      <td>СРЕДНЕЕ</td>\n",
       "      <td>1</td>\n",
       "      <td>женат / замужем</td>\n",
       "      <td>0</td>\n",
       "      <td>M</td>\n",
       "      <td>сотрудник</td>\n",
       "      <td>0</td>\n",
       "      <td>135823.934197</td>\n",
       "      <td>образование</td>\n",
       "    </tr>\n",
       "    <tr>\n",
       "      <th>8</th>\n",
       "      <td>2</td>\n",
       "      <td>-6929.865299</td>\n",
       "      <td>35</td>\n",
       "      <td>ВЫСШЕЕ</td>\n",
       "      <td>0</td>\n",
       "      <td>гражданский брак</td>\n",
       "      <td>1</td>\n",
       "      <td>F</td>\n",
       "      <td>сотрудник</td>\n",
       "      <td>0</td>\n",
       "      <td>95856.832424</td>\n",
       "      <td>на проведение свадьбы</td>\n",
       "    </tr>\n",
       "    <tr>\n",
       "      <th>9</th>\n",
       "      <td>0</td>\n",
       "      <td>-2188.756445</td>\n",
       "      <td>41</td>\n",
       "      <td>среднее</td>\n",
       "      <td>1</td>\n",
       "      <td>женат / замужем</td>\n",
       "      <td>0</td>\n",
       "      <td>M</td>\n",
       "      <td>сотрудник</td>\n",
       "      <td>0</td>\n",
       "      <td>144425.938277</td>\n",
       "      <td>покупка жилья для семьи</td>\n",
       "    </tr>\n",
       "  </tbody>\n",
       "</table>\n",
       "</div>"
      ],
      "text/plain": [
       "   children  days_employed  dob_years education  education_id  \\\n",
       "0         1   -8437.673028         42    высшее             0   \n",
       "1         1   -4024.803754         36   среднее             1   \n",
       "2         0   -5623.422610         33   Среднее             1   \n",
       "3         3   -4124.747207         32   среднее             1   \n",
       "4         0  340266.072047         53   среднее             1   \n",
       "5         0    -926.185831         27    высшее             0   \n",
       "6         0   -2879.202052         43    высшее             0   \n",
       "7         0    -152.779569         50   СРЕДНЕЕ             1   \n",
       "8         2   -6929.865299         35    ВЫСШЕЕ             0   \n",
       "9         0   -2188.756445         41   среднее             1   \n",
       "\n",
       "      family_status  family_status_id gender income_type  debt   total_income  \\\n",
       "0   женат / замужем                 0      F   сотрудник     0  253875.639453   \n",
       "1   женат / замужем                 0      F   сотрудник     0  112080.014102   \n",
       "2   женат / замужем                 0      M   сотрудник     0  145885.952297   \n",
       "3   женат / замужем                 0      M   сотрудник     0  267628.550329   \n",
       "4  гражданский брак                 1      F   пенсионер     0  158616.077870   \n",
       "5  гражданский брак                 1      M   компаньон     0  255763.565419   \n",
       "6   женат / замужем                 0      F   компаньон     0  240525.971920   \n",
       "7   женат / замужем                 0      M   сотрудник     0  135823.934197   \n",
       "8  гражданский брак                 1      F   сотрудник     0   95856.832424   \n",
       "9   женат / замужем                 0      M   сотрудник     0  144425.938277   \n",
       "\n",
       "                      purpose  \n",
       "0               покупка жилья  \n",
       "1     приобретение автомобиля  \n",
       "2               покупка жилья  \n",
       "3  дополнительное образование  \n",
       "4             сыграть свадьбу  \n",
       "5               покупка жилья  \n",
       "6           операции с жильем  \n",
       "7                 образование  \n",
       "8       на проведение свадьбы  \n",
       "9     покупка жилья для семьи  "
      ]
     },
     "execution_count": 3,
     "metadata": {},
     "output_type": "execute_result"
    }
   ],
   "source": [
    "data.info()\n",
    "data.head(10)"
   ]
  },
  {
   "cell_type": "code",
   "execution_count": 4,
   "id": "54491fee",
   "metadata": {},
   "outputs": [
    {
     "data": {
      "text/plain": [
       "(21525, 12)"
      ]
     },
     "execution_count": 4,
     "metadata": {},
     "output_type": "execute_result"
    }
   ],
   "source": [
    "data.shape"
   ]
  },
  {
   "cell_type": "markdown",
   "id": "537f0fd4",
   "metadata": {},
   "source": [
    "Что мы можем сказать относительно полученной информации? Во-первых, в датафрейме имеется 12 столбцов, содержащих различную информацию о заемщиках банка. А именно:\n",
    "* `children` — количество детей в семье\n",
    "* `days_employed` — общий трудовой стаж в днях\n",
    "* `dob_years` — возраст клиента в годах\n",
    "* `education` — уровень образования клиента\n",
    "* `education_id` — идентификатор уровня образования\n",
    "* `family_status` — семейное положение\n",
    "* `family_status_id` — идентификатор семейного положения\n",
    "* `gender` — пол клиента\n",
    "* `income_type` — тип занятости\n",
    "* `debt` — имел ли задолженность по возврату кредитов\n",
    "* `total_income` — ежемесячный доход\n",
    "* `purpose` — цель получения кредита\n",
    "\n",
    "Некоторые строки имеют тип `object`. В них хранится нечисловая информация о заемщиках - уровень образования, статус семьи, пол, тип дохода и цель займа. Так же в данных присутствуют столбцы с типом `float` и `int` - числовые значения. \n",
    "\n",
    "Уже на этом этапе легко заметить некоторые трудности и несовершенства предоставленных данных, относительно которых необходимо будет сделать дополнительную работу. Так, количество наблюдений в разных столбцах разнятся, что говорит о проблеме **пропущенных значений**. Так же в столбце, отвечающем за количество дней трудоустройства, наблюдаются **аномалии** - отрицательные значения, которые противоречат здравому смыслу. При текущем уровне анализа довольно сложно говорить о наличии или отсутствии **дубликатов**, однако наличие **одних и тех же значений в некоторых столбцах, записанных по-разному**, может привести к этой проблеме. "
   ]
  },
  {
   "cell_type": "markdown",
   "id": "b0d1f71e",
   "metadata": {},
   "source": [
    "## Предобработка данных"
   ]
  },
  {
   "cell_type": "markdown",
   "id": "ed5ea6dc",
   "metadata": {},
   "source": [
    "### Выявление и заполнение пропущенных значений"
   ]
  },
  {
   "cell_type": "markdown",
   "id": "a046f1c6",
   "metadata": {},
   "source": [
    "Теперь, проведя общий анализ данных и выявив основные несовершенства, можно преступать к предобрадотке данных. Начнем с выявления и заполнения пропущенных значений. \n",
    "\n",
    "Посчитаем количество пропусков в каждом столбце."
   ]
  },
  {
   "cell_type": "code",
   "execution_count": 5,
   "id": "2f4531d5",
   "metadata": {},
   "outputs": [
    {
     "data": {
      "text/plain": [
       "children               0\n",
       "days_employed       2174\n",
       "dob_years              0\n",
       "education              0\n",
       "education_id           0\n",
       "family_status          0\n",
       "family_status_id       0\n",
       "gender                 0\n",
       "income_type            0\n",
       "debt                   0\n",
       "total_income        2174\n",
       "purpose                0\n",
       "dtype: int64"
      ]
     },
     "execution_count": 5,
     "metadata": {},
     "output_type": "execute_result"
    }
   ],
   "source": [
    "data.isna().sum()"
   ]
  },
  {
   "cell_type": "markdown",
   "id": "8e88296f",
   "metadata": {},
   "source": [
    "Как можно заметить, наблюдается наличие пропусков в двух столбцах: `days_employed` и `total_income`.\n",
    "\n",
    "Проверим, какую долю составляют пропуски относительно общего числа наблюдений."
   ]
  },
  {
   "cell_type": "code",
   "execution_count": 6,
   "id": "642033fc",
   "metadata": {},
   "outputs": [
    {
     "name": "stdout",
     "output_type": "stream",
     "text": [
      "Доля пропусков в столбце total_income: 0.10099883855981417\n",
      "Доля пропусков в столбце days_employed: 0.10099883855981417\n"
     ]
    }
   ],
   "source": [
    "print('Доля пропусков в столбце total_income:', data['total_income'].isna().mean())\n",
    "print('Доля пропусков в столбце days_employed:', data['days_employed'].isna().mean())"
   ]
  },
  {
   "cell_type": "markdown",
   "id": "7f1a2fc7",
   "metadata": {},
   "source": [
    "Доля пропусков для обоих столбцов одинаковая и составляет 10% от общего числа наблюдений. 10% пропущенных значений при 21 тыс. наблюдений является существенным размером пропусков и их бездумное удаление может привести к потере значимых данных, вследствие чего могут измениться ответы на поставленные вопросы - а значит и достоверность этих ответов может подвергаться сомнению. В таком случае лучше искусственно заполнить пропуски."
   ]
  },
  {
   "cell_type": "markdown",
   "id": "1fae099c",
   "metadata": {},
   "source": [
    "На практике применяют несколько способов заполнения пропущенных значений:\n",
    "* нулями или уникальными значениями \n",
    "* средним арифметическим \n",
    "* медианой\n",
    "\n",
    "Для нашего кейса лучше всего подойдет заполнение пропусков медианой. Использование нулей или уникальных значений может существенно повлиять на полученный далее результат, а значит дать неверное представление о поведении заемщиков. Поскольку обе переменные являются числовыми, логичнее использовать для заполнения пропусков **характерные значения** - значения, которые наиболее точно характеризуют выборку. К ним относятся среднее арифметическое и медиана. Однако использование среднего арифметического для количественных переменных связано с высоким риском. Если в данных имеются **выбросы** - измерения, выделяющийся из общей выборки, - то, используя среднее, мы получим некорректные результаты. В таком случае лучше использовать медиану."
   ]
  },
  {
   "cell_type": "markdown",
   "id": "e7220451",
   "metadata": {},
   "source": [
    "Заполним имеющиеся пропуски **медианным** значением и проверим, что после заполнения более пропусков не наблюдается. "
   ]
  },
  {
   "cell_type": "code",
   "execution_count": 7,
   "id": "88015e6f",
   "metadata": {},
   "outputs": [
    {
     "name": "stdout",
     "output_type": "stream",
     "text": [
      "Медиана для \"дней трудоустройства\": -1203.369528770489\n",
      "Медиана для \"ежемесячного дохода\": 145017.93753253992\n"
     ]
    },
    {
     "data": {
      "text/plain": [
       "children            0\n",
       "days_employed       0\n",
       "dob_years           0\n",
       "education           0\n",
       "education_id        0\n",
       "family_status       0\n",
       "family_status_id    0\n",
       "gender              0\n",
       "income_type         0\n",
       "debt                0\n",
       "total_income        0\n",
       "purpose             0\n",
       "dtype: int64"
      ]
     },
     "execution_count": 7,
     "metadata": {},
     "output_type": "execute_result"
    }
   ],
   "source": [
    "#отсортируем данные по каждой строке с пропуском и посчитаем для него медиану\n",
    "days_employed_mean = data.sort_values(by= 'days_employed')['days_employed'].median()\n",
    "total_income_mean = data.sort_values(by= 'total_income')['total_income'].median()\n",
    "print('Медиана для \"дней трудоустройства\":', days_employed_mean)\n",
    "print('Медиана для \"ежемесячного дохода\":', total_income_mean)\n",
    "#заполним пропуски строк соответсвующими медианами\n",
    "data['days_employed'] = data['days_employed'].fillna(days_employed_mean)\n",
    "data['total_income'] = data['total_income'].fillna(total_income_mean)\n",
    "#вновь проведем проверку на пропуски\n",
    "data.isna().sum()"
   ]
  },
  {
   "cell_type": "markdown",
   "id": "f68fa4ce",
   "metadata": {},
   "source": [
    "Как можно заметить, теперь в данных отсутствуют пропуски, а значит мы добились поставленной задачи - избавились от пропусков и не потеряли данные."
   ]
  },
  {
   "cell_type": "markdown",
   "id": "f0d1dd91",
   "metadata": {},
   "source": [
    "**Выводы**\n",
    "\n",
    "Нами были выявлены и устранены пропуски в исходных данных. Это позволит не потерять существенный объем выборки при последующих ответах на заданные вопросы.\n",
    "\n",
    "Наконец, в завершении работы над пропусками немного порассуждаем на тему причин их появления в имеющихся данных. В исследуемом нами кейсе причина возникновения пропусков может быть тесно связана со столбцами, в которых эти самые пропуски и наблюдаются - `количество дней трудоустройства` и `общий доход`. Вполне возможно, что часть заемщиков не была когда-либо трудоустроена, и в таком случае, не имела доходов. Для подтверждения данной гипотезы можно было бы проверить, совпадают строки с пропусками в обоих столбцах, однако, поскольку это не имеет непосредственного отношения к поставленной нам задаче, отложим данное исследование до периода необходимости. Также, нельзя исключать случайную составляющую в появлениях пропусков - часть данных могла быть потеряна при выгрузке (или даже при загрузке данных в систему), или заемщики сами отказались предоставлять подобную информацию о себе - что, однако, является маловероятным событием в силу специфики кейса. "
   ]
  },
  {
   "cell_type": "markdown",
   "id": "9ef1f59d",
   "metadata": {},
   "source": [
    "### Обработка аномалий"
   ]
  },
  {
   "cell_type": "markdown",
   "id": "ed9a6120",
   "metadata": {},
   "source": [
    "Перейдем к следующему этапу предобработки данных. Займемся обработкой выявленных на первом этапе исследования **аномалий** - значений, которые не отражают действительность и появились по какой-то ошибке. Такие значения можно заметить в столбце `days_employed`. \n",
    "\n",
    "Изначально трудовой стаж дан в днях. Воспринимать такие данные довольно затруднительно - на практике трудовой стаж обычно исчисляется в годах и так легче определить, являются ли данные аномальными или нет. Создадим дополнительный столбец, который будет показывать трудовой стаж в годах и выведем график распределения его значений. "
   ]
  },
  {
   "cell_type": "code",
   "execution_count": 8,
   "id": "32552c33",
   "metadata": {},
   "outputs": [
    {
     "data": {
      "image/png": "[encoded data removed]",
      "text/plain": [
       "<Figure size 432x288 with 1 Axes>"
      ]
     },
     "metadata": {
      "needs_background": "light"
     },
     "output_type": "display_data"
    }
   ],
   "source": [
    "data['years_employed'] = data['days_employed']/365\n",
    "data.hist(column = 'years_employed')\n",
    "plt.xlabel('Трудовой стаж', labelpad=20, size=12)\n",
    "plt.ylabel('Количество наблюдений', labelpad=20, size=12)\n",
    "plt.show()"
   ]
  },
  {
   "cell_type": "markdown",
   "id": "59a8025e",
   "metadata": {},
   "source": [
    "Оценивать трудовой стаж в годах намного проще. Что можно заметить из данного графика? Прежде всего, в глаза бросается наличие отрицательного трудового стажа. Это, определенно, является аномалией. Также настораживает наличие заемщиков, чей стаж превышает 800 лет.\n",
    "\n",
    "Как можно исправить такие аномалии? В идеальной ситуации необходимо вновь обратиться к банку с проверкой, не произошел ли какой-нибудь сбой во время выгрузки данной колонки или не повлиял ли на это человеческий фактор невнимательности при заполнении. Однако в нашей ситуации такое решение недоступно, а значит придется обходиться общими правилами логики и доступными средствами. \n",
    "\n",
    "Предположим, что отрицательные значения возникли из-за человеческого фактора - невнимательном заполнение данного столбца. Тогда нам будет необходимо взять модуль от таких значений и перезаписать иcходный датафрейм. Наличие у некоторых заемщиков чрезмерного размера трудового стажа так же может быть вызван ошибкой при записи значений. Предположим, что так оно и было. В качестве решения уменьшим данные значения до более реальных величин, поделив на 100."
   ]
  },
  {
   "cell_type": "code",
   "execution_count": 9,
   "id": "bb6b1860",
   "metadata": {},
   "outputs": [
    {
     "data": {
      "image/png": "[encoded data removed]",
      "text/plain": [
       "<Figure size 432x288 with 1 Axes>"
      ]
     },
     "metadata": {
      "needs_background": "light"
     },
     "output_type": "display_data"
    }
   ],
   "source": [
    "data['days_employed'] = abs(data['days_employed'])\n",
    "data.loc[data['days_employed'] > 100000, 'days_employed'] = data['years_employed']/100\n",
    "data['years_employed'] = data['days_employed']/365\n",
    "data.hist(column = 'years_employed')\n",
    "plt.xlabel('Трудовой стаж', labelpad=20, size=12)\n",
    "plt.ylabel('Количество наблюдений', labelpad=20, size=12)\n",
    "plt.show()"
   ]
  },
  {
   "cell_type": "code",
   "execution_count": 10,
   "id": "9c1f2909",
   "metadata": {},
   "outputs": [],
   "source": [
    "del data['years_employed']"
   ]
  },
  {
   "cell_type": "markdown",
   "id": "c37d224f",
   "metadata": {},
   "source": [
    "Теперь значения переменной, отвечающей за трудовой стаж как в годах, так и в днях, выглядит куда более реалистично. Между тем, нельзя не отметить тот факт, что данные в любом случае были скорректированы на основе общих предположений о природе аномалий, что может не соответствовать действительности - в таком случае, если бы данная переменная была использована при дальнейшем анализе вероятности невозврата кредита, мы могли получить результат, который бы значительно отличался от реальности. Как уже упоминалось ранее, наиболее оптимальным решением было бы изначально проконсультироваться с заказчиком о природе данной аномалии. "
   ]
  },
  {
   "cell_type": "markdown",
   "id": "699c4168",
   "metadata": {},
   "source": [
    "Вернемся к обработке аномалий с последнего пункта работы, в процессе работы над которым удалось выявить еще две аномалии - наличие отрицательного количества детей и семей, с 20 детьми. За неимением дополнительной информации относительно того, в каких значениях и как заполнялась данная таблица, необходимо самостоятельно предположить причину таких странностей в данных и подобрать наиболее оптимальное решение для данной проблемы. "
   ]
  },
  {
   "cell_type": "code",
   "execution_count": 11,
   "id": "c1504adc",
   "metadata": {},
   "outputs": [
    {
     "data": {
      "text/plain": [
       "children\n",
       "-1        47\n",
       " 0     14149\n",
       " 1      4818\n",
       " 2      2055\n",
       " 3       330\n",
       " 4        41\n",
       " 5         9\n",
       " 20       76\n",
       "Name: children, dtype: int64"
      ]
     },
     "execution_count": 11,
     "metadata": {},
     "output_type": "execute_result"
    }
   ],
   "source": [
    "data.groupby('children')['children'].count()"
   ]
  },
  {
   "cell_type": "markdown",
   "id": "2822dfa0",
   "metadata": {},
   "source": [
    "Начнем с **отрицательного числа детей**. Во-первых, это может быть уникальное значение для тех заемщиков, кто отказался заполнять данный столбец. Во-вторых, возможно, есть часть заемщиков, которые потеряли единственного ребенка в процессе выплаты кредита и эту потерю учли подобным способом. В-третьих, возможно были совершены ошибки при заполнении информации о заемщиках, и на самом деле эти заемщики имеют одного ребенка. За неимением дополнительной информации о заемщиках (а также отсутствия возможности узнать подробнее о данных от заказчика проекта), остановимся на первом предположении - это уникальное значение для пропусков.\n",
    "\n",
    "Теперь порассуждаем о наличии **20 детей**. Прежде всего, нельзя не допустить вероятности того, что действительно в банк за займом обратились семьи, в которых было ровно 20 детей. Однако такая вероятность не только крайне мала, но и упирается в тот факт, что отсутствуют заемщики с количеством детей от 6 до 19. Возможно, это специальное обозначение для семей, у которых более 5 детей. Наконец, такое уникальное значение могло возникнуть, опять-таки, из-за опечатки при заполнении информации о заемщиках. Остановимся на данной версии.\n",
    "\n",
    "\n",
    "По итогу, нам необходимо обработать только один вид аномалий в данных о количествах детей - исправить 20 на 2."
   ]
  },
  {
   "cell_type": "code",
   "execution_count": 12,
   "id": "194651fa",
   "metadata": {},
   "outputs": [
    {
     "data": {
      "text/plain": [
       "children\n",
       "-1       47\n",
       " 0    14149\n",
       " 1     4818\n",
       " 2     2131\n",
       " 3      330\n",
       " 4       41\n",
       " 5        9\n",
       "Name: children, dtype: int64"
      ]
     },
     "execution_count": 12,
     "metadata": {},
     "output_type": "execute_result"
    }
   ],
   "source": [
    "data.loc[data['children'] == 20,'children'] = 2\n",
    "data.groupby('children')['children'].count()"
   ]
  },
  {
   "cell_type": "markdown",
   "id": "15f90007",
   "metadata": {},
   "source": [
    "Так же хотелось бы обратить внимание на еще одну очень интересную аномалию, обнаруженную уже на финальном этапе работы. Среди заемщиков присутствуют индивиды с нулевым возрастом. Наиболее вероятная причина возникновения такой ошибки - пропуск некоторой цифры перед нулем. Восстановить исходное значение аномалии без дополнительной информации невозможно, однако для текущего кейса допустимо оставить эту аномалию необработанной - данная колонка не используется при дальнейшем анализе."
   ]
  },
  {
   "cell_type": "code",
   "execution_count": 13,
   "id": "9b248e66",
   "metadata": {},
   "outputs": [
    {
     "data": {
      "image/png": "[encoded data removed]",
      "text/plain": [
       "<Figure size 432x288 with 1 Axes>"
      ]
     },
     "metadata": {
      "needs_background": "light"
     },
     "output_type": "display_data"
    }
   ],
   "source": [
    "ax = data.hist(column = 'dob_years')\n",
    "ax = ax[0]\n",
    "for x in ax:\n",
    "    x.set_xlabel(\"Число заемщиков\", labelpad=20, size=12)\n",
    "    x.set_ylabel(\"Возраст\", labelpad=20, size=12)"
   ]
  },
  {
   "cell_type": "markdown",
   "id": "9d46ab64",
   "metadata": {},
   "source": [
    "**Вывод**\n",
    "\n",
    "Нами была проведена работа над выявлением и обработкой аномалий. Некоторые аномалии были легко обнаружены при первичном анализе данных, другие же удалось обнаружить лишь на финальном этапе работы, вследствие чего приходилось возвращаться и совершать дополнительные действия над данными.\n",
    "\n",
    "Всего аномалии были обнаружены у трех переменных - `days_employed`, `children` и `dob_years`. Наиболее существенными для дальнейшей работы оказались аномалии в количестве детей у заемщиков. Также непростой была работа по обработке аномалий в трудовом стаже, поскольку большое число наблюдений выпадало из категории \"отражающие действительность\".\n",
    "\n",
    "Еще раз затронем тему **причин** возникновений таких вот аномалий в данных, кратко объединив все тезисы, упоминаемые в данном блоке. Прежде всего, аномалии могли возникнуть по ошибке при выгрузке или копировании данных из системы, а также общем сбое системы. Во-вторых, причина аномалий может быть обоснована человеческим фактором - неправильное ручное заполнение некоторых ячеек или простая невнимательность. Наконец, нельзя не допустить вариант ведения заказчиком специфического учета какой-нибудь характеристики - особенно если имеется большое количество аномалий. Обработка таких аномалий, используя общую логику и здравый смысл, может привести к существенному искажению результатов, а значит необходимо в первую очередь уточнить у заказчика возникшую особенность в данных."
   ]
  },
  {
   "cell_type": "markdown",
   "id": "f842d39c",
   "metadata": {},
   "source": [
    "### Преобразование типа данных"
   ]
  },
  {
   "cell_type": "markdown",
   "id": "f7108ad5",
   "metadata": {},
   "source": [
    "Перейдем к третьему этапу предобработки данных - преобразованию типа данных. На данном этапе переведем значения столбца `total_income` к целочисленным значениям. Это облегчит дальнейшую работу с данным столбцом. \n",
    "\n",
    "Сменим тип данных на `int` и выведем общую информацию о типах данных, чтобы убедиться, что преобразование прошло успешно. "
   ]
  },
  {
   "cell_type": "code",
   "execution_count": 14,
   "id": "6c7a59da",
   "metadata": {},
   "outputs": [
    {
     "name": "stdout",
     "output_type": "stream",
     "text": [
      "<class 'pandas.core.frame.DataFrame'>\n",
      "RangeIndex: 21525 entries, 0 to 21524\n",
      "Data columns (total 12 columns):\n",
      " #   Column            Non-Null Count  Dtype  \n",
      "---  ------            --------------  -----  \n",
      " 0   children          21525 non-null  int64  \n",
      " 1   days_employed     21525 non-null  float64\n",
      " 2   dob_years         21525 non-null  int64  \n",
      " 3   education         21525 non-null  object \n",
      " 4   education_id      21525 non-null  int64  \n",
      " 5   family_status     21525 non-null  object \n",
      " 6   family_status_id  21525 non-null  int64  \n",
      " 7   gender            21525 non-null  object \n",
      " 8   income_type       21525 non-null  object \n",
      " 9   debt              21525 non-null  int64  \n",
      " 10  total_income      21525 non-null  int32  \n",
      " 11  purpose           21525 non-null  object \n",
      "dtypes: float64(1), int32(1), int64(5), object(5)\n",
      "memory usage: 1.9+ MB\n"
     ]
    }
   ],
   "source": [
    "data['total_income'] = data['total_income'].astype(int)\n",
    "data.info()"
   ]
  },
  {
   "cell_type": "markdown",
   "id": "301e8ff7",
   "metadata": {},
   "source": [
    "### Обработка дубликатов"
   ]
  },
  {
   "cell_type": "markdown",
   "id": "23ffba07",
   "metadata": {},
   "source": [
    "Следующий этап предобработки заключается в выявлении и устранении значений-дубликатов. Такие значения могут деформировать выборку, а значит, опять-таки повлияют на итоговые результаты.\n",
    "\n",
    "Начнем с выявления явно выраженных дубликатов. Для этого отлично подойдет функция `duplicated()`."
   ]
  },
  {
   "cell_type": "code",
   "execution_count": 15,
   "id": "8a572e2c",
   "metadata": {},
   "outputs": [
    {
     "name": "stdout",
     "output_type": "stream",
     "text": [
      "Количество явных дубликатов 54.\n"
     ]
    }
   ],
   "source": [
    "print(f'Количество явных дубликатов {data.duplicated().sum()}.')"
   ]
  },
  {
   "cell_type": "markdown",
   "id": "66fcbf22",
   "metadata": {},
   "source": [
    "Удалим такие значения, обновив исходные индексы переменных, а также проверим, что явных дубликатов больше нет."
   ]
  },
  {
   "cell_type": "code",
   "execution_count": 16,
   "id": "c7e7301a",
   "metadata": {},
   "outputs": [
    {
     "name": "stdout",
     "output_type": "stream",
     "text": [
      "Количество явных дубликатов 0.\n"
     ]
    }
   ],
   "source": [
    "data = data.drop_duplicates().reset_index(drop=True)\n",
    "print(f'Количество явных дубликатов {data.duplicated().sum()}.')"
   ]
  },
  {
   "cell_type": "markdown",
   "id": "6ad95fc1",
   "metadata": {},
   "source": [
    "Явные дубликаты были устранены. Теперь перейдем к выявлению неявных дубликатов. Такой вид повторений может возникнуть из-за столбца `education`, где есть одни и те же значения, записанные по-разному: с использованием заглавных и строчных букв. Приведем все значения данного столбца к единому регистру и вновь проверим данные на дубликаты."
   ]
  },
  {
   "cell_type": "code",
   "execution_count": 17,
   "id": "2ac62d66",
   "metadata": {},
   "outputs": [
    {
     "name": "stdout",
     "output_type": "stream",
     "text": [
      "Количество явных дубликатов 17.\n"
     ]
    }
   ],
   "source": [
    "data['education'] = data['education'].str.lower()\n",
    "print(f'Количество явных дубликатов {data.duplicated().sum()}.')"
   ]
  },
  {
   "cell_type": "markdown",
   "id": "6d700469",
   "metadata": {},
   "source": [
    "Мы обнаружили, что из-за различных форм записей в одной строке были пропущены некоторые дубликаты. Удалим и их, впоследствии обновив индексы."
   ]
  },
  {
   "cell_type": "code",
   "execution_count": 18,
   "id": "458257a9",
   "metadata": {},
   "outputs": [
    {
     "name": "stdout",
     "output_type": "stream",
     "text": [
      "Количество явных дубликатов 0.\n"
     ]
    }
   ],
   "source": [
    "data = data.drop_duplicates().reset_index(drop=True)\n",
    "print(f'Количество явных дубликатов {data.duplicated().sum()}.')"
   ]
  },
  {
   "cell_type": "markdown",
   "id": "c1f020c2",
   "metadata": {},
   "source": [
    "Проверим, не пропустили ли мы часть неявных дубликатов, которые могли спрятаться в различных вариантах написания одинаковых слов. Выведем уникальные значения для основных категориальных переменных и сравним их между собой для выявления дублей."
   ]
  },
  {
   "cell_type": "code",
   "execution_count": 19,
   "id": "98707068",
   "metadata": {},
   "outputs": [
    {
     "name": "stdout",
     "output_type": "stream",
     "text": [
      "['F', 'M', 'XNA']\n",
      "\n",
      "['высшее', 'начальное', 'неоконченное высшее', 'среднее', 'ученая степень']\n",
      "\n",
      "['Не женат / не замужем', 'в разводе', 'вдовец / вдова', 'гражданский брак', 'женат / замужем']\n",
      "\n",
      "['безработный', 'в декрете', 'госслужащий', 'компаньон', 'пенсионер', 'предприниматель', 'сотрудник', 'студент']\n",
      "\n"
     ]
    }
   ],
   "source": [
    "for name in ['gender', 'education', 'family_status', 'income_type']:\n",
    "    print(sorted(data[name].unique()))\n",
    "    print()"
   ]
  },
  {
   "cell_type": "markdown",
   "id": "c3751786",
   "metadata": {},
   "source": [
    "Как можно заметить, различных написаний одних и тех же слов не обнаружено. Однако, удалось выявить дополнительные пропуски в столбце, отвечающем за пол заемщика. Поскольку такую переменную довольно сложно заполнить самостоятельно (средним или медианной), а также невозможно восстановить в силу отсутствия дополнительно информации, они были заполнены уникальным значением `XNA`. К счастью, переменная `gender` не используется для ответов на поставленные вопросы, а значит не будет оказано существенное влияние на полученные результаты текущего этапа."
   ]
  },
  {
   "cell_type": "markdown",
   "id": "474b5684",
   "metadata": {},
   "source": [
    "**Выводы**\n",
    "\n",
    "В ходе работы были выявлены и устранены явные и неявные дубликаты. На практике, явные дубликаты довольно легко распознать - в этом помогает встроенная функция `duplicated()`, которая самостоятельно проверяет все данные на повтор строк. Выявление неявных дубликатов является менее тривиальной задачей и, зачастую, для этого необходимо предварительно совершить дополнительную обработку некоторых столбцов. В нашем случае, еще на первом этапе анализа данных можно было заметить особенность столбца, отвечающего за уровень образования - там были обнаружены различные формы написания одинаковых слов. Решить данную проблему удалось довольно легким путем - приведением всех значений переменной к единому регистру. Дополнительно была проведена проверка на дубликаты, возникающие из-за различного написания одинаковых слов, но такая форма неявных дубликатов не была выявлена.\n",
    "\n",
    "Какова же причина возникновения дубликатов в данных? Причин возникновения дубликатов может быть несколько. Прежде всего, это может быть ошибка ввода данных, когда одно и то же наблюдение случайно было введено более одного раза. Также такие ошибки могут возникать при неправильном соединении данных, выгружаемых из разных источников."
   ]
  },
  {
   "cell_type": "markdown",
   "id": "838646fd",
   "metadata": {},
   "source": [
    "### Создание словарей"
   ]
  },
  {
   "cell_type": "markdown",
   "id": "3d679239",
   "metadata": {},
   "source": [
    "Как можно было заметить на первом этапе работы над данными, в них пресутсвуют некоторая излишность - часть информации задана как категорией, так и индексом категории. На практике в таких ситуациях проще работать именно с индексами, выраженными количественными переменными, а не с прописанными словами категориями. Для упрощения дальнейшей работы и решения проблемы избыточности создадим два словаря - для `уровня образования` и для `статуса семьи`. Сохраним полные значения этих характеристик и их id в отдельной переменной, а в исходном наборе данных оставим только id, по которому можно будет обратиться к исходному типу."
   ]
  },
  {
   "cell_type": "code",
   "execution_count": 20,
   "id": "efa8a083",
   "metadata": {},
   "outputs": [
    {
     "data": {
      "text/html": [
       "<div>\n",
       "<style scoped>\n",
       "    .dataframe tbody tr th:only-of-type {\n",
       "        vertical-align: middle;\n",
       "    }\n",
       "\n",
       "    .dataframe tbody tr th {\n",
       "        vertical-align: top;\n",
       "    }\n",
       "\n",
       "    .dataframe thead th {\n",
       "        text-align: right;\n",
       "    }\n",
       "</style>\n",
       "<table border=\"1\" class=\"dataframe\">\n",
       "  <thead>\n",
       "    <tr style=\"text-align: right;\">\n",
       "      <th></th>\n",
       "      <th>education</th>\n",
       "      <th>education_id</th>\n",
       "    </tr>\n",
       "  </thead>\n",
       "  <tbody>\n",
       "    <tr>\n",
       "      <th>0</th>\n",
       "      <td>высшее</td>\n",
       "      <td>0</td>\n",
       "    </tr>\n",
       "    <tr>\n",
       "      <th>1</th>\n",
       "      <td>среднее</td>\n",
       "      <td>1</td>\n",
       "    </tr>\n",
       "    <tr>\n",
       "      <th>2</th>\n",
       "      <td>неоконченное высшее</td>\n",
       "      <td>2</td>\n",
       "    </tr>\n",
       "    <tr>\n",
       "      <th>3</th>\n",
       "      <td>начальное</td>\n",
       "      <td>3</td>\n",
       "    </tr>\n",
       "    <tr>\n",
       "      <th>4</th>\n",
       "      <td>ученая степень</td>\n",
       "      <td>4</td>\n",
       "    </tr>\n",
       "  </tbody>\n",
       "</table>\n",
       "</div>"
      ],
      "text/plain": [
       "             education  education_id\n",
       "0               высшее             0\n",
       "1              среднее             1\n",
       "2  неоконченное высшее             2\n",
       "3            начальное             3\n",
       "4       ученая степень             4"
      ]
     },
     "execution_count": 20,
     "metadata": {},
     "output_type": "execute_result"
    }
   ],
   "source": [
    "education_dict = data[['education', 'education_id']]\n",
    "education_dict = education_dict.drop_duplicates().reset_index(drop = True)\n",
    "education_dict"
   ]
  },
  {
   "cell_type": "markdown",
   "id": "f90c792a",
   "metadata": {},
   "source": [
    "Как можно заметить, нами был получен словарь для переменной `уровень образования`. Категории не повторяются, и у каждой присутствует свой индивидуальный идентификатор, которые позволяет простым способом ссылаться на исходные данные.\n",
    "\n",
    "Повторим предыдущие действия и для переменной `статус семьи`."
   ]
  },
  {
   "cell_type": "code",
   "execution_count": 21,
   "id": "bbb13dce",
   "metadata": {},
   "outputs": [
    {
     "data": {
      "text/html": [
       "<div>\n",
       "<style scoped>\n",
       "    .dataframe tbody tr th:only-of-type {\n",
       "        vertical-align: middle;\n",
       "    }\n",
       "\n",
       "    .dataframe tbody tr th {\n",
       "        vertical-align: top;\n",
       "    }\n",
       "\n",
       "    .dataframe thead th {\n",
       "        text-align: right;\n",
       "    }\n",
       "</style>\n",
       "<table border=\"1\" class=\"dataframe\">\n",
       "  <thead>\n",
       "    <tr style=\"text-align: right;\">\n",
       "      <th></th>\n",
       "      <th>family_status</th>\n",
       "      <th>family_status_id</th>\n",
       "    </tr>\n",
       "  </thead>\n",
       "  <tbody>\n",
       "    <tr>\n",
       "      <th>0</th>\n",
       "      <td>женат / замужем</td>\n",
       "      <td>0</td>\n",
       "    </tr>\n",
       "    <tr>\n",
       "      <th>1</th>\n",
       "      <td>гражданский брак</td>\n",
       "      <td>1</td>\n",
       "    </tr>\n",
       "    <tr>\n",
       "      <th>2</th>\n",
       "      <td>вдовец / вдова</td>\n",
       "      <td>2</td>\n",
       "    </tr>\n",
       "    <tr>\n",
       "      <th>3</th>\n",
       "      <td>в разводе</td>\n",
       "      <td>3</td>\n",
       "    </tr>\n",
       "    <tr>\n",
       "      <th>4</th>\n",
       "      <td>Не женат / не замужем</td>\n",
       "      <td>4</td>\n",
       "    </tr>\n",
       "  </tbody>\n",
       "</table>\n",
       "</div>"
      ],
      "text/plain": [
       "           family_status  family_status_id\n",
       "0        женат / замужем                 0\n",
       "1       гражданский брак                 1\n",
       "2         вдовец / вдова                 2\n",
       "3              в разводе                 3\n",
       "4  Не женат / не замужем                 4"
      ]
     },
     "execution_count": 21,
     "metadata": {},
     "output_type": "execute_result"
    }
   ],
   "source": [
    "family_status_dict = data[['family_status', 'family_status_id']]\n",
    "family_status_dict = family_status_dict.drop_duplicates().reset_index(drop = True)\n",
    "family_status_dict"
   ]
  },
  {
   "cell_type": "markdown",
   "id": "4000afb6",
   "metadata": {},
   "source": [
    "Создание словаря вновь прошло успешно. Теперь мы можем оставить в исходном наборе данных только идентификаторы, а расширенные характеристики удалить. "
   ]
  },
  {
   "cell_type": "code",
   "execution_count": 22,
   "id": "24d9a1ec",
   "metadata": {},
   "outputs": [],
   "source": [
    "data.drop(columns = ['family_status', 'education'],axis = 1, inplace=True)"
   ]
  },
  {
   "cell_type": "markdown",
   "id": "dbe9ef6e",
   "metadata": {},
   "source": [
    "### Создание категориальных переменных"
   ]
  },
  {
   "cell_type": "markdown",
   "id": "1d18a7fc",
   "metadata": {},
   "source": [
    "Работа с некоторыми количественными переменными напрямую временами является затруднительной задачей - бывает сложно провести оценку взаимосвязи характеристики и исследуемого параметра. В таких ситуациях правильнее будет предварительно обработать такие характеристики, разделив их по категориям. В данном датафрейме такой характеристикой является ежемесячный доход `total_income`.\n",
    "\n",
    "Определим типы дохода следующим образом:\n",
    "* 0–30000 — 'E';\n",
    "* 30001–50000 — 'D';\n",
    "* 50001–200000 — 'C';\n",
    "* 200001–1000000 — 'B';\n",
    "* 1000001 и выше — 'A'"
   ]
  },
  {
   "cell_type": "markdown",
   "id": "83af48e5",
   "metadata": {},
   "source": [
    "Для преобразования исходных данных создадим дополнительную функцию, которая в зависимости от подаваемого в нее количества дохода вернет нужную категорию по описанному выше принципу. \n",
    "\n",
    "После этого применим получившуюся функцию к исходному набору данных и выведем часть таблицы."
   ]
  },
  {
   "cell_type": "code",
   "execution_count": 23,
   "id": "be7cef09",
   "metadata": {},
   "outputs": [],
   "source": [
    "def category_income(row):\n",
    "    income = row['total_income']\n",
    "    #пропишем несколько условий, по которым будет определяться категория доходов\n",
    "    try:\n",
    "        if income <= 30000:\n",
    "            return 'E'\n",
    "        elif income <= 50000:\n",
    "            return 'D'\n",
    "        elif income <= 200000:\n",
    "            return 'C'\n",
    "        elif income <= 1000000:\n",
    "            return 'B'\n",
    "        else: return 'A'\n",
    "    except:\n",
    "        return 'No category'"
   ]
  },
  {
   "cell_type": "code",
   "execution_count": 24,
   "id": "573e6af0",
   "metadata": {},
   "outputs": [],
   "source": [
    "data['total_income_category'] = data.apply(category_income, axis=1)"
   ]
  },
  {
   "cell_type": "code",
   "execution_count": 25,
   "id": "013a369d",
   "metadata": {},
   "outputs": [
    {
     "data": {
      "text/html": [
       "<div>\n",
       "<style scoped>\n",
       "    .dataframe tbody tr th:only-of-type {\n",
       "        vertical-align: middle;\n",
       "    }\n",
       "\n",
       "    .dataframe tbody tr th {\n",
       "        vertical-align: top;\n",
       "    }\n",
       "\n",
       "    .dataframe thead th {\n",
       "        text-align: right;\n",
       "    }\n",
       "</style>\n",
       "<table border=\"1\" class=\"dataframe\">\n",
       "  <thead>\n",
       "    <tr style=\"text-align: right;\">\n",
       "      <th></th>\n",
       "      <th>children</th>\n",
       "      <th>days_employed</th>\n",
       "      <th>dob_years</th>\n",
       "      <th>education_id</th>\n",
       "      <th>family_status_id</th>\n",
       "      <th>gender</th>\n",
       "      <th>income_type</th>\n",
       "      <th>debt</th>\n",
       "      <th>total_income</th>\n",
       "      <th>purpose</th>\n",
       "      <th>total_income_category</th>\n",
       "    </tr>\n",
       "  </thead>\n",
       "  <tbody>\n",
       "    <tr>\n",
       "      <th>0</th>\n",
       "      <td>1</td>\n",
       "      <td>8437.673028</td>\n",
       "      <td>42</td>\n",
       "      <td>0</td>\n",
       "      <td>0</td>\n",
       "      <td>F</td>\n",
       "      <td>сотрудник</td>\n",
       "      <td>0</td>\n",
       "      <td>253875</td>\n",
       "      <td>покупка жилья</td>\n",
       "      <td>B</td>\n",
       "    </tr>\n",
       "    <tr>\n",
       "      <th>1</th>\n",
       "      <td>1</td>\n",
       "      <td>4024.803754</td>\n",
       "      <td>36</td>\n",
       "      <td>1</td>\n",
       "      <td>0</td>\n",
       "      <td>F</td>\n",
       "      <td>сотрудник</td>\n",
       "      <td>0</td>\n",
       "      <td>112080</td>\n",
       "      <td>приобретение автомобиля</td>\n",
       "      <td>C</td>\n",
       "    </tr>\n",
       "    <tr>\n",
       "      <th>2</th>\n",
       "      <td>0</td>\n",
       "      <td>5623.422610</td>\n",
       "      <td>33</td>\n",
       "      <td>1</td>\n",
       "      <td>0</td>\n",
       "      <td>M</td>\n",
       "      <td>сотрудник</td>\n",
       "      <td>0</td>\n",
       "      <td>145885</td>\n",
       "      <td>покупка жилья</td>\n",
       "      <td>C</td>\n",
       "    </tr>\n",
       "    <tr>\n",
       "      <th>3</th>\n",
       "      <td>3</td>\n",
       "      <td>4124.747207</td>\n",
       "      <td>32</td>\n",
       "      <td>1</td>\n",
       "      <td>0</td>\n",
       "      <td>M</td>\n",
       "      <td>сотрудник</td>\n",
       "      <td>0</td>\n",
       "      <td>267628</td>\n",
       "      <td>дополнительное образование</td>\n",
       "      <td>B</td>\n",
       "    </tr>\n",
       "    <tr>\n",
       "      <th>4</th>\n",
       "      <td>0</td>\n",
       "      <td>9.322358</td>\n",
       "      <td>53</td>\n",
       "      <td>1</td>\n",
       "      <td>1</td>\n",
       "      <td>F</td>\n",
       "      <td>пенсионер</td>\n",
       "      <td>0</td>\n",
       "      <td>158616</td>\n",
       "      <td>сыграть свадьбу</td>\n",
       "      <td>C</td>\n",
       "    </tr>\n",
       "  </tbody>\n",
       "</table>\n",
       "</div>"
      ],
      "text/plain": [
       "   children  days_employed  dob_years  education_id  family_status_id gender  \\\n",
       "0         1    8437.673028         42             0                 0      F   \n",
       "1         1    4024.803754         36             1                 0      F   \n",
       "2         0    5623.422610         33             1                 0      M   \n",
       "3         3    4124.747207         32             1                 0      M   \n",
       "4         0       9.322358         53             1                 1      F   \n",
       "\n",
       "  income_type  debt  total_income                     purpose  \\\n",
       "0   сотрудник     0        253875               покупка жилья   \n",
       "1   сотрудник     0        112080     приобретение автомобиля   \n",
       "2   сотрудник     0        145885               покупка жилья   \n",
       "3   сотрудник     0        267628  дополнительное образование   \n",
       "4   пенсионер     0        158616             сыграть свадьбу   \n",
       "\n",
       "  total_income_category  \n",
       "0                     B  \n",
       "1                     C  \n",
       "2                     C  \n",
       "3                     B  \n",
       "4                     C  "
      ]
     },
     "execution_count": 25,
     "metadata": {},
     "output_type": "execute_result"
    }
   ],
   "source": [
    "data.head()"
   ]
  },
  {
   "cell_type": "markdown",
   "id": "5059fc07",
   "metadata": {},
   "source": [
    "Как можно заметить в исходном датафрейме появилась дополнительная колонка, которая отражает категорию доходов заемщика. "
   ]
  },
  {
   "cell_type": "markdown",
   "id": "8c01e63c",
   "metadata": {},
   "source": [
    "Теперь перейдем к обработке переменной `purpose`, в которой описывается причина кредита. Для начала, оценим какие варианты значений может принимать данная переменная. "
   ]
  },
  {
   "cell_type": "code",
   "execution_count": null,
   "id": "c6d352e2",
   "metadata": {},
   "outputs": [],
   "source": [
    "sorted(data['purpose'].unique())"
   ]
  },
  {
   "cell_type": "markdown",
   "id": "e5c3120a",
   "metadata": {},
   "source": [
    "Переменная `purpose` принимает большое количество разнообразных значений, но присмотревшись к данным получше можно заметить, что фактически, причин кредита не так уж много, а такое разнообразие в значениях достигается за счет различных формулировок. В таком случае, будет разумнее создать новую переменную, которая будет отражать некоторую общую категорию к которой относится причина займа.\n",
    "\n",
    "Всего можно выделить четыре крупные категории:\n",
    "* 'операции с автомобилем'\n",
    "* 'операции с недвижимостью'\n",
    "* 'проведение свадьбы'\n",
    "* 'получение образования'\n",
    "\n",
    "Именно по ним мы и распределим имеющиеся цели кредита. Для этого создадим функцию, которая будет обобщать причины в категории. "
   ]
  },
  {
   "cell_type": "code",
   "execution_count": 26,
   "id": "990c9e64",
   "metadata": {},
   "outputs": [],
   "source": [
    "def category_purpose(row):\n",
    "    purpose = row['purpose']\n",
    "    try:\n",
    "        if 'авто' in purpose:\n",
    "            return 'операции с автомобилем'\n",
    "        if ('недвиж' in purpose) or ('жиль' in purpose):\n",
    "            return 'операции с недвижимостью'\n",
    "        if 'свадьб' in purpose:\n",
    "            return 'проведение свадьбы'\n",
    "        if 'образован' in purpose:\n",
    "            return 'получение образования'\n",
    "    except:\n",
    "        return 'No category'"
   ]
  },
  {
   "cell_type": "code",
   "execution_count": 27,
   "id": "d8acbe19",
   "metadata": {},
   "outputs": [],
   "source": [
    "data['purpose_category'] = data.apply(category_purpose, axis=1)"
   ]
  },
  {
   "cell_type": "code",
   "execution_count": 28,
   "id": "af638b6e",
   "metadata": {},
   "outputs": [
    {
     "data": {
      "text/html": [
       "<div>\n",
       "<style scoped>\n",
       "    .dataframe tbody tr th:only-of-type {\n",
       "        vertical-align: middle;\n",
       "    }\n",
       "\n",
       "    .dataframe tbody tr th {\n",
       "        vertical-align: top;\n",
       "    }\n",
       "\n",
       "    .dataframe thead th {\n",
       "        text-align: right;\n",
       "    }\n",
       "</style>\n",
       "<table border=\"1\" class=\"dataframe\">\n",
       "  <thead>\n",
       "    <tr style=\"text-align: right;\">\n",
       "      <th></th>\n",
       "      <th>children</th>\n",
       "      <th>days_employed</th>\n",
       "      <th>dob_years</th>\n",
       "      <th>education_id</th>\n",
       "      <th>family_status_id</th>\n",
       "      <th>gender</th>\n",
       "      <th>income_type</th>\n",
       "      <th>debt</th>\n",
       "      <th>total_income</th>\n",
       "      <th>purpose</th>\n",
       "      <th>total_income_category</th>\n",
       "      <th>purpose_category</th>\n",
       "    </tr>\n",
       "  </thead>\n",
       "  <tbody>\n",
       "    <tr>\n",
       "      <th>0</th>\n",
       "      <td>1</td>\n",
       "      <td>8437.673028</td>\n",
       "      <td>42</td>\n",
       "      <td>0</td>\n",
       "      <td>0</td>\n",
       "      <td>F</td>\n",
       "      <td>сотрудник</td>\n",
       "      <td>0</td>\n",
       "      <td>253875</td>\n",
       "      <td>покупка жилья</td>\n",
       "      <td>B</td>\n",
       "      <td>операции с недвижимостью</td>\n",
       "    </tr>\n",
       "    <tr>\n",
       "      <th>1</th>\n",
       "      <td>1</td>\n",
       "      <td>4024.803754</td>\n",
       "      <td>36</td>\n",
       "      <td>1</td>\n",
       "      <td>0</td>\n",
       "      <td>F</td>\n",
       "      <td>сотрудник</td>\n",
       "      <td>0</td>\n",
       "      <td>112080</td>\n",
       "      <td>приобретение автомобиля</td>\n",
       "      <td>C</td>\n",
       "      <td>операции с автомобилем</td>\n",
       "    </tr>\n",
       "    <tr>\n",
       "      <th>2</th>\n",
       "      <td>0</td>\n",
       "      <td>5623.422610</td>\n",
       "      <td>33</td>\n",
       "      <td>1</td>\n",
       "      <td>0</td>\n",
       "      <td>M</td>\n",
       "      <td>сотрудник</td>\n",
       "      <td>0</td>\n",
       "      <td>145885</td>\n",
       "      <td>покупка жилья</td>\n",
       "      <td>C</td>\n",
       "      <td>операции с недвижимостью</td>\n",
       "    </tr>\n",
       "    <tr>\n",
       "      <th>3</th>\n",
       "      <td>3</td>\n",
       "      <td>4124.747207</td>\n",
       "      <td>32</td>\n",
       "      <td>1</td>\n",
       "      <td>0</td>\n",
       "      <td>M</td>\n",
       "      <td>сотрудник</td>\n",
       "      <td>0</td>\n",
       "      <td>267628</td>\n",
       "      <td>дополнительное образование</td>\n",
       "      <td>B</td>\n",
       "      <td>получение образования</td>\n",
       "    </tr>\n",
       "    <tr>\n",
       "      <th>4</th>\n",
       "      <td>0</td>\n",
       "      <td>9.322358</td>\n",
       "      <td>53</td>\n",
       "      <td>1</td>\n",
       "      <td>1</td>\n",
       "      <td>F</td>\n",
       "      <td>пенсионер</td>\n",
       "      <td>0</td>\n",
       "      <td>158616</td>\n",
       "      <td>сыграть свадьбу</td>\n",
       "      <td>C</td>\n",
       "      <td>проведение свадьбы</td>\n",
       "    </tr>\n",
       "  </tbody>\n",
       "</table>\n",
       "</div>"
      ],
      "text/plain": [
       "   children  days_employed  dob_years  education_id  family_status_id gender  \\\n",
       "0         1    8437.673028         42             0                 0      F   \n",
       "1         1    4024.803754         36             1                 0      F   \n",
       "2         0    5623.422610         33             1                 0      M   \n",
       "3         3    4124.747207         32             1                 0      M   \n",
       "4         0       9.322358         53             1                 1      F   \n",
       "\n",
       "  income_type  debt  total_income                     purpose  \\\n",
       "0   сотрудник     0        253875               покупка жилья   \n",
       "1   сотрудник     0        112080     приобретение автомобиля   \n",
       "2   сотрудник     0        145885               покупка жилья   \n",
       "3   сотрудник     0        267628  дополнительное образование   \n",
       "4   пенсионер     0        158616             сыграть свадьбу   \n",
       "\n",
       "  total_income_category          purpose_category  \n",
       "0                     B  операции с недвижимостью  \n",
       "1                     C    операции с автомобилем  \n",
       "2                     C  операции с недвижимостью  \n",
       "3                     B     получение образования  \n",
       "4                     C        проведение свадьбы  "
      ]
     },
     "execution_count": 28,
     "metadata": {},
     "output_type": "execute_result"
    }
   ],
   "source": [
    "data.head()"
   ]
  },
  {
   "cell_type": "markdown",
   "id": "91356bbe",
   "metadata": {},
   "source": [
    "**Вывод**\n",
    "\n",
    "Нами был проделан завершающий этап предобработки данных перед анализом - создание категориальных переменных, группирующих исходные данные. Были созданы две функции - первая принимала доход заемщика и возвращала его категорию. Благодаря такому преобразованию нам будет проще оценить влияние уровня дохода на вероятность возвращения кредита. Вторая функция обобщала разрозненные причины займов по укрупненным группам в зависимости от общей цели. Данное преобразование также поможет в дальнейшем анализе. "
   ]
  },
  {
   "cell_type": "markdown",
   "id": "6c52d3b8",
   "metadata": {},
   "source": [
    "## Ответы на поставленные вопросы"
   ]
  },
  {
   "cell_type": "markdown",
   "id": "70919671",
   "metadata": {},
   "source": [
    "Перейдем к завершающей стадии работы, которая заключается в ответах на вопросы относительно влияния различных характеристик на возврат кредита в срок. Начнем разбирать каждый вопрос по порядку."
   ]
  },
  {
   "cell_type": "markdown",
   "id": "c89686a7",
   "metadata": {},
   "source": [
    "**Есть ли зависимость между количеством детей и возвратом кредита в срок?**\n",
    "\n",
    "Для ответа на данный вопрос построим сводную таблицу, в которой будет учитываться количество возвращенных и невозвращенных кредитов для каждого числа детей."
   ]
  },
  {
   "cell_type": "code",
   "execution_count": 29,
   "id": "555de75d",
   "metadata": {},
   "outputs": [
    {
     "data": {
      "text/html": [
       "<div>\n",
       "<style scoped>\n",
       "    .dataframe tbody tr th:only-of-type {\n",
       "        vertical-align: middle;\n",
       "    }\n",
       "\n",
       "    .dataframe tbody tr th {\n",
       "        vertical-align: top;\n",
       "    }\n",
       "\n",
       "    .dataframe thead tr th {\n",
       "        text-align: left;\n",
       "    }\n",
       "\n",
       "    .dataframe thead tr:last-of-type th {\n",
       "        text-align: right;\n",
       "    }\n",
       "</style>\n",
       "<table border=\"1\" class=\"dataframe\">\n",
       "  <thead>\n",
       "    <tr>\n",
       "      <th></th>\n",
       "      <th>count</th>\n",
       "      <th>mean</th>\n",
       "    </tr>\n",
       "    <tr>\n",
       "      <th></th>\n",
       "      <th>debt</th>\n",
       "      <th>debt</th>\n",
       "    </tr>\n",
       "    <tr>\n",
       "      <th>children</th>\n",
       "      <th></th>\n",
       "      <th></th>\n",
       "    </tr>\n",
       "  </thead>\n",
       "  <tbody>\n",
       "    <tr>\n",
       "      <th>-1</th>\n",
       "      <td>47</td>\n",
       "      <td>0.021277</td>\n",
       "    </tr>\n",
       "    <tr>\n",
       "      <th>0</th>\n",
       "      <td>14091</td>\n",
       "      <td>0.075438</td>\n",
       "    </tr>\n",
       "    <tr>\n",
       "      <th>1</th>\n",
       "      <td>4808</td>\n",
       "      <td>0.092346</td>\n",
       "    </tr>\n",
       "    <tr>\n",
       "      <th>2</th>\n",
       "      <td>2128</td>\n",
       "      <td>0.094925</td>\n",
       "    </tr>\n",
       "    <tr>\n",
       "      <th>3</th>\n",
       "      <td>330</td>\n",
       "      <td>0.081818</td>\n",
       "    </tr>\n",
       "    <tr>\n",
       "      <th>4</th>\n",
       "      <td>41</td>\n",
       "      <td>0.097561</td>\n",
       "    </tr>\n",
       "    <tr>\n",
       "      <th>5</th>\n",
       "      <td>9</td>\n",
       "      <td>0.000000</td>\n",
       "    </tr>\n",
       "  </tbody>\n",
       "</table>\n",
       "</div>"
      ],
      "text/plain": [
       "          count      mean\n",
       "           debt      debt\n",
       "children                 \n",
       "-1           47  0.021277\n",
       " 0        14091  0.075438\n",
       " 1         4808  0.092346\n",
       " 2         2128  0.094925\n",
       " 3          330  0.081818\n",
       " 4           41  0.097561\n",
       " 5            9  0.000000"
      ]
     },
     "execution_count": 29,
     "metadata": {},
     "output_type": "execute_result"
    }
   ],
   "source": [
    "data.pivot_table(index='children', values='debt', aggfunc=['count','mean'])"
   ]
  },
  {
   "cell_type": "markdown",
   "id": "02c009e5",
   "metadata": {},
   "source": [
    "Первый столбец `count` считает общее количество заемщиков, подходящих под нужную категорию количества детей, а столбец `mean` отражает долю заемщиков данной категории с просроченным кредитом.\n",
    "\n",
    "Как мы можем заметить, **количество детей действительно влияет на возврат кредита в срок**. Наибольшее число заемщиков с просроченным платежом находится в группе с 4 детьми. Это довольно логично, поскольку чем больше детей, тем выше расходы, а значит выше вероятность не вернуть кредит в срок из-за нехватки средств. Между тем, у заемщиков с 5 детьми нулевое количество дефолтов по выплатам - вероятно, это объясняется малым количеством наблюдений у данной группы. Также можно заметить, что с увеличением числа детей от 0 до 4 растет количество дефолтов, за исключением заемщиков с 3 детьми."
   ]
  },
  {
   "cell_type": "markdown",
   "id": "90b037fe",
   "metadata": {},
   "source": [
    "**Есть ли зависимость между семейным положением и возвратом кредита в срок?**\n",
    "\n",
    "Вновь обратимся к сводной таблице."
   ]
  },
  {
   "cell_type": "code",
   "execution_count": 34,
   "id": "372c261c",
   "metadata": {},
   "outputs": [
    {
     "data": {
      "text/html": [
       "<div>\n",
       "<style scoped>\n",
       "    .dataframe tbody tr th:only-of-type {\n",
       "        vertical-align: middle;\n",
       "    }\n",
       "\n",
       "    .dataframe tbody tr th {\n",
       "        vertical-align: top;\n",
       "    }\n",
       "\n",
       "    .dataframe thead tr th {\n",
       "        text-align: left;\n",
       "    }\n",
       "\n",
       "    .dataframe thead tr:last-of-type th {\n",
       "        text-align: right;\n",
       "    }\n",
       "</style>\n",
       "<table border=\"1\" class=\"dataframe\">\n",
       "  <thead>\n",
       "    <tr>\n",
       "      <th></th>\n",
       "      <th>count</th>\n",
       "      <th>mean</th>\n",
       "    </tr>\n",
       "    <tr>\n",
       "      <th></th>\n",
       "      <th>debt</th>\n",
       "      <th>debt</th>\n",
       "    </tr>\n",
       "    <tr>\n",
       "      <th>family_status_id</th>\n",
       "      <th></th>\n",
       "      <th></th>\n",
       "    </tr>\n",
       "  </thead>\n",
       "  <tbody>\n",
       "    <tr>\n",
       "      <th>0</th>\n",
       "      <td>12339</td>\n",
       "      <td>0.075452</td>\n",
       "    </tr>\n",
       "    <tr>\n",
       "      <th>1</th>\n",
       "      <td>4151</td>\n",
       "      <td>0.093471</td>\n",
       "    </tr>\n",
       "    <tr>\n",
       "      <th>2</th>\n",
       "      <td>959</td>\n",
       "      <td>0.065693</td>\n",
       "    </tr>\n",
       "    <tr>\n",
       "      <th>3</th>\n",
       "      <td>1195</td>\n",
       "      <td>0.071130</td>\n",
       "    </tr>\n",
       "    <tr>\n",
       "      <th>4</th>\n",
       "      <td>2810</td>\n",
       "      <td>0.097509</td>\n",
       "    </tr>\n",
       "  </tbody>\n",
       "</table>\n",
       "</div>"
      ],
      "text/plain": [
       "                  count      mean\n",
       "                   debt      debt\n",
       "family_status_id                 \n",
       "0                 12339  0.075452\n",
       "1                  4151  0.093471\n",
       "2                   959  0.065693\n",
       "3                  1195  0.071130\n",
       "4                  2810  0.097509"
      ]
     },
     "execution_count": 34,
     "metadata": {},
     "output_type": "execute_result"
    }
   ],
   "source": [
    "data.pivot_table(index='family_status_id', values='debt', aggfunc=['count','mean'])"
   ]
  },
  {
   "cell_type": "code",
   "execution_count": 35,
   "id": "a2ef50ee",
   "metadata": {},
   "outputs": [
    {
     "data": {
      "text/html": [
       "<div>\n",
       "<style scoped>\n",
       "    .dataframe tbody tr th:only-of-type {\n",
       "        vertical-align: middle;\n",
       "    }\n",
       "\n",
       "    .dataframe tbody tr th {\n",
       "        vertical-align: top;\n",
       "    }\n",
       "\n",
       "    .dataframe thead th {\n",
       "        text-align: right;\n",
       "    }\n",
       "</style>\n",
       "<table border=\"1\" class=\"dataframe\">\n",
       "  <thead>\n",
       "    <tr style=\"text-align: right;\">\n",
       "      <th></th>\n",
       "      <th>family_status</th>\n",
       "      <th>family_status_id</th>\n",
       "    </tr>\n",
       "  </thead>\n",
       "  <tbody>\n",
       "    <tr>\n",
       "      <th>0</th>\n",
       "      <td>женат / замужем</td>\n",
       "      <td>0</td>\n",
       "    </tr>\n",
       "    <tr>\n",
       "      <th>1</th>\n",
       "      <td>гражданский брак</td>\n",
       "      <td>1</td>\n",
       "    </tr>\n",
       "    <tr>\n",
       "      <th>2</th>\n",
       "      <td>вдовец / вдова</td>\n",
       "      <td>2</td>\n",
       "    </tr>\n",
       "    <tr>\n",
       "      <th>3</th>\n",
       "      <td>в разводе</td>\n",
       "      <td>3</td>\n",
       "    </tr>\n",
       "    <tr>\n",
       "      <th>4</th>\n",
       "      <td>Не женат / не замужем</td>\n",
       "      <td>4</td>\n",
       "    </tr>\n",
       "  </tbody>\n",
       "</table>\n",
       "</div>"
      ],
      "text/plain": [
       "           family_status  family_status_id\n",
       "0        женат / замужем                 0\n",
       "1       гражданский брак                 1\n",
       "2         вдовец / вдова                 2\n",
       "3              в разводе                 3\n",
       "4  Не женат / не замужем                 4"
      ]
     },
     "execution_count": 35,
     "metadata": {},
     "output_type": "execute_result"
    }
   ],
   "source": [
    "family_status_dict"
   ]
  },
  {
   "cell_type": "markdown",
   "id": "583b94db",
   "metadata": {},
   "source": [
    "О чем можно сказать по полученным таблицам? Доля невозвратов в зависимости от статуса семьи также разнится, что свидетельствует о возможном **наличии зависимости между семейным статусом и возвратом кредита в срок**. Наибольшее число невозвратов у тех, кто не имеет законного партнера или живет в гражданском браке - это логично, поскольку бюджет одного работающего человека с высокой долей вероятности будет меньше бюджета уже двоих. Интересно, что наименьшее число невозвратов имеют заемщики из категории *вдовец / вдова* - возможно, это связано с тем, что в этой группе преимущественно возрастные заемщики, которые берут меньшие суммы кредита, а значим им легче их выплатить без задержек. "
   ]
  },
  {
   "cell_type": "markdown",
   "id": "0c1b6e6e",
   "metadata": {},
   "source": [
    "**Есть ли зависимость между уровнем дохода и возвратом кредита в срок?**\n",
    "\n",
    "Для ответа на этот вопрос также построим сводную таблицу."
   ]
  },
  {
   "cell_type": "code",
   "execution_count": 36,
   "id": "6af61edd",
   "metadata": {},
   "outputs": [
    {
     "data": {
      "text/html": [
       "<div>\n",
       "<style scoped>\n",
       "    .dataframe tbody tr th:only-of-type {\n",
       "        vertical-align: middle;\n",
       "    }\n",
       "\n",
       "    .dataframe tbody tr th {\n",
       "        vertical-align: top;\n",
       "    }\n",
       "\n",
       "    .dataframe thead tr th {\n",
       "        text-align: left;\n",
       "    }\n",
       "\n",
       "    .dataframe thead tr:last-of-type th {\n",
       "        text-align: right;\n",
       "    }\n",
       "</style>\n",
       "<table border=\"1\" class=\"dataframe\">\n",
       "  <thead>\n",
       "    <tr>\n",
       "      <th></th>\n",
       "      <th>count</th>\n",
       "      <th>mean</th>\n",
       "    </tr>\n",
       "    <tr>\n",
       "      <th></th>\n",
       "      <th>debt</th>\n",
       "      <th>debt</th>\n",
       "    </tr>\n",
       "    <tr>\n",
       "      <th>total_income_category</th>\n",
       "      <th></th>\n",
       "      <th></th>\n",
       "    </tr>\n",
       "  </thead>\n",
       "  <tbody>\n",
       "    <tr>\n",
       "      <th>A</th>\n",
       "      <td>25</td>\n",
       "      <td>0.080000</td>\n",
       "    </tr>\n",
       "    <tr>\n",
       "      <th>B</th>\n",
       "      <td>5041</td>\n",
       "      <td>0.070621</td>\n",
       "    </tr>\n",
       "    <tr>\n",
       "      <th>C</th>\n",
       "      <td>16016</td>\n",
       "      <td>0.084915</td>\n",
       "    </tr>\n",
       "    <tr>\n",
       "      <th>D</th>\n",
       "      <td>350</td>\n",
       "      <td>0.060000</td>\n",
       "    </tr>\n",
       "    <tr>\n",
       "      <th>E</th>\n",
       "      <td>22</td>\n",
       "      <td>0.090909</td>\n",
       "    </tr>\n",
       "  </tbody>\n",
       "</table>\n",
       "</div>"
      ],
      "text/plain": [
       "                       count      mean\n",
       "                        debt      debt\n",
       "total_income_category                 \n",
       "A                         25  0.080000\n",
       "B                       5041  0.070621\n",
       "C                      16016  0.084915\n",
       "D                        350  0.060000\n",
       "E                         22  0.090909"
      ]
     },
     "execution_count": 36,
     "metadata": {},
     "output_type": "execute_result"
    }
   ],
   "source": [
    "data.pivot_table(index='total_income_category', values='debt', aggfunc=['count','mean'])"
   ]
  },
  {
   "cell_type": "markdown",
   "id": "7a2c399e",
   "metadata": {},
   "source": [
    "Как можно заметить, доля невозвращенных кредитов для заемщиков из разных категорий дохода также разнится, что говорит о наличии возможной **зависимости между данными параметрами**. К неожиданности, количество невыплат по кредитам не уменьшается с ростом дохода, о чем можно было предполагать изначально. Возможно, это, опять-таки, связано с суммой займа. Между тем, заемщики, относящиеся к категории людей с наименьшим уровнем дохода, действительно имеют большую долю невозвратов."
   ]
  },
  {
   "cell_type": "markdown",
   "id": "cab9ba08",
   "metadata": {},
   "source": [
    "**Как разные цели кредита влияют на его возврат в срок?**\n",
    "\n",
    "Наконец, построим последнюю сводную таблицу."
   ]
  },
  {
   "cell_type": "code",
   "execution_count": 37,
   "id": "df587ef2",
   "metadata": {},
   "outputs": [
    {
     "data": {
      "text/html": [
       "<div>\n",
       "<style scoped>\n",
       "    .dataframe tbody tr th:only-of-type {\n",
       "        vertical-align: middle;\n",
       "    }\n",
       "\n",
       "    .dataframe tbody tr th {\n",
       "        vertical-align: top;\n",
       "    }\n",
       "\n",
       "    .dataframe thead tr th {\n",
       "        text-align: left;\n",
       "    }\n",
       "\n",
       "    .dataframe thead tr:last-of-type th {\n",
       "        text-align: right;\n",
       "    }\n",
       "</style>\n",
       "<table border=\"1\" class=\"dataframe\">\n",
       "  <thead>\n",
       "    <tr>\n",
       "      <th></th>\n",
       "      <th>count</th>\n",
       "      <th>mean</th>\n",
       "    </tr>\n",
       "    <tr>\n",
       "      <th></th>\n",
       "      <th>debt</th>\n",
       "      <th>debt</th>\n",
       "    </tr>\n",
       "    <tr>\n",
       "      <th>purpose_category</th>\n",
       "      <th></th>\n",
       "      <th></th>\n",
       "    </tr>\n",
       "  </thead>\n",
       "  <tbody>\n",
       "    <tr>\n",
       "      <th>операции с автомобилем</th>\n",
       "      <td>4306</td>\n",
       "      <td>0.093590</td>\n",
       "    </tr>\n",
       "    <tr>\n",
       "      <th>операции с недвижимостью</th>\n",
       "      <td>10811</td>\n",
       "      <td>0.072334</td>\n",
       "    </tr>\n",
       "    <tr>\n",
       "      <th>получение образования</th>\n",
       "      <td>4013</td>\n",
       "      <td>0.092200</td>\n",
       "    </tr>\n",
       "    <tr>\n",
       "      <th>проведение свадьбы</th>\n",
       "      <td>2324</td>\n",
       "      <td>0.080034</td>\n",
       "    </tr>\n",
       "  </tbody>\n",
       "</table>\n",
       "</div>"
      ],
      "text/plain": [
       "                          count      mean\n",
       "                           debt      debt\n",
       "purpose_category                         \n",
       "операции с автомобилем     4306  0.093590\n",
       "операции с недвижимостью  10811  0.072334\n",
       "получение образования      4013  0.092200\n",
       "проведение свадьбы         2324  0.080034"
      ]
     },
     "execution_count": 37,
     "metadata": {},
     "output_type": "execute_result"
    }
   ],
   "source": [
    "data.pivot_table(index='purpose_category', values='debt', aggfunc=['count','mean'])"
   ]
  },
  {
   "cell_type": "markdown",
   "id": "b8e6530d",
   "metadata": {},
   "source": [
    "Доля просроченных кредитов разнится от причин займа, однако величина колебаний невелика, что может говорить о **наличии несильной зависимости между целями кредита и его возвратом в срок**. Среди рассматриваемых категорий наибольшая доля невозвратов приходится на заемщиков, которые взяли кредит для *операций с автомобилем* и для *получения образования*, в то время как для *операций с недвижимостью* доля невозвратов в срок является наименьшей."
   ]
  },
  {
   "cell_type": "markdown",
   "id": "407e59a1",
   "metadata": {},
   "source": [
    "## Итоговые выводы"
   ]
  },
  {
   "cell_type": "markdown",
   "id": "d1bae9ef",
   "metadata": {},
   "source": [
    "В ходе работы мы выполнили две важные задачи:\n",
    "1. Обработали исходные данные\n",
    "2. Изучили связь между некоторыми характеристиками заемщиков и возвратом их кредита в срок\n",
    "\n",
    "Процесс предобработки данных включал в себя 7 блоков и по итогу были совершены следующие преобразования:\n",
    "* Выявлены пропуски, а также подобраны наиболее оптимальные варианты для их заполнения\n",
    "* Выявлены аномалии, которые были обработаны и привeдены к более *реальному* виду\n",
    "* Обработаны типы данных\n",
    "* Выявлены явные и неявные дубликаты, которые впоследствии были удалены\n",
    "* Созданы словари, позволяющие разгрузить исходный набор данных\n",
    "* Созданы две подкатегории, упрощающие дальнейший анализ\n",
    "\n",
    "В рамках второй задачи была проанализирована связь между возвратом кредита и следующими переменными: `количеством детей`, `статусом семьи`, `уровнем дохода заемщика` и `целью кредита`. Наличие возможной связи между ними было подтверждено при помощи анализа сводных таблиц, однако разница в силе связей внутри групп одной категории различалась в зависимости от анализируемой характеристики. "
   ]
  }
 ],
 "metadata": {
  "ExecuteTimeLog": [
   {
    "duration": 392,
    "start_time": "2022-04-08T08:49:30.041Z"
   },
   {
    "duration": 103,
    "start_time": "2022-04-08T08:49:30.435Z"
   },
   {
    "duration": 0,
    "start_time": "2022-04-08T08:49:30.541Z"
   },
   {
    "duration": 0,
    "start_time": "2022-04-08T08:49:30.543Z"
   },
   {
    "duration": 0,
    "start_time": "2022-04-08T08:49:30.544Z"
   },
   {
    "duration": 0,
    "start_time": "2022-04-08T08:49:30.545Z"
   },
   {
    "duration": 0,
    "start_time": "2022-04-08T08:49:30.546Z"
   },
   {
    "duration": 0,
    "start_time": "2022-04-08T08:49:30.547Z"
   },
   {
    "duration": 0,
    "start_time": "2022-04-08T08:49:30.548Z"
   },
   {
    "duration": 0,
    "start_time": "2022-04-08T08:49:30.549Z"
   },
   {
    "duration": 0,
    "start_time": "2022-04-08T08:49:30.550Z"
   },
   {
    "duration": 0,
    "start_time": "2022-04-08T08:49:30.551Z"
   },
   {
    "duration": 0,
    "start_time": "2022-04-08T08:49:30.552Z"
   },
   {
    "duration": 0,
    "start_time": "2022-04-08T08:49:30.554Z"
   },
   {
    "duration": 0,
    "start_time": "2022-04-08T08:49:30.555Z"
   },
   {
    "duration": 0,
    "start_time": "2022-04-08T08:49:30.556Z"
   },
   {
    "duration": 0,
    "start_time": "2022-04-08T08:49:30.557Z"
   },
   {
    "duration": 0,
    "start_time": "2022-04-08T08:49:30.558Z"
   },
   {
    "duration": 0,
    "start_time": "2022-04-08T08:49:30.559Z"
   },
   {
    "duration": 0,
    "start_time": "2022-04-08T08:49:30.560Z"
   },
   {
    "duration": 0,
    "start_time": "2022-04-08T08:49:30.561Z"
   },
   {
    "duration": 0,
    "start_time": "2022-04-08T08:49:30.562Z"
   },
   {
    "duration": 0,
    "start_time": "2022-04-08T08:49:30.564Z"
   },
   {
    "duration": 0,
    "start_time": "2022-04-08T08:49:30.565Z"
   },
   {
    "duration": 0,
    "start_time": "2022-04-08T08:49:30.566Z"
   },
   {
    "duration": 0,
    "start_time": "2022-04-08T08:49:30.567Z"
   },
   {
    "duration": 0,
    "start_time": "2022-04-08T08:49:30.568Z"
   },
   {
    "duration": 0,
    "start_time": "2022-04-08T08:49:30.569Z"
   },
   {
    "duration": 0,
    "start_time": "2022-04-08T08:49:30.609Z"
   },
   {
    "duration": 0,
    "start_time": "2022-04-08T08:49:30.610Z"
   },
   {
    "duration": 0,
    "start_time": "2022-04-08T08:49:30.611Z"
   },
   {
    "duration": 0,
    "start_time": "2022-04-08T08:49:30.612Z"
   },
   {
    "duration": 0,
    "start_time": "2022-04-08T08:49:30.613Z"
   },
   {
    "duration": 0,
    "start_time": "2022-04-08T08:49:30.614Z"
   },
   {
    "duration": 0,
    "start_time": "2022-04-08T08:49:30.615Z"
   },
   {
    "duration": 484,
    "start_time": "2022-04-08T08:50:04.544Z"
   },
   {
    "duration": 62,
    "start_time": "2022-04-08T08:50:05.030Z"
   },
   {
    "duration": 30,
    "start_time": "2022-04-08T08:50:05.094Z"
   },
   {
    "duration": 17,
    "start_time": "2022-04-08T08:50:05.126Z"
   },
   {
    "duration": 5,
    "start_time": "2022-04-08T08:50:05.145Z"
   },
   {
    "duration": 20,
    "start_time": "2022-04-08T08:50:05.152Z"
   },
   {
    "duration": 36,
    "start_time": "2022-04-08T08:50:05.174Z"
   },
   {
    "duration": 25,
    "start_time": "2022-04-08T08:50:05.212Z"
   },
   {
    "duration": 425,
    "start_time": "2022-04-08T08:50:05.238Z"
   },
   {
    "duration": 187,
    "start_time": "2022-04-08T08:50:05.667Z"
   },
   {
    "duration": 6,
    "start_time": "2022-04-08T08:50:05.857Z"
   },
   {
    "duration": 9,
    "start_time": "2022-04-08T08:50:05.864Z"
   },
   {
    "duration": 8,
    "start_time": "2022-04-08T08:50:05.875Z"
   },
   {
    "duration": 217,
    "start_time": "2022-04-08T08:50:05.885Z"
   },
   {
    "duration": 18,
    "start_time": "2022-04-08T08:50:06.109Z"
   },
   {
    "duration": 18,
    "start_time": "2022-04-08T08:50:06.129Z"
   },
   {
    "duration": 70,
    "start_time": "2022-04-08T08:50:06.149Z"
   },
   {
    "duration": 28,
    "start_time": "2022-04-08T08:50:06.222Z"
   },
   {
    "duration": 57,
    "start_time": "2022-04-08T08:50:06.252Z"
   },
   {
    "duration": 11,
    "start_time": "2022-04-08T08:50:06.311Z"
   },
   {
    "duration": 13,
    "start_time": "2022-04-08T08:50:06.324Z"
   },
   {
    "duration": 13,
    "start_time": "2022-04-08T08:50:06.339Z"
   },
   {
    "duration": 7,
    "start_time": "2022-04-08T08:50:06.354Z"
   },
   {
    "duration": 6,
    "start_time": "2022-04-08T08:50:06.362Z"
   },
   {
    "duration": 177,
    "start_time": "2022-04-08T08:50:06.369Z"
   },
   {
    "duration": 11,
    "start_time": "2022-04-08T08:50:06.550Z"
   },
   {
    "duration": 8,
    "start_time": "2022-04-08T08:50:06.563Z"
   },
   {
    "duration": 4,
    "start_time": "2022-04-08T08:50:06.576Z"
   },
   {
    "duration": 169,
    "start_time": "2022-04-08T08:50:06.581Z"
   },
   {
    "duration": 13,
    "start_time": "2022-04-08T08:50:06.752Z"
   },
   {
    "duration": 42,
    "start_time": "2022-04-08T08:50:06.767Z"
   },
   {
    "duration": 24,
    "start_time": "2022-04-08T08:50:06.811Z"
   },
   {
    "duration": 8,
    "start_time": "2022-04-08T08:50:06.836Z"
   },
   {
    "duration": 62,
    "start_time": "2022-04-08T08:50:06.846Z"
   },
   {
    "duration": 38,
    "start_time": "2022-04-08T08:50:06.911Z"
   },
   {
    "duration": 401,
    "start_time": "2022-04-08T08:56:35.433Z"
   },
   {
    "duration": 107,
    "start_time": "2022-04-08T08:56:35.836Z"
   },
   {
    "duration": 0,
    "start_time": "2022-04-08T08:56:35.945Z"
   },
   {
    "duration": 0,
    "start_time": "2022-04-08T08:56:35.947Z"
   },
   {
    "duration": 0,
    "start_time": "2022-04-08T08:56:35.948Z"
   },
   {
    "duration": 0,
    "start_time": "2022-04-08T08:56:35.949Z"
   },
   {
    "duration": 0,
    "start_time": "2022-04-08T08:56:35.950Z"
   },
   {
    "duration": 0,
    "start_time": "2022-04-08T08:56:35.951Z"
   },
   {
    "duration": 0,
    "start_time": "2022-04-08T08:56:35.952Z"
   },
   {
    "duration": 0,
    "start_time": "2022-04-08T08:56:35.953Z"
   },
   {
    "duration": 0,
    "start_time": "2022-04-08T08:56:35.954Z"
   },
   {
    "duration": 0,
    "start_time": "2022-04-08T08:56:35.955Z"
   },
   {
    "duration": 0,
    "start_time": "2022-04-08T08:56:35.956Z"
   },
   {
    "duration": 0,
    "start_time": "2022-04-08T08:56:35.957Z"
   },
   {
    "duration": 8,
    "start_time": "2022-04-08T08:56:36.053Z"
   },
   {
    "duration": 8,
    "start_time": "2022-04-08T08:56:36.146Z"
   },
   {
    "duration": 0,
    "start_time": "2022-04-08T08:56:36.156Z"
   },
   {
    "duration": 0,
    "start_time": "2022-04-08T08:56:36.158Z"
   },
   {
    "duration": 0,
    "start_time": "2022-04-08T08:56:36.159Z"
   },
   {
    "duration": 0,
    "start_time": "2022-04-08T08:56:36.161Z"
   },
   {
    "duration": 8,
    "start_time": "2022-04-08T08:56:36.242Z"
   },
   {
    "duration": 0,
    "start_time": "2022-04-08T08:56:36.252Z"
   },
   {
    "duration": 0,
    "start_time": "2022-04-08T08:56:36.254Z"
   },
   {
    "duration": 4,
    "start_time": "2022-04-08T08:56:36.323Z"
   },
   {
    "duration": 9,
    "start_time": "2022-04-08T08:56:36.330Z"
   },
   {
    "duration": 0,
    "start_time": "2022-04-08T08:56:36.341Z"
   },
   {
    "duration": 10,
    "start_time": "2022-04-08T08:56:36.413Z"
   },
   {
    "duration": 0,
    "start_time": "2022-04-08T08:56:36.425Z"
   },
   {
    "duration": 0,
    "start_time": "2022-04-08T08:56:36.427Z"
   },
   {
    "duration": 0,
    "start_time": "2022-04-08T08:56:36.428Z"
   },
   {
    "duration": 0,
    "start_time": "2022-04-08T08:56:36.430Z"
   },
   {
    "duration": 7,
    "start_time": "2022-04-08T08:56:36.519Z"
   },
   {
    "duration": 0,
    "start_time": "2022-04-08T08:56:36.527Z"
   },
   {
    "duration": 8,
    "start_time": "2022-04-08T08:56:36.593Z"
   },
   {
    "duration": 7,
    "start_time": "2022-04-08T08:56:36.669Z"
   },
   {
    "duration": 526,
    "start_time": "2022-04-08T12:29:39.985Z"
   },
   {
    "duration": 85,
    "start_time": "2022-04-08T12:29:41.429Z"
   },
   {
    "duration": 25,
    "start_time": "2022-04-08T12:29:55.931Z"
   },
   {
    "duration": 22,
    "start_time": "2022-04-08T12:29:59.810Z"
   },
   {
    "duration": 5,
    "start_time": "2022-04-08T12:30:01.260Z"
   },
   {
    "duration": 9,
    "start_time": "2022-04-08T12:30:44.009Z"
   },
   {
    "duration": 5,
    "start_time": "2022-04-08T12:30:46.160Z"
   },
   {
    "duration": 5,
    "start_time": "2022-04-08T12:31:05.039Z"
   },
   {
    "duration": 5,
    "start_time": "2022-04-08T12:31:14.884Z"
   },
   {
    "duration": 172,
    "start_time": "2022-04-08T12:32:04.044Z"
   },
   {
    "duration": 173,
    "start_time": "2022-04-08T12:32:10.501Z"
   },
   {
    "duration": 206,
    "start_time": "2022-04-08T12:32:17.207Z"
   },
   {
    "duration": 22,
    "start_time": "2022-04-08T12:32:50.366Z"
   },
   {
    "duration": 24,
    "start_time": "2022-04-08T12:36:07.581Z"
   },
   {
    "duration": 948,
    "start_time": "2022-04-08T12:45:59.975Z"
   },
   {
    "duration": 134,
    "start_time": "2022-04-08T12:46:12.753Z"
   },
   {
    "duration": 72,
    "start_time": "2022-04-08T12:46:17.817Z"
   },
   {
    "duration": 4,
    "start_time": "2022-04-08T12:47:37.492Z"
   },
   {
    "duration": 6,
    "start_time": "2022-04-08T12:49:48.734Z"
   },
   {
    "duration": 7,
    "start_time": "2022-04-08T12:49:51.757Z"
   },
   {
    "duration": 145,
    "start_time": "2022-04-08T12:57:08.388Z"
   },
   {
    "duration": 23,
    "start_time": "2022-04-08T12:57:25.730Z"
   },
   {
    "duration": 27,
    "start_time": "2022-04-08T12:57:31.105Z"
   },
   {
    "duration": 48,
    "start_time": "2022-04-08T12:57:34.340Z"
   },
   {
    "duration": 42,
    "start_time": "2022-04-08T12:57:35.835Z"
   },
   {
    "duration": 47,
    "start_time": "2022-04-08T12:57:37.211Z"
   },
   {
    "duration": 15,
    "start_time": "2022-04-08T12:57:38.519Z"
   },
   {
    "duration": 15,
    "start_time": "2022-04-08T12:57:45.845Z"
   },
   {
    "duration": 11,
    "start_time": "2022-04-08T12:57:49.113Z"
   },
   {
    "duration": 5,
    "start_time": "2022-04-08T12:57:52.135Z"
   },
   {
    "duration": 4,
    "start_time": "2022-04-08T12:57:56.093Z"
   },
   {
    "duration": 129,
    "start_time": "2022-04-08T12:57:58.615Z"
   },
   {
    "duration": 10,
    "start_time": "2022-04-08T12:58:00.078Z"
   },
   {
    "duration": 6,
    "start_time": "2022-04-08T12:58:07.896Z"
   },
   {
    "duration": 4,
    "start_time": "2022-04-08T12:58:11.668Z"
   },
   {
    "duration": 139,
    "start_time": "2022-04-08T12:58:12.480Z"
   },
   {
    "duration": 11,
    "start_time": "2022-04-08T12:58:13.509Z"
   },
   {
    "duration": 22,
    "start_time": "2022-04-08T12:58:21.002Z"
   },
   {
    "duration": 18,
    "start_time": "2022-04-08T12:58:24.404Z"
   },
   {
    "duration": 7,
    "start_time": "2022-04-08T12:58:25.200Z"
   },
   {
    "duration": 20,
    "start_time": "2022-04-08T12:58:31.878Z"
   },
   {
    "duration": 23,
    "start_time": "2022-04-08T12:58:38.297Z"
   },
   {
    "duration": 399,
    "start_time": "2022-04-08T15:06:56.453Z"
   },
   {
    "duration": 60,
    "start_time": "2022-04-08T15:06:56.853Z"
   },
   {
    "duration": 20,
    "start_time": "2022-04-08T15:06:56.914Z"
   },
   {
    "duration": 17,
    "start_time": "2022-04-08T15:06:56.948Z"
   },
   {
    "duration": 10,
    "start_time": "2022-04-08T15:06:56.967Z"
   },
   {
    "duration": 12,
    "start_time": "2022-04-08T15:06:56.979Z"
   },
   {
    "duration": 6,
    "start_time": "2022-04-08T15:06:56.993Z"
   },
   {
    "duration": 51,
    "start_time": "2022-04-08T15:06:57.001Z"
   },
   {
    "duration": 407,
    "start_time": "2022-04-08T15:06:57.054Z"
   },
   {
    "duration": 150,
    "start_time": "2022-04-08T15:06:57.463Z"
   },
   {
    "duration": 3,
    "start_time": "2022-04-08T15:06:57.615Z"
   },
   {
    "duration": 9,
    "start_time": "2022-04-08T15:06:57.620Z"
   },
   {
    "duration": 18,
    "start_time": "2022-04-08T15:06:57.630Z"
   },
   {
    "duration": 160,
    "start_time": "2022-04-08T15:06:57.650Z"
   },
   {
    "duration": 16,
    "start_time": "2022-04-08T15:06:57.812Z"
   },
   {
    "duration": 32,
    "start_time": "2022-04-08T15:06:57.830Z"
   },
   {
    "duration": 36,
    "start_time": "2022-04-08T15:06:57.864Z"
   },
   {
    "duration": 52,
    "start_time": "2022-04-08T15:06:57.902Z"
   },
   {
    "duration": 33,
    "start_time": "2022-04-08T15:06:57.956Z"
   },
   {
    "duration": 10,
    "start_time": "2022-04-08T15:06:57.991Z"
   },
   {
    "duration": 45,
    "start_time": "2022-04-08T15:06:58.003Z"
   },
   {
    "duration": 13,
    "start_time": "2022-04-08T15:06:58.050Z"
   },
   {
    "duration": 7,
    "start_time": "2022-04-08T15:06:58.064Z"
   },
   {
    "duration": 9,
    "start_time": "2022-04-08T15:06:58.072Z"
   },
   {
    "duration": 143,
    "start_time": "2022-04-08T15:06:58.083Z"
   },
   {
    "duration": 11,
    "start_time": "2022-04-08T15:06:58.227Z"
   },
   {
    "duration": 7,
    "start_time": "2022-04-08T15:06:58.248Z"
   },
   {
    "duration": 3,
    "start_time": "2022-04-08T15:06:58.259Z"
   },
   {
    "duration": 141,
    "start_time": "2022-04-08T15:06:58.263Z"
   },
   {
    "duration": 11,
    "start_time": "2022-04-08T15:06:58.406Z"
   },
   {
    "duration": 37,
    "start_time": "2022-04-08T15:06:58.419Z"
   },
   {
    "duration": 20,
    "start_time": "2022-04-08T15:06:58.458Z"
   },
   {
    "duration": 6,
    "start_time": "2022-04-08T15:06:58.480Z"
   },
   {
    "duration": 28,
    "start_time": "2022-04-08T15:06:58.488Z"
   },
   {
    "duration": 45,
    "start_time": "2022-04-08T15:06:58.518Z"
   }
  ],
  "kernelspec": {
   "display_name": "Python 3 (ipykernel)",
   "language": "python",
   "name": "python3"
  },
  "language_info": {
   "codemirror_mode": {
    "name": "ipython",
    "version": 3
   },
   "file_extension": ".py",
   "mimetype": "text/x-python",
   "name": "python",
   "nbconvert_exporter": "python",
   "pygments_lexer": "ipython3",
   "version": "3.9.7"
  },
  "toc": {
   "base_numbering": 1,
   "nav_menu": {},
   "number_sections": true,
   "sideBar": true,
   "skip_h1_title": true,
   "title_cell": "Table of Contents",
   "title_sidebar": "Contents",
   "toc_cell": true,
   "toc_position": {},
   "toc_section_display": true,
   "toc_window_display": false
  }
 },
 "nbformat": 4,
 "nbformat_minor": 5
}
