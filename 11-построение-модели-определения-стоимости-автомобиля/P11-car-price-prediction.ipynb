{
 "cells": [
  {
   "cell_type": "markdown",
   "id": "531976a2",
   "metadata": {
    "toc": true
   },
   "source": [
    "<h1>Table of Contents<span class=\"tocSkip\"></span></h1>\n",
    "<div class=\"toc\"><ul class=\"toc-item\"><li><span><a href=\"#Описание-проекта\" data-toc-modified-id=\"Описание-проекта-1\"><span class=\"toc-item-num\">1&nbsp;&nbsp;</span>Описание проекта</a></span></li><li><span><a href=\"#Описание-данных\" data-toc-modified-id=\"Описание-данных-2\"><span class=\"toc-item-num\">2&nbsp;&nbsp;</span>Описание данных</a></span></li><li><span><a href=\"#Предобработка-данных\" data-toc-modified-id=\"Предобработка-данных-3\"><span class=\"toc-item-num\">3&nbsp;&nbsp;</span>Предобработка данных</a></span><ul class=\"toc-item\"><li><span><a href=\"#Выявление-и-устранение-аномалий\" data-toc-modified-id=\"Выявление-и-устранение-аномалий-3.1\"><span class=\"toc-item-num\">3.1&nbsp;&nbsp;</span>Выявление и устранение аномалий</a></span></li><li><span><a href=\"#Выявление-и-заполнение-пропусков\" data-toc-modified-id=\"Выявление-и-заполнение-пропусков-3.2\"><span class=\"toc-item-num\">3.2&nbsp;&nbsp;</span>Выявление и заполнение пропусков</a></span></li><li><span><a href=\"#Работа-с-переменными\" data-toc-modified-id=\"Работа-с-переменными-3.3\"><span class=\"toc-item-num\">3.3&nbsp;&nbsp;</span>Работа с переменными</a></span></li><li><span><a href=\"#Преобразование-категориальных-переменных\" data-toc-modified-id=\"Преобразование-категориальных-переменных-3.4\"><span class=\"toc-item-num\">3.4&nbsp;&nbsp;</span>Преобразование категориальных переменных</a></span></li><li><span><a href=\"#Стандартизация\" data-toc-modified-id=\"Стандартизация-3.5\"><span class=\"toc-item-num\">3.5&nbsp;&nbsp;</span>Стандартизация</a></span></li></ul></li><li><span><a href=\"#Обучение-моделей\" data-toc-modified-id=\"Обучение-моделей-4\"><span class=\"toc-item-num\">4&nbsp;&nbsp;</span>Обучение моделей</a></span><ul class=\"toc-item\"><li><span><a href=\"#kNN\" data-toc-modified-id=\"kNN-4.1\"><span class=\"toc-item-num\">4.1&nbsp;&nbsp;</span>kNN</a></span></li><li><span><a href=\"#Линейная-регрессия\" data-toc-modified-id=\"Линейная-регрессия-4.2\"><span class=\"toc-item-num\">4.2&nbsp;&nbsp;</span>Линейная регрессия</a></span></li><li><span><a href=\"#Случайный-лес\" data-toc-modified-id=\"Случайный-лес-4.3\"><span class=\"toc-item-num\">4.3&nbsp;&nbsp;</span>Случайный лес</a></span></li><li><span><a href=\"#LightGBM\" data-toc-modified-id=\"LightGBM-4.4\"><span class=\"toc-item-num\">4.4&nbsp;&nbsp;</span>LightGBM</a></span></li><li><span><a href=\"#CatBoost\" data-toc-modified-id=\"CatBoost-4.5\"><span class=\"toc-item-num\">4.5&nbsp;&nbsp;</span>CatBoost</a></span></li></ul></li><li><span><a href=\"#Проверка-на-тесте\" data-toc-modified-id=\"Проверка-на-тесте-5\"><span class=\"toc-item-num\">5&nbsp;&nbsp;</span>Проверка на тесте</a></span></li><li><span><a href=\"#Итоговые-выводы\" data-toc-modified-id=\"Итоговые-выводы-6\"><span class=\"toc-item-num\">6&nbsp;&nbsp;</span>Итоговые выводы</a></span></li></ul></div>"
   ]
  },
  {
   "cell_type": "code",
   "execution_count": 2,
   "id": "1bdfe56e",
   "metadata": {},
   "outputs": [],
   "source": [
    "import pandas as pd\n",
    "import numpy as np\n",
    "import seaborn as sns\n",
    "import datetime\n",
    "from matplotlib import pyplot as plt\n",
    "from sklearn.metrics import mean_squared_error\n",
    "from sklearn.model_selection import train_test_split\n",
    "from sklearn.neighbors import KNeighborsRegressor\n",
    "from sklearn.linear_model import LinearRegression\n",
    "from sklearn.ensemble import RandomForestRegressor\n",
    "from catboost import CatBoostRegressor\n",
    "from sklearn.model_selection import GridSearchCV\n",
    "from sklearn.model_selection import RandomizedSearchCV\n",
    "from sklearn.preprocessing import OrdinalEncoder\n",
    "from sklearn.preprocessing import OneHotEncoder\n",
    "from lightgbm import LGBMRegressor\n",
    "from sklearn.preprocessing import StandardScaler"
   ]
  },
  {
   "cell_type": "code",
   "execution_count": 3,
   "id": "ff1abaff",
   "metadata": {},
   "outputs": [],
   "source": [
    "import warnings\n",
    "warnings.filterwarnings('ignore')"
   ]
  },
  {
   "cell_type": "markdown",
   "id": "60a5724a",
   "metadata": {},
   "source": [
    "# Определение стоимости автомобилей"
   ]
  },
  {
   "cell_type": "markdown",
   "id": "28326c20",
   "metadata": {},
   "source": [
    "## Описание проекта"
   ]
  },
  {
   "cell_type": "markdown",
   "id": "20fcf362",
   "metadata": {},
   "source": [
    "**Заказчик** - сервис по продаже автомобилей с пробегом «Не бит, не крашен». Они занимаются разработкой приложение с целью привлечения новых клиентов. Приложение позволит пользователям узнавать рыночную стоимость своего автомобиля.\n",
    "\n",
    "**Исходные данные** - информация о технических характеристиках, комплектации и ценах других автомобилей.\n",
    "\n",
    "Заказчик выделил три основных критерия:\n",
    "* качество предсказания - значение метрики RMSE должно быть меньше 2500;\n",
    "* время обучения модели;\n",
    "* время предсказания модели."
   ]
  },
  {
   "cell_type": "markdown",
   "id": "0050b9fe",
   "metadata": {},
   "source": [
    "Исходный набор данных состоит из следующих признаков:\n",
    "* DateCrawled — дата скачивания анкеты из базы\n",
    "* VehicleType — тип автомобильного кузова\n",
    "* RegistrationYear — год регистрации автомобиля\n",
    "* Gearbox — тип коробки передач\n",
    "* Power — мощность (л. с.)\n",
    "* Model — модель автомобиля\n",
    "* Kilometer — пробег (км)\n",
    "* RegistrationMonth — месяц регистрации автомобиля\n",
    "* FuelType — тип топлива\n",
    "* Brand — марка автомобиля\n",
    "* NotRepaired — была машина в ремонте или нет\n",
    "* DateCreated — дата создания анкеты\n",
    "* NumberOfPictures — количество фотографий автомобиля\n",
    "* PostalCode — почтовый индекс владельца анкеты (пользователя)\n",
    "* LastSeen — дата последней активности пользователя\n",
    "Целевой признак\n",
    "* Price — цена (евро)"
   ]
  },
  {
   "cell_type": "markdown",
   "id": "27fc53df",
   "metadata": {},
   "source": [
    "## Описание данных"
   ]
  },
  {
   "cell_type": "markdown",
   "id": "fe78fe37",
   "metadata": {},
   "source": [
    "Начнем с загрузки исходных данных."
   ]
  },
  {
   "cell_type": "code",
   "execution_count": 4,
   "id": "080c1e77",
   "metadata": {},
   "outputs": [],
   "source": [
    "try:\n",
    "    data = pd.read_csv('/datasets/autos.csv')\n",
    "except:\n",
    "    data = pd.read_csv('autos.csv')"
   ]
  },
  {
   "cell_type": "markdown",
   "id": "8be0fc6e",
   "metadata": {},
   "source": [
    "Выведем основную информацию по исходным данным."
   ]
  },
  {
   "cell_type": "code",
   "execution_count": 5,
   "id": "edf4fb1a",
   "metadata": {},
   "outputs": [
    {
     "name": "stdout",
     "output_type": "stream",
     "text": [
      "<class 'pandas.core.frame.DataFrame'>\n",
      "RangeIndex: 354369 entries, 0 to 354368\n",
      "Data columns (total 16 columns):\n",
      " #   Column             Non-Null Count   Dtype \n",
      "---  ------             --------------   ----- \n",
      " 0   DateCrawled        354369 non-null  object\n",
      " 1   Price              354369 non-null  int64 \n",
      " 2   VehicleType        316879 non-null  object\n",
      " 3   RegistrationYear   354369 non-null  int64 \n",
      " 4   Gearbox            334536 non-null  object\n",
      " 5   Power              354369 non-null  int64 \n",
      " 6   Model              334664 non-null  object\n",
      " 7   Kilometer          354369 non-null  int64 \n",
      " 8   RegistrationMonth  354369 non-null  int64 \n",
      " 9   FuelType           321474 non-null  object\n",
      " 10  Brand              354369 non-null  object\n",
      " 11  NotRepaired        283215 non-null  object\n",
      " 12  DateCreated        354369 non-null  object\n",
      " 13  NumberOfPictures   354369 non-null  int64 \n",
      " 14  PostalCode         354369 non-null  int64 \n",
      " 15  LastSeen           354369 non-null  object\n",
      "dtypes: int64(7), object(9)\n",
      "memory usage: 43.3+ MB\n"
     ]
    },
    {
     "data": {
      "text/html": [
       "<div>\n",
       "<style scoped>\n",
       "    .dataframe tbody tr th:only-of-type {\n",
       "        vertical-align: middle;\n",
       "    }\n",
       "\n",
       "    .dataframe tbody tr th {\n",
       "        vertical-align: top;\n",
       "    }\n",
       "\n",
       "    .dataframe thead th {\n",
       "        text-align: right;\n",
       "    }\n",
       "</style>\n",
       "<table border=\"1\" class=\"dataframe\">\n",
       "  <thead>\n",
       "    <tr style=\"text-align: right;\">\n",
       "      <th></th>\n",
       "      <th>DateCrawled</th>\n",
       "      <th>Price</th>\n",
       "      <th>VehicleType</th>\n",
       "      <th>RegistrationYear</th>\n",
       "      <th>Gearbox</th>\n",
       "      <th>Power</th>\n",
       "      <th>Model</th>\n",
       "      <th>Kilometer</th>\n",
       "      <th>RegistrationMonth</th>\n",
       "      <th>FuelType</th>\n",
       "      <th>Brand</th>\n",
       "      <th>NotRepaired</th>\n",
       "      <th>DateCreated</th>\n",
       "      <th>NumberOfPictures</th>\n",
       "      <th>PostalCode</th>\n",
       "      <th>LastSeen</th>\n",
       "    </tr>\n",
       "  </thead>\n",
       "  <tbody>\n",
       "    <tr>\n",
       "      <th>0</th>\n",
       "      <td>2016-03-24 11:52:17</td>\n",
       "      <td>480</td>\n",
       "      <td>NaN</td>\n",
       "      <td>1993</td>\n",
       "      <td>manual</td>\n",
       "      <td>0</td>\n",
       "      <td>golf</td>\n",
       "      <td>150000</td>\n",
       "      <td>0</td>\n",
       "      <td>petrol</td>\n",
       "      <td>volkswagen</td>\n",
       "      <td>NaN</td>\n",
       "      <td>2016-03-24 00:00:00</td>\n",
       "      <td>0</td>\n",
       "      <td>70435</td>\n",
       "      <td>2016-04-07 03:16:57</td>\n",
       "    </tr>\n",
       "    <tr>\n",
       "      <th>1</th>\n",
       "      <td>2016-03-24 10:58:45</td>\n",
       "      <td>18300</td>\n",
       "      <td>coupe</td>\n",
       "      <td>2011</td>\n",
       "      <td>manual</td>\n",
       "      <td>190</td>\n",
       "      <td>NaN</td>\n",
       "      <td>125000</td>\n",
       "      <td>5</td>\n",
       "      <td>gasoline</td>\n",
       "      <td>audi</td>\n",
       "      <td>yes</td>\n",
       "      <td>2016-03-24 00:00:00</td>\n",
       "      <td>0</td>\n",
       "      <td>66954</td>\n",
       "      <td>2016-04-07 01:46:50</td>\n",
       "    </tr>\n",
       "    <tr>\n",
       "      <th>2</th>\n",
       "      <td>2016-03-14 12:52:21</td>\n",
       "      <td>9800</td>\n",
       "      <td>suv</td>\n",
       "      <td>2004</td>\n",
       "      <td>auto</td>\n",
       "      <td>163</td>\n",
       "      <td>grand</td>\n",
       "      <td>125000</td>\n",
       "      <td>8</td>\n",
       "      <td>gasoline</td>\n",
       "      <td>jeep</td>\n",
       "      <td>NaN</td>\n",
       "      <td>2016-03-14 00:00:00</td>\n",
       "      <td>0</td>\n",
       "      <td>90480</td>\n",
       "      <td>2016-04-05 12:47:46</td>\n",
       "    </tr>\n",
       "    <tr>\n",
       "      <th>3</th>\n",
       "      <td>2016-03-17 16:54:04</td>\n",
       "      <td>1500</td>\n",
       "      <td>small</td>\n",
       "      <td>2001</td>\n",
       "      <td>manual</td>\n",
       "      <td>75</td>\n",
       "      <td>golf</td>\n",
       "      <td>150000</td>\n",
       "      <td>6</td>\n",
       "      <td>petrol</td>\n",
       "      <td>volkswagen</td>\n",
       "      <td>no</td>\n",
       "      <td>2016-03-17 00:00:00</td>\n",
       "      <td>0</td>\n",
       "      <td>91074</td>\n",
       "      <td>2016-03-17 17:40:17</td>\n",
       "    </tr>\n",
       "    <tr>\n",
       "      <th>4</th>\n",
       "      <td>2016-03-31 17:25:20</td>\n",
       "      <td>3600</td>\n",
       "      <td>small</td>\n",
       "      <td>2008</td>\n",
       "      <td>manual</td>\n",
       "      <td>69</td>\n",
       "      <td>fabia</td>\n",
       "      <td>90000</td>\n",
       "      <td>7</td>\n",
       "      <td>gasoline</td>\n",
       "      <td>skoda</td>\n",
       "      <td>no</td>\n",
       "      <td>2016-03-31 00:00:00</td>\n",
       "      <td>0</td>\n",
       "      <td>60437</td>\n",
       "      <td>2016-04-06 10:17:21</td>\n",
       "    </tr>\n",
       "  </tbody>\n",
       "</table>\n",
       "</div>"
      ],
      "text/plain": [
       "           DateCrawled  Price VehicleType  RegistrationYear Gearbox  Power  \\\n",
       "0  2016-03-24 11:52:17    480         NaN              1993  manual      0   \n",
       "1  2016-03-24 10:58:45  18300       coupe              2011  manual    190   \n",
       "2  2016-03-14 12:52:21   9800         suv              2004    auto    163   \n",
       "3  2016-03-17 16:54:04   1500       small              2001  manual     75   \n",
       "4  2016-03-31 17:25:20   3600       small              2008  manual     69   \n",
       "\n",
       "   Model  Kilometer  RegistrationMonth  FuelType       Brand NotRepaired  \\\n",
       "0   golf     150000                  0    petrol  volkswagen         NaN   \n",
       "1    NaN     125000                  5  gasoline        audi         yes   \n",
       "2  grand     125000                  8  gasoline        jeep         NaN   \n",
       "3   golf     150000                  6    petrol  volkswagen          no   \n",
       "4  fabia      90000                  7  gasoline       skoda          no   \n",
       "\n",
       "           DateCreated  NumberOfPictures  PostalCode             LastSeen  \n",
       "0  2016-03-24 00:00:00                 0       70435  2016-04-07 03:16:57  \n",
       "1  2016-03-24 00:00:00                 0       66954  2016-04-07 01:46:50  \n",
       "2  2016-03-14 00:00:00                 0       90480  2016-04-05 12:47:46  \n",
       "3  2016-03-17 00:00:00                 0       91074  2016-03-17 17:40:17  \n",
       "4  2016-03-31 00:00:00                 0       60437  2016-04-06 10:17:21  "
      ]
     },
     "execution_count": 5,
     "metadata": {},
     "output_type": "execute_result"
    }
   ],
   "source": [
    "data.info()\n",
    "data.head()"
   ]
  },
  {
   "cell_type": "markdown",
   "id": "f04753d2",
   "metadata": {},
   "source": [
    "Исходные данные насчитывают почти 355 тыс. наблюдений по 16 основным характеристикам. Тип характеристик разделен примерно пополам - `object` и `int`. В данных присутствуют наблюдения с пропущенными значениями. Перед этапом моделирования необходимо будет выявить и обработать пропуски с целью сохранения наибольшего объема данных для обучения. \n",
    "\n",
    "Большинство переменных с типом `object` будет необходимо перекодировать в классические категориальные переменные, чтобы с ними могли работать модели. \n",
    "\n",
    "Также часть переменных будут удалена вследствие их неинформативности. К таким переменным относятся `DateCrawled`, `DateCreated`, `PostalCode` и `LastSeen`. Однако перед удалением необходимо будет создать переменную, отвечающую за срок использования автомобиля до продажи. Переменную, отвечающую за тип модели машины также было решено удалить. \n",
    "\n",
    "Отдельно отметим необходимость проанализировать данные на потенциальные аномалии - пускай их не было видно при первичном анализе, не стоит исключать возможность их наличия."
   ]
  },
  {
   "cell_type": "markdown",
   "id": "16b72319",
   "metadata": {},
   "source": [
    "## Предобработка данных"
   ]
  },
  {
   "cell_type": "markdown",
   "id": "44256e64",
   "metadata": {},
   "source": [
    "Перейдем к этапу предобработки. На данном этапе нам будет необходимо выявить и устранить пропуски, проверить данные на наличие аномалий и в случае чего устранить их, преобразовать часть переменных и, наконец, удалить неинформативные признаки."
   ]
  },
  {
   "cell_type": "markdown",
   "id": "c6454066",
   "metadata": {},
   "source": [
    "### Выявление и устранение аномалий"
   ]
  },
  {
   "cell_type": "markdown",
   "id": "09fdc56c",
   "metadata": {},
   "source": [
    "Перейдем к следующему этапу предобработки - анализом данных на аномалии. Пускай первичный анализ не подтвердил их наличие, нами было принято решения провести более тщательный анализ - поскольку судить о почти 355 тыс. наблюдений по 5 первым строкам не совсем корректно."
   ]
  },
  {
   "cell_type": "markdown",
   "id": "4683c7b0",
   "metadata": {},
   "source": [
    "Начнем с анализа переменных категориального типа. Выведем уникальные значения каждой из них и проверим, что нигде не присутствуют странные или нетипичные категории."
   ]
  },
  {
   "cell_type": "code",
   "execution_count": 6,
   "id": "0e04027c",
   "metadata": {},
   "outputs": [
    {
     "data": {
      "text/plain": [
       "array([nan, 'coupe', 'suv', 'small', 'sedan', 'convertible', 'bus',\n",
       "       'wagon', 'other'], dtype=object)"
      ]
     },
     "metadata": {},
     "output_type": "display_data"
    },
    {
     "data": {
      "text/plain": [
       "array(['manual', 'auto', nan], dtype=object)"
      ]
     },
     "metadata": {},
     "output_type": "display_data"
    },
    {
     "data": {
      "text/plain": [
       "array(['petrol', 'gasoline', nan, 'lpg', 'other', 'hybrid', 'cng',\n",
       "       'electric'], dtype=object)"
      ]
     },
     "metadata": {},
     "output_type": "display_data"
    },
    {
     "data": {
      "text/plain": [
       "array(['volkswagen', 'audi', 'jeep', 'skoda', 'bmw', 'peugeot', 'ford',\n",
       "       'mazda', 'nissan', 'renault', 'mercedes_benz', 'opel', 'seat',\n",
       "       'citroen', 'honda', 'fiat', 'mini', 'smart', 'hyundai',\n",
       "       'sonstige_autos', 'alfa_romeo', 'subaru', 'volvo', 'mitsubishi',\n",
       "       'kia', 'suzuki', 'lancia', 'toyota', 'chevrolet', 'dacia',\n",
       "       'daihatsu', 'trabant', 'saab', 'chrysler', 'jaguar', 'daewoo',\n",
       "       'porsche', 'rover', 'land_rover', 'lada'], dtype=object)"
      ]
     },
     "metadata": {},
     "output_type": "display_data"
    },
    {
     "data": {
      "text/plain": [
       "array([nan, 'yes', 'no'], dtype=object)"
      ]
     },
     "metadata": {},
     "output_type": "display_data"
    }
   ],
   "source": [
    "for name in ['VehicleType', 'Gearbox', 'FuelType', 'Brand', 'NotRepaired']:\n",
    "    display(data[name].unique())"
   ]
  },
  {
   "cell_type": "markdown",
   "id": "ee53646b",
   "metadata": {},
   "source": [
    "Как можно заметить, существенные аномалии в категориях отсутствуют."
   ]
  },
  {
   "cell_type": "markdown",
   "id": "a055077e",
   "metadata": {},
   "source": [
    "Перейдем к рассмотрению числовых характеристик."
   ]
  },
  {
   "cell_type": "markdown",
   "id": "7d2c5dd0",
   "metadata": {},
   "source": [
    "Для проверки данных на аномалии выведем дескриптивную статистику численных характеристик."
   ]
  },
  {
   "cell_type": "code",
   "execution_count": 7,
   "id": "512515c2",
   "metadata": {},
   "outputs": [
    {
     "data": {
      "text/html": [
       "<div>\n",
       "<style scoped>\n",
       "    .dataframe tbody tr th:only-of-type {\n",
       "        vertical-align: middle;\n",
       "    }\n",
       "\n",
       "    .dataframe tbody tr th {\n",
       "        vertical-align: top;\n",
       "    }\n",
       "\n",
       "    .dataframe thead th {\n",
       "        text-align: right;\n",
       "    }\n",
       "</style>\n",
       "<table border=\"1\" class=\"dataframe\">\n",
       "  <thead>\n",
       "    <tr style=\"text-align: right;\">\n",
       "      <th></th>\n",
       "      <th>RegistrationYear</th>\n",
       "      <th>Power</th>\n",
       "      <th>Kilometer</th>\n",
       "      <th>RegistrationMonth</th>\n",
       "    </tr>\n",
       "  </thead>\n",
       "  <tbody>\n",
       "    <tr>\n",
       "      <th>count</th>\n",
       "      <td>354369.000000</td>\n",
       "      <td>354369.000000</td>\n",
       "      <td>354369.000000</td>\n",
       "      <td>354369.000000</td>\n",
       "    </tr>\n",
       "    <tr>\n",
       "      <th>mean</th>\n",
       "      <td>2004.234448</td>\n",
       "      <td>110.094337</td>\n",
       "      <td>128211.172535</td>\n",
       "      <td>5.714645</td>\n",
       "    </tr>\n",
       "    <tr>\n",
       "      <th>std</th>\n",
       "      <td>90.227958</td>\n",
       "      <td>189.850405</td>\n",
       "      <td>37905.341530</td>\n",
       "      <td>3.726421</td>\n",
       "    </tr>\n",
       "    <tr>\n",
       "      <th>min</th>\n",
       "      <td>1000.000000</td>\n",
       "      <td>0.000000</td>\n",
       "      <td>5000.000000</td>\n",
       "      <td>0.000000</td>\n",
       "    </tr>\n",
       "    <tr>\n",
       "      <th>25%</th>\n",
       "      <td>1999.000000</td>\n",
       "      <td>69.000000</td>\n",
       "      <td>125000.000000</td>\n",
       "      <td>3.000000</td>\n",
       "    </tr>\n",
       "    <tr>\n",
       "      <th>50%</th>\n",
       "      <td>2003.000000</td>\n",
       "      <td>105.000000</td>\n",
       "      <td>150000.000000</td>\n",
       "      <td>6.000000</td>\n",
       "    </tr>\n",
       "    <tr>\n",
       "      <th>75%</th>\n",
       "      <td>2008.000000</td>\n",
       "      <td>143.000000</td>\n",
       "      <td>150000.000000</td>\n",
       "      <td>9.000000</td>\n",
       "    </tr>\n",
       "    <tr>\n",
       "      <th>max</th>\n",
       "      <td>9999.000000</td>\n",
       "      <td>20000.000000</td>\n",
       "      <td>150000.000000</td>\n",
       "      <td>12.000000</td>\n",
       "    </tr>\n",
       "  </tbody>\n",
       "</table>\n",
       "</div>"
      ],
      "text/plain": [
       "       RegistrationYear          Power      Kilometer  RegistrationMonth\n",
       "count     354369.000000  354369.000000  354369.000000      354369.000000\n",
       "mean        2004.234448     110.094337  128211.172535           5.714645\n",
       "std           90.227958     189.850405   37905.341530           3.726421\n",
       "min         1000.000000       0.000000    5000.000000           0.000000\n",
       "25%         1999.000000      69.000000  125000.000000           3.000000\n",
       "50%         2003.000000     105.000000  150000.000000           6.000000\n",
       "75%         2008.000000     143.000000  150000.000000           9.000000\n",
       "max         9999.000000   20000.000000  150000.000000          12.000000"
      ]
     },
     "execution_count": 7,
     "metadata": {},
     "output_type": "execute_result"
    }
   ],
   "source": [
    "data[['RegistrationYear', 'Power', 'Kilometer', 'RegistrationMonth']].describe()"
   ]
  },
  {
   "cell_type": "markdown",
   "id": "1101ff14",
   "metadata": {},
   "source": [
    "Итак, что можно заметить по полученной информации.\n",
    "\n",
    "Прежде всего, обнаружены аномальные значения у переменной `RegistrationYear` - недопустимые значения минимума и максимума.\n",
    "\n",
    "Аномальные значения присутствуют также и у переменной, отвечающей за мощность - также недопустимый максимум и минимум (на текущий момент мощность двигателя самого быстрого автомобиля лишь слегка превышает 2 000 л.с.). \n",
    "\n",
    "Относительно остальных переменных можно сделать вывод о том, что аномалий в них не обнаружено. Однако отдельно отметим тот факт, что `RegistrationMonth` принимает нулевые значения - мы склонны полагать, что это своего рода заглушка для тех случаев, когда месяц регистрации не был указан."
   ]
  },
  {
   "cell_type": "markdown",
   "id": "ddaf3cc7",
   "metadata": {},
   "source": [
    "Перейдем к обработке аномалий. Начнем с переменной `RegistrationYear`. Для начала рассмотрим те наблюдения, у которых регистрация была совершена неестественно рано."
   ]
  },
  {
   "cell_type": "code",
   "execution_count": 8,
   "id": "1f055323",
   "metadata": {
    "scrolled": true
   },
   "outputs": [
    {
     "data": {
      "text/plain": [
       "(246, 16)"
      ]
     },
     "execution_count": 8,
     "metadata": {},
     "output_type": "execute_result"
    }
   ],
   "source": [
    "data[(data['RegistrationYear'] < 1950)].shape"
   ]
  },
  {
   "cell_type": "markdown",
   "id": "e8866cae",
   "metadata": {},
   "source": [
    "Наблюдений достаточно много для индивидуальной обработки, к тому же довольно сложно определить, какой год мог бы быть уместным для замены. На основании этого нами было принято решение удалить такие наблюдения."
   ]
  },
  {
   "cell_type": "code",
   "execution_count": 9,
   "id": "167f72b5",
   "metadata": {},
   "outputs": [],
   "source": [
    "data = data.drop(labels = data[(data['RegistrationYear'] < 1950)].index)"
   ]
  },
  {
   "cell_type": "code",
   "execution_count": 10,
   "id": "c781a8e9",
   "metadata": {},
   "outputs": [
    {
     "data": {
      "text/html": [
       "<div>\n",
       "<style scoped>\n",
       "    .dataframe tbody tr th:only-of-type {\n",
       "        vertical-align: middle;\n",
       "    }\n",
       "\n",
       "    .dataframe tbody tr th {\n",
       "        vertical-align: top;\n",
       "    }\n",
       "\n",
       "    .dataframe thead th {\n",
       "        text-align: right;\n",
       "    }\n",
       "</style>\n",
       "<table border=\"1\" class=\"dataframe\">\n",
       "  <thead>\n",
       "    <tr style=\"text-align: right;\">\n",
       "      <th></th>\n",
       "      <th>DateCrawled</th>\n",
       "      <th>Price</th>\n",
       "      <th>VehicleType</th>\n",
       "      <th>RegistrationYear</th>\n",
       "      <th>Gearbox</th>\n",
       "      <th>Power</th>\n",
       "      <th>Model</th>\n",
       "      <th>Kilometer</th>\n",
       "      <th>RegistrationMonth</th>\n",
       "      <th>FuelType</th>\n",
       "      <th>Brand</th>\n",
       "      <th>NotRepaired</th>\n",
       "      <th>DateCreated</th>\n",
       "      <th>NumberOfPictures</th>\n",
       "      <th>PostalCode</th>\n",
       "      <th>LastSeen</th>\n",
       "    </tr>\n",
       "  </thead>\n",
       "  <tbody>\n",
       "  </tbody>\n",
       "</table>\n",
       "</div>"
      ],
      "text/plain": [
       "Empty DataFrame\n",
       "Columns: [DateCrawled, Price, VehicleType, RegistrationYear, Gearbox, Power, Model, Kilometer, RegistrationMonth, FuelType, Brand, NotRepaired, DateCreated, NumberOfPictures, PostalCode, LastSeen]\n",
       "Index: []"
      ]
     },
     "execution_count": 10,
     "metadata": {},
     "output_type": "execute_result"
    }
   ],
   "source": [
    "data[(data['RegistrationYear'] < 1940)]"
   ]
  },
  {
   "cell_type": "markdown",
   "id": "959cab64",
   "metadata": {},
   "source": [
    "Как можно заметить, удаление прошло успешно.\n",
    "\n",
    "Перейдем к следующей группе дат. Поскольку дата скачивания максимально датируется 2016 годом, рассмотрим все те наблюдения, которые имеют более поздний год."
   ]
  },
  {
   "cell_type": "code",
   "execution_count": 11,
   "id": "9f4ce28d",
   "metadata": {},
   "outputs": [
    {
     "data": {
      "text/plain": [
       "2016"
      ]
     },
     "execution_count": 11,
     "metadata": {},
     "output_type": "execute_result"
    }
   ],
   "source": [
    "data['DateCrawled'] = pd.to_datetime(data['DateCrawled'], format = '%Y-%m-%d')\n",
    "data['DateCrawled'].dt.year.max()\n",
    "# вывод максимального года скачивания анкеты"
   ]
  },
  {
   "cell_type": "code",
   "execution_count": 12,
   "id": "f6e30beb",
   "metadata": {
    "scrolled": true
   },
   "outputs": [
    {
     "data": {
      "text/html": [
       "<div>\n",
       "<style scoped>\n",
       "    .dataframe tbody tr th:only-of-type {\n",
       "        vertical-align: middle;\n",
       "    }\n",
       "\n",
       "    .dataframe tbody tr th {\n",
       "        vertical-align: top;\n",
       "    }\n",
       "\n",
       "    .dataframe thead th {\n",
       "        text-align: right;\n",
       "    }\n",
       "</style>\n",
       "<table border=\"1\" class=\"dataframe\">\n",
       "  <thead>\n",
       "    <tr style=\"text-align: right;\">\n",
       "      <th></th>\n",
       "      <th>DateCrawled</th>\n",
       "      <th>Price</th>\n",
       "      <th>VehicleType</th>\n",
       "      <th>RegistrationYear</th>\n",
       "      <th>Gearbox</th>\n",
       "      <th>Power</th>\n",
       "      <th>Model</th>\n",
       "      <th>Kilometer</th>\n",
       "      <th>RegistrationMonth</th>\n",
       "      <th>FuelType</th>\n",
       "      <th>Brand</th>\n",
       "      <th>NotRepaired</th>\n",
       "      <th>DateCreated</th>\n",
       "      <th>NumberOfPictures</th>\n",
       "      <th>PostalCode</th>\n",
       "      <th>LastSeen</th>\n",
       "    </tr>\n",
       "  </thead>\n",
       "  <tbody>\n",
       "    <tr>\n",
       "      <th>22</th>\n",
       "      <td>2016-03-23 14:52:51</td>\n",
       "      <td>2900</td>\n",
       "      <td>NaN</td>\n",
       "      <td>2018</td>\n",
       "      <td>manual</td>\n",
       "      <td>90</td>\n",
       "      <td>meriva</td>\n",
       "      <td>150000</td>\n",
       "      <td>5</td>\n",
       "      <td>petrol</td>\n",
       "      <td>opel</td>\n",
       "      <td>no</td>\n",
       "      <td>2016-03-23 00:00:00</td>\n",
       "      <td>0</td>\n",
       "      <td>49716</td>\n",
       "      <td>2016-03-31 01:16:33</td>\n",
       "    </tr>\n",
       "    <tr>\n",
       "      <th>26</th>\n",
       "      <td>2016-03-10 19:38:18</td>\n",
       "      <td>5555</td>\n",
       "      <td>NaN</td>\n",
       "      <td>2017</td>\n",
       "      <td>manual</td>\n",
       "      <td>125</td>\n",
       "      <td>c4</td>\n",
       "      <td>125000</td>\n",
       "      <td>4</td>\n",
       "      <td>NaN</td>\n",
       "      <td>citroen</td>\n",
       "      <td>no</td>\n",
       "      <td>2016-03-10 00:00:00</td>\n",
       "      <td>0</td>\n",
       "      <td>31139</td>\n",
       "      <td>2016-03-16 09:16:46</td>\n",
       "    </tr>\n",
       "    <tr>\n",
       "      <th>48</th>\n",
       "      <td>2016-03-25 14:40:12</td>\n",
       "      <td>7750</td>\n",
       "      <td>NaN</td>\n",
       "      <td>2017</td>\n",
       "      <td>manual</td>\n",
       "      <td>80</td>\n",
       "      <td>golf</td>\n",
       "      <td>100000</td>\n",
       "      <td>1</td>\n",
       "      <td>petrol</td>\n",
       "      <td>volkswagen</td>\n",
       "      <td>NaN</td>\n",
       "      <td>2016-03-25 00:00:00</td>\n",
       "      <td>0</td>\n",
       "      <td>48499</td>\n",
       "      <td>2016-03-31 21:47:44</td>\n",
       "    </tr>\n",
       "    <tr>\n",
       "      <th>51</th>\n",
       "      <td>2016-03-07 18:57:08</td>\n",
       "      <td>2000</td>\n",
       "      <td>NaN</td>\n",
       "      <td>2017</td>\n",
       "      <td>manual</td>\n",
       "      <td>90</td>\n",
       "      <td>punto</td>\n",
       "      <td>150000</td>\n",
       "      <td>11</td>\n",
       "      <td>gasoline</td>\n",
       "      <td>fiat</td>\n",
       "      <td>yes</td>\n",
       "      <td>2016-03-07 00:00:00</td>\n",
       "      <td>0</td>\n",
       "      <td>66115</td>\n",
       "      <td>2016-03-07 18:57:08</td>\n",
       "    </tr>\n",
       "    <tr>\n",
       "      <th>57</th>\n",
       "      <td>2016-03-10 20:53:19</td>\n",
       "      <td>2399</td>\n",
       "      <td>NaN</td>\n",
       "      <td>2018</td>\n",
       "      <td>manual</td>\n",
       "      <td>64</td>\n",
       "      <td>other</td>\n",
       "      <td>125000</td>\n",
       "      <td>3</td>\n",
       "      <td>NaN</td>\n",
       "      <td>seat</td>\n",
       "      <td>no</td>\n",
       "      <td>2016-03-10 00:00:00</td>\n",
       "      <td>0</td>\n",
       "      <td>33397</td>\n",
       "      <td>2016-03-25 10:17:37</td>\n",
       "    </tr>\n",
       "  </tbody>\n",
       "</table>\n",
       "</div>"
      ],
      "text/plain": [
       "           DateCrawled  Price VehicleType  RegistrationYear Gearbox  Power  \\\n",
       "22 2016-03-23 14:52:51   2900         NaN              2018  manual     90   \n",
       "26 2016-03-10 19:38:18   5555         NaN              2017  manual    125   \n",
       "48 2016-03-25 14:40:12   7750         NaN              2017  manual     80   \n",
       "51 2016-03-07 18:57:08   2000         NaN              2017  manual     90   \n",
       "57 2016-03-10 20:53:19   2399         NaN              2018  manual     64   \n",
       "\n",
       "     Model  Kilometer  RegistrationMonth  FuelType       Brand NotRepaired  \\\n",
       "22  meriva     150000                  5    petrol        opel          no   \n",
       "26      c4     125000                  4       NaN     citroen          no   \n",
       "48    golf     100000                  1    petrol  volkswagen         NaN   \n",
       "51   punto     150000                 11  gasoline        fiat         yes   \n",
       "57   other     125000                  3       NaN        seat          no   \n",
       "\n",
       "            DateCreated  NumberOfPictures  PostalCode             LastSeen  \n",
       "22  2016-03-23 00:00:00                 0       49716  2016-03-31 01:16:33  \n",
       "26  2016-03-10 00:00:00                 0       31139  2016-03-16 09:16:46  \n",
       "48  2016-03-25 00:00:00                 0       48499  2016-03-31 21:47:44  \n",
       "51  2016-03-07 00:00:00                 0       66115  2016-03-07 18:57:08  \n",
       "57  2016-03-10 00:00:00                 0       33397  2016-03-25 10:17:37  "
      ]
     },
     "execution_count": 12,
     "metadata": {},
     "output_type": "execute_result"
    }
   ],
   "source": [
    "data[(data['RegistrationYear'] > 2016)].head()"
   ]
  },
  {
   "cell_type": "markdown",
   "id": "618235e6",
   "metadata": {},
   "source": [
    "Предположим, что все те наблюдения, у которых год регистрации указан до 2020, имеют опечатку - на самом деле год должен быть на 10 лет меньше. Исходя из этого предположения, обработаем часть аномалий."
   ]
  },
  {
   "cell_type": "code",
   "execution_count": 13,
   "id": "c3078591",
   "metadata": {},
   "outputs": [],
   "source": [
    "data.loc[(data['RegistrationYear']>2016)&(data['RegistrationYear']<2020), \n",
    "         'RegistrationYear'] = data['RegistrationYear'] - 10"
   ]
  },
  {
   "cell_type": "markdown",
   "id": "93cd556f",
   "metadata": {},
   "source": [
    "Рассмотрим оставшиеся аномалии."
   ]
  },
  {
   "cell_type": "code",
   "execution_count": 14,
   "id": "a21668d0",
   "metadata": {
    "scrolled": true
   },
   "outputs": [
    {
     "data": {
      "text/html": [
       "<div>\n",
       "<style scoped>\n",
       "    .dataframe tbody tr th:only-of-type {\n",
       "        vertical-align: middle;\n",
       "    }\n",
       "\n",
       "    .dataframe tbody tr th {\n",
       "        vertical-align: top;\n",
       "    }\n",
       "\n",
       "    .dataframe thead th {\n",
       "        text-align: right;\n",
       "    }\n",
       "</style>\n",
       "<table border=\"1\" class=\"dataframe\">\n",
       "  <thead>\n",
       "    <tr style=\"text-align: right;\">\n",
       "      <th></th>\n",
       "      <th>DateCrawled</th>\n",
       "      <th>Price</th>\n",
       "      <th>VehicleType</th>\n",
       "      <th>RegistrationYear</th>\n",
       "      <th>Gearbox</th>\n",
       "      <th>Power</th>\n",
       "      <th>Model</th>\n",
       "      <th>Kilometer</th>\n",
       "      <th>RegistrationMonth</th>\n",
       "      <th>FuelType</th>\n",
       "      <th>Brand</th>\n",
       "      <th>NotRepaired</th>\n",
       "      <th>DateCreated</th>\n",
       "      <th>NumberOfPictures</th>\n",
       "      <th>PostalCode</th>\n",
       "      <th>LastSeen</th>\n",
       "    </tr>\n",
       "  </thead>\n",
       "  <tbody>\n",
       "    <tr>\n",
       "      <th>12946</th>\n",
       "      <td>2016-03-29 18:39:40</td>\n",
       "      <td>49</td>\n",
       "      <td>NaN</td>\n",
       "      <td>5000</td>\n",
       "      <td>NaN</td>\n",
       "      <td>0</td>\n",
       "      <td>golf</td>\n",
       "      <td>5000</td>\n",
       "      <td>12</td>\n",
       "      <td>NaN</td>\n",
       "      <td>volkswagen</td>\n",
       "      <td>NaN</td>\n",
       "      <td>2016-03-29 00:00:00</td>\n",
       "      <td>0</td>\n",
       "      <td>74523</td>\n",
       "      <td>2016-04-06 04:16:14</td>\n",
       "    </tr>\n",
       "    <tr>\n",
       "      <th>15147</th>\n",
       "      <td>2016-03-14 00:52:02</td>\n",
       "      <td>0</td>\n",
       "      <td>NaN</td>\n",
       "      <td>9999</td>\n",
       "      <td>NaN</td>\n",
       "      <td>0</td>\n",
       "      <td>NaN</td>\n",
       "      <td>10000</td>\n",
       "      <td>0</td>\n",
       "      <td>NaN</td>\n",
       "      <td>sonstige_autos</td>\n",
       "      <td>NaN</td>\n",
       "      <td>2016-03-13 00:00:00</td>\n",
       "      <td>0</td>\n",
       "      <td>32689</td>\n",
       "      <td>2016-03-21 23:46:46</td>\n",
       "    </tr>\n",
       "    <tr>\n",
       "      <th>15870</th>\n",
       "      <td>2016-04-02 11:55:48</td>\n",
       "      <td>1700</td>\n",
       "      <td>NaN</td>\n",
       "      <td>3200</td>\n",
       "      <td>NaN</td>\n",
       "      <td>0</td>\n",
       "      <td>NaN</td>\n",
       "      <td>5000</td>\n",
       "      <td>0</td>\n",
       "      <td>NaN</td>\n",
       "      <td>sonstige_autos</td>\n",
       "      <td>NaN</td>\n",
       "      <td>2016-04-02 00:00:00</td>\n",
       "      <td>0</td>\n",
       "      <td>33649</td>\n",
       "      <td>2016-04-06 09:46:13</td>\n",
       "    </tr>\n",
       "    <tr>\n",
       "      <th>17271</th>\n",
       "      <td>2016-03-23 16:43:29</td>\n",
       "      <td>700</td>\n",
       "      <td>NaN</td>\n",
       "      <td>9999</td>\n",
       "      <td>NaN</td>\n",
       "      <td>0</td>\n",
       "      <td>other</td>\n",
       "      <td>10000</td>\n",
       "      <td>0</td>\n",
       "      <td>NaN</td>\n",
       "      <td>opel</td>\n",
       "      <td>NaN</td>\n",
       "      <td>2016-03-23 00:00:00</td>\n",
       "      <td>0</td>\n",
       "      <td>21769</td>\n",
       "      <td>2016-04-05 20:16:15</td>\n",
       "    </tr>\n",
       "    <tr>\n",
       "      <th>17346</th>\n",
       "      <td>2016-03-06 16:06:20</td>\n",
       "      <td>6500</td>\n",
       "      <td>NaN</td>\n",
       "      <td>8888</td>\n",
       "      <td>NaN</td>\n",
       "      <td>0</td>\n",
       "      <td>NaN</td>\n",
       "      <td>10000</td>\n",
       "      <td>0</td>\n",
       "      <td>NaN</td>\n",
       "      <td>sonstige_autos</td>\n",
       "      <td>NaN</td>\n",
       "      <td>2016-03-06 00:00:00</td>\n",
       "      <td>0</td>\n",
       "      <td>55262</td>\n",
       "      <td>2016-03-30 20:46:55</td>\n",
       "    </tr>\n",
       "  </tbody>\n",
       "</table>\n",
       "</div>"
      ],
      "text/plain": [
       "              DateCrawled  Price VehicleType  RegistrationYear Gearbox  Power  \\\n",
       "12946 2016-03-29 18:39:40     49         NaN              5000     NaN      0   \n",
       "15147 2016-03-14 00:52:02      0         NaN              9999     NaN      0   \n",
       "15870 2016-04-02 11:55:48   1700         NaN              3200     NaN      0   \n",
       "17271 2016-03-23 16:43:29    700         NaN              9999     NaN      0   \n",
       "17346 2016-03-06 16:06:20   6500         NaN              8888     NaN      0   \n",
       "\n",
       "       Model  Kilometer  RegistrationMonth FuelType           Brand  \\\n",
       "12946   golf       5000                 12      NaN      volkswagen   \n",
       "15147    NaN      10000                  0      NaN  sonstige_autos   \n",
       "15870    NaN       5000                  0      NaN  sonstige_autos   \n",
       "17271  other      10000                  0      NaN            opel   \n",
       "17346    NaN      10000                  0      NaN  sonstige_autos   \n",
       "\n",
       "      NotRepaired          DateCreated  NumberOfPictures  PostalCode  \\\n",
       "12946         NaN  2016-03-29 00:00:00                 0       74523   \n",
       "15147         NaN  2016-03-13 00:00:00                 0       32689   \n",
       "15870         NaN  2016-04-02 00:00:00                 0       33649   \n",
       "17271         NaN  2016-03-23 00:00:00                 0       21769   \n",
       "17346         NaN  2016-03-06 00:00:00                 0       55262   \n",
       "\n",
       "                  LastSeen  \n",
       "12946  2016-04-06 04:16:14  \n",
       "15147  2016-03-21 23:46:46  \n",
       "15870  2016-04-06 09:46:13  \n",
       "17271  2016-04-05 20:16:15  \n",
       "17346  2016-03-30 20:46:55  "
      ]
     },
     "execution_count": 14,
     "metadata": {},
     "output_type": "execute_result"
    }
   ],
   "source": [
    "data[(data['RegistrationYear'] > 2019)].head()"
   ]
  },
  {
   "cell_type": "markdown",
   "id": "0f4c6809",
   "metadata": {},
   "source": [
    "Слишком много наблюдений для индивидуального заполнения, к тому же слишком много частных случаев для общего заполнения. Нами принято решения удалить данные наблюдения."
   ]
  },
  {
   "cell_type": "code",
   "execution_count": 16,
   "id": "f24c07db",
   "metadata": {},
   "outputs": [],
   "source": [
    "data = data.drop(labels = data[(data['RegistrationYear'] > 2019)].index)"
   ]
  },
  {
   "cell_type": "markdown",
   "id": "ec7e0f54",
   "metadata": {},
   "source": [
    "Перейдем к обработке следующей переменной `Power`. Официально существующий максимум мощности - 2028 л.с. Мы склонны полагать, что все значения мощности превышающие 1000 л.с. - опечатка или ошибка. \n",
    "\n",
    "Предположим, что к ним было случайно добавлено лишнее число - тогда возьмем остаток от деления на 10. Отдельно рассмотрим мощности от 4000 л.с. и выше. У них, вероятнее всего, было два лишних символа - будет браться остаток от деления на 100."
   ]
  },
  {
   "cell_type": "code",
   "execution_count": 17,
   "id": "9ae29fb8",
   "metadata": {},
   "outputs": [],
   "source": [
    "data.loc[data['Power'] >=4000, 'Power'] = data['Power'] // 100\n",
    "data.loc[data['Power'] >=1000, 'Power'] = data['Power'] // 10"
   ]
  },
  {
   "cell_type": "markdown",
   "id": "8b616927",
   "metadata": {},
   "source": [
    "Также имеются аномалии относительно слишком маленьких мощностей. За порог возьмем мощность в 10 л.с. Попробуем заполнить аномальные мощности медианными значениями относительно бренда автомобиля."
   ]
  },
  {
   "cell_type": "code",
   "execution_count": 18,
   "id": "7af2affd",
   "metadata": {
    "scrolled": true
   },
   "outputs": [
    {
     "data": {
      "text/html": [
       "<div>\n",
       "<style scoped>\n",
       "    .dataframe tbody tr th:only-of-type {\n",
       "        vertical-align: middle;\n",
       "    }\n",
       "\n",
       "    .dataframe tbody tr th {\n",
       "        vertical-align: top;\n",
       "    }\n",
       "\n",
       "    .dataframe thead th {\n",
       "        text-align: right;\n",
       "    }\n",
       "</style>\n",
       "<table border=\"1\" class=\"dataframe\">\n",
       "  <thead>\n",
       "    <tr style=\"text-align: right;\">\n",
       "      <th></th>\n",
       "      <th>Brand</th>\n",
       "      <th>Power</th>\n",
       "    </tr>\n",
       "  </thead>\n",
       "  <tbody>\n",
       "    <tr>\n",
       "      <th>0</th>\n",
       "      <td>alfa_romeo</td>\n",
       "      <td>140.0</td>\n",
       "    </tr>\n",
       "    <tr>\n",
       "      <th>1</th>\n",
       "      <td>audi</td>\n",
       "      <td>143.0</td>\n",
       "    </tr>\n",
       "    <tr>\n",
       "      <th>2</th>\n",
       "      <td>bmw</td>\n",
       "      <td>150.0</td>\n",
       "    </tr>\n",
       "    <tr>\n",
       "      <th>3</th>\n",
       "      <td>chevrolet</td>\n",
       "      <td>110.0</td>\n",
       "    </tr>\n",
       "    <tr>\n",
       "      <th>4</th>\n",
       "      <td>chrysler</td>\n",
       "      <td>143.0</td>\n",
       "    </tr>\n",
       "  </tbody>\n",
       "</table>\n",
       "</div>"
      ],
      "text/plain": [
       "        Brand  Power\n",
       "0  alfa_romeo  140.0\n",
       "1        audi  143.0\n",
       "2         bmw  150.0\n",
       "3   chevrolet  110.0\n",
       "4    chrysler  143.0"
      ]
     },
     "execution_count": 18,
     "metadata": {},
     "output_type": "execute_result"
    }
   ],
   "source": [
    "brand_power_pivot = data.pivot_table(index='Brand', \n",
    "                                     values='Power', aggfunc = 'median').reset_index()\n",
    "\n",
    "brand_power_pivot.head()"
   ]
  },
  {
   "cell_type": "markdown",
   "id": "5c606b0b",
   "metadata": {},
   "source": [
    "Как можно заметить, слишком странных или аномальных медианных значений нет - можем использовать для заполнения. "
   ]
  },
  {
   "cell_type": "code",
   "execution_count": 19,
   "id": "a6f0324b",
   "metadata": {},
   "outputs": [],
   "source": [
    "def power_anomaly(row):\n",
    "    power = row['Power']\n",
    "    brand = row['Brand']\n",
    "    if power <= 10:\n",
    "        for i in range(len(brand_power_pivot)):\n",
    "            if brand_power_pivot['Brand'][i] == brand:\n",
    "                return brand_power_pivot['Power'][i]\n",
    "    else: return power"
   ]
  },
  {
   "cell_type": "code",
   "execution_count": 20,
   "id": "8d65c4cb",
   "metadata": {},
   "outputs": [],
   "source": [
    "data['Power'] = data.apply(power_anomaly, axis = 1)"
   ]
  },
  {
   "cell_type": "code",
   "execution_count": 21,
   "id": "f582f1b8",
   "metadata": {},
   "outputs": [
    {
     "data": {
      "text/html": [
       "<div>\n",
       "<style scoped>\n",
       "    .dataframe tbody tr th:only-of-type {\n",
       "        vertical-align: middle;\n",
       "    }\n",
       "\n",
       "    .dataframe tbody tr th {\n",
       "        vertical-align: top;\n",
       "    }\n",
       "\n",
       "    .dataframe thead th {\n",
       "        text-align: right;\n",
       "    }\n",
       "</style>\n",
       "<table border=\"1\" class=\"dataframe\">\n",
       "  <thead>\n",
       "    <tr style=\"text-align: right;\">\n",
       "      <th></th>\n",
       "      <th>DateCrawled</th>\n",
       "      <th>Price</th>\n",
       "      <th>VehicleType</th>\n",
       "      <th>RegistrationYear</th>\n",
       "      <th>Gearbox</th>\n",
       "      <th>Power</th>\n",
       "      <th>Model</th>\n",
       "      <th>Kilometer</th>\n",
       "      <th>RegistrationMonth</th>\n",
       "      <th>FuelType</th>\n",
       "      <th>Brand</th>\n",
       "      <th>NotRepaired</th>\n",
       "      <th>DateCreated</th>\n",
       "      <th>NumberOfPictures</th>\n",
       "      <th>PostalCode</th>\n",
       "      <th>LastSeen</th>\n",
       "    </tr>\n",
       "  </thead>\n",
       "  <tbody>\n",
       "  </tbody>\n",
       "</table>\n",
       "</div>"
      ],
      "text/plain": [
       "Empty DataFrame\n",
       "Columns: [DateCrawled, Price, VehicleType, RegistrationYear, Gearbox, Power, Model, Kilometer, RegistrationMonth, FuelType, Brand, NotRepaired, DateCreated, NumberOfPictures, PostalCode, LastSeen]\n",
       "Index: []"
      ]
     },
     "execution_count": 21,
     "metadata": {},
     "output_type": "execute_result"
    }
   ],
   "source": [
    "data[data['Power'] <= 10]"
   ]
  },
  {
   "cell_type": "markdown",
   "id": "e0e794cf",
   "metadata": {},
   "source": [
    "Итак, нам удалось устранить выявленные аномалии. Переходим к следующему этапу работы. "
   ]
  },
  {
   "cell_type": "markdown",
   "id": "ae6bd161",
   "metadata": {},
   "source": [
    "### Выявление и заполнение пропусков"
   ]
  },
  {
   "cell_type": "markdown",
   "id": "7b37a644",
   "metadata": {},
   "source": [
    "Начнем с работы над пропусками. Выведем долю наблюдений с пропущенными значениями в каждом из столбцов."
   ]
  },
  {
   "cell_type": "code",
   "execution_count": 22,
   "id": "3582ed34",
   "metadata": {},
   "outputs": [
    {
     "name": "stdout",
     "output_type": "stream",
     "text": [
      "Доля пропусков в столбце DateCrawled: 0.000\n",
      "Доля пропусков в столбце Price: 0.000\n",
      "Доля пропусков в столбце VehicleType: 0.105\n",
      "Доля пропусков в столбце RegistrationYear: 0.000\n",
      "Доля пропусков в столбце Gearbox: 0.055\n",
      "Доля пропусков в столбце Power: 0.000\n",
      "Доля пропусков в столбце Model: 0.055\n",
      "Доля пропусков в столбце Kilometer: 0.000\n",
      "Доля пропусков в столбце RegistrationMonth: 0.000\n",
      "Доля пропусков в столбце FuelType: 0.092\n",
      "Доля пропусков в столбце Brand: 0.000\n",
      "Доля пропусков в столбце NotRepaired: 0.200\n",
      "Доля пропусков в столбце DateCreated: 0.000\n",
      "Доля пропусков в столбце NumberOfPictures: 0.000\n",
      "Доля пропусков в столбце PostalCode: 0.000\n",
      "Доля пропусков в столбце LastSeen: 0.000\n"
     ]
    }
   ],
   "source": [
    "for name in data.columns:\n",
    "    print(f'Доля пропусков в столбце {name}:', '%.3f' % data[name].isna().mean())"
   ]
  },
  {
   "cell_type": "markdown",
   "id": "b2fd8374",
   "metadata": {},
   "source": [
    "Как можно заметить в 5 из исходных 16 характеристиках есть наблюдения с пропусками.\n",
    "\n",
    "Для начала избавимся от тех наблюдений, где есть пропуски в максимальном числе характеристик. Мы склонны полагать, что это либо некачественные объявления, либо ложные. Потеря будет составлять только 0.6% от исходного объема данных, так что мы считаем данное решение допустимым."
   ]
  },
  {
   "cell_type": "code",
   "execution_count": 23,
   "id": "5c1961d2",
   "metadata": {},
   "outputs": [],
   "source": [
    "data = data.dropna(subset=\n",
    "                   ['VehicleType', 'Gearbox', 'Model', 'FuelType', 'NotRepaired'], how='all')"
   ]
  },
  {
   "cell_type": "markdown",
   "id": "7f1132fc",
   "metadata": {},
   "source": [
    "Перейдем к заполнению оставшихся пропусков. \n",
    "\n",
    "Характеристики с пропусками - довольно специфичные особенности машин. Поскольку мы не имеем возможности восстановить информацию для каждого объявления в отдельности, заполним пропуски наиболее распространенным типом значений для каждой из характеристик.\n",
    "\n",
    "Отдельно отметим, что мы оставим переменную, отвечающую за тип модели, с пропусками, поскольку позднее данная переменная будет удалена. "
   ]
  },
  {
   "cell_type": "code",
   "execution_count": 24,
   "id": "6bddff57",
   "metadata": {},
   "outputs": [],
   "source": [
    "for name in ['VehicleType', 'Gearbox', 'FuelType', 'NotRepaired']:\n",
    "    mode = data[name].mode()\n",
    "    data.loc[data[name].isna() == True, name] = mode.values[0]"
   ]
  },
  {
   "cell_type": "markdown",
   "id": "e462922c",
   "metadata": {},
   "source": [
    "Проверим, что в данных не осталось наблюдений с пропущенными значениями - кроме тех характеристик, которые мы решили не обрабатывать."
   ]
  },
  {
   "cell_type": "code",
   "execution_count": 25,
   "id": "b1d2a838",
   "metadata": {},
   "outputs": [
    {
     "name": "stdout",
     "output_type": "stream",
     "text": [
      "Доля пропусков в столбце DateCrawled: 0.000\n",
      "Доля пропусков в столбце Price: 0.000\n",
      "Доля пропусков в столбце VehicleType: 0.000\n",
      "Доля пропусков в столбце RegistrationYear: 0.000\n",
      "Доля пропусков в столбце Gearbox: 0.000\n",
      "Доля пропусков в столбце Power: 0.000\n",
      "Доля пропусков в столбце Model: 0.049\n",
      "Доля пропусков в столбце Kilometer: 0.000\n",
      "Доля пропусков в столбце RegistrationMonth: 0.000\n",
      "Доля пропусков в столбце FuelType: 0.000\n",
      "Доля пропусков в столбце Brand: 0.000\n",
      "Доля пропусков в столбце NotRepaired: 0.000\n",
      "Доля пропусков в столбце DateCreated: 0.000\n",
      "Доля пропусков в столбце NumberOfPictures: 0.000\n",
      "Доля пропусков в столбце PostalCode: 0.000\n",
      "Доля пропусков в столбце LastSeen: 0.000\n"
     ]
    }
   ],
   "source": [
    "for name in data.columns:\n",
    "    print(f'Доля пропусков в столбце {name}:', '%.3f' % data[name].isna().mean())"
   ]
  },
  {
   "cell_type": "markdown",
   "id": "20d04de4",
   "metadata": {},
   "source": [
    "Действительно, нам удалось избавиться от наблюдений с пропусками."
   ]
  },
  {
   "cell_type": "markdown",
   "id": "9a49bb8a",
   "metadata": {},
   "source": [
    "### Работа с переменными"
   ]
  },
  {
   "cell_type": "markdown",
   "id": "b279a986",
   "metadata": {},
   "source": [
    "Перейдем к удалению неинформативных переменных."
   ]
  },
  {
   "cell_type": "code",
   "execution_count": 26,
   "id": "0cbbe99d",
   "metadata": {},
   "outputs": [],
   "source": [
    "for name in ['DateCrawled', 'DateCreated', 'Model', 'RegistrationMonth', 'PostalCode', 'LastSeen', 'NumberOfPictures']:\n",
    "    del data[name]"
   ]
  },
  {
   "cell_type": "code",
   "execution_count": 27,
   "id": "662ff533",
   "metadata": {},
   "outputs": [],
   "source": [
    "data = data.reset_index(drop=True)"
   ]
  },
  {
   "cell_type": "code",
   "execution_count": 28,
   "id": "f95d9361",
   "metadata": {},
   "outputs": [
    {
     "data": {
      "text/html": [
       "<div>\n",
       "<style scoped>\n",
       "    .dataframe tbody tr th:only-of-type {\n",
       "        vertical-align: middle;\n",
       "    }\n",
       "\n",
       "    .dataframe tbody tr th {\n",
       "        vertical-align: top;\n",
       "    }\n",
       "\n",
       "    .dataframe thead th {\n",
       "        text-align: right;\n",
       "    }\n",
       "</style>\n",
       "<table border=\"1\" class=\"dataframe\">\n",
       "  <thead>\n",
       "    <tr style=\"text-align: right;\">\n",
       "      <th></th>\n",
       "      <th>Price</th>\n",
       "      <th>VehicleType</th>\n",
       "      <th>RegistrationYear</th>\n",
       "      <th>Gearbox</th>\n",
       "      <th>Power</th>\n",
       "      <th>Kilometer</th>\n",
       "      <th>FuelType</th>\n",
       "      <th>Brand</th>\n",
       "      <th>NotRepaired</th>\n",
       "    </tr>\n",
       "  </thead>\n",
       "  <tbody>\n",
       "    <tr>\n",
       "      <th>0</th>\n",
       "      <td>480</td>\n",
       "      <td>sedan</td>\n",
       "      <td>1993</td>\n",
       "      <td>manual</td>\n",
       "      <td>90.0</td>\n",
       "      <td>150000</td>\n",
       "      <td>petrol</td>\n",
       "      <td>volkswagen</td>\n",
       "      <td>no</td>\n",
       "    </tr>\n",
       "    <tr>\n",
       "      <th>1</th>\n",
       "      <td>18300</td>\n",
       "      <td>coupe</td>\n",
       "      <td>2011</td>\n",
       "      <td>manual</td>\n",
       "      <td>190.0</td>\n",
       "      <td>125000</td>\n",
       "      <td>gasoline</td>\n",
       "      <td>audi</td>\n",
       "      <td>yes</td>\n",
       "    </tr>\n",
       "    <tr>\n",
       "      <th>2</th>\n",
       "      <td>9800</td>\n",
       "      <td>suv</td>\n",
       "      <td>2004</td>\n",
       "      <td>auto</td>\n",
       "      <td>163.0</td>\n",
       "      <td>125000</td>\n",
       "      <td>gasoline</td>\n",
       "      <td>jeep</td>\n",
       "      <td>no</td>\n",
       "    </tr>\n",
       "    <tr>\n",
       "      <th>3</th>\n",
       "      <td>1500</td>\n",
       "      <td>small</td>\n",
       "      <td>2001</td>\n",
       "      <td>manual</td>\n",
       "      <td>75.0</td>\n",
       "      <td>150000</td>\n",
       "      <td>petrol</td>\n",
       "      <td>volkswagen</td>\n",
       "      <td>no</td>\n",
       "    </tr>\n",
       "    <tr>\n",
       "      <th>4</th>\n",
       "      <td>3600</td>\n",
       "      <td>small</td>\n",
       "      <td>2008</td>\n",
       "      <td>manual</td>\n",
       "      <td>69.0</td>\n",
       "      <td>90000</td>\n",
       "      <td>gasoline</td>\n",
       "      <td>skoda</td>\n",
       "      <td>no</td>\n",
       "    </tr>\n",
       "  </tbody>\n",
       "</table>\n",
       "</div>"
      ],
      "text/plain": [
       "   Price VehicleType  RegistrationYear Gearbox  Power  Kilometer  FuelType  \\\n",
       "0    480       sedan              1993  manual   90.0     150000    petrol   \n",
       "1  18300       coupe              2011  manual  190.0     125000  gasoline   \n",
       "2   9800         suv              2004    auto  163.0     125000  gasoline   \n",
       "3   1500       small              2001  manual   75.0     150000    petrol   \n",
       "4   3600       small              2008  manual   69.0      90000  gasoline   \n",
       "\n",
       "        Brand NotRepaired  \n",
       "0  volkswagen          no  \n",
       "1        audi         yes  \n",
       "2        jeep          no  \n",
       "3  volkswagen          no  \n",
       "4       skoda          no  "
      ]
     },
     "execution_count": 28,
     "metadata": {},
     "output_type": "execute_result"
    }
   ],
   "source": [
    "data.head()"
   ]
  },
  {
   "cell_type": "markdown",
   "id": "761cf841",
   "metadata": {},
   "source": [
    "### Преобразование категориальных переменных"
   ]
  },
  {
   "cell_type": "markdown",
   "id": "6bed4cca",
   "metadata": {},
   "source": [
    "Наконец, перейдем к заключительному этапу первичной обработки данных - перекодирования категорий. \n",
    "\n",
    "Мы будем использовать два метода кодировки. One-Hot Encoding будет использоваться для `NotRepaired` и `Gearbox`, поскольку каждая из переменных принимает только по два значения. Остальные категории будут закодированы методом Ordinal Encoding.\n",
    "\n",
    "Отдельно создадим набор данных, в котором будет использоваться One-Hot Encoding для всех переменных - на нем мы будем обучать линейную регрессию. \n",
    "\n",
    "Перед этим разделим данные на переменные и таргет."
   ]
  },
  {
   "cell_type": "code",
   "execution_count": 29,
   "id": "c98e773c",
   "metadata": {},
   "outputs": [],
   "source": [
    "X = data.copy().drop(columns='Price')\n",
    "y = data[['Price']].copy()"
   ]
  },
  {
   "cell_type": "code",
   "execution_count": 30,
   "id": "fd5581a1",
   "metadata": {},
   "outputs": [
    {
     "data": {
      "text/html": [
       "<div>\n",
       "<style scoped>\n",
       "    .dataframe tbody tr th:only-of-type {\n",
       "        vertical-align: middle;\n",
       "    }\n",
       "\n",
       "    .dataframe tbody tr th {\n",
       "        vertical-align: top;\n",
       "    }\n",
       "\n",
       "    .dataframe thead th {\n",
       "        text-align: right;\n",
       "    }\n",
       "</style>\n",
       "<table border=\"1\" class=\"dataframe\">\n",
       "  <thead>\n",
       "    <tr style=\"text-align: right;\">\n",
       "      <th></th>\n",
       "      <th>RegistrationYear</th>\n",
       "      <th>Power</th>\n",
       "      <th>Kilometer</th>\n",
       "      <th>VehicleType_convertible</th>\n",
       "      <th>VehicleType_coupe</th>\n",
       "      <th>VehicleType_other</th>\n",
       "      <th>VehicleType_sedan</th>\n",
       "      <th>VehicleType_small</th>\n",
       "      <th>VehicleType_suv</th>\n",
       "      <th>VehicleType_wagon</th>\n",
       "      <th>...</th>\n",
       "      <th>Brand_skoda</th>\n",
       "      <th>Brand_smart</th>\n",
       "      <th>Brand_sonstige_autos</th>\n",
       "      <th>Brand_subaru</th>\n",
       "      <th>Brand_suzuki</th>\n",
       "      <th>Brand_toyota</th>\n",
       "      <th>Brand_trabant</th>\n",
       "      <th>Brand_volkswagen</th>\n",
       "      <th>Brand_volvo</th>\n",
       "      <th>NotRepaired_yes</th>\n",
       "    </tr>\n",
       "  </thead>\n",
       "  <tbody>\n",
       "    <tr>\n",
       "      <th>0</th>\n",
       "      <td>1993</td>\n",
       "      <td>90.0</td>\n",
       "      <td>150000</td>\n",
       "      <td>0</td>\n",
       "      <td>0</td>\n",
       "      <td>0</td>\n",
       "      <td>1</td>\n",
       "      <td>0</td>\n",
       "      <td>0</td>\n",
       "      <td>0</td>\n",
       "      <td>...</td>\n",
       "      <td>0</td>\n",
       "      <td>0</td>\n",
       "      <td>0</td>\n",
       "      <td>0</td>\n",
       "      <td>0</td>\n",
       "      <td>0</td>\n",
       "      <td>0</td>\n",
       "      <td>1</td>\n",
       "      <td>0</td>\n",
       "      <td>0</td>\n",
       "    </tr>\n",
       "    <tr>\n",
       "      <th>1</th>\n",
       "      <td>2011</td>\n",
       "      <td>190.0</td>\n",
       "      <td>125000</td>\n",
       "      <td>0</td>\n",
       "      <td>1</td>\n",
       "      <td>0</td>\n",
       "      <td>0</td>\n",
       "      <td>0</td>\n",
       "      <td>0</td>\n",
       "      <td>0</td>\n",
       "      <td>...</td>\n",
       "      <td>0</td>\n",
       "      <td>0</td>\n",
       "      <td>0</td>\n",
       "      <td>0</td>\n",
       "      <td>0</td>\n",
       "      <td>0</td>\n",
       "      <td>0</td>\n",
       "      <td>0</td>\n",
       "      <td>0</td>\n",
       "      <td>1</td>\n",
       "    </tr>\n",
       "    <tr>\n",
       "      <th>2</th>\n",
       "      <td>2004</td>\n",
       "      <td>163.0</td>\n",
       "      <td>125000</td>\n",
       "      <td>0</td>\n",
       "      <td>0</td>\n",
       "      <td>0</td>\n",
       "      <td>0</td>\n",
       "      <td>0</td>\n",
       "      <td>1</td>\n",
       "      <td>0</td>\n",
       "      <td>...</td>\n",
       "      <td>0</td>\n",
       "      <td>0</td>\n",
       "      <td>0</td>\n",
       "      <td>0</td>\n",
       "      <td>0</td>\n",
       "      <td>0</td>\n",
       "      <td>0</td>\n",
       "      <td>0</td>\n",
       "      <td>0</td>\n",
       "      <td>0</td>\n",
       "    </tr>\n",
       "    <tr>\n",
       "      <th>3</th>\n",
       "      <td>2001</td>\n",
       "      <td>75.0</td>\n",
       "      <td>150000</td>\n",
       "      <td>0</td>\n",
       "      <td>0</td>\n",
       "      <td>0</td>\n",
       "      <td>0</td>\n",
       "      <td>1</td>\n",
       "      <td>0</td>\n",
       "      <td>0</td>\n",
       "      <td>...</td>\n",
       "      <td>0</td>\n",
       "      <td>0</td>\n",
       "      <td>0</td>\n",
       "      <td>0</td>\n",
       "      <td>0</td>\n",
       "      <td>0</td>\n",
       "      <td>0</td>\n",
       "      <td>1</td>\n",
       "      <td>0</td>\n",
       "      <td>0</td>\n",
       "    </tr>\n",
       "    <tr>\n",
       "      <th>4</th>\n",
       "      <td>2008</td>\n",
       "      <td>69.0</td>\n",
       "      <td>90000</td>\n",
       "      <td>0</td>\n",
       "      <td>0</td>\n",
       "      <td>0</td>\n",
       "      <td>0</td>\n",
       "      <td>1</td>\n",
       "      <td>0</td>\n",
       "      <td>0</td>\n",
       "      <td>...</td>\n",
       "      <td>1</td>\n",
       "      <td>0</td>\n",
       "      <td>0</td>\n",
       "      <td>0</td>\n",
       "      <td>0</td>\n",
       "      <td>0</td>\n",
       "      <td>0</td>\n",
       "      <td>0</td>\n",
       "      <td>0</td>\n",
       "      <td>0</td>\n",
       "    </tr>\n",
       "  </tbody>\n",
       "</table>\n",
       "<p>5 rows × 57 columns</p>\n",
       "</div>"
      ],
      "text/plain": [
       "   RegistrationYear  Power  Kilometer  VehicleType_convertible  \\\n",
       "0              1993   90.0     150000                        0   \n",
       "1              2011  190.0     125000                        0   \n",
       "2              2004  163.0     125000                        0   \n",
       "3              2001   75.0     150000                        0   \n",
       "4              2008   69.0      90000                        0   \n",
       "\n",
       "   VehicleType_coupe  VehicleType_other  VehicleType_sedan  VehicleType_small  \\\n",
       "0                  0                  0                  1                  0   \n",
       "1                  1                  0                  0                  0   \n",
       "2                  0                  0                  0                  0   \n",
       "3                  0                  0                  0                  1   \n",
       "4                  0                  0                  0                  1   \n",
       "\n",
       "   VehicleType_suv  VehicleType_wagon  ...  Brand_skoda  Brand_smart  \\\n",
       "0                0                  0  ...            0            0   \n",
       "1                0                  0  ...            0            0   \n",
       "2                1                  0  ...            0            0   \n",
       "3                0                  0  ...            0            0   \n",
       "4                0                  0  ...            1            0   \n",
       "\n",
       "   Brand_sonstige_autos  Brand_subaru  Brand_suzuki  Brand_toyota  \\\n",
       "0                     0             0             0             0   \n",
       "1                     0             0             0             0   \n",
       "2                     0             0             0             0   \n",
       "3                     0             0             0             0   \n",
       "4                     0             0             0             0   \n",
       "\n",
       "   Brand_trabant  Brand_volkswagen  Brand_volvo  NotRepaired_yes  \n",
       "0              0                 1            0                0  \n",
       "1              0                 0            0                1  \n",
       "2              0                 0            0                0  \n",
       "3              0                 1            0                0  \n",
       "4              0                 0            0                0  \n",
       "\n",
       "[5 rows x 57 columns]"
      ]
     },
     "execution_count": 30,
     "metadata": {},
     "output_type": "execute_result"
    }
   ],
   "source": [
    "X_ohe = pd.get_dummies(X, drop_first=True)\n",
    "\n",
    "X_ohe.head()"
   ]
  },
  {
   "cell_type": "code",
   "execution_count": 31,
   "id": "9039c7e4",
   "metadata": {},
   "outputs": [],
   "source": [
    "X= X.join(pd.get_dummies(X[['NotRepaired', 'Gearbox']], \n",
    "                                      drop_first=True)).drop(['NotRepaired', 'Gearbox'], axis = 1).reset_index(drop=True)"
   ]
  },
  {
   "cell_type": "code",
   "execution_count": 32,
   "id": "1d3b7fc6",
   "metadata": {},
   "outputs": [
    {
     "data": {
      "text/html": [
       "<div>\n",
       "<style scoped>\n",
       "    .dataframe tbody tr th:only-of-type {\n",
       "        vertical-align: middle;\n",
       "    }\n",
       "\n",
       "    .dataframe tbody tr th {\n",
       "        vertical-align: top;\n",
       "    }\n",
       "\n",
       "    .dataframe thead th {\n",
       "        text-align: right;\n",
       "    }\n",
       "</style>\n",
       "<table border=\"1\" class=\"dataframe\">\n",
       "  <thead>\n",
       "    <tr style=\"text-align: right;\">\n",
       "      <th></th>\n",
       "      <th>VehicleType</th>\n",
       "      <th>RegistrationYear</th>\n",
       "      <th>Power</th>\n",
       "      <th>Kilometer</th>\n",
       "      <th>FuelType</th>\n",
       "      <th>Brand</th>\n",
       "      <th>NotRepaired_yes</th>\n",
       "      <th>Gearbox_manual</th>\n",
       "    </tr>\n",
       "  </thead>\n",
       "  <tbody>\n",
       "    <tr>\n",
       "      <th>0</th>\n",
       "      <td>sedan</td>\n",
       "      <td>1993</td>\n",
       "      <td>90.0</td>\n",
       "      <td>150000</td>\n",
       "      <td>petrol</td>\n",
       "      <td>volkswagen</td>\n",
       "      <td>0</td>\n",
       "      <td>1</td>\n",
       "    </tr>\n",
       "    <tr>\n",
       "      <th>1</th>\n",
       "      <td>coupe</td>\n",
       "      <td>2011</td>\n",
       "      <td>190.0</td>\n",
       "      <td>125000</td>\n",
       "      <td>gasoline</td>\n",
       "      <td>audi</td>\n",
       "      <td>1</td>\n",
       "      <td>1</td>\n",
       "    </tr>\n",
       "    <tr>\n",
       "      <th>2</th>\n",
       "      <td>suv</td>\n",
       "      <td>2004</td>\n",
       "      <td>163.0</td>\n",
       "      <td>125000</td>\n",
       "      <td>gasoline</td>\n",
       "      <td>jeep</td>\n",
       "      <td>0</td>\n",
       "      <td>0</td>\n",
       "    </tr>\n",
       "    <tr>\n",
       "      <th>3</th>\n",
       "      <td>small</td>\n",
       "      <td>2001</td>\n",
       "      <td>75.0</td>\n",
       "      <td>150000</td>\n",
       "      <td>petrol</td>\n",
       "      <td>volkswagen</td>\n",
       "      <td>0</td>\n",
       "      <td>1</td>\n",
       "    </tr>\n",
       "    <tr>\n",
       "      <th>4</th>\n",
       "      <td>small</td>\n",
       "      <td>2008</td>\n",
       "      <td>69.0</td>\n",
       "      <td>90000</td>\n",
       "      <td>gasoline</td>\n",
       "      <td>skoda</td>\n",
       "      <td>0</td>\n",
       "      <td>1</td>\n",
       "    </tr>\n",
       "  </tbody>\n",
       "</table>\n",
       "</div>"
      ],
      "text/plain": [
       "  VehicleType  RegistrationYear  Power  Kilometer  FuelType       Brand  \\\n",
       "0       sedan              1993   90.0     150000    petrol  volkswagen   \n",
       "1       coupe              2011  190.0     125000  gasoline        audi   \n",
       "2         suv              2004  163.0     125000  gasoline        jeep   \n",
       "3       small              2001   75.0     150000    petrol  volkswagen   \n",
       "4       small              2008   69.0      90000  gasoline       skoda   \n",
       "\n",
       "   NotRepaired_yes  Gearbox_manual  \n",
       "0                0               1  \n",
       "1                1               1  \n",
       "2                0               0  \n",
       "3                0               1  \n",
       "4                0               1  "
      ]
     },
     "execution_count": 32,
     "metadata": {},
     "output_type": "execute_result"
    }
   ],
   "source": [
    "X.head()"
   ]
  },
  {
   "cell_type": "markdown",
   "id": "028f3104",
   "metadata": {},
   "source": [
    "Первый этап кодировки прошел успешно. Переходим ко второму."
   ]
  },
  {
   "cell_type": "code",
   "execution_count": 33,
   "id": "e789edef",
   "metadata": {},
   "outputs": [
    {
     "data": {
      "text/plain": [
       "OrdinalEncoder()"
      ]
     },
     "execution_count": 33,
     "metadata": {},
     "output_type": "execute_result"
    }
   ],
   "source": [
    "encoder = OrdinalEncoder()\n",
    "\n",
    "encoder.fit(X[['VehicleType', 'FuelType', 'Brand']])"
   ]
  },
  {
   "cell_type": "code",
   "execution_count": 34,
   "id": "b58f263a",
   "metadata": {},
   "outputs": [
    {
     "data": {
      "text/html": [
       "<div>\n",
       "<style scoped>\n",
       "    .dataframe tbody tr th:only-of-type {\n",
       "        vertical-align: middle;\n",
       "    }\n",
       "\n",
       "    .dataframe tbody tr th {\n",
       "        vertical-align: top;\n",
       "    }\n",
       "\n",
       "    .dataframe thead th {\n",
       "        text-align: right;\n",
       "    }\n",
       "</style>\n",
       "<table border=\"1\" class=\"dataframe\">\n",
       "  <thead>\n",
       "    <tr style=\"text-align: right;\">\n",
       "      <th></th>\n",
       "      <th>VehicleType</th>\n",
       "      <th>RegistrationYear</th>\n",
       "      <th>Power</th>\n",
       "      <th>Kilometer</th>\n",
       "      <th>FuelType</th>\n",
       "      <th>Brand</th>\n",
       "      <th>NotRepaired_yes</th>\n",
       "      <th>Gearbox_manual</th>\n",
       "    </tr>\n",
       "  </thead>\n",
       "  <tbody>\n",
       "    <tr>\n",
       "      <th>0</th>\n",
       "      <td>4.0</td>\n",
       "      <td>1993</td>\n",
       "      <td>90.0</td>\n",
       "      <td>150000</td>\n",
       "      <td>6.0</td>\n",
       "      <td>38.0</td>\n",
       "      <td>0</td>\n",
       "      <td>1</td>\n",
       "    </tr>\n",
       "    <tr>\n",
       "      <th>1</th>\n",
       "      <td>2.0</td>\n",
       "      <td>2011</td>\n",
       "      <td>190.0</td>\n",
       "      <td>125000</td>\n",
       "      <td>2.0</td>\n",
       "      <td>1.0</td>\n",
       "      <td>1</td>\n",
       "      <td>1</td>\n",
       "    </tr>\n",
       "    <tr>\n",
       "      <th>2</th>\n",
       "      <td>6.0</td>\n",
       "      <td>2004</td>\n",
       "      <td>163.0</td>\n",
       "      <td>125000</td>\n",
       "      <td>2.0</td>\n",
       "      <td>14.0</td>\n",
       "      <td>0</td>\n",
       "      <td>0</td>\n",
       "    </tr>\n",
       "    <tr>\n",
       "      <th>3</th>\n",
       "      <td>5.0</td>\n",
       "      <td>2001</td>\n",
       "      <td>75.0</td>\n",
       "      <td>150000</td>\n",
       "      <td>6.0</td>\n",
       "      <td>38.0</td>\n",
       "      <td>0</td>\n",
       "      <td>1</td>\n",
       "    </tr>\n",
       "    <tr>\n",
       "      <th>4</th>\n",
       "      <td>5.0</td>\n",
       "      <td>2008</td>\n",
       "      <td>69.0</td>\n",
       "      <td>90000</td>\n",
       "      <td>2.0</td>\n",
       "      <td>31.0</td>\n",
       "      <td>0</td>\n",
       "      <td>1</td>\n",
       "    </tr>\n",
       "  </tbody>\n",
       "</table>\n",
       "</div>"
      ],
      "text/plain": [
       "   VehicleType  RegistrationYear  Power  Kilometer  FuelType  Brand  \\\n",
       "0          4.0              1993   90.0     150000       6.0   38.0   \n",
       "1          2.0              2011  190.0     125000       2.0    1.0   \n",
       "2          6.0              2004  163.0     125000       2.0   14.0   \n",
       "3          5.0              2001   75.0     150000       6.0   38.0   \n",
       "4          5.0              2008   69.0      90000       2.0   31.0   \n",
       "\n",
       "   NotRepaired_yes  Gearbox_manual  \n",
       "0                0               1  \n",
       "1                1               1  \n",
       "2                0               0  \n",
       "3                0               1  \n",
       "4                0               1  "
      ]
     },
     "execution_count": 34,
     "metadata": {},
     "output_type": "execute_result"
    }
   ],
   "source": [
    "data_ordinal = pd.DataFrame(encoder.transform(X[['VehicleType', 'FuelType', 'Brand']]), \n",
    "                                columns = [['VehicleType', 'FuelType', 'Brand']]).reset_index(drop=True)\n",
    "X[['VehicleType', 'FuelType', 'Brand']] = data_ordinal[['VehicleType', 'FuelType', 'Brand']]\n",
    "    \n",
    "X.head()"
   ]
  },
  {
   "cell_type": "markdown",
   "id": "80771065",
   "metadata": {},
   "source": [
    "### Стандартизация"
   ]
  },
  {
   "cell_type": "markdown",
   "id": "45264d46",
   "metadata": {},
   "source": [
    "Перед переходом к завершающему этапу работы над данными проведем процедуру стандартизации для непрерывных переменных.\n",
    "\n",
    "Однако перед этим разделим наши данные на тренировочную и тестовую выборки."
   ]
  },
  {
   "cell_type": "code",
   "execution_count": 35,
   "id": "0cea0f12",
   "metadata": {},
   "outputs": [],
   "source": [
    "X_train, X_test, y_train, y_test = train_test_split(X,y,\n",
    "                                               test_size = 0.25,\n",
    "                                               shuffle = True,\n",
    "                                               random_state = 9)\n",
    "\n",
    "X_train_ohe, X_test_ohe, y_train_ohe, y_test_ohe = train_test_split(X_ohe,y,\n",
    "                                               test_size = 0.25,\n",
    "                                               shuffle = True,\n",
    "                                               random_state = 9)"
   ]
  },
  {
   "cell_type": "markdown",
   "id": "1bb5d37a",
   "metadata": {},
   "source": [
    "Обучим скалер на тренировочных данных, после чего применим скалер ко всему набору данных."
   ]
  },
  {
   "cell_type": "code",
   "execution_count": 36,
   "id": "39aa5bb3",
   "metadata": {},
   "outputs": [],
   "source": [
    "columns_for_scaler = ['Power', 'Kilometer', 'RegistrationYear']\n",
    "scaler = StandardScaler()\n",
    "\n",
    "scaler.fit(X_train[columns_for_scaler])\n",
    "X_train[columns_for_scaler] = scaler.transform(X_train[columns_for_scaler])\n",
    "X_test[columns_for_scaler] = scaler.transform(X_test[columns_for_scaler])\n",
    "\n",
    "scaler.fit(X_train_ohe[columns_for_scaler])\n",
    "X_train[columns_for_scaler] = scaler.transform(X_train_ohe[columns_for_scaler])\n",
    "X_test[columns_for_scaler] = scaler.transform(X_test_ohe[columns_for_scaler])"
   ]
  },
  {
   "cell_type": "code",
   "execution_count": 37,
   "id": "6f4e70d9",
   "metadata": {},
   "outputs": [
    {
     "data": {
      "text/html": [
       "<div>\n",
       "<style scoped>\n",
       "    .dataframe tbody tr th:only-of-type {\n",
       "        vertical-align: middle;\n",
       "    }\n",
       "\n",
       "    .dataframe tbody tr th {\n",
       "        vertical-align: top;\n",
       "    }\n",
       "\n",
       "    .dataframe thead th {\n",
       "        text-align: right;\n",
       "    }\n",
       "</style>\n",
       "<table border=\"1\" class=\"dataframe\">\n",
       "  <thead>\n",
       "    <tr style=\"text-align: right;\">\n",
       "      <th></th>\n",
       "      <th>VehicleType</th>\n",
       "      <th>RegistrationYear</th>\n",
       "      <th>Power</th>\n",
       "      <th>Kilometer</th>\n",
       "      <th>FuelType</th>\n",
       "      <th>Brand</th>\n",
       "      <th>NotRepaired_yes</th>\n",
       "      <th>Gearbox_manual</th>\n",
       "    </tr>\n",
       "  </thead>\n",
       "  <tbody>\n",
       "    <tr>\n",
       "      <th>181769</th>\n",
       "      <td>7.0</td>\n",
       "      <td>0.335437</td>\n",
       "      <td>-0.535041</td>\n",
       "      <td>0.573552</td>\n",
       "      <td>2.0</td>\n",
       "      <td>38.0</td>\n",
       "      <td>0</td>\n",
       "      <td>1</td>\n",
       "    </tr>\n",
       "    <tr>\n",
       "      <th>317372</th>\n",
       "      <td>4.0</td>\n",
       "      <td>0.782337</td>\n",
       "      <td>1.995588</td>\n",
       "      <td>0.573552</td>\n",
       "      <td>6.0</td>\n",
       "      <td>30.0</td>\n",
       "      <td>0</td>\n",
       "      <td>1</td>\n",
       "    </tr>\n",
       "    <tr>\n",
       "      <th>326679</th>\n",
       "      <td>4.0</td>\n",
       "      <td>-0.558365</td>\n",
       "      <td>-0.629468</td>\n",
       "      <td>0.573552</td>\n",
       "      <td>6.0</td>\n",
       "      <td>30.0</td>\n",
       "      <td>0</td>\n",
       "      <td>1</td>\n",
       "    </tr>\n",
       "    <tr>\n",
       "      <th>168606</th>\n",
       "      <td>1.0</td>\n",
       "      <td>0.782337</td>\n",
       "      <td>0.786929</td>\n",
       "      <td>-0.761568</td>\n",
       "      <td>6.0</td>\n",
       "      <td>1.0</td>\n",
       "      <td>0</td>\n",
       "      <td>1</td>\n",
       "    </tr>\n",
       "    <tr>\n",
       "      <th>41664</th>\n",
       "      <td>4.0</td>\n",
       "      <td>-0.409398</td>\n",
       "      <td>-0.818321</td>\n",
       "      <td>0.573552</td>\n",
       "      <td>6.0</td>\n",
       "      <td>27.0</td>\n",
       "      <td>0</td>\n",
       "      <td>1</td>\n",
       "    </tr>\n",
       "  </tbody>\n",
       "</table>\n",
       "</div>"
      ],
      "text/plain": [
       "        VehicleType  RegistrationYear     Power  Kilometer  FuelType  Brand  \\\n",
       "181769          7.0          0.335437 -0.535041   0.573552       2.0   38.0   \n",
       "317372          4.0          0.782337  1.995588   0.573552       6.0   30.0   \n",
       "326679          4.0         -0.558365 -0.629468   0.573552       6.0   30.0   \n",
       "168606          1.0          0.782337  0.786929  -0.761568       6.0    1.0   \n",
       "41664           4.0         -0.409398 -0.818321   0.573552       6.0   27.0   \n",
       "\n",
       "        NotRepaired_yes  Gearbox_manual  \n",
       "181769                0               1  \n",
       "317372                0               1  \n",
       "326679                0               1  \n",
       "168606                0               1  \n",
       "41664                 0               1  "
      ]
     },
     "execution_count": 37,
     "metadata": {},
     "output_type": "execute_result"
    }
   ],
   "source": [
    "X_train.head()"
   ]
  },
  {
   "cell_type": "markdown",
   "id": "cc4790f2",
   "metadata": {},
   "source": [
    "Итак, нами была проведена работа по предобработке исходных данных. В ходе первичного анализа были обнаружены и впоследствии обработаны следующие моменты:\n",
    "* пропущенные значения;\n",
    "\n",
    "Присутствовали в 5 характеристиках. Часть была удалена, в остальных наблюдениях пропуски были заменены на наиболее распространенную категорию.\n",
    "\n",
    "* аномальные значения;\n",
    "\n",
    "Были обнаружены аномалии в двух непрерывных характеристиках: мощности двигателя и дате регистрации авто. Для каждого случая подбирался уникальный метод устранения.\n",
    "\n",
    "* переменные недопустимого формата.\n",
    "\n",
    "Часть переменных, отвечающих за некоторые категории, была записана недопустимым для моделирования способом. Мы провели перекодировку данных характеристик наиболее подходящим способом.\n",
    "\n",
    "Дополнительно мы создали новую переменную и удалили часть исходных неинформативных параметров."
   ]
  },
  {
   "cell_type": "markdown",
   "id": "40edb70a",
   "metadata": {},
   "source": [
    "## Обучение моделей"
   ]
  },
  {
   "cell_type": "markdown",
   "id": "c4f8435f",
   "metadata": {},
   "source": [
    "Перейдем к следующему этапу работы - созданию модели для предсказания рыночной стоимости авто.\n",
    "\n",
    "Всего нами будет рассмотрено 5 моделей: kNN, линейная регрессия, случайный лес, LightGBM и CatBoost. Для каждой из моделей мы попытаемся подобрать такие параметры, которые будут максимизировать показатель RMSE."
   ]
  },
  {
   "cell_type": "markdown",
   "id": "b13ae09e",
   "metadata": {},
   "source": [
    "### kNN"
   ]
  },
  {
   "cell_type": "markdown",
   "id": "bd26d9c1",
   "metadata": {},
   "source": [
    "Начнем с метода ближайших соседей. Подберем лучшие параметры."
   ]
  },
  {
   "cell_type": "code",
   "execution_count": 38,
   "id": "a3d50737",
   "metadata": {},
   "outputs": [
    {
     "data": {
      "text/plain": [
       "GridSearchCV(cv=5, estimator=KNeighborsRegressor(n_jobs=-1), n_jobs=-1,\n",
       "             param_grid={'n_neighbors': [5, 15], 'p': [1, 2],\n",
       "                         'weights': ['uniform', 'distance']},\n",
       "             scoring='neg_mean_squared_error')"
      ]
     },
     "execution_count": 38,
     "metadata": {},
     "output_type": "execute_result"
    }
   ],
   "source": [
    "knn = KNeighborsRegressor(n_jobs=-1)\n",
    "params = { 'n_neighbors': [5, 15], 'p': [1, 2], 'weights': ['uniform', 'distance'] }\n",
    "knn_cv = GridSearchCV(knn, params, cv=5, scoring='neg_mean_squared_error', n_jobs=-1)\n",
    "knn_cv.fit(X_train, y_train)"
   ]
  },
  {
   "cell_type": "markdown",
   "id": "a90a66c9",
   "metadata": {},
   "source": [
    "Оценим время обучения лучшей модели и время предсказаний."
   ]
  },
  {
   "cell_type": "code",
   "execution_count": 39,
   "id": "5f73b821",
   "metadata": {},
   "outputs": [
    {
     "data": {
      "text/plain": [
       "5.71871280670166"
      ]
     },
     "execution_count": 39,
     "metadata": {},
     "output_type": "execute_result"
    }
   ],
   "source": [
    "knn_cv.refit_time_"
   ]
  },
  {
   "cell_type": "code",
   "execution_count": 40,
   "id": "97d5e6be",
   "metadata": {},
   "outputs": [
    {
     "name": "stdout",
     "output_type": "stream",
     "text": [
      "Wall time: 18.7 s\n"
     ]
    },
    {
     "data": {
      "text/plain": [
       "array([[ 3518.        ],\n",
       "       [10699.        ],\n",
       "       [  959.8       ],\n",
       "       ...,\n",
       "       [ 4999.        ],\n",
       "       [ 2194.46666667],\n",
       "       [ 2555.        ]])"
      ]
     },
     "execution_count": 40,
     "metadata": {},
     "output_type": "execute_result"
    }
   ],
   "source": [
    "%%time\n",
    "knn_cv.predict(X_train)"
   ]
  },
  {
   "cell_type": "markdown",
   "id": "11013be0",
   "metadata": {},
   "source": [
    "Наконец перейдем к оценки качества модели."
   ]
  },
  {
   "cell_type": "code",
   "execution_count": 41,
   "id": "a6fd86f7",
   "metadata": {},
   "outputs": [
    {
     "name": "stdout",
     "output_type": "stream",
     "text": [
      "RMSE метода k-ближайших соседей: 1910.4489957993765\n"
     ]
    }
   ],
   "source": [
    "print('RMSE метода k-ближайших соседей:', (-knn_cv.best_score_)**0.5)"
   ]
  },
  {
   "cell_type": "markdown",
   "id": "c5b732de",
   "metadata": {},
   "source": [
    "Несмотря на то, что метод ближайших соседей показал неплохие результаты относительно времени обучения, а также качество модели существенно ниже необходимого порога. Мы оставляем данную модель для дальнейшего рассмотрения."
   ]
  },
  {
   "cell_type": "markdown",
   "id": "bea4ab60",
   "metadata": {},
   "source": [
    "### Линейная регрессия"
   ]
  },
  {
   "cell_type": "markdown",
   "id": "82f7ab03",
   "metadata": {},
   "source": [
    "Теперь перейдем к модели линейной регрессии. Оценим скорость обучения."
   ]
  },
  {
   "cell_type": "code",
   "execution_count": 42,
   "id": "39d36002",
   "metadata": {},
   "outputs": [
    {
     "name": "stdout",
     "output_type": "stream",
     "text": [
      "Wall time: 875 ms\n"
     ]
    }
   ],
   "source": [
    "%%time\n",
    "lin_reg = LinearRegression().fit(X_train_ohe, y_train)"
   ]
  },
  {
   "cell_type": "markdown",
   "id": "eaa581ba",
   "metadata": {},
   "source": [
    "Также проведем оценку скорости предсказывания."
   ]
  },
  {
   "cell_type": "code",
   "execution_count": 43,
   "id": "9d1b09d7",
   "metadata": {},
   "outputs": [
    {
     "name": "stdout",
     "output_type": "stream",
     "text": [
      "Wall time: 130 ms\n"
     ]
    }
   ],
   "source": [
    "%%time\n",
    "lin_reg_pred = lin_reg.predict(X_train_ohe)"
   ]
  },
  {
   "cell_type": "markdown",
   "id": "5b8caeb2",
   "metadata": {},
   "source": [
    "Наконец, оценим качество полученной модели."
   ]
  },
  {
   "cell_type": "code",
   "execution_count": 44,
   "id": "7c06ddd7",
   "metadata": {},
   "outputs": [
    {
     "name": "stdout",
     "output_type": "stream",
     "text": [
      "RMSE линейной регрессии: 2938.596546647935\n"
     ]
    }
   ],
   "source": [
    "print('RMSE линейной регрессии:', mean_squared_error(y_train, lin_reg_pred,  squared=False))"
   ]
  },
  {
   "cell_type": "markdown",
   "id": "bfe1834f",
   "metadata": {},
   "source": [
    "Несмотря на то, что линейная модель показала лучшее время обучения и предсказания по сравнению с методом ближайших соседей, ее качество не достигает минимального порога. На основании этого мы исключаем данную модель из дальнейшего рассмотрения."
   ]
  },
  {
   "cell_type": "markdown",
   "id": "4a97436a",
   "metadata": {},
   "source": [
    "### Случайный лес"
   ]
  },
  {
   "cell_type": "markdown",
   "id": "a9f34906",
   "metadata": {},
   "source": [
    "Теперь перейдем к модели случайного леса. Как и прежде, начнем с подбора наиболее оптимальных параметров. "
   ]
  },
  {
   "cell_type": "code",
   "execution_count": 45,
   "id": "c3299441",
   "metadata": {
    "scrolled": true
   },
   "outputs": [
    {
     "data": {
      "text/plain": [
       "GridSearchCV(cv=5, estimator=RandomForestRegressor(n_jobs=-1, random_state=9),\n",
       "             n_jobs=-1,\n",
       "             param_grid={'max_depth': range(1, 7),\n",
       "                         'max_features': ['auto', 'sqrt', 'log2'],\n",
       "                         'n_estimators': range(90, 120, 10)},\n",
       "             scoring='neg_mean_squared_error')"
      ]
     },
     "execution_count": 45,
     "metadata": {},
     "output_type": "execute_result"
    }
   ],
   "source": [
    "forest = RandomForestRegressor(random_state=9, n_jobs=-1)\n",
    "params_forest = {'max_depth': range (1, 7, 1), 'max_features': ['auto', 'sqrt', 'log2'], \n",
    "                 'n_estimators': range(90, 120, 10)}\n",
    "forest_cv = GridSearchCV(forest, params_forest, cv=5, scoring='neg_mean_squared_error', n_jobs=-1)\n",
    "forest_cv.fit(X_train, y_train)"
   ]
  },
  {
   "cell_type": "markdown",
   "id": "9d1297b7",
   "metadata": {},
   "source": [
    "Обучим модель на основании лучших параметров и оценим время обучения. После этого также оценим время предсказания."
   ]
  },
  {
   "cell_type": "code",
   "execution_count": 46,
   "id": "db1e9dbe",
   "metadata": {
    "scrolled": true
   },
   "outputs": [
    {
     "data": {
      "text/plain": [
       "9.250274896621704"
      ]
     },
     "execution_count": 46,
     "metadata": {},
     "output_type": "execute_result"
    }
   ],
   "source": [
    "forest_cv.refit_time_"
   ]
  },
  {
   "cell_type": "code",
   "execution_count": 47,
   "id": "d25cd2f2",
   "metadata": {},
   "outputs": [
    {
     "name": "stdout",
     "output_type": "stream",
     "text": [
      "Wall time: 693 ms\n"
     ]
    },
    {
     "data": {
      "text/plain": [
       "array([3006.16517126, 9096.88577545, 1242.04076335, ..., 2224.65066609,\n",
       "       2753.89560894, 3178.6263582 ])"
      ]
     },
     "execution_count": 47,
     "metadata": {},
     "output_type": "execute_result"
    }
   ],
   "source": [
    "%%time\n",
    "forest_cv.predict(X_train)"
   ]
  },
  {
   "cell_type": "markdown",
   "id": "3196cdaf",
   "metadata": {},
   "source": [
    "Наконец, оценим качество полученой модели. "
   ]
  },
  {
   "cell_type": "code",
   "execution_count": 48,
   "id": "cee7ad5d",
   "metadata": {},
   "outputs": [
    {
     "name": "stdout",
     "output_type": "stream",
     "text": [
      "RMSE cлучайного леса: 2334.7626357000854\n"
     ]
    }
   ],
   "source": [
    "print('RMSE cлучайного леса:', (-forest_cv.best_score_)**0.5)"
   ]
  },
  {
   "cell_type": "markdown",
   "id": "91800c7f",
   "metadata": {},
   "source": [
    "Модель случайного леса в целом показала себя хуже метода ближайших соседей как по времени обучения, так и по качеству."
   ]
  },
  {
   "cell_type": "markdown",
   "id": "6227975b",
   "metadata": {},
   "source": [
    "### LightGBM"
   ]
  },
  {
   "cell_type": "markdown",
   "id": "4fa92695",
   "metadata": {},
   "source": [
    "Также построим модель LightGBM. Подберем наилучшие параметры для минимизации RMSE."
   ]
  },
  {
   "cell_type": "code",
   "execution_count": 51,
   "id": "f778dd41",
   "metadata": {
    "scrolled": true
   },
   "outputs": [
    {
     "data": {
      "text/plain": [
       "RandomizedSearchCV(cv=5, estimator=LGBMRegressor(random_state=9), n_jobs=-1,\n",
       "                   param_distributions={'max_depth': range(1, 7),\n",
       "                                        'n_estimators': range(90, 120, 10)},\n",
       "                   scoring='neg_mean_squared_error')"
      ]
     },
     "execution_count": 51,
     "metadata": {},
     "output_type": "execute_result"
    }
   ],
   "source": [
    "gbm = LGBMRegressor(random_state=9, n_jobs=-1)\n",
    "params_gbm = {'max_depth': range (1, 7, 1), 'n_estimators': range(90, 120, 10)}\n",
    "gbm_cv = RandomizedSearchCV(gbm, params_gbm, cv=5, scoring='neg_mean_squared_error', n_jobs=-1)\n",
    "gbm_cv.fit(X_train, y_train)"
   ]
  },
  {
   "cell_type": "markdown",
   "id": "8bce0cb3",
   "metadata": {},
   "source": [
    "Обучим модель с наилучшими параметрами и оценим скорость обучения. "
   ]
  },
  {
   "cell_type": "code",
   "execution_count": 52,
   "id": "4d8753ff",
   "metadata": {},
   "outputs": [
    {
     "data": {
      "text/plain": [
       "1.9956283569335938"
      ]
     },
     "execution_count": 52,
     "metadata": {},
     "output_type": "execute_result"
    }
   ],
   "source": [
    "gbm_cv.refit_time_"
   ]
  },
  {
   "cell_type": "markdown",
   "id": "fee1ff36",
   "metadata": {},
   "source": [
    "Также оценим время предсказания и выведем качество модели."
   ]
  },
  {
   "cell_type": "code",
   "execution_count": 53,
   "id": "9bec78dc",
   "metadata": {},
   "outputs": [
    {
     "name": "stdout",
     "output_type": "stream",
     "text": [
      "Wall time: 971 ms\n"
     ]
    },
    {
     "data": {
      "text/plain": [
       "array([3338.27088927, 9139.12028931,  976.5754243 , ..., 1545.11623362,\n",
       "       2195.38021404, 3236.85092905])"
      ]
     },
     "execution_count": 53,
     "metadata": {},
     "output_type": "execute_result"
    }
   ],
   "source": [
    "%%time\n",
    "gbm_cv.predict(X_train)"
   ]
  },
  {
   "cell_type": "code",
   "execution_count": 54,
   "id": "451e708e",
   "metadata": {},
   "outputs": [
    {
     "name": "stdout",
     "output_type": "stream",
     "text": [
      "RMSE LightGBM регрессии: 1927.8220185251942\n"
     ]
    }
   ],
   "source": [
    "print('RMSE LightGBM регрессии:', (-gbm_cv.best_score_)**0.5)"
   ]
  },
  {
   "cell_type": "markdown",
   "id": "b6e6f474",
   "metadata": {},
   "source": [
    "На текущий момент LightGBM показала лучшее время как обучения, так и предсказания, однако по качеству она все-таки немного проигрывает модели, полученной методом ближайших соседей."
   ]
  },
  {
   "cell_type": "markdown",
   "id": "60cad296",
   "metadata": {},
   "source": [
    "### CatBoost"
   ]
  },
  {
   "cell_type": "markdown",
   "id": "760383ed",
   "metadata": {},
   "source": [
    "Перейдем к заключительной модели CatBoost. Как и прежде начнем с подбора наиболее оптимальных параметров. "
   ]
  },
  {
   "cell_type": "code",
   "execution_count": 55,
   "id": "9ccc7027",
   "metadata": {
    "scrolled": true
   },
   "outputs": [
    {
     "data": {
      "text/plain": [
       "RandomizedSearchCV(cv=3,\n",
       "                   estimator=<catboost.core.CatBoostRegressor object at 0x000001E858565AC0>,\n",
       "                   n_jobs=-1,\n",
       "                   param_distributions={'depth': range(1, 7),\n",
       "                                        'grow_policy': ['Depthwise'],\n",
       "                                        'n_estimators': range(90, 120, 10)},\n",
       "                   scoring='neg_mean_squared_error')"
      ]
     },
     "execution_count": 55,
     "metadata": {},
     "output_type": "execute_result"
    }
   ],
   "source": [
    "cat = CatBoostRegressor(random_state=9, verbose=False)\n",
    "params_cat = {'n_estimators': range(90, 120, 10),\n",
    "               'depth': range (1, 7, 1), 'grow_policy': ['Depthwise']}\n",
    "cat_cv = RandomizedSearchCV(cat, params_cat, cv=3, scoring='neg_mean_squared_error', n_jobs=-1)\n",
    "cat_cv.fit(X_train, y_train)"
   ]
  },
  {
   "cell_type": "markdown",
   "id": "dfbdc6e2",
   "metadata": {},
   "source": [
    "Обучим модель с использованием лучших значений для выбранных параметров и оценим время обучения. После этого также оценим время предсказаний. "
   ]
  },
  {
   "cell_type": "code",
   "execution_count": 56,
   "id": "3bafbabc",
   "metadata": {
    "scrolled": true
   },
   "outputs": [
    {
     "data": {
      "text/plain": [
       "11.174674987792969"
      ]
     },
     "execution_count": 56,
     "metadata": {},
     "output_type": "execute_result"
    }
   ],
   "source": [
    "cat_cv.refit_time_"
   ]
  },
  {
   "cell_type": "code",
   "execution_count": 57,
   "id": "c4cb63b3",
   "metadata": {},
   "outputs": [
    {
     "data": {
      "text/plain": [
       "array([3452.72451052, 8501.86787323,  926.89857837, ..., 1642.6657838 ,\n",
       "       2070.12492789, 3842.98477219])"
      ]
     },
     "execution_count": 57,
     "metadata": {},
     "output_type": "execute_result"
    }
   ],
   "source": [
    "cat_cv.predict(X_train)"
   ]
  },
  {
   "cell_type": "markdown",
   "id": "8d5b9053",
   "metadata": {},
   "source": [
    "Наконец, выведем качество последней модели. "
   ]
  },
  {
   "cell_type": "code",
   "execution_count": 58,
   "id": "8d59e0f9",
   "metadata": {},
   "outputs": [
    {
     "name": "stdout",
     "output_type": "stream",
     "text": [
      "RMSE CatBoost регрессии: 1868.112872598842\n"
     ]
    }
   ],
   "source": [
    "print('RMSE CatBoost регрессии:', (-cat_cv.best_score_)**0.5)"
   ]
  },
  {
   "cell_type": "markdown",
   "id": "396fde09",
   "metadata": {},
   "source": [
    "Модели CatBoost не удалось обойти LightGBM по скорости обучения и предсказания, однако она показала лучшее значение качества."
   ]
  },
  {
   "cell_type": "markdown",
   "id": "85164fdc",
   "metadata": {},
   "source": [
    "Лучшей моделью относительно RMSE оказалась модель CatBoost. В то же время лучшей относительно времени оказалась LightGBM регрессия. Поскольку заказчик не уточнял, какой из критериев является наиболее значимым (и уточнить данную информацию мы не можем), нами было принято решение предложить заказчику две модели - одну с лучшим качеством, и другую с лучшим временем."
   ]
  },
  {
   "cell_type": "markdown",
   "id": "923b1471",
   "metadata": {},
   "source": [
    "## Проверка на тесте"
   ]
  },
  {
   "cell_type": "markdown",
   "id": "cc747a88",
   "metadata": {},
   "source": [
    "Оценим качество итоговой модели на тестовой выборке. Напоминаем, что в качестве итоговой были выбраны две модели - CatBoost и LightGBM."
   ]
  },
  {
   "cell_type": "code",
   "execution_count": 59,
   "id": "7e970644",
   "metadata": {},
   "outputs": [
    {
     "name": "stdout",
     "output_type": "stream",
     "text": [
      "RMSE CatBoostRegressor на тестовой выборке: 1878.3935447564163\n"
     ]
    }
   ],
   "source": [
    "test_pred_cat = cat_cv.predict(X_test)\n",
    "\n",
    "print('RMSE CatBoostRegressor на тестовой выборке:', mean_squared_error(y_test, test_pred_cat,  squared=False))"
   ]
  },
  {
   "cell_type": "code",
   "execution_count": 60,
   "id": "2061e0d1",
   "metadata": {},
   "outputs": [
    {
     "name": "stdout",
     "output_type": "stream",
     "text": [
      "RMSE LightGBM на тестовой выборке: 1947.0081547074824\n"
     ]
    }
   ],
   "source": [
    "test_pred_gbm = gbm_cv.predict(X_test)\n",
    "\n",
    "print('RMSE LightGBM на тестовой выборке:', mean_squared_error(y_test, test_pred_gbm,  squared=False))"
   ]
  },
  {
   "cell_type": "markdown",
   "id": "de4296d1",
   "metadata": {},
   "source": [
    "По итогу мы получили примерно одинаковое качество от обеих моделей на тестовой выборке. Качество обеих моделей на тестовых данных не слишком увеличилось, на основании чего можно сделать вывод, что если модели и переобучились, то только чуть-чуть."
   ]
  },
  {
   "cell_type": "markdown",
   "id": "5356a150",
   "metadata": {},
   "source": [
    "## Итоговые выводы"
   ]
  },
  {
   "cell_type": "markdown",
   "id": "806fc751",
   "metadata": {},
   "source": [
    "Нами была проведена работа по созданию модели для прогнозирования рыночной стоимости автомобиля.\n",
    "\n",
    "Прежде всего, была проведена первичная обработка исходных данных, включающая в себя выявление и устранение наблюдений с пропусками, исследование и устранение аномальных значений, а также отбор признаков для дальнейшего моделирования. Также мы обработали часть исходных переменных для возможности их использования при дальнейшем обучении.\n",
    "\n",
    "Мы рассмотрели пять моделей в качестве потенциальных итоговых: метод k-ближайших соседей, линейная регрессия, случайный лес, LightGBM и CatBoost. Для каждой модели мы подобрали наиболее оптимальные параметры, которые бы минимизировали RMSE - показатель от заказчика. После этого мы оценили время обучения каждой из моделей с использованием оптимальных параметров, а также оценили время на предсказания. Наконец, мы также рассчитали RMSE для каждой из моделей.\n",
    "\n",
    "По итогу лучшей были выбраны две модели - CatBoost и LightGBM. После мы проверили качество итоговых моделей на тестовой выборке. Качество CatBoost несколько сократилось, что свидетельствует о наличии переобучения. В то же время качество LightGBM сократилось меньше."
   ]
  }
 ],
 "metadata": {
  "ExecuteTimeLog": [
   {
    "duration": 1777,
    "start_time": "2022-08-08T05:59:15.243Z"
   },
   {
    "duration": 2821,
    "start_time": "2022-08-08T05:59:17.022Z"
   },
   {
    "duration": 171,
    "start_time": "2022-08-08T05:59:19.846Z"
   },
   {
    "duration": 157,
    "start_time": "2022-08-08T05:59:20.019Z"
   },
   {
    "duration": 149,
    "start_time": "2022-08-08T05:59:20.179Z"
   },
   {
    "duration": 32,
    "start_time": "2022-08-08T05:59:20.330Z"
   },
   {
    "duration": 39,
    "start_time": "2022-08-08T05:59:20.364Z"
   },
   {
    "duration": 39,
    "start_time": "2022-08-08T05:59:20.405Z"
   },
   {
    "duration": 55,
    "start_time": "2022-08-08T05:59:20.446Z"
   },
   {
    "duration": 37,
    "start_time": "2022-08-08T05:59:20.504Z"
   },
   {
    "duration": 43,
    "start_time": "2022-08-08T05:59:20.543Z"
   },
   {
    "duration": 35,
    "start_time": "2022-08-08T05:59:20.588Z"
   },
   {
    "duration": 26,
    "start_time": "2022-08-08T05:59:20.625Z"
   },
   {
    "duration": 178,
    "start_time": "2022-08-08T05:59:20.653Z"
   },
   {
    "duration": 114,
    "start_time": "2022-08-08T05:59:20.832Z"
   },
   {
    "duration": 274,
    "start_time": "2022-08-08T05:59:20.948Z"
   },
   {
    "duration": 118,
    "start_time": "2022-08-08T05:59:21.225Z"
   },
   {
    "duration": 6,
    "start_time": "2022-08-08T05:59:21.345Z"
   },
   {
    "duration": 71,
    "start_time": "2022-08-08T05:59:21.352Z"
   },
   {
    "duration": 10,
    "start_time": "2022-08-08T05:59:21.425Z"
   },
   {
    "duration": 61,
    "start_time": "2022-08-08T05:59:21.437Z"
   },
   {
    "duration": 31,
    "start_time": "2022-08-08T05:59:21.500Z"
   },
   {
    "duration": 27,
    "start_time": "2022-08-08T05:59:21.532Z"
   },
   {
    "duration": 41,
    "start_time": "2022-08-08T05:59:21.560Z"
   },
   {
    "duration": 51,
    "start_time": "2022-08-08T05:59:21.603Z"
   },
   {
    "duration": 40,
    "start_time": "2022-08-08T05:59:21.657Z"
   },
   {
    "duration": 56,
    "start_time": "2022-08-08T05:59:21.699Z"
   },
   {
    "duration": 4,
    "start_time": "2022-08-08T05:59:21.760Z"
   },
   {
    "duration": 9521,
    "start_time": "2022-08-08T05:59:21.765Z"
   },
   {
    "duration": 11,
    "start_time": "2022-08-08T05:59:31.288Z"
   },
   {
    "duration": 49,
    "start_time": "2022-08-08T05:59:31.301Z"
   },
   {
    "duration": 7448,
    "start_time": "2022-08-08T05:59:31.352Z"
   },
   {
    "duration": 59,
    "start_time": "2022-08-08T05:59:38.802Z"
   },
   {
    "duration": 32,
    "start_time": "2022-08-08T05:59:38.863Z"
   },
   {
    "duration": 12,
    "start_time": "2022-08-08T05:59:38.897Z"
   },
   {
    "duration": 211,
    "start_time": "2022-08-08T05:59:38.911Z"
   },
   {
    "duration": 131,
    "start_time": "2022-08-08T05:59:39.124Z"
   },
   {
    "duration": 10,
    "start_time": "2022-08-08T05:59:39.257Z"
   },
   {
    "duration": 11,
    "start_time": "2022-08-08T05:59:39.269Z"
   },
   {
    "duration": 575,
    "start_time": "2022-08-08T05:59:39.281Z"
   },
   {
    "duration": 40,
    "start_time": "2022-08-08T05:59:39.858Z"
   },
   {
    "duration": 67,
    "start_time": "2022-08-08T05:59:39.900Z"
   },
   {
    "duration": 29,
    "start_time": "2022-08-08T05:59:39.970Z"
   },
   {
    "duration": 511,
    "start_time": "2022-08-08T05:59:40.001Z"
   },
   {
    "duration": 58,
    "start_time": "2022-08-08T05:59:40.515Z"
   },
   {
    "duration": 108,
    "start_time": "2022-08-08T05:59:40.575Z"
   },
   {
    "duration": 355092,
    "start_time": "2022-08-08T05:59:40.685Z"
   },
   {
    "duration": 12,
    "start_time": "2022-08-08T06:05:35.779Z"
   },
   {
    "duration": 5402,
    "start_time": "2022-08-08T06:05:35.794Z"
   },
   {
    "duration": 43211,
    "start_time": "2022-08-08T06:05:41.199Z"
   },
   {
    "duration": 6,
    "start_time": "2022-08-08T06:06:24.412Z"
   },
   {
    "duration": 2984,
    "start_time": "2022-08-08T06:06:24.420Z"
   },
   {
    "duration": 196,
    "start_time": "2022-08-08T06:06:27.501Z"
   },
   {
    "duration": 96,
    "start_time": "2022-08-08T06:06:27.699Z"
   },
   {
    "duration": 1791070,
    "start_time": "2022-08-08T06:06:27.797Z"
   },
   {
    "duration": 4,
    "start_time": "2022-08-08T06:36:18.869Z"
   },
   {
    "duration": 10288,
    "start_time": "2022-08-08T06:36:18.875Z"
   },
   {
    "duration": 1321,
    "start_time": "2022-08-08T06:36:29.165Z"
   },
   {
    "duration": 9,
    "start_time": "2022-08-08T06:36:30.488Z"
   },
   {
    "duration": 5880003,
    "start_time": "2022-08-08T06:36:30.499Z"
   },
   {
    "duration": 5,
    "start_time": "2022-08-08T08:14:30.512Z"
   },
   {
    "duration": 280979,
    "start_time": "2022-08-08T08:14:30.519Z"
   },
   {
    "duration": 2314,
    "start_time": "2022-08-08T08:19:11.500Z"
   },
   {
    "duration": 7,
    "start_time": "2022-08-08T08:19:13.815Z"
   },
   {
    "duration": 147353,
    "start_time": "2022-08-08T08:19:13.824Z"
   },
   {
    "duration": 4,
    "start_time": "2022-08-08T08:21:41.179Z"
   },
   {
    "duration": 10416,
    "start_time": "2022-08-08T08:21:41.185Z"
   },
   {
    "duration": 737,
    "start_time": "2022-08-08T08:21:51.603Z"
   },
   {
    "duration": 7,
    "start_time": "2022-08-08T08:21:52.342Z"
   },
   {
    "duration": 15241,
    "start_time": "2022-08-08T08:21:52.351Z"
   },
   {
    "duration": 900,
    "start_time": "2022-08-08T08:22:07.595Z"
   },
   {
    "duration": 148,
    "start_time": "2022-08-08T08:22:08.500Z"
   },
   {
    "duration": 86,
    "start_time": "2022-08-13T09:23:29.502Z"
   }
  ],
  "kernelspec": {
   "display_name": "Python 3 (ipykernel)",
   "language": "python",
   "name": "python3"
  },
  "language_info": {
   "codemirror_mode": {
    "name": "ipython",
    "version": 3
   },
   "file_extension": ".py",
   "mimetype": "text/x-python",
   "name": "python",
   "nbconvert_exporter": "python",
   "pygments_lexer": "ipython3",
   "version": "3.9.7"
  },
  "toc": {
   "base_numbering": 1,
   "nav_menu": {},
   "number_sections": true,
   "sideBar": true,
   "skip_h1_title": true,
   "title_cell": "Table of Contents",
   "title_sidebar": "Contents",
   "toc_cell": true,
   "toc_position": {},
   "toc_section_display": true,
   "toc_window_display": false
  }
 },
 "nbformat": 4,
 "nbformat_minor": 5
}
