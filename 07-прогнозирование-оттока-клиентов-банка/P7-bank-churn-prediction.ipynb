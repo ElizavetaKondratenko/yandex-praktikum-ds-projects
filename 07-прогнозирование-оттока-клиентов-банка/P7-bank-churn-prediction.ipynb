{
 "cells": [
  {
   "cell_type": "markdown",
   "id": "a9b74d2d",
   "metadata": {
    "toc": true
   },
   "source": [
    "<h1>Table of Contents<span class=\"tocSkip\"></span></h1>\n",
    "<div class=\"toc\"><ul class=\"toc-item\"><li><span><a href=\"#Описание-проекта\" data-toc-modified-id=\"Описание-проекта-1\"><span class=\"toc-item-num\">1&nbsp;&nbsp;</span>Описание проекта</a></span></li><li><span><a href=\"#Описание-и-подготовка-данных\" data-toc-modified-id=\"Описание-и-подготовка-данных-2\"><span class=\"toc-item-num\">2&nbsp;&nbsp;</span>Описание и подготовка данных</a></span></li><li><span><a href=\"#Моделиривание-без-учета-дисбаланса\" data-toc-modified-id=\"Моделиривание-без-учета-дисбаланса-3\"><span class=\"toc-item-num\">3&nbsp;&nbsp;</span>Моделиривание без учета дисбаланса</a></span><ul class=\"toc-item\"><li><span><a href=\"#Логистическая-регрессия\" data-toc-modified-id=\"Логистическая-регрессия-3.1\"><span class=\"toc-item-num\">3.1&nbsp;&nbsp;</span>Логистическая регрессия</a></span></li><li><span><a href=\"#Дерево-решений\" data-toc-modified-id=\"Дерево-решений-3.2\"><span class=\"toc-item-num\">3.2&nbsp;&nbsp;</span>Дерево решений</a></span></li><li><span><a href=\"#Случайный-лес\" data-toc-modified-id=\"Случайный-лес-3.3\"><span class=\"toc-item-num\">3.3&nbsp;&nbsp;</span>Случайный лес</a></span></li></ul></li><li><span><a href=\"#Моделирование-с-учетом-дисбаланса\" data-toc-modified-id=\"Моделирование-с-учетом-дисбаланса-4\"><span class=\"toc-item-num\">4&nbsp;&nbsp;</span>Моделирование с учетом дисбаланса</a></span><ul class=\"toc-item\"><li><span><a href=\"#Взвешивание-классов\" data-toc-modified-id=\"Взвешивание-классов-4.1\"><span class=\"toc-item-num\">4.1&nbsp;&nbsp;</span>Взвешивание классов</a></span></li><li><span><a href=\"#Увеличение-выборки\" data-toc-modified-id=\"Увеличение-выборки-4.2\"><span class=\"toc-item-num\">4.2&nbsp;&nbsp;</span>Увеличение выборки</a></span></li></ul></li><li><span><a href=\"#Финальное-тестирование\" data-toc-modified-id=\"Финальное-тестирование-5\"><span class=\"toc-item-num\">5&nbsp;&nbsp;</span>Финальное тестирование</a></span></li><li><span><a href=\"#Выводы\" data-toc-modified-id=\"Выводы-6\"><span class=\"toc-item-num\">6&nbsp;&nbsp;</span>Выводы</a></span></li></ul></div>"
   ]
  },
  {
   "cell_type": "code",
   "execution_count": 1,
   "id": "042e540d",
   "metadata": {},
   "outputs": [],
   "source": [
    "import pandas as pd\n",
    "import seaborn as sns\n",
    "import matplotlib.pyplot as plt\n",
    "from sklearn.model_selection import train_test_split\n",
    "from sklearn.tree import DecisionTreeClassifier\n",
    "from sklearn.ensemble import RandomForestClassifier\n",
    "from sklearn.linear_model import LogisticRegression\n",
    "from sklearn.metrics import roc_auc_score\n",
    "from sklearn.dummy import DummyClassifier\n",
    "from sklearn.metrics import f1_score\n",
    "from sklearn.preprocessing import StandardScaler\n",
    "from sklearn.model_selection import GridSearchCV\n",
    "from sklearn.utils import shuffle"
   ]
  },
  {
   "cell_type": "code",
   "execution_count": 2,
   "id": "660bd940",
   "metadata": {},
   "outputs": [],
   "source": [
    "from sklearn.model_selection import cross_validate\n",
    "import warnings\n",
    "warnings.filterwarnings('ignore')"
   ]
  },
  {
   "cell_type": "markdown",
   "id": "f50ea888",
   "metadata": {},
   "source": [
    "# Отток клиентов"
   ]
  },
  {
   "cell_type": "markdown",
   "id": "24c80c74",
   "metadata": {},
   "source": [
    "## Описание проекта"
   ]
  },
  {
   "cell_type": "markdown",
   "id": "d8cccce9",
   "metadata": {},
   "source": [
    "**Заказчик** - «Бета-Банк». Необходимо провести анализ клиентов для создания системы предсказания, покинет ли клиент данный банк в ближайшее время или нет. Такая информация позволит подобрать подходящий способ удержать клиента в данном банке - по мнению банковских маркетологов сохранять текущих клиентов выйдет для банка дешевле, чем привлекать новых.\n",
    "\n",
    "**Входные данные** - исторические данные о поведении клиентов и расторжении договоров с банком.\n",
    "\n",
    "**Основная задача** - построить модель для задачи классификации, которая будет прогнозировать, уйдет ли клиент из банка в ближайшее время или нет. Необходимое условие: значение показателя F1-меры должно превышать порог в 0.59."
   ]
  },
  {
   "cell_type": "markdown",
   "id": "a0500efe",
   "metadata": {},
   "source": [
    "Признаки:\n",
    "* RowNumber — индекс строки в данных\n",
    "* CustomerId — уникальный идентификатор клиента\n",
    "* Surname — фамилия\n",
    "* CreditScore — кредитный рейтинг\n",
    "* Geography — страна проживания\n",
    "* Gender — пол\n",
    "* Age — возраст\n",
    "* Tenure — сколько лет человек является клиентом банка\n",
    "* Balance — баланс на счёте\n",
    "* NumOfProducts — количество продуктов банка, используемых клиентом\n",
    "* HasCrCard — наличие кредитной карты\n",
    "* IsActiveMember — активность клиента\n",
    "* EstimatedSalary — предполагаемая зарплата\n",
    "\n",
    "Целевой признак:\n",
    "* Exited — факт ухода клиента"
   ]
  },
  {
   "cell_type": "markdown",
   "id": "d626e971",
   "metadata": {},
   "source": [
    "## Описание и подготовка данных"
   ]
  },
  {
   "cell_type": "markdown",
   "id": "47067521",
   "metadata": {},
   "source": [
    "Начнем с загрузки исходного набора данных. Также выведем основную информацию о данных. "
   ]
  },
  {
   "cell_type": "code",
   "execution_count": 3,
   "id": "72aba577",
   "metadata": {},
   "outputs": [],
   "source": [
    "try:\n",
    "    data = pd.read_csv('/datasets/Churn.csv')\n",
    "except:\n",
    "    data = pd.read_csv('Churn.csv')"
   ]
  },
  {
   "cell_type": "code",
   "execution_count": 4,
   "id": "af6664d2",
   "metadata": {},
   "outputs": [
    {
     "name": "stdout",
     "output_type": "stream",
     "text": [
      "<class 'pandas.core.frame.DataFrame'>\n",
      "RangeIndex: 10000 entries, 0 to 9999\n",
      "Data columns (total 14 columns):\n",
      " #   Column           Non-Null Count  Dtype  \n",
      "---  ------           --------------  -----  \n",
      " 0   RowNumber        10000 non-null  int64  \n",
      " 1   CustomerId       10000 non-null  int64  \n",
      " 2   Surname          10000 non-null  object \n",
      " 3   CreditScore      10000 non-null  int64  \n",
      " 4   Geography        10000 non-null  object \n",
      " 5   Gender           10000 non-null  object \n",
      " 6   Age              10000 non-null  int64  \n",
      " 7   Tenure           9091 non-null   float64\n",
      " 8   Balance          10000 non-null  float64\n",
      " 9   NumOfProducts    10000 non-null  int64  \n",
      " 10  HasCrCard        10000 non-null  int64  \n",
      " 11  IsActiveMember   10000 non-null  int64  \n",
      " 12  EstimatedSalary  10000 non-null  float64\n",
      " 13  Exited           10000 non-null  int64  \n",
      "dtypes: float64(3), int64(8), object(3)\n",
      "memory usage: 1.1+ MB\n"
     ]
    }
   ],
   "source": [
    "data.info()"
   ]
  },
  {
   "cell_type": "code",
   "execution_count": 5,
   "id": "706981c3",
   "metadata": {},
   "outputs": [
    {
     "data": {
      "text/html": [
       "<div>\n",
       "<style scoped>\n",
       "    .dataframe tbody tr th:only-of-type {\n",
       "        vertical-align: middle;\n",
       "    }\n",
       "\n",
       "    .dataframe tbody tr th {\n",
       "        vertical-align: top;\n",
       "    }\n",
       "\n",
       "    .dataframe thead th {\n",
       "        text-align: right;\n",
       "    }\n",
       "</style>\n",
       "<table border=\"1\" class=\"dataframe\">\n",
       "  <thead>\n",
       "    <tr style=\"text-align: right;\">\n",
       "      <th></th>\n",
       "      <th>RowNumber</th>\n",
       "      <th>CustomerId</th>\n",
       "      <th>Surname</th>\n",
       "      <th>CreditScore</th>\n",
       "      <th>Geography</th>\n",
       "      <th>Gender</th>\n",
       "      <th>Age</th>\n",
       "      <th>Tenure</th>\n",
       "      <th>Balance</th>\n",
       "      <th>NumOfProducts</th>\n",
       "      <th>HasCrCard</th>\n",
       "      <th>IsActiveMember</th>\n",
       "      <th>EstimatedSalary</th>\n",
       "      <th>Exited</th>\n",
       "    </tr>\n",
       "  </thead>\n",
       "  <tbody>\n",
       "    <tr>\n",
       "      <th>0</th>\n",
       "      <td>1</td>\n",
       "      <td>15634602</td>\n",
       "      <td>Hargrave</td>\n",
       "      <td>619</td>\n",
       "      <td>France</td>\n",
       "      <td>Female</td>\n",
       "      <td>42</td>\n",
       "      <td>2.0</td>\n",
       "      <td>0.00</td>\n",
       "      <td>1</td>\n",
       "      <td>1</td>\n",
       "      <td>1</td>\n",
       "      <td>101348.88</td>\n",
       "      <td>1</td>\n",
       "    </tr>\n",
       "    <tr>\n",
       "      <th>1</th>\n",
       "      <td>2</td>\n",
       "      <td>15647311</td>\n",
       "      <td>Hill</td>\n",
       "      <td>608</td>\n",
       "      <td>Spain</td>\n",
       "      <td>Female</td>\n",
       "      <td>41</td>\n",
       "      <td>1.0</td>\n",
       "      <td>83807.86</td>\n",
       "      <td>1</td>\n",
       "      <td>0</td>\n",
       "      <td>1</td>\n",
       "      <td>112542.58</td>\n",
       "      <td>0</td>\n",
       "    </tr>\n",
       "    <tr>\n",
       "      <th>2</th>\n",
       "      <td>3</td>\n",
       "      <td>15619304</td>\n",
       "      <td>Onio</td>\n",
       "      <td>502</td>\n",
       "      <td>France</td>\n",
       "      <td>Female</td>\n",
       "      <td>42</td>\n",
       "      <td>8.0</td>\n",
       "      <td>159660.80</td>\n",
       "      <td>3</td>\n",
       "      <td>1</td>\n",
       "      <td>0</td>\n",
       "      <td>113931.57</td>\n",
       "      <td>1</td>\n",
       "    </tr>\n",
       "    <tr>\n",
       "      <th>3</th>\n",
       "      <td>4</td>\n",
       "      <td>15701354</td>\n",
       "      <td>Boni</td>\n",
       "      <td>699</td>\n",
       "      <td>France</td>\n",
       "      <td>Female</td>\n",
       "      <td>39</td>\n",
       "      <td>1.0</td>\n",
       "      <td>0.00</td>\n",
       "      <td>2</td>\n",
       "      <td>0</td>\n",
       "      <td>0</td>\n",
       "      <td>93826.63</td>\n",
       "      <td>0</td>\n",
       "    </tr>\n",
       "    <tr>\n",
       "      <th>4</th>\n",
       "      <td>5</td>\n",
       "      <td>15737888</td>\n",
       "      <td>Mitchell</td>\n",
       "      <td>850</td>\n",
       "      <td>Spain</td>\n",
       "      <td>Female</td>\n",
       "      <td>43</td>\n",
       "      <td>2.0</td>\n",
       "      <td>125510.82</td>\n",
       "      <td>1</td>\n",
       "      <td>1</td>\n",
       "      <td>1</td>\n",
       "      <td>79084.10</td>\n",
       "      <td>0</td>\n",
       "    </tr>\n",
       "  </tbody>\n",
       "</table>\n",
       "</div>"
      ],
      "text/plain": [
       "   RowNumber  CustomerId   Surname  CreditScore Geography  Gender  Age  \\\n",
       "0          1    15634602  Hargrave          619    France  Female   42   \n",
       "1          2    15647311      Hill          608     Spain  Female   41   \n",
       "2          3    15619304      Onio          502    France  Female   42   \n",
       "3          4    15701354      Boni          699    France  Female   39   \n",
       "4          5    15737888  Mitchell          850     Spain  Female   43   \n",
       "\n",
       "   Tenure    Balance  NumOfProducts  HasCrCard  IsActiveMember  \\\n",
       "0     2.0       0.00              1          1               1   \n",
       "1     1.0   83807.86              1          0               1   \n",
       "2     8.0  159660.80              3          1               0   \n",
       "3     1.0       0.00              2          0               0   \n",
       "4     2.0  125510.82              1          1               1   \n",
       "\n",
       "   EstimatedSalary  Exited  \n",
       "0        101348.88       1  \n",
       "1        112542.58       0  \n",
       "2        113931.57       1  \n",
       "3         93826.63       0  \n",
       "4         79084.10       0  "
      ]
     },
     "execution_count": 5,
     "metadata": {},
     "output_type": "execute_result"
    }
   ],
   "source": [
    "data.head()"
   ]
  },
  {
   "cell_type": "markdown",
   "id": "9d198184",
   "metadata": {},
   "source": [
    "Какие выводы можно сделать на текущий момент? \n",
    "\n",
    "Прежде всего, большинство переменных в исходных данных представлены численными типами: `float64` и `int64`. Помимо этого в данных присутствуют три переменные с типом `object` - для дальнейшей работы необходимо решить, что мы будем с ними делать, ведь в таком виде они не подойдут для моделирования. Рассмотрим каждую из данных характеристик в отдельности. Первая такая переменная отвечает за фамилию клиента - данная характеристика не является информативной при моделировании по следующей возможной причине. Существует довольно много разнообразных фамилий и вычленить какую-то зависимость между ними и поведением клиентов на проводимом нами довольно базовом моделировании довольно сложно. Именно поэтому нами было принято решение удалить данную характеристику. К данному типу также относятся переменные, отвечающие за регион проживания и пол клиента. Обе переменные могут оказывать некоторое влияние на поведение клиента, поэтому весьма важно учесть данные характеристики при моделировании. Для этого мы закодируем их при помощи метода One-Hot Encoding. Поскольку у нас всего две исходные характеристики и они обе принимают не слишком большое число уникальных значений, созданием категориальных переменных мы не станем чрезмерно множить переменные. \n",
    "\n",
    "Также нельзя не заметить наличие пропусков у одной из характеристик - количество лет, в течении которых клиент пользовался услугами рассматриваемого нами банка. Наблюдения с пропусками автоматически исключаются при моделировании методами машинного обучения, поэтому, чтобы не потерять часть данных, нам предстоит подобрать оптимальный способ заполнения данных пропусков. \n",
    "\n",
    "Как уже упоминалось ранее, большинство исходных переменных представлены численными типами. Для того чтобы не потерять потенциально значимые переменные из-за того, что они обладают меньшими значениями по сравнению с другими переменными, используем стандартизацию данных. \n",
    "\n",
    "Наконец, хотелось бы отметить еще один значимый момент. Мы уже упоминали, что фамилия не является информативным параметром для наших моделей и, помимо данной характеристики, есть еще несколько неинформативных переменных, которые бы не стоило учитывать при моделировании - порядковый номер клиента, а также его ID. "
   ]
  },
  {
   "cell_type": "markdown",
   "id": "d4477a31",
   "metadata": {},
   "source": [
    "Начнем с заполнения пропусков. Выведем дискриптивную статистику по переменной `Tenure`. Позже, после заполнения, мы сравним новые данные, чтобы быть уверенными, что мы не слишком исказили выборку. "
   ]
  },
  {
   "cell_type": "code",
   "execution_count": 6,
   "id": "5f096e30",
   "metadata": {},
   "outputs": [
    {
     "name": "stdout",
     "output_type": "stream",
     "text": [
      "count    9091.000000\n",
      "mean        4.997690\n",
      "std         2.894723\n",
      "min         0.000000\n",
      "25%         2.000000\n",
      "50%         5.000000\n",
      "75%         7.000000\n",
      "max        10.000000\n",
      "Name: Tenure, dtype: float64\n"
     ]
    }
   ],
   "source": [
    "print(data['Tenure'].describe())\n",
    "data['Tenure'] = data['Tenure'].fillna(-1)"
   ]
  },
  {
   "cell_type": "markdown",
   "id": "98044e9d",
   "metadata": {},
   "source": [
    "Попробуем заполнить пропуски при помощи информации о возрасте клиента. Мы руководствуемся следующей логикой - в рамках одного возраста люди являются клиентами банка примерно равное количество времени. \n",
    "\n",
    "Построим сводную таблицу по возрасту клиентов, в которой будет высчитывать медианное значение продолжительности периода времени, в течении которого человек являлся клиентом исследуемого нами банка. После создадим функцию, которая будет возвращать полученную медиану для тех наблюдений, в которых присутствует пропуск. "
   ]
  },
  {
   "cell_type": "code",
   "execution_count": 7,
   "id": "1047b5f0",
   "metadata": {},
   "outputs": [
    {
     "data": {
      "text/html": [
       "<div>\n",
       "<style scoped>\n",
       "    .dataframe tbody tr th:only-of-type {\n",
       "        vertical-align: middle;\n",
       "    }\n",
       "\n",
       "    .dataframe tbody tr th {\n",
       "        vertical-align: top;\n",
       "    }\n",
       "\n",
       "    .dataframe thead th {\n",
       "        text-align: right;\n",
       "    }\n",
       "</style>\n",
       "<table border=\"1\" class=\"dataframe\">\n",
       "  <thead>\n",
       "    <tr style=\"text-align: right;\">\n",
       "      <th></th>\n",
       "      <th>Age</th>\n",
       "      <th>Median</th>\n",
       "    </tr>\n",
       "  </thead>\n",
       "  <tbody>\n",
       "    <tr>\n",
       "      <th>0</th>\n",
       "      <td>18</td>\n",
       "      <td>4.0</td>\n",
       "    </tr>\n",
       "    <tr>\n",
       "      <th>1</th>\n",
       "      <td>19</td>\n",
       "      <td>5.0</td>\n",
       "    </tr>\n",
       "    <tr>\n",
       "      <th>2</th>\n",
       "      <td>20</td>\n",
       "      <td>4.0</td>\n",
       "    </tr>\n",
       "    <tr>\n",
       "      <th>3</th>\n",
       "      <td>21</td>\n",
       "      <td>4.0</td>\n",
       "    </tr>\n",
       "    <tr>\n",
       "      <th>4</th>\n",
       "      <td>22</td>\n",
       "      <td>5.0</td>\n",
       "    </tr>\n",
       "  </tbody>\n",
       "</table>\n",
       "</div>"
      ],
      "text/plain": [
       "   Age  Median\n",
       "0   18     4.0\n",
       "1   19     5.0\n",
       "2   20     4.0\n",
       "3   21     4.0\n",
       "4   22     5.0"
      ]
     },
     "execution_count": 7,
     "metadata": {},
     "output_type": "execute_result"
    }
   ],
   "source": [
    "ten_piv = data.pivot_table(index='Age', values = 'Tenure', aggfunc=['median']).reset_index()\n",
    "ten_piv.columns = ['Age', 'Median']\n",
    "ten_piv.head()"
   ]
  },
  {
   "cell_type": "code",
   "execution_count": 8,
   "id": "50be4748",
   "metadata": {},
   "outputs": [],
   "source": [
    "def tenur_miss(row):\n",
    "    age = row['Age']\n",
    "    tenure = row['Tenure']\n",
    "    if tenure == -1:\n",
    "        for i in range(len(ten_piv)):\n",
    "            if ten_piv['Age'][i] == age:\n",
    "                return ten_piv['Median'][i]\n",
    "    else: return tenure"
   ]
  },
  {
   "cell_type": "code",
   "execution_count": 9,
   "id": "0ed53435",
   "metadata": {},
   "outputs": [],
   "source": [
    "data['Tenure'] = data.apply(tenur_miss, axis=1)"
   ]
  },
  {
   "cell_type": "code",
   "execution_count": 10,
   "id": "078aa772",
   "metadata": {},
   "outputs": [
    {
     "name": "stdout",
     "output_type": "stream",
     "text": [
      "count    10000.000000\n",
      "mean         4.948700\n",
      "std          2.769609\n",
      "min          0.000000\n",
      "25%          3.000000\n",
      "50%          5.000000\n",
      "75%          7.000000\n",
      "max         10.000000\n",
      "Name: Tenure, dtype: float64\n"
     ]
    }
   ],
   "source": [
    "print(data['Tenure'].describe())"
   ]
  },
  {
   "cell_type": "markdown",
   "id": "0e2d92c5",
   "metadata": {},
   "source": [
    "Как можно заметить, смещение в описательных статистиках невелико - нам удалось заполнить пропущенные значения и при этом значительно не исказить исходные данные перед моделированием.\n",
    "\n",
    "Теперь займемся созданием дамми-категорий. Для этого, прежде всего, удалим переменную, отвечающую за фамилию клиента. После этого создадим сами дамми-переменные, используя встроенные функции. "
   ]
  },
  {
   "cell_type": "code",
   "execution_count": 11,
   "id": "889e0c27",
   "metadata": {},
   "outputs": [],
   "source": [
    "del data['Surname']\n",
    "data = pd.get_dummies(data, drop_first=True)"
   ]
  },
  {
   "cell_type": "code",
   "execution_count": 12,
   "id": "b587a1a7",
   "metadata": {},
   "outputs": [
    {
     "data": {
      "text/html": [
       "<div>\n",
       "<style scoped>\n",
       "    .dataframe tbody tr th:only-of-type {\n",
       "        vertical-align: middle;\n",
       "    }\n",
       "\n",
       "    .dataframe tbody tr th {\n",
       "        vertical-align: top;\n",
       "    }\n",
       "\n",
       "    .dataframe thead th {\n",
       "        text-align: right;\n",
       "    }\n",
       "</style>\n",
       "<table border=\"1\" class=\"dataframe\">\n",
       "  <thead>\n",
       "    <tr style=\"text-align: right;\">\n",
       "      <th></th>\n",
       "      <th>RowNumber</th>\n",
       "      <th>CustomerId</th>\n",
       "      <th>CreditScore</th>\n",
       "      <th>Age</th>\n",
       "      <th>Tenure</th>\n",
       "      <th>Balance</th>\n",
       "      <th>NumOfProducts</th>\n",
       "      <th>HasCrCard</th>\n",
       "      <th>IsActiveMember</th>\n",
       "      <th>EstimatedSalary</th>\n",
       "      <th>Exited</th>\n",
       "      <th>Geography_Germany</th>\n",
       "      <th>Geography_Spain</th>\n",
       "      <th>Gender_Male</th>\n",
       "    </tr>\n",
       "  </thead>\n",
       "  <tbody>\n",
       "    <tr>\n",
       "      <th>0</th>\n",
       "      <td>1</td>\n",
       "      <td>15634602</td>\n",
       "      <td>619</td>\n",
       "      <td>42</td>\n",
       "      <td>2.0</td>\n",
       "      <td>0.00</td>\n",
       "      <td>1</td>\n",
       "      <td>1</td>\n",
       "      <td>1</td>\n",
       "      <td>101348.88</td>\n",
       "      <td>1</td>\n",
       "      <td>0</td>\n",
       "      <td>0</td>\n",
       "      <td>0</td>\n",
       "    </tr>\n",
       "    <tr>\n",
       "      <th>1</th>\n",
       "      <td>2</td>\n",
       "      <td>15647311</td>\n",
       "      <td>608</td>\n",
       "      <td>41</td>\n",
       "      <td>1.0</td>\n",
       "      <td>83807.86</td>\n",
       "      <td>1</td>\n",
       "      <td>0</td>\n",
       "      <td>1</td>\n",
       "      <td>112542.58</td>\n",
       "      <td>0</td>\n",
       "      <td>0</td>\n",
       "      <td>1</td>\n",
       "      <td>0</td>\n",
       "    </tr>\n",
       "    <tr>\n",
       "      <th>2</th>\n",
       "      <td>3</td>\n",
       "      <td>15619304</td>\n",
       "      <td>502</td>\n",
       "      <td>42</td>\n",
       "      <td>8.0</td>\n",
       "      <td>159660.80</td>\n",
       "      <td>3</td>\n",
       "      <td>1</td>\n",
       "      <td>0</td>\n",
       "      <td>113931.57</td>\n",
       "      <td>1</td>\n",
       "      <td>0</td>\n",
       "      <td>0</td>\n",
       "      <td>0</td>\n",
       "    </tr>\n",
       "    <tr>\n",
       "      <th>3</th>\n",
       "      <td>4</td>\n",
       "      <td>15701354</td>\n",
       "      <td>699</td>\n",
       "      <td>39</td>\n",
       "      <td>1.0</td>\n",
       "      <td>0.00</td>\n",
       "      <td>2</td>\n",
       "      <td>0</td>\n",
       "      <td>0</td>\n",
       "      <td>93826.63</td>\n",
       "      <td>0</td>\n",
       "      <td>0</td>\n",
       "      <td>0</td>\n",
       "      <td>0</td>\n",
       "    </tr>\n",
       "    <tr>\n",
       "      <th>4</th>\n",
       "      <td>5</td>\n",
       "      <td>15737888</td>\n",
       "      <td>850</td>\n",
       "      <td>43</td>\n",
       "      <td>2.0</td>\n",
       "      <td>125510.82</td>\n",
       "      <td>1</td>\n",
       "      <td>1</td>\n",
       "      <td>1</td>\n",
       "      <td>79084.10</td>\n",
       "      <td>0</td>\n",
       "      <td>0</td>\n",
       "      <td>1</td>\n",
       "      <td>0</td>\n",
       "    </tr>\n",
       "  </tbody>\n",
       "</table>\n",
       "</div>"
      ],
      "text/plain": [
       "   RowNumber  CustomerId  CreditScore  Age  Tenure    Balance  NumOfProducts  \\\n",
       "0          1    15634602          619   42     2.0       0.00              1   \n",
       "1          2    15647311          608   41     1.0   83807.86              1   \n",
       "2          3    15619304          502   42     8.0  159660.80              3   \n",
       "3          4    15701354          699   39     1.0       0.00              2   \n",
       "4          5    15737888          850   43     2.0  125510.82              1   \n",
       "\n",
       "   HasCrCard  IsActiveMember  EstimatedSalary  Exited  Geography_Germany  \\\n",
       "0          1               1        101348.88       1                  0   \n",
       "1          0               1        112542.58       0                  0   \n",
       "2          1               0        113931.57       1                  0   \n",
       "3          0               0         93826.63       0                  0   \n",
       "4          1               1         79084.10       0                  0   \n",
       "\n",
       "   Geography_Spain  Gender_Male  \n",
       "0                0            0  \n",
       "1                1            0  \n",
       "2                0            0  \n",
       "3                0            0  \n",
       "4                1            0  "
      ]
     },
     "execution_count": 12,
     "metadata": {},
     "output_type": "execute_result"
    }
   ],
   "source": [
    "data.head()"
   ]
  },
  {
   "cell_type": "markdown",
   "id": "480001d5",
   "metadata": {},
   "source": [
    "Теперь, когда большинство основных преобразований над данными совершены, перейдем к разбиению выборки. Поскольку в данных присутсвует сильный дисбаланс, в чем мы убедимся далее, — учтем это при разбиении данных на тренировочные и тестовые. "
   ]
  },
  {
   "cell_type": "code",
   "execution_count": 13,
   "id": "504c674d",
   "metadata": {},
   "outputs": [],
   "source": [
    "X_numb = data.copy().drop(['Exited', 'RowNumber', 'CustomerId'], axis=1)\n",
    "y = data[['Exited']]"
   ]
  },
  {
   "cell_type": "code",
   "execution_count": 14,
   "id": "cb8df9bd",
   "metadata": {},
   "outputs": [],
   "source": [
    "RANDOM_STATE = 9"
   ]
  },
  {
   "cell_type": "code",
   "execution_count": 15,
   "id": "c2ebd2f1",
   "metadata": {},
   "outputs": [],
   "source": [
    "X_train, X_test, y_train, y_test = train_test_split(X_numb, y,\n",
    "                                                  test_size=0.2, \n",
    "                                                  stratify = y,\n",
    "                                                  shuffle = True,\n",
    "                                                  random_state=RANDOM_STATE)"
   ]
  },
  {
   "cell_type": "markdown",
   "id": "65c825ad",
   "metadata": {},
   "source": [
    "Наконец, перейдем к заключительному этапу моделирования - стандартизации численных переменных. Обучим скалер на тренировочной выборке, после чего применим его к тестовым и тренировочным данным. "
   ]
  },
  {
   "cell_type": "code",
   "execution_count": 16,
   "id": "2329b0e6",
   "metadata": {},
   "outputs": [],
   "source": [
    "numeric = ['CreditScore', 'Age', 'Tenure', 'Balance', 'NumOfProducts', 'EstimatedSalary']"
   ]
  },
  {
   "cell_type": "code",
   "execution_count": 17,
   "id": "0b50abcd",
   "metadata": {
    "scrolled": false
   },
   "outputs": [],
   "source": [
    "scaler = StandardScaler()\n",
    "scaler.fit(X_train[numeric])\n",
    "X_train[numeric] = scaler.transform(X_train[numeric])\n",
    "X_test[numeric] = scaler.transform(X_test[numeric])"
   ]
  },
  {
   "cell_type": "code",
   "execution_count": 18,
   "id": "1a4a7d0d",
   "metadata": {},
   "outputs": [
    {
     "name": "stdout",
     "output_type": "stream",
     "text": [
      "Размер тренировочной выборки: (8000, 11) (8000, 1)\n",
      "Размер тестовой выборки: (2000, 11) (2000, 1)\n"
     ]
    }
   ],
   "source": [
    "print('Размер тренировочной выборки:', X_train.shape, y_train.shape)\n",
    "print('Размер тестовой выборки:', X_test.shape, y_test.shape)"
   ]
  },
  {
   "cell_type": "markdown",
   "id": "8c037630",
   "metadata": {},
   "source": [
    "Итак, на данном этапе мы провели предварительный анализ исходных данных. Нами была проведена следующая работа:\n",
    "* Было выявлено наличие переменных типа `object`. Часть из них мы перевели в категориальные дамми-переменные. Остальные удалили из исходных данных за неинформативностью.\n",
    "* Было выявлено наличие пропущенных наблюдений в переменной `Tenure`. Мы попытались заполнить пропуски основываясь на информации о возрасте клиентов. \n",
    "* Данные были разделены на тренировочные и тестовые с учетом дисбаланса.\n",
    "* Данные были приведены к единому масштабу при помощи метода стандартизации."
   ]
  },
  {
   "cell_type": "markdown",
   "id": "9f6cfa00",
   "metadata": {},
   "source": [
    "## Моделиривание без учета дисбаланса"
   ]
  },
  {
   "cell_type": "markdown",
   "id": "e096c0b2",
   "metadata": {},
   "source": [
    "Перейдем к следующему этапу работы - моделированию. Однако перед этим проведем дополнительный анализ нашего таргета и исследуем его баланс классов."
   ]
  },
  {
   "cell_type": "code",
   "execution_count": 19,
   "id": "de257f2b",
   "metadata": {},
   "outputs": [
    {
     "data": {
      "image/png": "[encoded data removed]",
      "text/plain": [
       "<Figure size 432x288 with 1 Axes>"
      ]
     },
     "metadata": {
      "needs_background": "light"
     },
     "output_type": "display_data"
    },
    {
     "data": {
      "text/plain": [
       "0    7963\n",
       "1    2037\n",
       "Name: Exited, dtype: int64"
      ]
     },
     "execution_count": 19,
     "metadata": {},
     "output_type": "execute_result"
    }
   ],
   "source": [
    "sns.countplot(data=y, x='Exited')\n",
    "plt.show()\n",
    "y['Exited'].value_counts()"
   ]
  },
  {
   "cell_type": "markdown",
   "id": "73ccdb01",
   "metadata": {},
   "source": [
    "Как можно заметить, данные состоят преимущественно из клиентов, которые не покидали исследуемый банк - число единиц в несколько раз меньше числа нулей. Такой перевес одного из классов может значительно повлиять на получаемые результаты. Поскольку ключевым значением таргета для нас является единица: то есть те клиенты, которые покинули банк, - при наличии малого числа таких наблюдений, предсказания полученных моделей может быть некачественным. В таком случае, даже при высоком значение ключевых метрик, наши модели не будут соответствовать запросам банка, поскольку будут плохо справляться со своей основной задачей - предсказывать клиентов, готовящихся покинуть банк. \n",
    "\n",
    "Для того чтобы добиться более высокого качества наших моделей, а также сделать их предсказания более качественными, нам будет необходимо провести дополнительную работу по подготовке данных. Однако перед этим попробуем построить модели с имеющимися данными - возможно, имеющийся дисбаланс не столь существенен, как мы думаем, и стандартных моделей будет более чем достаточно."
   ]
  },
  {
   "cell_type": "markdown",
   "id": "37c2a895",
   "metadata": {},
   "source": [
    "В данной работе рассматриваются три модели машинного обучения с учителем - логистическая регрессия, дерево решений и случайный лес. Для каждой из моделей мы постараемся подобрать наиболее оптимальные параметры для того, чтобы достичь наибольшего значения ключевого показателя - F1-меры. Подбор параметров будет осуществляться при помощи метода GridSearch."
   ]
  },
  {
   "cell_type": "markdown",
   "id": "b1917dcd",
   "metadata": {},
   "source": [
    "### Логистическая регрессия"
   ]
  },
  {
   "cell_type": "markdown",
   "id": "697b061b",
   "metadata": {},
   "source": [
    "Начнем с модели логистической регрессии. У данной модели мы рассмотрим два параметра: *solvers* и *penalty*. Первый параметр решает, какой решатель использовать для подбора модели. Второй параметр отвечает за наличие регуляризации, которая помогает снижать переобучение модели посредством наложения штрафов за большие коэффициенты. К сожалению, не каждый вид регуляризации подходит к различным видам решателей, что будет необходимо учесть при обучении модели логистической регрессии.\n",
    "\n",
    "Итак, обучим модель логистической регрессии, подбирая такие значения параметров solvers и penalty, чтобы F1-мера была максимальной на тренировочной выборке."
   ]
  },
  {
   "cell_type": "code",
   "execution_count": 20,
   "id": "d59da642",
   "metadata": {},
   "outputs": [
    {
     "data": {
      "text/plain": [
       "GridSearchCV(cv=5, estimator=LogisticRegression(random_state=9),\n",
       "             param_grid={'penalty': ['l1', 'l2'],\n",
       "                         'solver': ['newton-cg', 'lbfgs', 'liblinear', 'sag',\n",
       "                                    'saga']},\n",
       "             scoring='f1')"
      ]
     },
     "execution_count": 20,
     "metadata": {},
     "output_type": "execute_result"
    }
   ],
   "source": [
    "logit = LogisticRegression(random_state=RANDOM_STATE)\n",
    "# Определяем модель для обучения\n",
    "params_log = {\"penalty\":[\"l1\",\"l2\"], \"solver\":['newton-cg', 'lbfgs', 'liblinear', 'sag', 'saga']}\n",
    "# Установливаем параметры для перебора\n",
    "cv_log = GridSearchCV(logit, param_grid=params_log,\n",
    "                      cv=5, scoring='f1')\n",
    "\n",
    "cv_log.fit(X_train, y_train)"
   ]
  },
  {
   "cell_type": "code",
   "execution_count": 21,
   "id": "712e0867",
   "metadata": {},
   "outputs": [
    {
     "name": "stdout",
     "output_type": "stream",
     "text": [
      "Лучшая логистическая регерссия: LogisticRegression(penalty='l1', random_state=9, solver='liblinear')\n",
      "F-1 score: 0.3119700320586077\n",
      "ROC-AUC: 0.7684962101877089\n"
     ]
    }
   ],
   "source": [
    "print('Лучшая логистическая регерссия:', cv_log.best_estimator_)\n",
    "print('F-1 score:', cv_log.best_score_)\n",
    "predict_one = cv_log.predict_proba(X_train)[:, 1]\n",
    "print('ROC-AUC:', roc_auc_score(y_train, predict_one))"
   ]
  },
  {
   "cell_type": "markdown",
   "id": "29e4d1f1",
   "metadata": {},
   "source": [
    "Итак, лучшая модель логистической регрессии имеет следующие параметры: penalty='l1' и solver='liblinear'. К сожалению, достигаемый показатель F1-меры не превышает минимальный порог в 0.59. Таким образом, данная модель с полученными параметрами нам не подходит."
   ]
  },
  {
   "cell_type": "markdown",
   "id": "0f660e46",
   "metadata": {},
   "source": [
    "### Дерево решений"
   ]
  },
  {
   "cell_type": "markdown",
   "id": "83d5864a",
   "metadata": {},
   "source": [
    "Перейдем к следующей модели - решающее дерево. У данной модели мы рассмотрим следующие параметры: *max_depth* и *max_features*. Первый параметр отвечает за глубину дерева, второй характеризует максимальное число признаков, по которым ищется лучшее разбиение в дереве."
   ]
  },
  {
   "cell_type": "code",
   "execution_count": 22,
   "id": "2656db1d",
   "metadata": {},
   "outputs": [
    {
     "data": {
      "text/plain": [
       "GridSearchCV(cv=5, estimator=DecisionTreeClassifier(random_state=9),\n",
       "             param_grid={'max_depth': range(1, 9),\n",
       "                         'max_features': ['auto', 'sqrt', 'log2']},\n",
       "             scoring='f1')"
      ]
     },
     "execution_count": 22,
     "metadata": {},
     "output_type": "execute_result"
    }
   ],
   "source": [
    "decision_tree = DecisionTreeClassifier(random_state=RANDOM_STATE)\n",
    "# Задаем модель для обучения\n",
    "params_tree = {'max_depth': range (1, 9, 1), 'max_features': ['auto', 'sqrt', 'log2']}\n",
    "# Устанавливаем параметры для перебора\n",
    "cv_tree = GridSearchCV(decision_tree, param_grid=params_tree,\n",
    "                      cv=5, scoring='f1')\n",
    "\n",
    "cv_tree.fit(X_train, y_train)"
   ]
  },
  {
   "cell_type": "code",
   "execution_count": 23,
   "id": "b8dcd50c",
   "metadata": {},
   "outputs": [
    {
     "name": "stdout",
     "output_type": "stream",
     "text": [
      "Лучшее дерево решений: DecisionTreeClassifier(max_depth=8, max_features='auto', random_state=9)\n",
      "F-1 score: 0.5241899630498322\n",
      "ROC-AUC: 0.8648397877319876\n"
     ]
    }
   ],
   "source": [
    "print('Лучшее дерево решений:', cv_tree.best_estimator_)\n",
    "print('F-1 score:', cv_tree.best_score_)\n",
    "predict_one = cv_tree.predict_proba(X_train)[:, 1]\n",
    "print('ROC-AUC:', roc_auc_score(y_train, predict_one))"
   ]
  },
  {
   "cell_type": "markdown",
   "id": "2c4f88de",
   "metadata": {},
   "source": [
    "Лучшее дерево решений имеет следующие параметры: max_depth=8 и max_features='auto'. Качество модели возросло, однако его все еще не достаточно для преодоления порога F1-меры в 0.59. Таким образом, модель решающего дерева с полученными параметрами также не подходит."
   ]
  },
  {
   "cell_type": "markdown",
   "id": "0ced9e70",
   "metadata": {},
   "source": [
    "### Случайный лес"
   ]
  },
  {
   "cell_type": "markdown",
   "id": "8532c56d",
   "metadata": {},
   "source": [
    "Наконец, перейдем к последней модели - случайному лесу. У данной модели мы рассмотрим следующие параметры: *max_depth*, *max_features* и *n_estimators*. Первые два мы уже рассматривали при построении дерева решений, так что подробнее расскажем только о последнем. Он определяет общее число деревьев, которые построит наша модель."
   ]
  },
  {
   "cell_type": "code",
   "execution_count": 24,
   "id": "01565fdd",
   "metadata": {},
   "outputs": [
    {
     "data": {
      "text/plain": [
       "GridSearchCV(cv=5, estimator=RandomForestClassifier(random_state=9),\n",
       "             param_grid={'max_depth': range(1, 9),\n",
       "                         'max_features': ['auto', 'sqrt', 'log2'],\n",
       "                         'n_estimators': range(50, 100, 10)},\n",
       "             scoring='f1')"
      ]
     },
     "execution_count": 24,
     "metadata": {},
     "output_type": "execute_result"
    }
   ],
   "source": [
    "random_forest = RandomForestClassifier(random_state=RANDOM_STATE)\n",
    "# Задаем модель для обучения\n",
    "params_forest = {'max_depth': range (1, 9, 1), 'max_features': ['auto', 'sqrt', 'log2'],\n",
    "                 'n_estimators': range(50, 100, 10)}\n",
    "# Указываем параметры для перебора\n",
    "cv_forest = GridSearchCV(random_forest, param_grid=params_forest,\n",
    "                      cv=5, scoring='f1')\n",
    "\n",
    "cv_forest.fit(X_train, y_train)"
   ]
  },
  {
   "cell_type": "code",
   "execution_count": 25,
   "id": "edff3c74",
   "metadata": {},
   "outputs": [
    {
     "name": "stdout",
     "output_type": "stream",
     "text": [
      "Лучший случайный лес: RandomForestClassifier(max_depth=8, n_estimators=80, random_state=9)\n",
      "F-1 score: 0.5537307520405796\n",
      "ROC-AUC: 0.9086269996436517\n"
     ]
    }
   ],
   "source": [
    "print('Лучший случайный лес:', cv_forest.best_estimator_)\n",
    "print('F-1 score:', cv_forest.best_score_)\n",
    "predict_one = cv_forest.predict_proba(X_train)[:, 1]\n",
    "print('ROC-AUC:', roc_auc_score(y_train, predict_one))"
   ]
  },
  {
   "cell_type": "markdown",
   "id": "b38867f6",
   "metadata": {},
   "source": [
    "<div style=\"background: #B0E0E6; padding: 5px; border: 1px solid SteelBlue; border-radius: 5px;\">\n",
    "    <font color='4682B4'><u><b>КОММЕНТАРИЙ СТУДЕНТА</b></u></font>\n",
    "    <br />\n",
    "    <font color='4682B4'> Дерево с параметрами, подобранными GridSearch! </font>\n",
    "</div>"
   ]
  },
  {
   "cell_type": "code",
   "execution_count": 26,
   "id": "c8e15ad9",
   "metadata": {},
   "outputs": [
    {
     "name": "stdout",
     "output_type": "stream",
     "text": [
      "Лучший случайный лес: RandomForestClassifier(max_depth=8, n_estimators=80, random_state=9)\n",
      "F-1 score: 0.5537307520405796\n",
      "ROC-AUC: 0.9086269996436517\n"
     ]
    }
   ],
   "source": [
    "best_forest = RandomForestClassifier(max_depth=8, n_estimators=80, random_state=RANDOM_STATE)\n",
    "scores = cross_validate(best_forest, X_train, y_train, scoring='f1', cv=5, return_estimator=True)\n",
    "best_forest.fit(X_train, y_train)\n",
    "\n",
    "print('Лучший случайный лес:', best_forest)\n",
    "print('F-1 score:', scores['test_score'].mean())\n",
    "print('ROC-AUC:', roc_auc_score(y_train, (best_forest.predict_proba(X_train)[:, 1])))"
   ]
  },
  {
   "cell_type": "markdown",
   "id": "7849c4df",
   "metadata": {},
   "source": [
    "Лучшая модель случайного леса имеет следующие параметры: max_depth=8 и n_estimators=80. Показатель качества данной модели также не превышает пороговое значение. Между тем, именно данная модель достигает наибольшего значения ключевой метрики.\n",
    "\n",
    "Отметим также такой интересный момент. Несмотря на то, что значение ключевой метрики не достигло порогового значения, ROC-AUС у каждой из моделей был весьма высок - до 0.9 у случайного леса. Почему так произошло? Ответ кроется в принципе расчета обоих параметров - F1-мера лучше оценивает выборки с дисбалансом, а также заботится о правильных предсказаниях положительного класса. А именно качественное предсказание положительного класса является основной нашей задачей.\n",
    "\n",
    "Таким образом, без учета дисбаланса классов у нашего таргета довольно непросто получить качественную модель с высоким значением F1-меры. "
   ]
  },
  {
   "cell_type": "markdown",
   "id": "2b8d47e6",
   "metadata": {},
   "source": [
    "## Моделирование с учетом дисбаланса"
   ]
  },
  {
   "cell_type": "markdown",
   "id": "d4e6bc29",
   "metadata": {},
   "source": [
    "Итак, полученные нами модели, которые мы обучали на исходных данных с дисбалансом, не смогли хорошо справиться со своей задачей - ни у одной из моделей достигаемый показатель F1-меры не перешел пороговое значение в 0.59. В таком случае, мы можем сделать вывод, что дисбаланс в классах оказывает сильное влияние на качество и предсказательную силу получаемых моделей. Это значит, что для получения качественной модели, которая будет соответствовать всем тем требованиям, что предъявил нам заказчик, необходимо провести дополнительную работу и снизить влияние дисбаланса. \n",
    "\n",
    "Для снижения влияния дисбаланса мы будем использовать следующие методы:\n",
    "1. Взвешивание классов\n",
    "2. Увеличение выборки"
   ]
  },
  {
   "cell_type": "markdown",
   "id": "fd13e43b",
   "metadata": {},
   "source": [
    "### Взвешивание классов"
   ]
  },
  {
   "cell_type": "markdown",
   "id": "d13fd9d9",
   "metadata": {},
   "source": [
    "Первый подход, который мы будем использовать - взвешенный классы. Мы будем использовать значение аргумента равное *balanced*. В таком случае вес класса будет зависеть от доли такого класса в выборке. \n",
    "\n",
    "Поскольку при моделировании без учета дисбаланса наибольшее качество было у модели случайного леса, при дальнейшем моделировании мы будем использовать именно данную модель."
   ]
  },
  {
   "cell_type": "code",
   "execution_count": 27,
   "id": "b8591029",
   "metadata": {},
   "outputs": [
    {
     "data": {
      "text/plain": [
       "GridSearchCV(cv=5,\n",
       "             estimator=RandomForestClassifier(class_weight='balanced',\n",
       "                                              random_state=9),\n",
       "             n_jobs=-1,\n",
       "             param_grid={'max_depth': range(1, 9),\n",
       "                         'max_features': ['auto', 'sqrt', 'log2'],\n",
       "                         'n_estimators': range(50, 100, 10)},\n",
       "             scoring='f1')"
      ]
     },
     "execution_count": 27,
     "metadata": {},
     "output_type": "execute_result"
    }
   ],
   "source": [
    "random_forest = RandomForestClassifier(random_state=RANDOM_STATE, class_weight='balanced')\n",
    "# Задаем модель для обучения\n",
    "params_forest = {'max_depth': range (1, 9, 1), 'max_features': ['auto', 'sqrt', 'log2'], \n",
    "                 'n_estimators': range(50, 100, 10)}\n",
    "# Указываем параметры для перебора\n",
    "cv_forest_balanced = GridSearchCV(random_forest, param_grid=params_forest,\n",
    "                      cv=5, scoring='f1', n_jobs=-1)\n",
    "\n",
    "cv_forest_balanced.fit(X_train, y_train)"
   ]
  },
  {
   "cell_type": "code",
   "execution_count": 28,
   "id": "34e98c79",
   "metadata": {},
   "outputs": [
    {
     "name": "stdout",
     "output_type": "stream",
     "text": [
      "Лучший случайный лес: RandomForestClassifier(class_weight='balanced', max_depth=8, n_estimators=60,\n",
      "                       random_state=9)\n",
      "F-1 score: 0.6156321176769578\n",
      "ROC-AUC: 0.9145094432298639\n"
     ]
    }
   ],
   "source": [
    "print('Лучший случайный лес:', cv_forest_balanced.best_estimator_)\n",
    "print('F-1 score:', cv_forest_balanced.best_score_)\n",
    "predict_one = cv_forest_balanced.predict_proba(X_train)[:, 1]\n",
    "print('ROC-AUC:', roc_auc_score(y_train, predict_one))"
   ]
  },
  {
   "cell_type": "markdown",
   "id": "ae0068d0",
   "metadata": {},
   "source": [
    "<div style=\"background: #B0E0E6; padding: 5px; border: 1px solid SteelBlue; border-radius: 5px;\">\n",
    "    <font color='4682B4'><u><b>КОММЕНТАРИЙ СТУДЕНТА</b></u></font>\n",
    "    <br />\n",
    "    <font color='4682B4'> Дерево с параметрами, подобранными GridSearch! </font>\n",
    "</div>"
   ]
  },
  {
   "cell_type": "code",
   "execution_count": 29,
   "id": "97eab78d",
   "metadata": {},
   "outputs": [
    {
     "name": "stdout",
     "output_type": "stream",
     "text": [
      "Лучший случайный лес: RandomForestClassifier(class_weight='balanced', max_depth=8, n_estimators=60,\n",
      "                       random_state=9)\n",
      "F-1 score: 0.6156321176769578\n",
      "ROC-AUC: 0.9145094432298639\n"
     ]
    }
   ],
   "source": [
    "best_forest_balanced = RandomForestClassifier(class_weight='balanced', max_depth=8, n_estimators=60,\n",
    "                                              random_state=RANDOM_STATE)\n",
    "scores = cross_validate(best_forest_balanced, X_train, y_train, scoring='f1', cv=5, return_estimator=True)\n",
    "best_forest_balanced.fit(X_train, y_train)\n",
    "\n",
    "print('Лучший случайный лес:', best_forest_balanced)\n",
    "print('F-1 score:', scores['test_score'].mean())\n",
    "print('ROC-AUC:', roc_auc_score(y_train, (best_forest_balanced.predict_proba(X_train)[:, 1])))"
   ]
  },
  {
   "cell_type": "markdown",
   "id": "6ca01058",
   "metadata": {},
   "source": [
    "Лучшая модель случайного леса с балансировкой классов имеет следующие параметры: max_depth=8 и n_estimators=60. Показатель качества F1-меры данной модели наконец-то превышает пороговое значение. Более того, достигаемая нами ROC-AUC также высока.\n",
    "\n",
    "Однако, не будем останавливаться только на одном методе и попробуем еще увеличить значение ключевого параметра."
   ]
  },
  {
   "cell_type": "markdown",
   "id": "889b1cbe",
   "metadata": {},
   "source": [
    "### Увеличение выборки"
   ]
  },
  {
   "cell_type": "markdown",
   "id": "b7286dd8",
   "metadata": {},
   "source": [
    "Второй метод, который мы используем для борьбы с дисбалансом классов таргета - увеличение выборки. Используя данный метод мы искусственно завышаем число необходимой нам категории, дублируя их. В рамках нашего кейса мы увеличим число наблюдений, относящихся к положительной категории."
   ]
  },
  {
   "cell_type": "code",
   "execution_count": 30,
   "id": "571cf2b2",
   "metadata": {
    "scrolled": true
   },
   "outputs": [],
   "source": [
    "repeat = round(X_train[y_train['Exited'] == 0]['CreditScore'].count()/\n",
    "    X_train[y_train['Exited'] == 1]['CreditScore'].count())"
   ]
  },
  {
   "cell_type": "code",
   "execution_count": 31,
   "id": "19b29a73",
   "metadata": {},
   "outputs": [],
   "source": [
    "def upsample(features, target, repeat):\n",
    "    features_zeros = features[target['Exited'] == 0]\n",
    "    features_ones = features[target['Exited'] == 1]\n",
    "    target_zeros = target[target['Exited'] == 0]\n",
    "    terget_ones = target[target['Exited'] == 1]\n",
    "    # pd.concat() - объединяет таблицы\n",
    "    features_upsampled = pd.concat([features_zeros] + [features_ones] * repeat)\n",
    "    target_upsampled = pd.concat([target_zeros] + [terget_ones] * repeat)\n",
    "    # shuffle() - перемешивает данные\n",
    "    features_upsampled = shuffle(features_upsampled, random_state=9)\n",
    "    target_upsampled = shuffle(target_upsampled, random_state=9)\n",
    "    return features_upsampled, target_upsampled\n",
    "\n",
    "X_upsampled, y_upsampled = upsample(X_train, y_train, repeat)"
   ]
  },
  {
   "cell_type": "markdown",
   "id": "2f46b462",
   "metadata": {},
   "source": [
    "Посмотрим, как изменилось долевое соотношение после преобразования. Также вновь обучим модель случайного леса и оценим ее  качество на обновленных данных. "
   ]
  },
  {
   "cell_type": "code",
   "execution_count": 32,
   "id": "34d2fa56",
   "metadata": {},
   "outputs": [
    {
     "data": {
      "image/png": "[encoded data removed]",
      "text/plain": [
       "<Figure size 432x288 with 1 Axes>"
      ]
     },
     "metadata": {
      "needs_background": "light"
     },
     "output_type": "display_data"
    },
    {
     "data": {
      "text/plain": [
       "1    6520\n",
       "0    6370\n",
       "Name: Exited, dtype: int64"
      ]
     },
     "execution_count": 32,
     "metadata": {},
     "output_type": "execute_result"
    }
   ],
   "source": [
    "sns.countplot(data=y_upsampled, x='Exited')\n",
    "plt.show()\n",
    "y_upsampled['Exited'].value_counts()"
   ]
  },
  {
   "cell_type": "code",
   "execution_count": 33,
   "id": "831e2c27",
   "metadata": {},
   "outputs": [
    {
     "data": {
      "text/plain": [
       "GridSearchCV(estimator=RandomForestClassifier(random_state=9), n_jobs=-1,\n",
       "             param_grid={'max_depth': range(1, 9),\n",
       "                         'max_features': ['auto', 'sqrt', 'log2'],\n",
       "                         'n_estimators': range(50, 100, 10)},\n",
       "             scoring='f1')"
      ]
     },
     "execution_count": 33,
     "metadata": {},
     "output_type": "execute_result"
    }
   ],
   "source": [
    "random_forest = RandomForestClassifier(random_state=RANDOM_STATE)\n",
    "# Задаем модель для обучения\n",
    "params_forest = {'max_depth': range (1, 9, 1), 'max_features': ['auto', 'sqrt', 'log2'],\n",
    "                 'n_estimators': range(50, 100, 10)}\n",
    "# Указываем параметры для перебора\n",
    "cv_forest_upsampled = GridSearchCV(random_forest, param_grid=params_forest, scoring='f1', n_jobs=-1)\n",
    "\n",
    "cv_forest_upsampled.fit(X_upsampled, y_upsampled)"
   ]
  },
  {
   "cell_type": "code",
   "execution_count": 34,
   "id": "ef76bc95",
   "metadata": {},
   "outputs": [
    {
     "name": "stdout",
     "output_type": "stream",
     "text": [
      "Лучший случайный лес: RandomForestClassifier(max_depth=8, n_estimators=50, random_state=9)\n",
      "F-1 score: 0.8131386799000475\n",
      "ROC-AUC: 0.9159651260220936\n"
     ]
    }
   ],
   "source": [
    "print('Лучший случайный лес:', cv_forest_upsampled.best_estimator_)\n",
    "print('F-1 score:', cv_forest_upsampled.best_score_)\n",
    "predict_one = cv_forest_upsampled.predict_proba(X_train)[:, 1]\n",
    "print('ROC-AUC:', roc_auc_score(y_train, predict_one))"
   ]
  },
  {
   "cell_type": "markdown",
   "id": "86018a63",
   "metadata": {},
   "source": [
    "<div style=\"background: #B0E0E6; padding: 5px; border: 1px solid SteelBlue; border-radius: 5px;\">\n",
    "    <font color='4682B4'><u><b>КОММЕНТАРИЙ СТУДЕНТА</b></u></font>\n",
    "    <br />\n",
    "    <font color='4682B4'> Дерево с параметрами, подобранными GridSearch! </font>\n",
    "</div>"
   ]
  },
  {
   "cell_type": "code",
   "execution_count": 35,
   "id": "25ce52b1",
   "metadata": {},
   "outputs": [
    {
     "name": "stdout",
     "output_type": "stream",
     "text": [
      "Лучший случайный лес: RandomForestClassifier(max_depth=8, n_estimators=50, random_state=9)\n",
      "F-1 score: 0.8131386799000475\n",
      "ROC-AUC: 0.9159651260220936\n"
     ]
    }
   ],
   "source": [
    "best_forest_upsampled = RandomForestClassifier(max_depth=8, n_estimators=50, random_state=RANDOM_STATE)\n",
    "scores = cross_validate(best_forest_upsampled, X_upsampled, y_upsampled,\n",
    "                        scoring='f1', return_estimator=True)\n",
    "best_forest_upsampled.fit(X_upsampled, y_upsampled)\n",
    "\n",
    "print('Лучший случайный лес:', best_forest_upsampled)\n",
    "print('F-1 score:', scores['test_score'].mean())\n",
    "print('ROC-AUC:', roc_auc_score(y_upsampled, (best_forest_upsampled.predict_proba(X_upsampled)[:, 1])))"
   ]
  },
  {
   "cell_type": "markdown",
   "id": "991418cc",
   "metadata": {},
   "source": [
    "Лучшая модель случайного леса с увеличенным числом положительного класса имеет следующие параметры: max_depth=8 и n_estimators=50,. Показатель качества F1-меры данной модели превышает не только пороговое значение ключевой меры, но также и аналогичный показатель предыдущей модели с балансировкой классов. Аналогично и для ROC-AUC. Именно данную модель мы признаем в качестве итоговой."
   ]
  },
  {
   "cell_type": "markdown",
   "id": "c3fe7405",
   "metadata": {},
   "source": [
    "## Финальное тестирование"
   ]
  },
  {
   "cell_type": "markdown",
   "id": "1224d33d",
   "metadata": {},
   "source": [
    "На данном этапе рассмотрим, как построенная нами модель, которую мы выбрали в качестве итоговой, справляется с предсказаниями на тестовых данных. Напомним, что по итогу предыдущего этапа работы итоговой моделью была выбрана модель случайного леса со следующими параметрами: max_depth=8 и n_estimators=50."
   ]
  },
  {
   "cell_type": "code",
   "execution_count": 36,
   "id": "42f61ad9",
   "metadata": {
    "scrolled": true
   },
   "outputs": [
    {
     "name": "stdout",
     "output_type": "stream",
     "text": [
      "F-1 score: 0.6294736842105263\n",
      "ROC-AUC: 0.8705739637943027\n"
     ]
    }
   ],
   "source": [
    "print('F-1 score:', f1_score(y_test, cv_forest_upsampled.predict(X_test)))\n",
    "print('ROC-AUC:', roc_auc_score(y_test, (best_forest_upsampled.predict_proba(X_test)[:, 1])))"
   ]
  },
  {
   "cell_type": "markdown",
   "id": "608723f1",
   "metadata": {},
   "source": [
    "Модель случайного леса показала неплохое значение критерия качества на тренировочной выборке, однако оба критерия несколько снизились на тестовой выборке. Наиболее вероятной причиной такой ситуации можно считать возникшее переобучения - наша итоговая модель слишком хорошо подстроилась к тренировочным данным. Также, вероятно, на это повлияло искусственное увеличение наблюдений с положительным классом путем копирования - по итогу модель получила слишком много однотипных положительных ответов и подстроилась под них."
   ]
  },
  {
   "cell_type": "markdown",
   "id": "da95ed8c",
   "metadata": {},
   "source": [
    "## Выводы"
   ]
  },
  {
   "cell_type": "markdown",
   "id": "efcdf202",
   "metadata": {},
   "source": [
    "Нами была проделана работа по созданию модели, которая будет выявлять тех клиентов «Бета-Банка», которые могут в скором времени отказаться от услуг данного банка. Всего нами было рассмотрено три модели: логистическая регрессия, решающее дерево и случайный лес. Для каждой из них мы попытались подобрать наиболее оптимальные параметры, которые бы позволили достичь наибольшее значение F1-меры на тестовой выборке. \n",
    "\n",
    "Моделирование проходило в два этапа. На первом этапе мы попытались построить модели, используя исходные данные с обнаруженным в них дисбалансом классов. Ни одна из рассмотренных нами моделей не смогла преодолеть порог ключевого показателя в 0.59. На втором этапе мы попытались учесть имеющийся дисбаланс: сменяли веса классов, увеличивали число наблюдений с положительными ответами. По итогу каждая из полученных на втором этапе моделей пересекла необходимый порог качества.\n",
    "\n",
    "В качестве итоговой была выбрана модель случайного леса со следующими параметрами: max_depth=8 и n_estimators=50. Именно данная модель показала лучший результат на тренировочной выборке. В ней мы использовали увеличение количества положительных ответов для борьбы с дисбалансом. \n",
    "\n",
    "После этого мы проверили качество нашей итоговой модели на тестовой выборке. К сожалению, качество нашей итоговой модели несколько упало в сровнение с результатом на тренировочных данных - такой исход может свидетельствовать о переобучении нашей итоговой модели. "
   ]
  }
 ],
 "metadata": {
  "ExecuteTimeLog": [
   {
    "duration": 1277,
    "start_time": "2022-06-11T17:07:51.676Z"
   },
   {
    "duration": 3,
    "start_time": "2022-06-11T17:07:52.954Z"
   },
   {
    "duration": 161,
    "start_time": "2022-06-11T17:07:52.958Z"
   },
   {
    "duration": 12,
    "start_time": "2022-06-11T17:07:53.121Z"
   },
   {
    "duration": 15,
    "start_time": "2022-06-11T17:07:53.135Z"
   },
   {
    "duration": 6,
    "start_time": "2022-06-11T17:07:53.152Z"
   },
   {
    "duration": 13,
    "start_time": "2022-06-11T17:07:53.159Z"
   },
   {
    "duration": 3,
    "start_time": "2022-06-11T17:07:53.173Z"
   },
   {
    "duration": 162,
    "start_time": "2022-06-11T17:07:53.177Z"
   },
   {
    "duration": 6,
    "start_time": "2022-06-11T17:07:53.342Z"
   },
   {
    "duration": 11,
    "start_time": "2022-06-11T17:07:53.350Z"
   },
   {
    "duration": 20,
    "start_time": "2022-06-11T17:07:53.362Z"
   },
   {
    "duration": 7,
    "start_time": "2022-06-11T17:07:53.383Z"
   },
   {
    "duration": 38,
    "start_time": "2022-06-11T17:07:53.391Z"
   },
   {
    "duration": 2,
    "start_time": "2022-06-11T17:07:53.431Z"
   },
   {
    "duration": 43,
    "start_time": "2022-06-11T17:07:53.435Z"
   },
   {
    "duration": 3,
    "start_time": "2022-06-11T17:07:53.480Z"
   },
   {
    "duration": 108,
    "start_time": "2022-06-11T17:07:53.485Z"
   },
   {
    "duration": 7386,
    "start_time": "2022-06-11T17:07:53.594Z"
   },
   {
    "duration": 11,
    "start_time": "2022-06-11T17:08:00.981Z"
   },
   {
    "duration": 1263,
    "start_time": "2022-06-11T17:08:00.994Z"
   },
   {
    "duration": 10,
    "start_time": "2022-06-11T17:08:02.258Z"
   },
   {
    "duration": 136570,
    "start_time": "2022-06-11T17:08:02.269Z"
   },
   {
    "duration": 71,
    "start_time": "2022-06-11T17:10:18.840Z"
   },
   {
    "duration": 2273,
    "start_time": "2022-06-11T17:10:18.912Z"
   },
   {
    "duration": 138005,
    "start_time": "2022-06-11T17:10:21.187Z"
   },
   {
    "duration": 56,
    "start_time": "2022-06-11T17:12:39.194Z"
   },
   {
    "duration": 1749,
    "start_time": "2022-06-11T17:12:39.254Z"
   },
   {
    "duration": 11,
    "start_time": "2022-06-11T17:12:41.005Z"
   },
   {
    "duration": 90,
    "start_time": "2022-06-11T17:12:41.018Z"
   },
   {
    "duration": 154946,
    "start_time": "2022-06-11T17:12:41.110Z"
   },
   {
    "duration": 66,
    "start_time": "2022-06-11T17:15:16.058Z"
   },
   {
    "duration": 2092,
    "start_time": "2022-06-11T17:15:16.126Z"
   },
   {
    "duration": 155361,
    "start_time": "2022-06-11T17:15:18.219Z"
   },
   {
    "duration": 75,
    "start_time": "2022-06-11T17:17:53.582Z"
   },
   {
    "duration": 2568,
    "start_time": "2022-06-11T17:17:53.658Z"
   },
   {
    "duration": 62,
    "start_time": "2022-06-11T17:17:56.228Z"
   },
   {
    "duration": 1436,
    "start_time": "2022-06-23T07:06:49.718Z"
   },
   {
    "duration": 3,
    "start_time": "2022-06-23T07:06:51.156Z"
   },
   {
    "duration": 79,
    "start_time": "2022-06-23T07:06:53.923Z"
   },
   {
    "duration": 15,
    "start_time": "2022-06-23T07:06:55.179Z"
   },
   {
    "duration": 17,
    "start_time": "2022-06-23T07:06:55.992Z"
   },
   {
    "duration": 11,
    "start_time": "2022-06-23T07:06:57.636Z"
   },
   {
    "duration": 15,
    "start_time": "2022-06-23T07:06:58.496Z"
   },
   {
    "duration": 3,
    "start_time": "2022-06-23T07:06:58.911Z"
   },
   {
    "duration": 161,
    "start_time": "2022-06-23T07:06:59.817Z"
   },
   {
    "duration": 8,
    "start_time": "2022-06-23T07:07:00.196Z"
   },
   {
    "duration": 11,
    "start_time": "2022-06-23T07:07:02.020Z"
   },
   {
    "duration": 14,
    "start_time": "2022-06-23T07:07:03.038Z"
   },
   {
    "duration": 7,
    "start_time": "2022-06-23T07:07:04.653Z"
   },
   {
    "duration": 3,
    "start_time": "2022-06-23T07:07:05.202Z"
   },
   {
    "duration": 37,
    "start_time": "2022-06-23T07:07:05.843Z"
   },
   {
    "duration": 2,
    "start_time": "2022-06-23T07:08:01.683Z"
   },
   {
    "duration": 23,
    "start_time": "2022-06-23T07:08:04.623Z"
   },
   {
    "duration": 4,
    "start_time": "2022-06-23T07:08:07.155Z"
   },
   {
    "duration": 110,
    "start_time": "2022-06-23T07:08:10.711Z"
   },
   {
    "duration": 9683,
    "start_time": "2022-06-23T07:08:20.782Z"
   },
   {
    "duration": 93,
    "start_time": "2022-06-23T07:08:30.467Z"
   },
   {
    "duration": 1227,
    "start_time": "2022-06-23T07:08:40.456Z"
   },
   {
    "duration": 12,
    "start_time": "2022-06-23T07:08:41.684Z"
   },
   {
    "duration": 152290,
    "start_time": "2022-06-23T07:08:48.424Z"
   },
   {
    "duration": 82,
    "start_time": "2022-06-23T07:11:20.716Z"
   },
   {
    "duration": 2435,
    "start_time": "2022-06-23T07:11:20.799Z"
   },
   {
    "duration": 2438,
    "start_time": "2022-06-23T07:13:00.518Z"
   },
   {
    "duration": 154370,
    "start_time": "2022-06-23T07:19:36.557Z"
   },
   {
    "duration": 71,
    "start_time": "2022-06-23T07:22:10.929Z"
   },
   {
    "duration": 1837,
    "start_time": "2022-06-23T07:22:11.001Z"
   },
   {
    "duration": 109,
    "start_time": "2022-06-23T07:23:05.968Z"
   },
   {
    "duration": 10,
    "start_time": "2022-06-23T07:23:16.812Z"
   },
   {
    "duration": 86,
    "start_time": "2022-06-23T07:23:19.388Z"
   },
   {
    "duration": 4,
    "start_time": "2022-06-23T07:24:34.718Z"
   },
   {
    "duration": 8,
    "start_time": "2022-06-23T07:25:44.571Z"
   },
   {
    "duration": 425,
    "start_time": "2022-06-23T07:26:02.630Z"
   },
   {
    "duration": 5,
    "start_time": "2022-06-23T07:26:09.609Z"
   },
   {
    "duration": 3,
    "start_time": "2022-06-23T07:26:10.217Z"
   },
   {
    "duration": 6,
    "start_time": "2022-06-23T07:26:44.028Z"
   },
   {
    "duration": 7,
    "start_time": "2022-06-23T07:26:58.240Z"
   },
   {
    "duration": 10,
    "start_time": "2022-06-23T07:27:12.761Z"
   },
   {
    "duration": 8,
    "start_time": "2022-06-23T07:27:38.339Z"
   },
   {
    "duration": 7,
    "start_time": "2022-06-23T07:28:04.421Z"
   },
   {
    "duration": 4,
    "start_time": "2022-06-23T07:28:12.647Z"
   },
   {
    "duration": 16,
    "start_time": "2022-06-23T07:28:17.856Z"
   },
   {
    "duration": 90,
    "start_time": "2022-06-23T07:28:19.099Z"
   },
   {
    "duration": 20,
    "start_time": "2022-06-23T07:28:44.155Z"
   },
   {
    "duration": 207841,
    "start_time": "2022-06-23T07:29:18.055Z"
   },
   {
    "duration": 71,
    "start_time": "2022-06-23T07:32:45.898Z"
   },
   {
    "duration": 2704,
    "start_time": "2022-06-23T07:32:45.970Z"
   },
   {
    "duration": 2206,
    "start_time": "2022-06-23T07:34:22.672Z"
   },
   {
    "duration": 43,
    "start_time": "2022-06-23T09:09:59.411Z"
   },
   {
    "duration": 3,
    "start_time": "2022-06-23T09:21:15.644Z"
   },
   {
    "duration": 112,
    "start_time": "2022-06-23T09:21:22.862Z"
   },
   {
    "duration": 2,
    "start_time": "2022-06-23T09:22:55.847Z"
   },
   {
    "duration": 80,
    "start_time": "2022-06-23T09:22:56.492Z"
   },
   {
    "duration": 23,
    "start_time": "2022-06-23T09:23:17.726Z"
   },
   {
    "duration": 8,
    "start_time": "2022-06-23T09:25:14.958Z"
   },
   {
    "duration": 129,
    "start_time": "2022-06-23T09:25:30.080Z"
   },
   {
    "duration": 170,
    "start_time": "2022-06-23T09:26:22.228Z"
   },
   {
    "duration": 8,
    "start_time": "2022-06-23T09:26:39.527Z"
   },
   {
    "duration": 8,
    "start_time": "2022-06-23T09:27:07.858Z"
   },
   {
    "duration": 162,
    "start_time": "2022-06-23T09:27:08.462Z"
   },
   {
    "duration": 1427,
    "start_time": "2022-06-23T09:29:42.690Z"
   },
   {
    "duration": 3,
    "start_time": "2022-06-23T09:29:44.118Z"
   },
   {
    "duration": 51,
    "start_time": "2022-06-23T09:29:44.123Z"
   },
   {
    "duration": 13,
    "start_time": "2022-06-23T09:29:44.176Z"
   },
   {
    "duration": 20,
    "start_time": "2022-06-23T09:29:44.191Z"
   },
   {
    "duration": 10,
    "start_time": "2022-06-23T09:29:44.213Z"
   },
   {
    "duration": 48,
    "start_time": "2022-06-23T09:29:44.225Z"
   },
   {
    "duration": 4,
    "start_time": "2022-06-23T09:29:44.275Z"
   },
   {
    "duration": 197,
    "start_time": "2022-06-23T09:29:44.281Z"
   },
   {
    "duration": 9,
    "start_time": "2022-06-23T09:29:44.481Z"
   },
   {
    "duration": 14,
    "start_time": "2022-06-23T09:29:44.492Z"
   },
   {
    "duration": 12,
    "start_time": "2022-06-23T09:29:44.508Z"
   },
   {
    "duration": 10,
    "start_time": "2022-06-23T09:29:44.521Z"
   },
   {
    "duration": 3,
    "start_time": "2022-06-23T09:29:44.532Z"
   },
   {
    "duration": 40,
    "start_time": "2022-06-23T09:29:44.559Z"
   },
   {
    "duration": 3,
    "start_time": "2022-06-23T09:29:44.601Z"
   },
   {
    "duration": 29,
    "start_time": "2022-06-23T09:29:44.606Z"
   },
   {
    "duration": 24,
    "start_time": "2022-06-23T09:29:44.636Z"
   },
   {
    "duration": 128,
    "start_time": "2022-06-23T09:29:44.662Z"
   },
   {
    "duration": 9472,
    "start_time": "2022-06-23T09:29:44.792Z"
   },
   {
    "duration": 98,
    "start_time": "2022-06-23T09:29:54.265Z"
   },
   {
    "duration": 1367,
    "start_time": "2022-06-23T09:29:54.365Z"
   },
   {
    "duration": 11,
    "start_time": "2022-06-23T09:29:55.734Z"
   },
   {
    "duration": 156703,
    "start_time": "2022-06-23T09:29:55.747Z"
   },
   {
    "duration": 83,
    "start_time": "2022-06-23T09:32:32.451Z"
   },
   {
    "duration": 2638,
    "start_time": "2022-06-23T09:32:32.536Z"
   },
   {
    "duration": 160037,
    "start_time": "2022-06-23T09:32:35.175Z"
   },
   {
    "duration": 70,
    "start_time": "2022-06-23T09:35:15.214Z"
   },
   {
    "duration": 1957,
    "start_time": "2022-06-23T09:35:15.286Z"
   },
   {
    "duration": 18,
    "start_time": "2022-06-23T09:35:17.245Z"
   },
   {
    "duration": 20,
    "start_time": "2022-06-23T09:35:17.268Z"
   },
   {
    "duration": 133,
    "start_time": "2022-06-23T09:35:17.291Z"
   },
   {
    "duration": 218383,
    "start_time": "2022-06-23T09:35:17.426Z"
   },
   {
    "duration": 63,
    "start_time": "2022-06-23T09:38:55.810Z"
   },
   {
    "duration": 2366,
    "start_time": "2022-06-23T09:38:55.876Z"
   },
   {
    "duration": 50,
    "start_time": "2022-06-23T09:38:58.244Z"
   }
  ],
  "kernelspec": {
   "display_name": "Python 3 (ipykernel)",
   "language": "python",
   "name": "python3"
  },
  "language_info": {
   "codemirror_mode": {
    "name": "ipython",
    "version": 3
   },
   "file_extension": ".py",
   "mimetype": "text/x-python",
   "name": "python",
   "nbconvert_exporter": "python",
   "pygments_lexer": "ipython3",
   "version": "3.9.7"
  },
  "toc": {
   "base_numbering": 1,
   "nav_menu": {},
   "number_sections": true,
   "sideBar": true,
   "skip_h1_title": true,
   "title_cell": "Table of Contents",
   "title_sidebar": "Contents",
   "toc_cell": true,
   "toc_position": {
    "height": "calc(100% - 180px)",
    "left": "10px",
    "top": "150px",
    "width": "238.4px"
   },
   "toc_section_display": true,
   "toc_window_display": true
  }
 },
 "nbformat": 4,
 "nbformat_minor": 5
}
