{
 "cells": [
  {
   "cell_type": "markdown",
   "metadata": {
    "id": "E0vqbgi9ay0H"
   },
   "source": [
    "# Яндекс.Музыка"
   ]
  },
  {
   "cell_type": "markdown",
   "metadata": {
    "id": "VUC88oWjTJw2"
   },
   "source": [
    "**Цель исследования** — проверка трех основных гипотез:\n",
    "1. Активность пользователей зависит от дня недели. Причём в Москве и Петербурге это проявляется по-разному.\n",
    "2. В понедельник утром в Москве преобладают одни жанры, а в Петербурге — другие. Так же и вечером пятницы преобладают разные жанры — в зависимости от города. \n",
    "3. Москва и Петербург предпочитают разные жанры музыки. В Москве чаще слушают поп-музыку, в Петербурге — русский рэп.\n",
    "\n",
    "**Ход исследования**\n",
    "\n",
    "Исследование пройдёт в три основных этапа:\n",
    " 1. Обзор данных.\n",
    " 2. Предобработка данных.\n",
    " 3. Проверка гипотез."
   ]
  },
  {
   "cell_type": "markdown",
   "metadata": {
    "id": "Ml1hmfXC_Zcs"
   },
   "source": [
    "## Обзор данных"
   ]
  },
  {
   "cell_type": "markdown",
   "metadata": {
    "id": "57eAOGIz_Zcs"
   },
   "source": [
    "Начнем с загрузки необходимых библиотек."
   ]
  },
  {
   "cell_type": "code",
   "execution_count": 5,
   "metadata": {
    "id": "AXN7PHPN_Zcs"
   },
   "outputs": [],
   "source": [
    "import pandas as pd"
   ]
  },
  {
   "cell_type": "markdown",
   "metadata": {
    "id": "SG23P8tt_Zcs"
   },
   "source": [
    "Теперь загрузим исходные данные, а также выведем основную информацию о них. "
   ]
  },
  {
   "cell_type": "code",
   "execution_count": 6,
   "metadata": {
    "id": "fFVu7vqh_Zct"
   },
   "outputs": [],
   "source": [
    "df = pd.read_csv('/datasets/yandex_music_project.csv')"
   ]
  },
  {
   "cell_type": "code",
   "execution_count": 7,
   "metadata": {
    "id": "oWTVX3gW_Zct"
   },
   "outputs": [
    {
     "data": {
      "text/html": [
       "<div>\n",
       "<style scoped>\n",
       "    .dataframe tbody tr th:only-of-type {\n",
       "        vertical-align: middle;\n",
       "    }\n",
       "\n",
       "    .dataframe tbody tr th {\n",
       "        vertical-align: top;\n",
       "    }\n",
       "\n",
       "    .dataframe thead th {\n",
       "        text-align: right;\n",
       "    }\n",
       "</style>\n",
       "<table border=\"1\" class=\"dataframe\">\n",
       "  <thead>\n",
       "    <tr style=\"text-align: right;\">\n",
       "      <th></th>\n",
       "      <th>userID</th>\n",
       "      <th>Track</th>\n",
       "      <th>artist</th>\n",
       "      <th>genre</th>\n",
       "      <th>City</th>\n",
       "      <th>time</th>\n",
       "      <th>Day</th>\n",
       "    </tr>\n",
       "  </thead>\n",
       "  <tbody>\n",
       "    <tr>\n",
       "      <th>0</th>\n",
       "      <td>FFB692EC</td>\n",
       "      <td>Kamigata To Boots</td>\n",
       "      <td>The Mass Missile</td>\n",
       "      <td>rock</td>\n",
       "      <td>Saint-Petersburg</td>\n",
       "      <td>20:28:33</td>\n",
       "      <td>Wednesday</td>\n",
       "    </tr>\n",
       "    <tr>\n",
       "      <th>1</th>\n",
       "      <td>55204538</td>\n",
       "      <td>Delayed Because of Accident</td>\n",
       "      <td>Andreas Rönnberg</td>\n",
       "      <td>rock</td>\n",
       "      <td>Moscow</td>\n",
       "      <td>14:07:09</td>\n",
       "      <td>Friday</td>\n",
       "    </tr>\n",
       "    <tr>\n",
       "      <th>2</th>\n",
       "      <td>20EC38</td>\n",
       "      <td>Funiculì funiculà</td>\n",
       "      <td>Mario Lanza</td>\n",
       "      <td>pop</td>\n",
       "      <td>Saint-Petersburg</td>\n",
       "      <td>20:58:07</td>\n",
       "      <td>Wednesday</td>\n",
       "    </tr>\n",
       "    <tr>\n",
       "      <th>3</th>\n",
       "      <td>A3DD03C9</td>\n",
       "      <td>Dragons in the Sunset</td>\n",
       "      <td>Fire + Ice</td>\n",
       "      <td>folk</td>\n",
       "      <td>Saint-Petersburg</td>\n",
       "      <td>08:37:09</td>\n",
       "      <td>Monday</td>\n",
       "    </tr>\n",
       "    <tr>\n",
       "      <th>4</th>\n",
       "      <td>E2DC1FAE</td>\n",
       "      <td>Soul People</td>\n",
       "      <td>Space Echo</td>\n",
       "      <td>dance</td>\n",
       "      <td>Moscow</td>\n",
       "      <td>08:34:34</td>\n",
       "      <td>Monday</td>\n",
       "    </tr>\n",
       "    <tr>\n",
       "      <th>5</th>\n",
       "      <td>842029A1</td>\n",
       "      <td>Преданная</td>\n",
       "      <td>IMPERVTOR</td>\n",
       "      <td>rusrap</td>\n",
       "      <td>Saint-Petersburg</td>\n",
       "      <td>13:09:41</td>\n",
       "      <td>Friday</td>\n",
       "    </tr>\n",
       "    <tr>\n",
       "      <th>6</th>\n",
       "      <td>4CB90AA5</td>\n",
       "      <td>True</td>\n",
       "      <td>Roman Messer</td>\n",
       "      <td>dance</td>\n",
       "      <td>Moscow</td>\n",
       "      <td>13:00:07</td>\n",
       "      <td>Wednesday</td>\n",
       "    </tr>\n",
       "    <tr>\n",
       "      <th>7</th>\n",
       "      <td>F03E1C1F</td>\n",
       "      <td>Feeling This Way</td>\n",
       "      <td>Polina Griffith</td>\n",
       "      <td>dance</td>\n",
       "      <td>Moscow</td>\n",
       "      <td>20:47:49</td>\n",
       "      <td>Wednesday</td>\n",
       "    </tr>\n",
       "    <tr>\n",
       "      <th>8</th>\n",
       "      <td>8FA1D3BE</td>\n",
       "      <td>И вновь продолжается бой</td>\n",
       "      <td>NaN</td>\n",
       "      <td>ruspop</td>\n",
       "      <td>Moscow</td>\n",
       "      <td>09:17:40</td>\n",
       "      <td>Friday</td>\n",
       "    </tr>\n",
       "    <tr>\n",
       "      <th>9</th>\n",
       "      <td>E772D5C0</td>\n",
       "      <td>Pessimist</td>\n",
       "      <td>NaN</td>\n",
       "      <td>dance</td>\n",
       "      <td>Saint-Petersburg</td>\n",
       "      <td>21:20:49</td>\n",
       "      <td>Wednesday</td>\n",
       "    </tr>\n",
       "  </tbody>\n",
       "</table>\n",
       "</div>"
      ],
      "text/plain": [
       "     userID                        Track            artist   genre  \\\n",
       "0  FFB692EC            Kamigata To Boots  The Mass Missile    rock   \n",
       "1  55204538  Delayed Because of Accident  Andreas Rönnberg    rock   \n",
       "2    20EC38            Funiculì funiculà       Mario Lanza     pop   \n",
       "3  A3DD03C9        Dragons in the Sunset        Fire + Ice    folk   \n",
       "4  E2DC1FAE                  Soul People        Space Echo   dance   \n",
       "5  842029A1                    Преданная         IMPERVTOR  rusrap   \n",
       "6  4CB90AA5                         True      Roman Messer   dance   \n",
       "7  F03E1C1F             Feeling This Way   Polina Griffith   dance   \n",
       "8  8FA1D3BE     И вновь продолжается бой               NaN  ruspop   \n",
       "9  E772D5C0                    Pessimist               NaN   dance   \n",
       "\n",
       "             City        time        Day  \n",
       "0  Saint-Petersburg  20:28:33  Wednesday  \n",
       "1            Moscow  14:07:09     Friday  \n",
       "2  Saint-Petersburg  20:58:07  Wednesday  \n",
       "3  Saint-Petersburg  08:37:09     Monday  \n",
       "4            Moscow  08:34:34     Monday  \n",
       "5  Saint-Petersburg  13:09:41     Friday  \n",
       "6            Moscow  13:00:07  Wednesday  \n",
       "7            Moscow  20:47:49  Wednesday  \n",
       "8            Moscow  09:17:40     Friday  \n",
       "9  Saint-Petersburg  21:20:49  Wednesday  "
      ]
     },
     "execution_count": 7,
     "metadata": {},
     "output_type": "execute_result"
    }
   ],
   "source": [
    "df.head(10)"
   ]
  },
  {
   "cell_type": "code",
   "execution_count": 8,
   "metadata": {
    "id": "DSf2kIb-_Zct"
   },
   "outputs": [
    {
     "name": "stdout",
     "output_type": "stream",
     "text": [
      "<class 'pandas.core.frame.DataFrame'>\n",
      "RangeIndex: 65079 entries, 0 to 65078\n",
      "Data columns (total 7 columns):\n",
      " #   Column    Non-Null Count  Dtype \n",
      "---  ------    --------------  ----- \n",
      " 0     userID  65079 non-null  object\n",
      " 1   Track     63848 non-null  object\n",
      " 2   artist    57876 non-null  object\n",
      " 3   genre     63881 non-null  object\n",
      " 4     City    65079 non-null  object\n",
      " 5   time      65079 non-null  object\n",
      " 6   Day       65079 non-null  object\n",
      "dtypes: object(7)\n",
      "memory usage: 3.5+ MB\n"
     ]
    }
   ],
   "source": [
    "df.info()"
   ]
  },
  {
   "cell_type": "markdown",
   "metadata": {
    "id": "TaQ2Iwbr_Zct"
   },
   "source": [
    "Итак, в таблице семь столбцов. Тип данных во всех столбцах — `object`.\n",
    "\n",
    "Согласно документации к данным:\n",
    "* `userID` — идентификатор пользователя;\n",
    "* `Track` — название трека;  \n",
    "* `artist` — имя исполнителя;\n",
    "* `genre` — название жанра;\n",
    "* `City` — город пользователя;\n",
    "* `time` — время начала прослушивания;\n",
    "* `Day` — день недели.\n",
    "\n",
    "В названиях колонок видны три нарушения стиля:\n",
    "1. Строчные буквы сочетаются с прописными.\n",
    "2. Встречаются пробелы.\n",
    "3. Найдите ещё одну проблему в названии колонок и опишите её в этом пункте.\n",
    "\n",
    "\n",
    "\n",
    "Количество значений в столбцах различается. Значит, в данных есть пропущенные значения.\n"
   ]
  },
  {
   "cell_type": "markdown",
   "metadata": {
    "id": "MCB6-dXG_Zct"
   },
   "source": [
    "**Выводы**\n",
    "\n",
    "В каждой строке таблицы — данные о прослушанном треке. Часть колонок описывает саму композицию: название, исполнителя и жанр. Остальные данные рассказывают о пользователе: из какого он города, когда он слушал музыку. \n",
    "\n",
    "Предварительно можно утверждать, что, данных достаточно для проверки гипотез. Но встречаются пропуски в данных, а в названиях колонок — расхождения с хорошим стилем.\n",
    "\n",
    "Чтобы двигаться дальше, нужно устранить проблемы в данных."
   ]
  },
  {
   "cell_type": "markdown",
   "metadata": {
    "id": "SjYF6Ub9_Zct"
   },
   "source": [
    "## Предобработка данных"
   ]
  },
  {
   "cell_type": "markdown",
   "metadata": {
    "id": "dIaKXr29_Zct"
   },
   "source": [
    "### Стиль заголовков\n",
    "\n",
    "Предобработку данных начнем с корректировки заголовков столбцов. Для начала выведем исходные варианты заголовков. "
   ]
  },
  {
   "cell_type": "code",
   "execution_count": 18,
   "metadata": {
    "id": "oKOTdF_Q_Zct"
   },
   "outputs": [
    {
     "data": {
      "text/plain": [
       "Index(['  userID', 'Track', 'artist', 'genre', '  City  ', 'time', 'Day'], dtype='object')"
      ]
     },
     "execution_count": 18,
     "metadata": {},
     "output_type": "execute_result"
    }
   ],
   "source": [
    "df.columns"
   ]
  },
  {
   "cell_type": "markdown",
   "metadata": {
    "id": "zj5534cv_Zct"
   },
   "source": [
    "Приведем названия в соответствие с хорошим стилем:\n",
    "* перепишем названия в «змеином_регистре»,\n",
    "* все символы сделаем строчными,\n",
    "* устраним пробелы."
   ]
  },
  {
   "cell_type": "code",
   "execution_count": 19,
   "metadata": {
    "id": "ISlFqs5y_Zct"
   },
   "outputs": [],
   "source": [
    "df = df.rename(columns = {'  userID' : 'user_id', 'Track' : 'track', '  City  ' : 'city', 'Day' : 'day'})"
   ]
  },
  {
   "cell_type": "markdown",
   "metadata": {
    "id": "1dqbh00J_Zct"
   },
   "source": [
    "Проверим результат, повторно выведя на экран названия столбцов."
   ]
  },
  {
   "cell_type": "code",
   "execution_count": 20,
   "metadata": {
    "id": "d4NOAmTW_Zct"
   },
   "outputs": [
    {
     "data": {
      "text/plain": [
       "Index(['user_id', 'track', 'artist', 'genre', 'city', 'time', 'day'], dtype='object')"
      ]
     },
     "execution_count": 20,
     "metadata": {},
     "output_type": "execute_result"
    }
   ],
   "source": [
    "df.columns"
   ]
  },
  {
   "cell_type": "markdown",
   "metadata": {
    "id": "5ISfbcfY_Zct"
   },
   "source": [
    "### Пропуски значений\n",
    "Перейдем к обработке пропусков. Для начала выведем число пропусков в каждой из переменных."
   ]
  },
  {
   "cell_type": "code",
   "execution_count": 21,
   "metadata": {
    "id": "RskX29qr_Zct"
   },
   "outputs": [
    {
     "data": {
      "text/plain": [
       "user_id       0\n",
       "track      1231\n",
       "artist     7203\n",
       "genre      1198\n",
       "city          0\n",
       "time          0\n",
       "day           0\n",
       "dtype: int64"
      ]
     },
     "execution_count": 21,
     "metadata": {},
     "output_type": "execute_result"
    }
   ],
   "source": [
    "df.isna().sum()"
   ]
  },
  {
   "cell_type": "markdown",
   "metadata": {
    "id": "qubhgnlO_Zct"
   },
   "source": [
    "Пропуски присутствуют в трех переменных. В `track` и `artist` пропуски не важны для вашей работы, а значит достаточно поставить на месте пропусков заглушку.\n",
    "\n",
    "В то же время пропуски в `genre` могут помешать сравнению музыкальных вкусов в Москве и Санкт-Петербурге. Однако, посольку восстановление потеряных данных для нас не представляется возможным, также используем заглушку."
   ]
  },
  {
   "cell_type": "code",
   "execution_count": 22,
   "metadata": {
    "id": "KplB5qWs_Zct"
   },
   "outputs": [],
   "source": [
    "for name in ['track', 'artist', 'genre']:\n",
    "    df[name] = df[name].fillna('unknown')"
   ]
  },
  {
   "cell_type": "markdown",
   "metadata": {
    "id": "Ilsm-MZo_Zct"
   },
   "source": [
    "Убедимся, что в таблице не осталось пропусков."
   ]
  },
  {
   "cell_type": "code",
   "execution_count": 23,
   "metadata": {
    "id": "Tq4nYRX4_Zct"
   },
   "outputs": [
    {
     "data": {
      "text/plain": [
       "user_id    0\n",
       "track      0\n",
       "artist     0\n",
       "genre      0\n",
       "city       0\n",
       "time       0\n",
       "day        0\n",
       "dtype: int64"
      ]
     },
     "execution_count": 23,
     "metadata": {},
     "output_type": "execute_result"
    }
   ],
   "source": [
    "df.isna().sum()"
   ]
  },
  {
   "cell_type": "markdown",
   "metadata": {
    "id": "BWKRtBJ3_Zct"
   },
   "source": [
    "### Дубликаты\n",
    "Переходим к следующему блоку предобработки - анализу выборки на дубликаты. Начнем с выявления явных дубликатов."
   ]
  },
  {
   "cell_type": "code",
   "execution_count": 24,
   "metadata": {
    "id": "36eES_S0_Zct"
   },
   "outputs": [
    {
     "data": {
      "text/plain": [
       "'Количество пропусков 3826.'"
      ]
     },
     "metadata": {},
     "output_type": "display_data"
    }
   ],
   "source": [
    "display(f'Количество пропусков {df.duplicated().sum()}.')"
   ]
  },
  {
   "cell_type": "markdown",
   "metadata": {
    "id": "Ot25h6XR_Zct"
   },
   "source": [
    "Удалим выявленные дубликаты, чтобы они не влияли на результаты анализа. "
   ]
  },
  {
   "cell_type": "code",
   "execution_count": 25,
   "metadata": {
    "id": "exFHq6tt_Zct"
   },
   "outputs": [],
   "source": [
    "df = df.drop_duplicates().reset_index(drop=True)"
   ]
  },
  {
   "cell_type": "markdown",
   "metadata": {
    "id": "Im2YwBEG_Zct"
   },
   "source": [
    "Убедимся, что полностью избавились от явных дубликатов."
   ]
  },
  {
   "cell_type": "code",
   "execution_count": 26,
   "metadata": {
    "id": "-8PuNWQ0_Zct"
   },
   "outputs": [
    {
     "data": {
      "text/plain": [
       "'Количество пропусков 0.'"
      ]
     },
     "metadata": {},
     "output_type": "display_data"
    }
   ],
   "source": [
    "display(f'Количество пропусков {df.duplicated().sum()}.')"
   ]
  },
  {
   "cell_type": "markdown",
   "metadata": {
    "id": "QlFBsxAr_Zct"
   },
   "source": [
    "Теперь избавимся от неявных дубликатов в колонке `genre`. Они могли возникнуть в тех случаях, если название одного и того же жанра было записано по-разному. Такие ошибки тоже повлияют на результат исследования."
   ]
  },
  {
   "cell_type": "markdown",
   "metadata": {
    "id": "eSjWwsOh_Zct"
   },
   "source": [
    "Выведем на экран список уникальных названий жанров, отсортированный в алфавитном порядке. "
   ]
  },
  {
   "cell_type": "code",
   "execution_count": 27,
   "metadata": {
    "id": "JIUcqzZN_Zct"
   },
   "outputs": [
    {
     "data": {
      "text/plain": [
       "['acid',\n",
       " 'acoustic',\n",
       " 'action',\n",
       " 'adult',\n",
       " 'africa',\n",
       " 'afrikaans',\n",
       " 'alternative',\n",
       " 'alternativepunk',\n",
       " 'ambient',\n",
       " 'americana',\n",
       " 'animated',\n",
       " 'anime',\n",
       " 'arabesk',\n",
       " 'arabic',\n",
       " 'arena',\n",
       " 'argentinetango',\n",
       " 'art',\n",
       " 'audiobook',\n",
       " 'author',\n",
       " 'avantgarde',\n",
       " 'axé',\n",
       " 'baile',\n",
       " 'balkan',\n",
       " 'beats',\n",
       " 'bigroom',\n",
       " 'black',\n",
       " 'bluegrass',\n",
       " 'blues',\n",
       " 'bollywood',\n",
       " 'bossa',\n",
       " 'brazilian',\n",
       " 'breakbeat',\n",
       " 'breaks',\n",
       " 'broadway',\n",
       " 'cantautori',\n",
       " 'cantopop',\n",
       " 'canzone',\n",
       " 'caribbean',\n",
       " 'caucasian',\n",
       " 'celtic',\n",
       " 'chamber',\n",
       " 'chanson',\n",
       " 'children',\n",
       " 'chill',\n",
       " 'chinese',\n",
       " 'choral',\n",
       " 'christian',\n",
       " 'christmas',\n",
       " 'classical',\n",
       " 'classicmetal',\n",
       " 'club',\n",
       " 'colombian',\n",
       " 'comedy',\n",
       " 'conjazz',\n",
       " 'contemporary',\n",
       " 'country',\n",
       " 'cuban',\n",
       " 'dance',\n",
       " 'dancehall',\n",
       " 'dancepop',\n",
       " 'dark',\n",
       " 'death',\n",
       " 'deep',\n",
       " 'deutschrock',\n",
       " 'deutschspr',\n",
       " 'dirty',\n",
       " 'disco',\n",
       " 'dnb',\n",
       " 'documentary',\n",
       " 'downbeat',\n",
       " 'downtempo',\n",
       " 'drum',\n",
       " 'dub',\n",
       " 'dubstep',\n",
       " 'eastern',\n",
       " 'easy',\n",
       " 'electronic',\n",
       " 'electropop',\n",
       " 'emo',\n",
       " 'entehno',\n",
       " 'epicmetal',\n",
       " 'estrada',\n",
       " 'ethnic',\n",
       " 'eurofolk',\n",
       " 'european',\n",
       " 'experimental',\n",
       " 'extrememetal',\n",
       " 'fado',\n",
       " 'fairytail',\n",
       " 'film',\n",
       " 'fitness',\n",
       " 'flamenco',\n",
       " 'folk',\n",
       " 'folklore',\n",
       " 'folkmetal',\n",
       " 'folkrock',\n",
       " 'folktronica',\n",
       " 'forró',\n",
       " 'frankreich',\n",
       " 'französisch',\n",
       " 'french',\n",
       " 'funk',\n",
       " 'future',\n",
       " 'gangsta',\n",
       " 'garage',\n",
       " 'german',\n",
       " 'ghazal',\n",
       " 'gitarre',\n",
       " 'glitch',\n",
       " 'gospel',\n",
       " 'gothic',\n",
       " 'grime',\n",
       " 'grunge',\n",
       " 'gypsy',\n",
       " 'handsup',\n",
       " \"hard'n'heavy\",\n",
       " 'hardcore',\n",
       " 'hardstyle',\n",
       " 'hardtechno',\n",
       " 'hip',\n",
       " 'hip-hop',\n",
       " 'hiphop',\n",
       " 'historisch',\n",
       " 'holiday',\n",
       " 'hop',\n",
       " 'horror',\n",
       " 'house',\n",
       " 'hymn',\n",
       " 'idm',\n",
       " 'independent',\n",
       " 'indian',\n",
       " 'indie',\n",
       " 'indipop',\n",
       " 'industrial',\n",
       " 'inspirational',\n",
       " 'instrumental',\n",
       " 'international',\n",
       " 'irish',\n",
       " 'jam',\n",
       " 'japanese',\n",
       " 'jazz',\n",
       " 'jewish',\n",
       " 'jpop',\n",
       " 'jungle',\n",
       " 'k-pop',\n",
       " 'karadeniz',\n",
       " 'karaoke',\n",
       " 'kayokyoku',\n",
       " 'korean',\n",
       " 'laiko',\n",
       " 'latin',\n",
       " 'latino',\n",
       " 'leftfield',\n",
       " 'local',\n",
       " 'lounge',\n",
       " 'loungeelectronic',\n",
       " 'lovers',\n",
       " 'malaysian',\n",
       " 'mandopop',\n",
       " 'marschmusik',\n",
       " 'meditative',\n",
       " 'mediterranean',\n",
       " 'melodic',\n",
       " 'metal',\n",
       " 'metalcore',\n",
       " 'mexican',\n",
       " 'middle',\n",
       " 'minimal',\n",
       " 'miscellaneous',\n",
       " 'modern',\n",
       " 'mood',\n",
       " 'mpb',\n",
       " 'muslim',\n",
       " 'native',\n",
       " 'neoklassik',\n",
       " 'neue',\n",
       " 'new',\n",
       " 'newage',\n",
       " 'newwave',\n",
       " 'nu',\n",
       " 'nujazz',\n",
       " 'numetal',\n",
       " 'oceania',\n",
       " 'old',\n",
       " 'opera',\n",
       " 'orchestral',\n",
       " 'other',\n",
       " 'piano',\n",
       " 'podcasts',\n",
       " 'pop',\n",
       " 'popdance',\n",
       " 'popelectronic',\n",
       " 'popeurodance',\n",
       " 'poprussian',\n",
       " 'post',\n",
       " 'posthardcore',\n",
       " 'postrock',\n",
       " 'power',\n",
       " 'progmetal',\n",
       " 'progressive',\n",
       " 'psychedelic',\n",
       " 'punjabi',\n",
       " 'punk',\n",
       " 'quebecois',\n",
       " 'ragga',\n",
       " 'ram',\n",
       " 'rancheras',\n",
       " 'rap',\n",
       " 'rave',\n",
       " 'reggae',\n",
       " 'reggaeton',\n",
       " 'regional',\n",
       " 'relax',\n",
       " 'religious',\n",
       " 'retro',\n",
       " 'rhythm',\n",
       " 'rnb',\n",
       " 'rnr',\n",
       " 'rock',\n",
       " 'rockabilly',\n",
       " 'rockalternative',\n",
       " 'rockindie',\n",
       " 'rockother',\n",
       " 'romance',\n",
       " 'roots',\n",
       " 'ruspop',\n",
       " 'rusrap',\n",
       " 'rusrock',\n",
       " 'russian',\n",
       " 'salsa',\n",
       " 'samba',\n",
       " 'scenic',\n",
       " 'schlager',\n",
       " 'self',\n",
       " 'sertanejo',\n",
       " 'shanson',\n",
       " 'shoegazing',\n",
       " 'showtunes',\n",
       " 'singer',\n",
       " 'ska',\n",
       " 'skarock',\n",
       " 'slow',\n",
       " 'smooth',\n",
       " 'soft',\n",
       " 'soul',\n",
       " 'soulful',\n",
       " 'sound',\n",
       " 'soundtrack',\n",
       " 'southern',\n",
       " 'specialty',\n",
       " 'speech',\n",
       " 'spiritual',\n",
       " 'sport',\n",
       " 'stonerrock',\n",
       " 'surf',\n",
       " 'swing',\n",
       " 'synthpop',\n",
       " 'synthrock',\n",
       " 'sängerportrait',\n",
       " 'tango',\n",
       " 'tanzorchester',\n",
       " 'taraftar',\n",
       " 'tatar',\n",
       " 'tech',\n",
       " 'techno',\n",
       " 'teen',\n",
       " 'thrash',\n",
       " 'top',\n",
       " 'traditional',\n",
       " 'tradjazz',\n",
       " 'trance',\n",
       " 'tribal',\n",
       " 'trip',\n",
       " 'triphop',\n",
       " 'tropical',\n",
       " 'türk',\n",
       " 'türkçe',\n",
       " 'ukrrock',\n",
       " 'unknown',\n",
       " 'urban',\n",
       " 'uzbek',\n",
       " 'variété',\n",
       " 'vi',\n",
       " 'videogame',\n",
       " 'vocal',\n",
       " 'western',\n",
       " 'world',\n",
       " 'worldbeat',\n",
       " 'ïîï',\n",
       " 'электроника']"
      ]
     },
     "execution_count": 27,
     "metadata": {},
     "output_type": "execute_result"
    }
   ],
   "source": [
    "sorted(df['genre'].unique())"
   ]
  },
  {
   "cell_type": "markdown",
   "metadata": {
    "id": "qej-Qmuo_Zct"
   },
   "source": [
    "Можно заметить следующие неявные дубликаты:\n",
    "* *hip*,\n",
    "* *hop*,\n",
    "* *hip-hop*.\n",
    "\n",
    "Приведем их к общему названию."
   ]
  },
  {
   "cell_type": "code",
   "execution_count": 28,
   "metadata": {
    "id": "ErNDkmns_Zct"
   },
   "outputs": [],
   "source": [
    "# Функция для замены неявных дубликатов\n",
    "\n",
    "def replace_wrong_genres(wrong_genres, correct_genre):\n",
    "    for mistake in wrong_genres:\n",
    "        df['genre'] = df['genre'].replace(mistake, correct_genre)"
   ]
  },
  {
   "cell_type": "code",
   "execution_count": 29,
   "metadata": {
    "id": "YN5i2hpmSo09"
   },
   "outputs": [],
   "source": [
    "replace_wrong_genres(['hip', 'hop', 'hip-hop'], 'hiphop')"
   ]
  },
  {
   "cell_type": "markdown",
   "metadata": {
    "id": "jz6a9-7HQUDd"
   },
   "source": [
    "**Выводы**\n",
    "\n",
    "На этапе предобработки мы обнаружили и устранили следующие проблемы в данных:\n",
    "- нарушения стиля заголовков,\n",
    "- наличие пропущенных значений,\n",
    "- наличие дубликатов — как явных, так и неявных.\n",
    "\n",
    "Теперь можно перейти к проверке гипотез. "
   ]
  },
  {
   "cell_type": "markdown",
   "metadata": {
    "id": "WttZHXH0SqKk"
   },
   "source": [
    "## Проверка гипотез"
   ]
  },
  {
   "cell_type": "markdown",
   "metadata": {
    "id": "Im936VVi_Zcu"
   },
   "source": [
    "### Сравнение поведения пользователей двух столиц"
   ]
  },
  {
   "cell_type": "markdown",
   "metadata": {
    "id": "nwt_MuaL_Zcu"
   },
   "source": [
    "Первая гипотеза утверждает, что пользователи по-разному слушают музыку в Москве и Санкт-Петербурге. Проверим это предположение по данным о трёх днях недели — понедельнике, среде и пятнице."
   ]
  },
  {
   "cell_type": "markdown",
   "metadata": {
    "id": "8Dw_YMmT_Zcu"
   },
   "source": [
    "Для начала оценим активность пользователей в каждом городе. Сгруппируйте данные по городу и посчитайте прослушивания в каждой группе.\n",
    "\n"
   ]
  },
  {
   "cell_type": "code",
   "execution_count": 40,
   "metadata": {},
   "outputs": [
    {
     "data": {
      "text/plain": [
       "city\n",
       "Moscow              42741\n",
       "Saint-Petersburg    18512\n",
       "Name: track, dtype: int64"
      ]
     },
     "metadata": {},
     "output_type": "display_data"
    }
   ],
   "source": [
    "display(df.groupby('city')['track'].count())"
   ]
  },
  {
   "cell_type": "markdown",
   "metadata": {
    "id": "dzli3w8o_Zcu"
   },
   "source": [
    "В Москве прослушиваний больше, чем в Петербурге. Из этого не следует, что московские пользователи чаще слушают музыку. Просто самих пользователей в Москве больше.\n",
    "\n",
    "Теперь сгруппируем данные по дню недели и подсчитаем прослушивания в каждый из доступных дней недели.\n"
   ]
  },
  {
   "cell_type": "code",
   "execution_count": 42,
   "metadata": {},
   "outputs": [
    {
     "data": {
      "text/plain": [
       "day\n",
       "Friday       21840\n",
       "Monday       21354\n",
       "Wednesday    18059\n",
       "Name: track, dtype: int64"
      ]
     },
     "metadata": {},
     "output_type": "display_data"
    }
   ],
   "source": [
    "display(df.groupby('day')['track'].count())"
   ]
  },
  {
   "cell_type": "markdown",
   "metadata": {
    "id": "cC2tNrlL_Zcu"
   },
   "source": [
    "В среднем пользователи из двух городов менее активны по средам. Но картина может измениться, если рассмотреть каждый город в отдельности."
   ]
  },
  {
   "cell_type": "markdown",
   "metadata": {
    "id": "POzs8bGa_Zcu"
   },
   "source": [
    "Напишем функцию, которая будет рассчитывать количество прослушиваний для заданного города и дня недели."
   ]
  },
  {
   "cell_type": "code",
   "execution_count": 43,
   "metadata": {
    "id": "Nz3GdQB1_Zcu"
   },
   "outputs": [],
   "source": [
    "def number_tracks(day, city):\n",
    "    track_list = df[df['day'] == day]\n",
    "    track_list = track_list[track_list['city'] == city]\n",
    "    track_list_count = track_list['user_id'].count()\n",
    "    return track_list_count"
   ]
  },
  {
   "cell_type": "markdown",
   "metadata": {
    "id": "ytf7xFrFJQ2r"
   },
   "source": [
    "Теперь выведем количество прослушиваний для Москвы и Санкт-Петербурга для каждого доступного дня недели. "
   ]
  },
  {
   "cell_type": "code",
   "execution_count": 44,
   "metadata": {},
   "outputs": [
    {
     "data": {
      "text/plain": [
       "'Количество прослушиваний в Москве по понедельникам: 15740.'"
      ]
     },
     "metadata": {},
     "output_type": "display_data"
    }
   ],
   "source": [
    "msk_mon = number_tracks('Monday', 'Moscow')\n",
    "display(f'Количество прослушиваний в Москве по понедельникам: {msk_mon}.')"
   ]
  },
  {
   "cell_type": "code",
   "execution_count": 45,
   "metadata": {
    "id": "hq_ncZ5T_Zcu"
   },
   "outputs": [
    {
     "data": {
      "text/plain": [
       "'Количество прослушиваний в Санкт-Петербурге по понедельникам: 5614.'"
      ]
     },
     "metadata": {},
     "output_type": "display_data"
    }
   ],
   "source": [
    "spb_mon = number_tracks('Monday', 'Saint-Petersburg')\n",
    "display(f'Количество прослушиваний в Санкт-Петербурге по понедельникам: {spb_mon}.')"
   ]
  },
  {
   "cell_type": "code",
   "execution_count": 46,
   "metadata": {
    "id": "_NTy2VPU_Zcu"
   },
   "outputs": [
    {
     "data": {
      "text/plain": [
       "'Количество прослушиваний в Москве по средам: 11056.'"
      ]
     },
     "metadata": {},
     "output_type": "display_data"
    }
   ],
   "source": [
    "msk_wed = number_tracks('Wednesday', 'Moscow')\n",
    "display(f'Количество прослушиваний в Москве по средам: {msk_wed}.')"
   ]
  },
  {
   "cell_type": "code",
   "execution_count": 47,
   "metadata": {
    "id": "j2y3TAwo_Zcu"
   },
   "outputs": [
    {
     "data": {
      "text/plain": [
       "'Количество прослушиваний в Санкт-Петербурге по средам: 7003.'"
      ]
     },
     "metadata": {},
     "output_type": "display_data"
    }
   ],
   "source": [
    "spb_wed = number_tracks('Wednesday', 'Saint-Petersburg')\n",
    "display(f'Количество прослушиваний в Санкт-Петербурге по средам: {spb_wed}.')"
   ]
  },
  {
   "cell_type": "code",
   "execution_count": 48,
   "metadata": {
    "id": "vYDw5u_K_Zcu"
   },
   "outputs": [
    {
     "data": {
      "text/plain": [
       "'Количество прослушиваний в Москве по пятницам: 15945.'"
      ]
     },
     "metadata": {},
     "output_type": "display_data"
    }
   ],
   "source": [
    "msk_fri = number_tracks('Friday', 'Moscow')\n",
    "display(f'Количество прослушиваний в Москве по пятницам: {msk_fri}.')"
   ]
  },
  {
   "cell_type": "code",
   "execution_count": 49,
   "metadata": {
    "id": "8_yzFtW3_Zcu"
   },
   "outputs": [
    {
     "data": {
      "text/plain": [
       "'Количество прослушиваний в Санкт-Петербурге по пятницам: 5895.'"
      ]
     },
     "metadata": {},
     "output_type": "display_data"
    }
   ],
   "source": [
    "spb_fri = number_tracks('Friday', 'Saint-Petersburg')\n",
    "display(f'Количество прослушиваний в Санкт-Петербурге по пятницам: {spb_fri}.')"
   ]
  },
  {
   "cell_type": "markdown",
   "metadata": {
    "id": "7QXffbO-_Zcu"
   },
   "source": [
    "Для наглядности соединим данные в общую таблицу."
   ]
  },
  {
   "cell_type": "code",
   "execution_count": 50,
   "metadata": {
    "id": "APAcLpOr_Zcu"
   },
   "outputs": [
    {
     "data": {
      "text/html": [
       "<div>\n",
       "<style scoped>\n",
       "    .dataframe tbody tr th:only-of-type {\n",
       "        vertical-align: middle;\n",
       "    }\n",
       "\n",
       "    .dataframe tbody tr th {\n",
       "        vertical-align: top;\n",
       "    }\n",
       "\n",
       "    .dataframe thead th {\n",
       "        text-align: right;\n",
       "    }\n",
       "</style>\n",
       "<table border=\"1\" class=\"dataframe\">\n",
       "  <thead>\n",
       "    <tr style=\"text-align: right;\">\n",
       "      <th></th>\n",
       "      <th>city</th>\n",
       "      <th>monday</th>\n",
       "      <th>wednesday</th>\n",
       "      <th>friday</th>\n",
       "    </tr>\n",
       "  </thead>\n",
       "  <tbody>\n",
       "    <tr>\n",
       "      <th>0</th>\n",
       "      <td>Moscow</td>\n",
       "      <td>15740</td>\n",
       "      <td>11056</td>\n",
       "      <td>15945</td>\n",
       "    </tr>\n",
       "    <tr>\n",
       "      <th>1</th>\n",
       "      <td>Saint-Petersburg</td>\n",
       "      <td>5614</td>\n",
       "      <td>7003</td>\n",
       "      <td>5895</td>\n",
       "    </tr>\n",
       "  </tbody>\n",
       "</table>\n",
       "</div>"
      ],
      "text/plain": [
       "               city  monday  wednesday  friday\n",
       "0            Moscow   15740      11056   15945\n",
       "1  Saint-Petersburg    5614       7003    5895"
      ]
     },
     "execution_count": 50,
     "metadata": {},
     "output_type": "execute_result"
    }
   ],
   "source": [
    "pd.DataFrame(data = [['Moscow', msk_mon, msk_wed, msk_fri], ['Saint-Petersburg', spb_mon, spb_wed, spb_fri]], columns = ['city', 'monday', 'wednesday', 'friday'])"
   ]
  },
  {
   "cell_type": "markdown",
   "metadata": {
    "id": "-EgPIHYu_Zcu"
   },
   "source": [
    "**Выводы**\n",
    "\n",
    "Данные показывают разницу между поведением пользователей:\n",
    "- В Москве пик прослушиваний приходится на понедельник и пятницу, а в среду заметен спад.\n",
    "- В Петербурге, наоборот, больше слушают музыку по средам. Активность в понедельник и пятницу здесь почти в равной мере уступает среде.\n",
    "\n",
    "Значит, данные говорят в пользу первой гипотезы."
   ]
  },
  {
   "cell_type": "markdown",
   "metadata": {
    "id": "atZAxtq4_Zcu"
   },
   "source": [
    "### Музыка в начале и в конце недели"
   ]
  },
  {
   "cell_type": "markdown",
   "metadata": {
    "id": "eXrQqXFH_Zcu"
   },
   "source": [
    "Согласно второй гипотезе, утром в понедельник в Москве преобладают одни жанры, а в Петербурге — другие. Так же и вечером пятницы преобладают разные жанры — в зависимости от города."
   ]
  },
  {
   "cell_type": "markdown",
   "metadata": {
    "id": "S8UcW6Hw_Zcu"
   },
   "source": [
    "Для удобства анализа разделим исходные данные - для каждого из городов в отдельности. "
   ]
  },
  {
   "cell_type": "code",
   "execution_count": 51,
   "metadata": {
    "id": "qeaFfM_P_Zcu"
   },
   "outputs": [],
   "source": [
    "moscow_general = df[df['city'] == 'Moscow']"
   ]
  },
  {
   "cell_type": "code",
   "execution_count": 52,
   "metadata": {
    "id": "ORaVRKto_Zcu"
   },
   "outputs": [],
   "source": [
    "spb_general = df[df['city'] == 'Saint-Petersburg']"
   ]
  },
  {
   "cell_type": "markdown",
   "metadata": {
    "id": "MEJV-CX2_Zcu"
   },
   "source": [
    "Для проверки второй гипотезы создадим функцию, которая будет возвращать информацию о топ-10 жанров тех треков, которые прослушивали в указанный день, в промежутке между двумя отметками времени."
   ]
  },
  {
   "cell_type": "code",
   "execution_count": 53,
   "metadata": {
    "id": "laJT9BYl_Zcu"
   },
   "outputs": [],
   "source": [
    "def genre_weekday(table, day, time1, time2):\n",
    "    genre_df = table[table['day'] == day]\n",
    "    genre_df = genre_df[genre_df['time'] > time1]\n",
    "    genre_df = genre_df[genre_df['time'] < time2]\n",
    "    genre_df_count = genre_df.groupby('genre')['user_id'].count()\n",
    "    genre_df_sorted = genre_df_count.sort_values(ascending = False)\n",
    "    return genre_df_sorted['genre'].head(10)"
   ]
  },
  {
   "cell_type": "markdown",
   "metadata": {
    "id": "la2s2_PF_Zcu"
   },
   "source": [
    "Сравним результаты функции `genre_weekday()` для Москвы и Санкт-Петербурга в понедельник утром (с 7:00 до 11:00) и в пятницу вечером (с 17:00 до 23:00):"
   ]
  },
  {
   "cell_type": "code",
   "execution_count": 54,
   "metadata": {
    "id": "yz7itPUQ_Zcu"
   },
   "outputs": [
    {
     "name": "stdout",
     "output_type": "stream",
     "text": [
      "Прослушивания по жанрам в утро понедельника в Москве:\n"
     ]
    },
    {
     "data": {
      "text/plain": [
       "genre\n",
       "pop            781\n",
       "dance          549\n",
       "electronic     480\n",
       "rock           474\n",
       "hiphop         286\n",
       "ruspop         186\n",
       "world          181\n",
       "rusrap         175\n",
       "alternative    164\n",
       "unknown        161\n",
       "Name: user_id, dtype: int64"
      ]
     },
     "execution_count": 54,
     "metadata": {},
     "output_type": "execute_result"
    }
   ],
   "source": [
    "print('Прослушивания по жанрам в утро понедельника в Москве:')\n",
    "genre_weekday(moscow_general, 'Monday', '07:00', '11:00')"
   ]
  },
  {
   "cell_type": "code",
   "execution_count": 55,
   "metadata": {
    "id": "kwUcHPdy_Zcu"
   },
   "outputs": [
    {
     "name": "stdout",
     "output_type": "stream",
     "text": [
      "Прослушивания по жанрам в утро понедельника в Санкт-Петербурге:\n"
     ]
    },
    {
     "data": {
      "text/plain": [
       "genre\n",
       "pop            218\n",
       "dance          182\n",
       "rock           162\n",
       "electronic     147\n",
       "hiphop          80\n",
       "ruspop          64\n",
       "alternative     58\n",
       "rusrap          55\n",
       "jazz            44\n",
       "classical       40\n",
       "Name: user_id, dtype: int64"
      ]
     },
     "execution_count": 55,
     "metadata": {},
     "output_type": "execute_result"
    }
   ],
   "source": [
    "print('Прослушивания по жанрам в утро понедельника в Санкт-Петербурге:')\n",
    "genre_weekday(spb_general, 'Monday', '07:00', '11:00')"
   ]
  },
  {
   "cell_type": "code",
   "execution_count": 56,
   "metadata": {
    "id": "EzXVRE1o_Zcu"
   },
   "outputs": [
    {
     "name": "stdout",
     "output_type": "stream",
     "text": [
      "Прослушивания по жанрам в вечер пятницы в Москве:\n"
     ]
    },
    {
     "data": {
      "text/plain": [
       "genre\n",
       "pop            713\n",
       "rock           517\n",
       "dance          495\n",
       "electronic     482\n",
       "hiphop         273\n",
       "world          208\n",
       "ruspop         170\n",
       "alternative    163\n",
       "classical      163\n",
       "rusrap         142\n",
       "Name: user_id, dtype: int64"
      ]
     },
     "execution_count": 56,
     "metadata": {},
     "output_type": "execute_result"
    }
   ],
   "source": [
    "print('Прослушивания по жанрам в вечер пятницы в Москве:')\n",
    "genre_weekday(moscow_general, 'Friday', '17:00', '23:00')"
   ]
  },
  {
   "cell_type": "code",
   "execution_count": 57,
   "metadata": {
    "id": "JZaEKu5v_Zcu"
   },
   "outputs": [
    {
     "name": "stdout",
     "output_type": "stream",
     "text": [
      "Прослушивания по жанрам в вечер пятницы в Санкт-Петербурге:\n"
     ]
    },
    {
     "data": {
      "text/plain": [
       "genre\n",
       "pop            256\n",
       "electronic     216\n",
       "rock           216\n",
       "dance          210\n",
       "hiphop          97\n",
       "alternative     63\n",
       "jazz            61\n",
       "classical       60\n",
       "rusrap          59\n",
       "world           54\n",
       "Name: user_id, dtype: int64"
      ]
     },
     "execution_count": 57,
     "metadata": {},
     "output_type": "execute_result"
    }
   ],
   "source": [
    "print('Прослушивания по жанрам в вечер пятницы в Санкт-Петербурге:')\n",
    "genre_weekday(spb_general, 'Friday', '17:00', '23:00')"
   ]
  },
  {
   "cell_type": "markdown",
   "metadata": {
    "id": "wrCe4MNX_Zcu"
   },
   "source": [
    "**Выводы**\n",
    "\n",
    "Если сравнить топ-10 жанров в понедельник утром, можно сделать такие выводы:\n",
    "1. В Москве и Петербурге слушают похожую музыку. Единственное отличие — в московский рейтинг вошёл жанр “world”, а в петербургский — джаз и классика.\n",
    "2. В Москве пропущенных значений оказалось так много, что значение `'unknown'` заняло десятое место среди самых популярных жанров. Значит, пропущенные значения занимают существенную долю в данных и угрожают достоверности исследования.\n",
    "\n",
    "Вечер пятницы не меняет эту картину. Некоторые жанры поднимаются немного выше, другие спускаются, но в целом топ-10 остаётся тем же самым.\n",
    "\n",
    "Таким образом, вторая гипотеза подтвердилась лишь частично:\n",
    "* Пользователи слушают похожую музыку в начале недели и в конце.\n",
    "* Разница между Москвой и Петербургом не слишком выражена. В Москве чаще слушают русскую популярную музыку, в Петербурге — джаз.\n",
    "\n",
    "Однако пропуски в данных ставят под сомнение этот результат. В Москве их так много, что рейтинг топ-10 мог бы выглядеть иначе, если бы не утерянные  данные о жанрах."
   ]
  },
  {
   "cell_type": "markdown",
   "metadata": {
    "id": "JolODAqr_Zcu"
   },
   "source": [
    "### Жанровые предпочтения в Москве и Петербурге\n",
    "\n",
    "Гипотеза: Петербург — столица рэпа, музыку этого жанра там слушают чаще, чем в Москве.  А Москва — город контрастов, в котором, тем не менее, преобладает поп-музыка."
   ]
  },
  {
   "cell_type": "markdown",
   "metadata": {
    "id": "DlegSvaT_Zcu"
   },
   "source": [
    "Сгруппируем таблицу `moscow_general` по жанру и посчитаем прослушивания треков каждого жанра."
   ]
  },
  {
   "cell_type": "code",
   "execution_count": 58,
   "metadata": {
    "id": "r19lIPke_Zcu"
   },
   "outputs": [],
   "source": [
    "moscow_general = moscow_general.groupby('genre')\n",
    "moscow_genres = moscow_general['user_id'].count().sort_values(ascending = False)"
   ]
  },
  {
   "cell_type": "markdown",
   "metadata": {
    "id": "6kMuomxTiIr8"
   },
   "source": [
    "Выведите на экран первые десять строк `moscow_genres`:"
   ]
  },
  {
   "cell_type": "code",
   "execution_count": 59,
   "metadata": {
    "id": "WhCSooF8_Zcv"
   },
   "outputs": [
    {
     "data": {
      "text/plain": [
       "genre\n",
       "pop            5892\n",
       "dance          4435\n",
       "rock           3965\n",
       "electronic     3786\n",
       "hiphop         2096\n",
       "classical      1616\n",
       "world          1432\n",
       "alternative    1379\n",
       "ruspop         1372\n",
       "rusrap         1161\n",
       "Name: user_id, dtype: int64"
      ]
     },
     "execution_count": 59,
     "metadata": {},
     "output_type": "execute_result"
    }
   ],
   "source": [
    "moscow_genres[:10]"
   ]
  },
  {
   "cell_type": "markdown",
   "metadata": {
    "id": "cnPG2vnN_Zcv"
   },
   "source": [
    "Теперь повторим то же и для Петербурга."
   ]
  },
  {
   "cell_type": "code",
   "execution_count": 60,
   "metadata": {
    "id": "gluLIpE7_Zcv"
   },
   "outputs": [],
   "source": [
    "spb_general = spb_general.groupby('genre')\n",
    "spb_genres = spb_general['user_id'].count().sort_values(ascending = False)"
   ]
  },
  {
   "cell_type": "code",
   "execution_count": 61,
   "metadata": {
    "id": "uaGJHjVU_Zcv"
   },
   "outputs": [
    {
     "data": {
      "text/plain": [
       "genre\n",
       "pop            2431\n",
       "dance          1932\n",
       "rock           1879\n",
       "electronic     1736\n",
       "hiphop          960\n",
       "alternative     649\n",
       "classical       646\n",
       "rusrap          564\n",
       "ruspop          538\n",
       "world           515\n",
       "Name: user_id, dtype: int64"
      ]
     },
     "execution_count": 61,
     "metadata": {},
     "output_type": "execute_result"
    }
   ],
   "source": [
    "spb_genres[:10]"
   ]
  },
  {
   "cell_type": "markdown",
   "metadata": {
    "id": "RY51YJYu_Zcv"
   },
   "source": [
    "**Выводы**"
   ]
  },
  {
   "cell_type": "markdown",
   "metadata": {
    "id": "nVhnJEm__Zcv"
   },
   "source": [
    "Гипотеза частично подтвердилась:\n",
    "* Поп-музыка — самый популярный жанр в Москве, как и предполагала гипотеза. Более того, в топ-10 жанров встречается близкий жанр — русская популярная музыка.\n",
    "* Вопреки ожиданиям, рэп одинаково популярен в Москве и Петербурге. \n"
   ]
  },
  {
   "cell_type": "markdown",
   "metadata": {
    "id": "ykKQ0N65_Zcv"
   },
   "source": [
    "## Итоги исследования"
   ]
  },
  {
   "cell_type": "markdown",
   "metadata": {
    "id": "tjUwbHb3_Zcv"
   },
   "source": [
    "Перед нами стояла задача проверки трех гипотез на реальных данных Яндекс.Музыки. В ходе работы над проектом были установлены следующие выводы:\n",
    "1. День недели по-разному влияет на активность пользователей в Москве и Петербурге. \n",
    "\n",
    "Первая гипотеза полностью подтвердилась.\n",
    "\n",
    "2. Музыкальные предпочтения не сильно меняются в течение недели — будь то Москва или Петербург. Небольшие различия заметны в начале недели, по понедельникам:\n",
    "* в Москве слушают музыку жанра “world”,\n",
    "* в Петербурге — джаз и классику.\n",
    "\n",
    "Таким образом, вторая гипотеза подтвердилась лишь отчасти. Этот результат мог оказаться иным, если бы не пропуски в данных.\n",
    "\n",
    "3. Во вкусах пользователей Москвы и Петербурга больше общего чем различий. Вопреки ожиданиям, предпочтения жанров в Петербурге напоминают московские.\n",
    "\n",
    "Третья гипотеза не подтвердилась. Если различия в предпочтениях и существуют, на основной массе пользователей они незаметны.\n",
    "\n",
    "**На практике исследования содержат проверки статистических гипотез.**\n",
    "Из данных одного сервиса не всегда можно сделать вывод о всех жителях города.\n",
    "Проверки статистических гипотез покажут, насколько они достоверны, исходя из имеющихся данных. "
   ]
  }
 ],
 "metadata": {
  "ExecuteTimeLog": [
   {
    "duration": 497,
    "start_time": "2022-03-12T18:10:48.160Z"
   },
   {
    "duration": 619,
    "start_time": "2022-03-12T18:10:50.261Z"
   },
   {
    "duration": 15,
    "start_time": "2022-03-12T18:11:06.530Z"
   },
   {
    "duration": 22,
    "start_time": "2022-03-12T18:11:29.903Z"
   },
   {
    "duration": 4,
    "start_time": "2022-03-12T18:11:55.865Z"
   },
   {
    "duration": 602,
    "start_time": "2022-03-13T13:39:44.800Z"
   },
   {
    "duration": 154,
    "start_time": "2022-03-13T13:39:46.608Z"
   },
   {
    "duration": 19,
    "start_time": "2022-03-13T13:39:49.293Z"
   },
   {
    "duration": 26,
    "start_time": "2022-03-13T13:39:58.197Z"
   },
   {
    "duration": 5,
    "start_time": "2022-03-13T13:40:06.305Z"
   },
   {
    "duration": 23,
    "start_time": "2022-03-13T13:40:10.346Z"
   },
   {
    "duration": 4,
    "start_time": "2022-03-13T13:40:26.761Z"
   },
   {
    "duration": 25,
    "start_time": "2022-03-13T13:42:16.257Z"
   },
   {
    "duration": 16,
    "start_time": "2022-03-13T13:46:02.189Z"
   },
   {
    "duration": 24,
    "start_time": "2022-03-13T13:46:14.337Z"
   },
   {
    "duration": 20,
    "start_time": "2022-03-13T13:46:41.119Z"
   },
   {
    "duration": 24,
    "start_time": "2022-03-13T13:46:42.973Z"
   },
   {
    "duration": 61,
    "start_time": "2022-03-13T13:47:46.719Z"
   },
   {
    "duration": 64,
    "start_time": "2022-03-13T13:48:17.931Z"
   },
   {
    "duration": 73,
    "start_time": "2022-03-13T13:51:50.055Z"
   },
   {
    "duration": 58,
    "start_time": "2022-03-13T13:51:58.006Z"
   },
   {
    "duration": 1334,
    "start_time": "2022-03-13T13:52:58.937Z"
   },
   {
    "duration": 224,
    "start_time": "2022-03-13T13:53:51.226Z"
   },
   {
    "duration": 218,
    "start_time": "2022-03-13T13:54:07.597Z"
   },
   {
    "duration": 204,
    "start_time": "2022-03-13T13:54:13.480Z"
   },
   {
    "duration": 10,
    "start_time": "2022-03-13T13:56:15.948Z"
   },
   {
    "duration": 4,
    "start_time": "2022-03-13T13:59:56.055Z"
   },
   {
    "duration": 432,
    "start_time": "2022-03-13T14:00:37.250Z"
   },
   {
    "duration": 3,
    "start_time": "2022-03-13T14:00:53.415Z"
   },
   {
    "duration": 12,
    "start_time": "2022-03-13T14:00:56.880Z"
   },
   {
    "duration": 12,
    "start_time": "2022-03-13T14:01:15.809Z"
   },
   {
    "duration": 909,
    "start_time": "2022-03-15T13:09:17.463Z"
   },
   {
    "duration": 181,
    "start_time": "2022-03-15T13:09:18.845Z"
   },
   {
    "duration": 29,
    "start_time": "2022-03-15T13:09:21.823Z"
   },
   {
    "duration": 33,
    "start_time": "2022-03-15T13:09:26.093Z"
   },
   {
    "duration": 5,
    "start_time": "2022-03-15T13:09:30.028Z"
   },
   {
    "duration": 28,
    "start_time": "2022-03-15T13:09:31.501Z"
   },
   {
    "duration": 6,
    "start_time": "2022-03-15T13:09:34.190Z"
   },
   {
    "duration": 31,
    "start_time": "2022-03-15T13:09:37.605Z"
   },
   {
    "duration": 24,
    "start_time": "2022-03-15T13:09:40.577Z"
   },
   {
    "duration": 30,
    "start_time": "2022-03-15T13:09:43.938Z"
   },
   {
    "duration": 85,
    "start_time": "2022-03-15T13:09:47.667Z"
   },
   {
    "duration": 98,
    "start_time": "2022-03-15T13:09:50.005Z"
   },
   {
    "duration": 77,
    "start_time": "2022-03-15T13:09:53.077Z"
   },
   {
    "duration": 14,
    "start_time": "2022-03-15T13:09:56.713Z"
   },
   {
    "duration": 5,
    "start_time": "2022-03-15T13:09:59.419Z"
   },
   {
    "duration": 14,
    "start_time": "2022-03-15T13:10:06.623Z"
   },
   {
    "duration": 15,
    "start_time": "2022-03-15T13:10:08.725Z"
   },
   {
    "duration": 51,
    "start_time": "2022-03-15T13:14:05.802Z"
   },
   {
    "duration": 51,
    "start_time": "2022-03-15T13:15:57.808Z"
   },
   {
    "duration": 11,
    "start_time": "2022-03-15T13:15:58.483Z"
   },
   {
    "duration": 9426,
    "start_time": "2022-03-15T13:16:53.852Z"
   },
   {
    "duration": 19,
    "start_time": "2022-03-15T13:17:03.286Z"
   },
   {
    "duration": 56,
    "start_time": "2022-03-15T13:18:25.053Z"
   },
   {
    "duration": 11,
    "start_time": "2022-03-15T13:18:26.021Z"
   },
   {
    "duration": 32,
    "start_time": "2022-03-15T13:18:53.002Z"
   },
   {
    "duration": 9,
    "start_time": "2022-03-15T13:18:53.932Z"
   },
   {
    "duration": 8,
    "start_time": "2022-03-15T13:19:48.549Z"
   },
   {
    "duration": 81,
    "start_time": "2022-03-15T13:20:58.578Z"
   },
   {
    "duration": 78,
    "start_time": "2022-03-15T13:21:14.256Z"
   },
   {
    "duration": 3,
    "start_time": "2022-03-15T13:21:33.259Z"
   },
   {
    "duration": 172,
    "start_time": "2022-03-15T13:21:34.538Z"
   },
   {
    "duration": 16,
    "start_time": "2022-03-15T13:21:35.821Z"
   },
   {
    "duration": 33,
    "start_time": "2022-03-15T13:21:37.617Z"
   },
   {
    "duration": 5,
    "start_time": "2022-03-15T13:21:40.828Z"
   },
   {
    "duration": 19,
    "start_time": "2022-03-15T13:21:42.185Z"
   },
   {
    "duration": 5,
    "start_time": "2022-03-15T13:21:43.583Z"
   },
   {
    "duration": 31,
    "start_time": "2022-03-15T13:21:45.070Z"
   },
   {
    "duration": 21,
    "start_time": "2022-03-15T13:21:47.188Z"
   },
   {
    "duration": 29,
    "start_time": "2022-03-15T13:21:48.613Z"
   },
   {
    "duration": 107,
    "start_time": "2022-03-15T13:21:50.645Z"
   },
   {
    "duration": 93,
    "start_time": "2022-03-15T13:21:52.694Z"
   },
   {
    "duration": 75,
    "start_time": "2022-03-15T13:21:54.606Z"
   },
   {
    "duration": 16,
    "start_time": "2022-03-15T13:21:58.139Z"
   },
   {
    "duration": 4,
    "start_time": "2022-03-15T13:21:59.612Z"
   },
   {
    "duration": 15,
    "start_time": "2022-03-15T13:22:00.994Z"
   },
   {
    "duration": 17,
    "start_time": "2022-03-15T13:22:02.490Z"
   },
   {
    "duration": 33,
    "start_time": "2022-03-15T13:22:08.454Z"
   },
   {
    "duration": 7,
    "start_time": "2022-03-15T13:22:09.155Z"
   },
   {
    "duration": 28,
    "start_time": "2022-03-15T13:29:20.287Z"
   },
   {
    "duration": 7,
    "start_time": "2022-03-15T13:29:21.135Z"
   },
   {
    "duration": 43,
    "start_time": "2022-03-15T13:30:58.455Z"
   },
   {
    "duration": 4,
    "start_time": "2022-03-15T13:35:58.407Z"
   },
   {
    "duration": 68,
    "start_time": "2022-03-15T13:38:12.508Z"
   },
   {
    "duration": 25,
    "start_time": "2022-03-15T13:38:43.522Z"
   },
   {
    "duration": 75,
    "start_time": "2022-03-15T13:39:29.735Z"
   },
   {
    "duration": 22,
    "start_time": "2022-03-15T13:39:46.411Z"
   },
   {
    "duration": 24,
    "start_time": "2022-03-15T13:41:00.000Z"
   },
   {
    "duration": 5,
    "start_time": "2022-03-15T13:42:14.436Z"
   },
   {
    "duration": 21,
    "start_time": "2022-03-15T13:42:23.591Z"
   },
   {
    "duration": 393,
    "start_time": "2022-03-15T13:42:36.545Z"
   },
   {
    "duration": 27,
    "start_time": "2022-03-15T13:42:44.406Z"
   },
   {
    "duration": 20,
    "start_time": "2022-03-15T13:42:51.768Z"
   },
   {
    "duration": 19,
    "start_time": "2022-03-15T13:46:04.527Z"
   },
   {
    "duration": 18,
    "start_time": "2022-03-15T13:46:05.432Z"
   },
   {
    "duration": 21,
    "start_time": "2022-03-15T13:46:06.205Z"
   },
   {
    "duration": 18,
    "start_time": "2022-03-15T13:46:06.925Z"
   },
   {
    "duration": 19,
    "start_time": "2022-03-15T13:46:22.191Z"
   },
   {
    "duration": 226,
    "start_time": "2022-03-15T13:48:01.237Z"
   },
   {
    "duration": 272,
    "start_time": "2022-03-15T13:48:47.976Z"
   },
   {
    "duration": 16,
    "start_time": "2022-03-15T13:49:18.388Z"
   },
   {
    "duration": 16,
    "start_time": "2022-03-15T13:49:34.907Z"
   },
   {
    "duration": 14,
    "start_time": "2022-03-15T13:51:20.123Z"
   },
   {
    "duration": 12,
    "start_time": "2022-03-15T13:51:20.864Z"
   },
   {
    "duration": 5,
    "start_time": "2022-03-15T14:05:48.021Z"
   },
   {
    "duration": 378,
    "start_time": "2022-03-15T14:05:49.719Z"
   },
   {
    "duration": 5,
    "start_time": "2022-03-15T14:06:36.618Z"
   },
   {
    "duration": 6,
    "start_time": "2022-03-15T14:06:38.715Z"
   },
   {
    "duration": 469,
    "start_time": "2022-03-15T14:06:40.584Z"
   },
   {
    "duration": 6,
    "start_time": "2022-03-15T14:09:40.582Z"
   },
   {
    "duration": 28,
    "start_time": "2022-03-15T14:09:41.786Z"
   },
   {
    "duration": 26,
    "start_time": "2022-03-15T14:10:56.550Z"
   },
   {
    "duration": 29,
    "start_time": "2022-03-15T14:11:06.627Z"
   },
   {
    "duration": 19,
    "start_time": "2022-03-15T14:13:09.353Z"
   },
   {
    "duration": 24,
    "start_time": "2022-03-15T14:13:10.279Z"
   },
   {
    "duration": 18,
    "start_time": "2022-03-15T14:13:11.172Z"
   },
   {
    "duration": 783,
    "start_time": "2022-03-15T15:47:30.598Z"
   },
   {
    "duration": 196,
    "start_time": "2022-03-15T15:47:32.007Z"
   },
   {
    "duration": 26,
    "start_time": "2022-03-15T15:47:35.806Z"
   },
   {
    "duration": 32,
    "start_time": "2022-03-15T15:47:39.436Z"
   },
   {
    "duration": 6,
    "start_time": "2022-03-15T15:47:42.991Z"
   },
   {
    "duration": 27,
    "start_time": "2022-03-15T15:47:45.666Z"
   },
   {
    "duration": 5,
    "start_time": "2022-03-15T15:47:47.040Z"
   },
   {
    "duration": 37,
    "start_time": "2022-03-15T15:47:48.404Z"
   },
   {
    "duration": 24,
    "start_time": "2022-03-15T15:47:50.431Z"
   },
   {
    "duration": 30,
    "start_time": "2022-03-15T15:47:53.215Z"
   },
   {
    "duration": 85,
    "start_time": "2022-03-15T15:47:55.270Z"
   },
   {
    "duration": 99,
    "start_time": "2022-03-15T15:47:57.532Z"
   },
   {
    "duration": 79,
    "start_time": "2022-03-15T15:47:58.812Z"
   },
   {
    "duration": 14,
    "start_time": "2022-03-15T15:48:01.617Z"
   },
   {
    "duration": 4,
    "start_time": "2022-03-15T15:48:03.273Z"
   },
   {
    "duration": 20,
    "start_time": "2022-03-15T15:48:04.615Z"
   },
   {
    "duration": 16,
    "start_time": "2022-03-15T15:48:05.903Z"
   },
   {
    "duration": 29,
    "start_time": "2022-03-15T15:48:10.977Z"
   },
   {
    "duration": 7,
    "start_time": "2022-03-15T15:48:11.705Z"
   },
   {
    "duration": 40,
    "start_time": "2022-03-15T15:48:16.695Z"
   },
   {
    "duration": 4,
    "start_time": "2022-03-15T15:48:19.769Z"
   },
   {
    "duration": 22,
    "start_time": "2022-03-15T15:48:23.003Z"
   },
   {
    "duration": 25,
    "start_time": "2022-03-15T15:48:24.036Z"
   },
   {
    "duration": 21,
    "start_time": "2022-03-15T15:48:25.066Z"
   },
   {
    "duration": 18,
    "start_time": "2022-03-15T15:48:25.825Z"
   },
   {
    "duration": 21,
    "start_time": "2022-03-15T15:48:26.567Z"
   },
   {
    "duration": 20,
    "start_time": "2022-03-15T15:48:27.526Z"
   },
   {
    "duration": 17,
    "start_time": "2022-03-15T15:48:29.374Z"
   },
   {
    "duration": 17,
    "start_time": "2022-03-15T15:48:35.102Z"
   },
   {
    "duration": 12,
    "start_time": "2022-03-15T15:48:35.839Z"
   },
   {
    "duration": 5,
    "start_time": "2022-03-15T15:48:37.290Z"
   },
   {
    "duration": 30,
    "start_time": "2022-03-15T15:48:39.025Z"
   },
   {
    "duration": 24,
    "start_time": "2022-03-15T15:48:40.083Z"
   },
   {
    "duration": 26,
    "start_time": "2022-03-15T15:48:41.017Z"
   },
   {
    "duration": 18,
    "start_time": "2022-03-15T15:48:42.731Z"
   },
   {
    "duration": 14,
    "start_time": "2022-03-15T15:52:14.721Z"
   },
   {
    "duration": 6,
    "start_time": "2022-03-15T15:52:16.738Z"
   },
   {
    "duration": 11,
    "start_time": "2022-03-15T16:01:21.795Z"
   },
   {
    "duration": 7,
    "start_time": "2022-03-15T16:01:34.757Z"
   },
   {
    "duration": 531,
    "start_time": "2022-03-22T21:18:22.248Z"
   },
   {
    "duration": 227,
    "start_time": "2022-03-22T21:18:22.782Z"
   },
   {
    "duration": 29,
    "start_time": "2022-03-22T21:18:23.012Z"
   },
   {
    "duration": 64,
    "start_time": "2022-03-22T21:18:23.044Z"
   },
   {
    "duration": 6,
    "start_time": "2022-03-22T21:18:23.110Z"
   },
   {
    "duration": 17,
    "start_time": "2022-03-22T21:18:23.120Z"
   },
   {
    "duration": 6,
    "start_time": "2022-03-22T21:18:23.174Z"
   },
   {
    "duration": 41,
    "start_time": "2022-03-22T21:18:23.185Z"
   },
   {
    "duration": 57,
    "start_time": "2022-03-22T21:18:23.229Z"
   },
   {
    "duration": 31,
    "start_time": "2022-03-22T21:18:23.290Z"
   },
   {
    "duration": 120,
    "start_time": "2022-03-22T21:18:23.324Z"
   },
   {
    "duration": 136,
    "start_time": "2022-03-22T21:18:23.447Z"
   },
   {
    "duration": 104,
    "start_time": "2022-03-22T21:18:23.586Z"
   },
   {
    "duration": 21,
    "start_time": "2022-03-22T21:18:23.693Z"
   },
   {
    "duration": 6,
    "start_time": "2022-03-22T21:18:23.716Z"
   },
   {
    "duration": 47,
    "start_time": "2022-03-22T21:18:23.724Z"
   },
   {
    "duration": 21,
    "start_time": "2022-03-22T21:18:23.776Z"
   },
   {
    "duration": 34,
    "start_time": "2022-03-22T21:18:23.800Z"
   },
   {
    "duration": 37,
    "start_time": "2022-03-22T21:18:23.837Z"
   },
   {
    "duration": 66,
    "start_time": "2022-03-22T21:18:23.876Z"
   },
   {
    "duration": 4,
    "start_time": "2022-03-22T21:18:23.945Z"
   },
   {
    "duration": 34,
    "start_time": "2022-03-22T21:18:23.967Z"
   },
   {
    "duration": 23,
    "start_time": "2022-03-22T21:18:24.004Z"
   },
   {
    "duration": 68,
    "start_time": "2022-03-22T21:18:24.029Z"
   },
   {
    "duration": 30,
    "start_time": "2022-03-22T21:18:24.100Z"
   },
   {
    "duration": 42,
    "start_time": "2022-03-22T21:18:24.133Z"
   },
   {
    "duration": 26,
    "start_time": "2022-03-22T21:18:24.179Z"
   },
   {
    "duration": 14,
    "start_time": "2022-03-22T21:18:24.211Z"
   },
   {
    "duration": 54,
    "start_time": "2022-03-22T21:18:24.228Z"
   },
   {
    "duration": 17,
    "start_time": "2022-03-22T21:18:24.287Z"
   },
   {
    "duration": 6,
    "start_time": "2022-03-22T21:18:24.306Z"
   },
   {
    "duration": 66,
    "start_time": "2022-03-22T21:18:24.314Z"
   },
   {
    "duration": 23,
    "start_time": "2022-03-22T21:18:24.382Z"
   },
   {
    "duration": 27,
    "start_time": "2022-03-22T21:18:24.408Z"
   },
   {
    "duration": 51,
    "start_time": "2022-03-22T21:18:24.438Z"
   },
   {
    "duration": 18,
    "start_time": "2022-03-22T21:18:24.492Z"
   },
   {
    "duration": 9,
    "start_time": "2022-03-22T21:18:24.512Z"
   },
   {
    "duration": 10,
    "start_time": "2022-03-22T21:18:24.523Z"
   },
   {
    "duration": 11,
    "start_time": "2022-03-22T21:18:24.572Z"
   },
   {
    "duration": 46,
    "start_time": "2022-03-24T17:08:54.110Z"
   },
   {
    "duration": 180,
    "start_time": "2022-03-24T17:14:09.781Z"
   },
   {
    "duration": 180,
    "start_time": "2022-03-24T17:14:25.165Z"
   },
   {
    "duration": 153,
    "start_time": "2022-03-24T17:14:42.068Z"
   },
   {
    "duration": 453,
    "start_time": "2022-03-24T17:17:46.084Z"
   },
   {
    "duration": 147,
    "start_time": "2022-03-24T17:17:48.274Z"
   },
   {
    "duration": 15,
    "start_time": "2022-03-24T17:17:50.824Z"
   },
   {
    "duration": 51,
    "start_time": "2022-03-24T17:17:53.720Z"
   },
   {
    "duration": 160,
    "start_time": "2022-03-24T17:26:51.128Z"
   },
   {
    "duration": 194,
    "start_time": "2022-03-24T17:27:07.846Z"
   },
   {
    "duration": 170,
    "start_time": "2022-03-24T17:27:50.869Z"
   },
   {
    "duration": 169,
    "start_time": "2022-03-24T17:27:55.279Z"
   },
   {
    "duration": 156,
    "start_time": "2022-03-24T17:29:19.894Z"
   },
   {
    "duration": 168,
    "start_time": "2022-03-24T17:29:56.170Z"
   },
   {
    "duration": 159,
    "start_time": "2022-03-24T17:30:18.767Z"
   },
   {
    "duration": 147,
    "start_time": "2022-03-24T17:31:20.220Z"
   },
   {
    "duration": 229,
    "start_time": "2022-03-24T17:31:24.765Z"
   },
   {
    "duration": 4,
    "start_time": "2022-03-24T17:57:20.036Z"
   },
   {
    "duration": 10,
    "start_time": "2022-03-24T17:57:22.197Z"
   },
   {
    "duration": 3,
    "start_time": "2022-03-24T17:57:24.046Z"
   },
   {
    "duration": 23,
    "start_time": "2022-03-24T17:57:25.570Z"
   },
   {
    "duration": 18,
    "start_time": "2022-03-24T17:57:30.890Z"
   },
   {
    "duration": 26,
    "start_time": "2022-03-24T17:57:32.802Z"
   },
   {
    "duration": 65,
    "start_time": "2022-03-24T17:57:36.418Z"
   },
   {
    "duration": 72,
    "start_time": "2022-03-24T17:57:40.099Z"
   },
   {
    "duration": 60,
    "start_time": "2022-03-24T17:57:43.853Z"
   },
   {
    "duration": 11,
    "start_time": "2022-03-24T17:57:46.290Z"
   },
   {
    "duration": 2,
    "start_time": "2022-03-24T17:57:51.241Z"
   },
   {
    "duration": 9,
    "start_time": "2022-03-24T17:57:54.690Z"
   },
   {
    "duration": 10,
    "start_time": "2022-03-24T17:57:58.007Z"
   },
   {
    "duration": 21,
    "start_time": "2022-03-24T17:58:23.446Z"
   },
   {
    "duration": 4,
    "start_time": "2022-03-24T17:58:24.409Z"
   },
   {
    "duration": 142,
    "start_time": "2022-03-24T17:59:23.877Z"
   },
   {
    "duration": 5,
    "start_time": "2022-03-24T17:59:40.769Z"
   },
   {
    "duration": 34,
    "start_time": "2022-03-24T18:00:48.499Z"
   },
   {
    "duration": 12,
    "start_time": "2022-03-24T18:04:15.329Z"
   },
   {
    "duration": 12,
    "start_time": "2022-03-24T18:05:29.216Z"
   },
   {
    "duration": 12,
    "start_time": "2022-03-24T18:05:41.247Z"
   },
   {
    "duration": 39,
    "start_time": "2022-03-24T18:05:51.245Z"
   },
   {
    "duration": 11,
    "start_time": "2022-03-24T18:05:52.924Z"
   },
   {
    "duration": 32,
    "start_time": "2022-03-24T18:06:34.909Z"
   },
   {
    "duration": 12,
    "start_time": "2022-03-24T18:07:36.572Z"
   },
   {
    "duration": 3,
    "start_time": "2022-03-24T18:11:19.532Z"
   },
   {
    "duration": 24,
    "start_time": "2022-03-24T18:11:29.115Z"
   },
   {
    "duration": 15,
    "start_time": "2022-03-24T18:11:29.690Z"
   },
   {
    "duration": 15,
    "start_time": "2022-03-24T18:11:30.243Z"
   },
   {
    "duration": 14,
    "start_time": "2022-03-24T18:11:30.861Z"
   },
   {
    "duration": 15,
    "start_time": "2022-03-24T18:11:31.581Z"
   },
   {
    "duration": 15,
    "start_time": "2022-03-24T18:11:32.506Z"
   },
   {
    "duration": 8,
    "start_time": "2022-03-24T18:11:37.161Z"
   },
   {
    "duration": 10,
    "start_time": "2022-03-24T18:11:44.643Z"
   },
   {
    "duration": 10,
    "start_time": "2022-03-24T18:11:45.131Z"
   },
   {
    "duration": 3,
    "start_time": "2022-03-24T18:14:20.224Z"
   },
   {
    "duration": 17,
    "start_time": "2022-03-24T18:14:26.357Z"
   },
   {
    "duration": 12,
    "start_time": "2022-03-24T18:14:30.187Z"
   },
   {
    "duration": 16,
    "start_time": "2022-03-24T18:14:32.002Z"
   },
   {
    "duration": 12,
    "start_time": "2022-03-24T18:14:33.176Z"
   },
   {
    "duration": 10,
    "start_time": "2022-03-24T18:14:38.591Z"
   },
   {
    "duration": 5,
    "start_time": "2022-03-24T18:14:39.645Z"
   },
   {
    "duration": 6,
    "start_time": "2022-03-24T18:14:42.933Z"
   },
   {
    "duration": 5,
    "start_time": "2022-03-24T18:14:43.758Z"
   }
  ],
  "colab": {
   "collapsed_sections": [
    "E0vqbgi9ay0H",
    "VUC88oWjTJw2"
   ],
   "name": "yandex_music_project_2021.2.ipynb",
   "provenance": []
  },
  "kernelspec": {
   "display_name": "Python 3 (ipykernel)",
   "language": "python",
   "name": "python3"
  },
  "language_info": {
   "codemirror_mode": {
    "name": "ipython",
    "version": 3
   },
   "file_extension": ".py",
   "mimetype": "text/x-python",
   "name": "python",
   "nbconvert_exporter": "python",
   "pygments_lexer": "ipython3",
   "version": "3.9.7"
  },
  "toc": {
   "base_numbering": 1,
   "nav_menu": {},
   "number_sections": true,
   "sideBar": true,
   "skip_h1_title": true,
   "title_cell": "Table of Contents",
   "title_sidebar": "Contents",
   "toc_cell": false,
   "toc_position": {},
   "toc_section_display": true,
   "toc_window_display": true
  }
 },
 "nbformat": 4,
 "nbformat_minor": 1
}
