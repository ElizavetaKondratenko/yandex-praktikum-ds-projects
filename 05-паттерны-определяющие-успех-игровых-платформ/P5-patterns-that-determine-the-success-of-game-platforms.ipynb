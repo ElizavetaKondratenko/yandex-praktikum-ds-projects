{
 "cells": [
  {
   "cell_type": "markdown",
   "id": "9ea4d395",
   "metadata": {
    "toc": true
   },
   "source": [
    "<h1>Table of Contents<span class=\"tocSkip\"></span></h1>\n",
    "<div class=\"toc\"><ul class=\"toc-item\"><li><span><a href=\"#Описание-проекта\" data-toc-modified-id=\"Описание-проекта-1\"><span class=\"toc-item-num\">1&nbsp;&nbsp;</span>Описание проекта</a></span></li><li><span><a href=\"#Описание-данных\" data-toc-modified-id=\"Описание-данных-2\"><span class=\"toc-item-num\">2&nbsp;&nbsp;</span>Описание данных</a></span></li><li><span><a href=\"#Подготовка-данных\" data-toc-modified-id=\"Подготовка-данных-3\"><span class=\"toc-item-num\">3&nbsp;&nbsp;</span>Подготовка данных</a></span><ul class=\"toc-item\"><li><span><a href=\"#Преобразование-столбцов-и-типов\" data-toc-modified-id=\"Преобразование-столбцов-и-типов-3.1\"><span class=\"toc-item-num\">3.1&nbsp;&nbsp;</span>Преобразование столбцов и типов</a></span></li><li><span><a href=\"#Расчет-суммарных-продаж\" data-toc-modified-id=\"Расчет-суммарных-продаж-3.2\"><span class=\"toc-item-num\">3.2&nbsp;&nbsp;</span>Расчет суммарных продаж</a></span></li><li><span><a href=\"#Обработка-пропусков\" data-toc-modified-id=\"Обработка-пропусков-3.3\"><span class=\"toc-item-num\">3.3&nbsp;&nbsp;</span>Обработка пропусков</a></span></li></ul></li><li><span><a href=\"#Исследовательский-анализ-данных\" data-toc-modified-id=\"Исследовательский-анализ-данных-4\"><span class=\"toc-item-num\">4&nbsp;&nbsp;</span>Исследовательский анализ данных</a></span><ul class=\"toc-item\"><li><span><a href=\"#Анализ-выпуска-игр\" data-toc-modified-id=\"Анализ-выпуска-игр-4.1\"><span class=\"toc-item-num\">4.1&nbsp;&nbsp;</span>Анализ выпуска игр</a></span></li><li><span><a href=\"#Анализ-платформ\" data-toc-modified-id=\"Анализ-платформ-4.2\"><span class=\"toc-item-num\">4.2&nbsp;&nbsp;</span>Анализ платформ</a></span></li><li><span><a href=\"#Анализ-оценок\" data-toc-modified-id=\"Анализ-оценок-4.3\"><span class=\"toc-item-num\">4.3&nbsp;&nbsp;</span>Анализ оценок</a></span></li><li><span><a href=\"#Анализ-жанров\" data-toc-modified-id=\"Анализ-жанров-4.4\"><span class=\"toc-item-num\">4.4&nbsp;&nbsp;</span>Анализ жанров</a></span></li></ul></li><li><span><a href=\"#Составление-портрета-пользователя-каждого-региона\" data-toc-modified-id=\"Составление-портрета-пользователя-каждого-региона-5\"><span class=\"toc-item-num\">5&nbsp;&nbsp;</span>Составление портрета пользователя каждого региона</a></span></li><li><span><a href=\"#Проверка-гипотез\" data-toc-modified-id=\"Проверка-гипотез-6\"><span class=\"toc-item-num\">6&nbsp;&nbsp;</span>Проверка гипотез</a></span></li><li><span><a href=\"#Итоговые-выводы\" data-toc-modified-id=\"Итоговые-выводы-7\"><span class=\"toc-item-num\">7&nbsp;&nbsp;</span>Итоговые выводы</a></span></li></ul></div>"
   ]
  },
  {
   "cell_type": "code",
   "execution_count": 1,
   "id": "e985fba2",
   "metadata": {},
   "outputs": [],
   "source": [
    "import pandas as pd\n",
    "from scipy import stats as st\n",
    "import numpy as np\n",
    "import matplotlib\n",
    "from matplotlib import pyplot as plt\n",
    "import math\n",
    "import warnings\n",
    "warnings.filterwarnings('ignore')"
   ]
  },
  {
   "cell_type": "code",
   "execution_count": 2,
   "id": "29466806",
   "metadata": {},
   "outputs": [],
   "source": [
    "from IPython.display import display_html\n",
    "def display_side_by_side(*args):\n",
    "    html_str=''\n",
    "    for df in args:\n",
    "        html_str+=df.to_html()\n",
    "    display_html(html_str.replace('table','table style=\"display:inline\"'),raw=True)"
   ]
  },
  {
   "cell_type": "markdown",
   "id": "3e7f115e",
   "metadata": {},
   "source": [
    "# Исследование видеоигр"
   ]
  },
  {
   "cell_type": "markdown",
   "id": "a9df561e",
   "metadata": {},
   "source": [
    "## Описание проекта"
   ]
  },
  {
   "cell_type": "markdown",
   "id": "ea1cc42b",
   "metadata": {},
   "source": [
    "**Заказчик** — интернет-магазин «Стримчик», который продаёт по всему миру компьютерные игры. Необходимо выявить определяющие успешность игры закономерности. Это позволит сделать ставку на потенциально популярный продукт и спланировать рекламные кампании.\n",
    "\n",
    "\n",
    "**Входные данные** — собранные из открытых источников исторические данные о продажах игр, оценки пользователей и экспертов, жанры и платформы. Вам нужно выявить определяющие успешность игры закономерности. Данные покрывают временной период с 1980 по 2016 года включительно. \n",
    "\n",
    "Ход исследования\n",
    "\n",
    "Данное исследование будет состоять из 7 основных этапов, а именно:\n",
    "1. Описание проекта\n",
    "2. Описание данных\n",
    "3. Подготовка данных\n",
    "    * Преобразование столбцов и типов\n",
    "    * Расчет суммарных продаж\n",
    "    * Обработка пропусков\n",
    "4. Исследовательский анализ данных\n",
    "    * Анализ выпуска игр\n",
    "    * Анализ платформ\n",
    "    * Анализ оценок\n",
    "    * Анализ жанров\n",
    "5. Составление портрета пользователя каждого региона\n",
    "6. Проверка гипотез\n",
    "7. Итоговые выводы"
   ]
  },
  {
   "cell_type": "markdown",
   "id": "0aef6dc3",
   "metadata": {},
   "source": [
    "Исходный датафрейм состоит из 11 столбцов, отвечающих за следующие характеристики:\n",
    "* Name — название игры\n",
    "* Platform — платформа\n",
    "* Year_of_Release — год выпуска\n",
    "* Genre — жанр игры\n",
    "* NA_sales — продажи в Северной Америке (миллионы проданных копий)\n",
    "* EU_sales — продажи в Европе (миллионы проданных копий)\n",
    "* JP_sales — продажи в Японии (миллионы проданных копий)\n",
    "* Other_sales — продажи в других странах (миллионы проданных копий)\n",
    "* Critic_Score — оценка критиков (максимум 100)\n",
    "* User_Score — оценка пользователей (максимум 10)\n",
    "* Rating — рейтинг от организации ESRB (англ. Entertainment Software Rating Board). Эта ассоциация определяет рейтинг компьютерных игр и присваивает им подходящую возрастную категорию."
   ]
  },
  {
   "cell_type": "markdown",
   "id": "b213e8ae",
   "metadata": {},
   "source": [
    "## Описание данных"
   ]
  },
  {
   "cell_type": "markdown",
   "id": "684b57cb",
   "metadata": {},
   "source": [
    "Начнем с загрузки исходных данных и выведения основной информации о них с целью предварительного анализа. "
   ]
  },
  {
   "cell_type": "code",
   "execution_count": 3,
   "id": "935f63d9",
   "metadata": {},
   "outputs": [],
   "source": [
    "try:\n",
    "    data = pd.read_csv('games.csv')\n",
    "except:\n",
    "    data = pd.read_csv('/datasets/games.csv')"
   ]
  },
  {
   "cell_type": "code",
   "execution_count": 4,
   "id": "bd28e8cc",
   "metadata": {},
   "outputs": [
    {
     "data": {
      "text/html": [
       "<div>\n",
       "<style scoped>\n",
       "    .dataframe tbody tr th:only-of-type {\n",
       "        vertical-align: middle;\n",
       "    }\n",
       "\n",
       "    .dataframe tbody tr th {\n",
       "        vertical-align: top;\n",
       "    }\n",
       "\n",
       "    .dataframe thead th {\n",
       "        text-align: right;\n",
       "    }\n",
       "</style>\n",
       "<table border=\"1\" class=\"dataframe\">\n",
       "  <thead>\n",
       "    <tr style=\"text-align: right;\">\n",
       "      <th></th>\n",
       "      <th>Name</th>\n",
       "      <th>Platform</th>\n",
       "      <th>Year_of_Release</th>\n",
       "      <th>Genre</th>\n",
       "      <th>NA_sales</th>\n",
       "      <th>EU_sales</th>\n",
       "      <th>JP_sales</th>\n",
       "      <th>Other_sales</th>\n",
       "      <th>Critic_Score</th>\n",
       "      <th>User_Score</th>\n",
       "      <th>Rating</th>\n",
       "    </tr>\n",
       "  </thead>\n",
       "  <tbody>\n",
       "    <tr>\n",
       "      <th>0</th>\n",
       "      <td>Wii Sports</td>\n",
       "      <td>Wii</td>\n",
       "      <td>2006.0</td>\n",
       "      <td>Sports</td>\n",
       "      <td>41.36</td>\n",
       "      <td>28.96</td>\n",
       "      <td>3.77</td>\n",
       "      <td>8.45</td>\n",
       "      <td>76.0</td>\n",
       "      <td>8</td>\n",
       "      <td>E</td>\n",
       "    </tr>\n",
       "    <tr>\n",
       "      <th>1</th>\n",
       "      <td>Super Mario Bros.</td>\n",
       "      <td>NES</td>\n",
       "      <td>1985.0</td>\n",
       "      <td>Platform</td>\n",
       "      <td>29.08</td>\n",
       "      <td>3.58</td>\n",
       "      <td>6.81</td>\n",
       "      <td>0.77</td>\n",
       "      <td>NaN</td>\n",
       "      <td>NaN</td>\n",
       "      <td>NaN</td>\n",
       "    </tr>\n",
       "    <tr>\n",
       "      <th>2</th>\n",
       "      <td>Mario Kart Wii</td>\n",
       "      <td>Wii</td>\n",
       "      <td>2008.0</td>\n",
       "      <td>Racing</td>\n",
       "      <td>15.68</td>\n",
       "      <td>12.76</td>\n",
       "      <td>3.79</td>\n",
       "      <td>3.29</td>\n",
       "      <td>82.0</td>\n",
       "      <td>8.3</td>\n",
       "      <td>E</td>\n",
       "    </tr>\n",
       "    <tr>\n",
       "      <th>3</th>\n",
       "      <td>Wii Sports Resort</td>\n",
       "      <td>Wii</td>\n",
       "      <td>2009.0</td>\n",
       "      <td>Sports</td>\n",
       "      <td>15.61</td>\n",
       "      <td>10.93</td>\n",
       "      <td>3.28</td>\n",
       "      <td>2.95</td>\n",
       "      <td>80.0</td>\n",
       "      <td>8</td>\n",
       "      <td>E</td>\n",
       "    </tr>\n",
       "    <tr>\n",
       "      <th>4</th>\n",
       "      <td>Pokemon Red/Pokemon Blue</td>\n",
       "      <td>GB</td>\n",
       "      <td>1996.0</td>\n",
       "      <td>Role-Playing</td>\n",
       "      <td>11.27</td>\n",
       "      <td>8.89</td>\n",
       "      <td>10.22</td>\n",
       "      <td>1.00</td>\n",
       "      <td>NaN</td>\n",
       "      <td>NaN</td>\n",
       "      <td>NaN</td>\n",
       "    </tr>\n",
       "  </tbody>\n",
       "</table>\n",
       "</div>"
      ],
      "text/plain": [
       "                       Name Platform  Year_of_Release         Genre  NA_sales  \\\n",
       "0                Wii Sports      Wii           2006.0        Sports     41.36   \n",
       "1         Super Mario Bros.      NES           1985.0      Platform     29.08   \n",
       "2            Mario Kart Wii      Wii           2008.0        Racing     15.68   \n",
       "3         Wii Sports Resort      Wii           2009.0        Sports     15.61   \n",
       "4  Pokemon Red/Pokemon Blue       GB           1996.0  Role-Playing     11.27   \n",
       "\n",
       "   EU_sales  JP_sales  Other_sales  Critic_Score User_Score Rating  \n",
       "0     28.96      3.77         8.45          76.0          8      E  \n",
       "1      3.58      6.81         0.77           NaN        NaN    NaN  \n",
       "2     12.76      3.79         3.29          82.0        8.3      E  \n",
       "3     10.93      3.28         2.95          80.0          8      E  \n",
       "4      8.89     10.22         1.00           NaN        NaN    NaN  "
      ]
     },
     "execution_count": 4,
     "metadata": {},
     "output_type": "execute_result"
    }
   ],
   "source": [
    "data.head()"
   ]
  },
  {
   "cell_type": "code",
   "execution_count": 5,
   "id": "e497e304",
   "metadata": {},
   "outputs": [
    {
     "name": "stdout",
     "output_type": "stream",
     "text": [
      "<class 'pandas.core.frame.DataFrame'>\n",
      "RangeIndex: 16715 entries, 0 to 16714\n",
      "Data columns (total 11 columns):\n",
      " #   Column           Non-Null Count  Dtype  \n",
      "---  ------           --------------  -----  \n",
      " 0   Name             16713 non-null  object \n",
      " 1   Platform         16715 non-null  object \n",
      " 2   Year_of_Release  16446 non-null  float64\n",
      " 3   Genre            16713 non-null  object \n",
      " 4   NA_sales         16715 non-null  float64\n",
      " 5   EU_sales         16715 non-null  float64\n",
      " 6   JP_sales         16715 non-null  float64\n",
      " 7   Other_sales      16715 non-null  float64\n",
      " 8   Critic_Score     8137 non-null   float64\n",
      " 9   User_Score       10014 non-null  object \n",
      " 10  Rating           9949 non-null   object \n",
      "dtypes: float64(6), object(5)\n",
      "memory usage: 1.4+ MB\n"
     ]
    }
   ],
   "source": [
    "data.info()"
   ]
  },
  {
   "cell_type": "markdown",
   "id": "91505681",
   "metadata": {},
   "source": [
    "Итак, как уже упоминалось ранее, в исходном датафрейме 11 столбцов, которые отвечают за разные характеристики видеоигр. По типу данные распределены примерно равномерно: 6 переменных имеют тип `floar64` и 5 с типом `object`. 5 нечисловых типов среди переменных довольно много, особенно учитывая специфику данных, так что некоторые характеристики будет необходимо преобразовать. Так, для **оценки пользователей**  больше подойдет тип данных `float`, ведь оценки для игр ставятся числами. Также хотелось бы преобразовать **оценки критиков** и **года выпуска игры** в тип `int`, ведь обе характеристики в действительности принимают только целые числа, однако в рамках данного кейса это остается невозможным - в обеих переменных наблюдаются пропущенные значения. \n",
    "\n",
    "Что еще можно заметить в полученной информации? Полученная выборка не полная, в ней присутствуют пропуски у некоторых наблюдений. Значит, на этапе предобработки нам также будет необходимо решить, как поступить с пропущенными значениями - оставить все как есть или чем-то заполнить.\n",
    "\n",
    "Наконец, для удобства дальнейшей работы стоит поработать над именами переменных, а именно привести их к нижнему регистру. "
   ]
  },
  {
   "cell_type": "markdown",
   "id": "abe5a05e",
   "metadata": {},
   "source": [
    "## Подготовка данных"
   ]
  },
  {
   "cell_type": "markdown",
   "id": "6b16b673",
   "metadata": {},
   "source": [
    "### Преобразование столбцов и типов"
   ]
  },
  {
   "cell_type": "markdown",
   "id": "42056a77",
   "metadata": {},
   "source": [
    "Приступим к первому этапу работы над данным кейсом - предобработке исходных данных. \n",
    "\n",
    "Начнем с замены исходных названий столбцов. На практике принято прописывать переменные в нижнем регистре - именно к такому мы и приведем исходные названия. Исключениями будут три столбца, отвечающие за регион продажи игр - поскольку в их названии используются общепринятые аббревиатуры, оставим их в верхнем регистре. "
   ]
  },
  {
   "cell_type": "code",
   "execution_count": 6,
   "id": "42660e8a",
   "metadata": {},
   "outputs": [],
   "source": [
    "data.columns = ['name', 'platform', 'year_of_release', 'genre', 'NA_sales', 'EU_sales', 'JP_sales', 'other_sales',\n",
    "                'critic_score', 'user_score', 'rating']"
   ]
  },
  {
   "cell_type": "markdown",
   "id": "507955d7",
   "metadata": {},
   "source": [
    "Для удобства при дальнейшей работе создадим словарь для переменной, отвечающей за **рейтинг** игры - с ростом рейтинга будет увеличиваться номер категории. Это несколько упростит этап, посвященный исследовательскому анализу данных. Отдельно отметим, что категория \"Е\" первоначально учитывалась как \"К-А\". Для удобства анализа объединим их. "
   ]
  },
  {
   "cell_type": "code",
   "execution_count": 7,
   "id": "1181b1b7",
   "metadata": {},
   "outputs": [],
   "source": [
    "def rating_category(row):\n",
    "    rating = row['rating']\n",
    "    if rating == 'RP':\n",
    "        return 0\n",
    "    elif rating == 'EC':\n",
    "        return 1\n",
    "    elif rating == 'E':\n",
    "        return 2\n",
    "    elif rating == 'E10+':\n",
    "        return 3\n",
    "    elif rating == 'T':\n",
    "        return 4\n",
    "    elif rating == 'K-A':\n",
    "        return 2\n",
    "    elif rating == 'M':\n",
    "        return 5\n",
    "    elif rating == 'AO':\n",
    "        return 6\n",
    "    else: return np.nan\n",
    "    \n",
    "    \n",
    "data['rating_cat'] = data.apply(rating_category, axis=1)"
   ]
  },
  {
   "cell_type": "code",
   "execution_count": 8,
   "id": "2f1178ab",
   "metadata": {},
   "outputs": [
    {
     "data": {
      "text/html": [
       "<div>\n",
       "<style scoped>\n",
       "    .dataframe tbody tr th:only-of-type {\n",
       "        vertical-align: middle;\n",
       "    }\n",
       "\n",
       "    .dataframe tbody tr th {\n",
       "        vertical-align: top;\n",
       "    }\n",
       "\n",
       "    .dataframe thead th {\n",
       "        text-align: right;\n",
       "    }\n",
       "</style>\n",
       "<table border=\"1\" class=\"dataframe\">\n",
       "  <thead>\n",
       "    <tr style=\"text-align: right;\">\n",
       "      <th></th>\n",
       "      <th>rating</th>\n",
       "      <th>rating_cat</th>\n",
       "    </tr>\n",
       "  </thead>\n",
       "  <tbody>\n",
       "    <tr>\n",
       "      <th>8</th>\n",
       "      <td>RP</td>\n",
       "      <td>0.0</td>\n",
       "    </tr>\n",
       "    <tr>\n",
       "      <th>7</th>\n",
       "      <td>EC</td>\n",
       "      <td>1.0</td>\n",
       "    </tr>\n",
       "    <tr>\n",
       "      <th>0</th>\n",
       "      <td>E</td>\n",
       "      <td>2.0</td>\n",
       "    </tr>\n",
       "    <tr>\n",
       "      <th>5</th>\n",
       "      <td>K-A</td>\n",
       "      <td>2.0</td>\n",
       "    </tr>\n",
       "    <tr>\n",
       "      <th>4</th>\n",
       "      <td>E10+</td>\n",
       "      <td>3.0</td>\n",
       "    </tr>\n",
       "    <tr>\n",
       "      <th>3</th>\n",
       "      <td>T</td>\n",
       "      <td>4.0</td>\n",
       "    </tr>\n",
       "    <tr>\n",
       "      <th>2</th>\n",
       "      <td>M</td>\n",
       "      <td>5.0</td>\n",
       "    </tr>\n",
       "    <tr>\n",
       "      <th>6</th>\n",
       "      <td>AO</td>\n",
       "      <td>6.0</td>\n",
       "    </tr>\n",
       "    <tr>\n",
       "      <th>1</th>\n",
       "      <td>NaN</td>\n",
       "      <td>NaN</td>\n",
       "    </tr>\n",
       "  </tbody>\n",
       "</table>\n",
       "</div>"
      ],
      "text/plain": [
       "  rating  rating_cat\n",
       "8     RP         0.0\n",
       "7     EC         1.0\n",
       "0      E         2.0\n",
       "5    K-A         2.0\n",
       "4   E10+         3.0\n",
       "3      T         4.0\n",
       "2      M         5.0\n",
       "6     AO         6.0\n",
       "1    NaN         NaN"
      ]
     },
     "execution_count": 8,
     "metadata": {},
     "output_type": "execute_result"
    }
   ],
   "source": [
    "rating_dict = data[['rating', 'rating_cat']]\n",
    "rating_dict = rating_dict.drop_duplicates().reset_index(drop = True)\n",
    "data.drop(columns = ['rating'], axis = 1, inplace=True)\n",
    "rating_dict.sort_values('rating_cat')"
   ]
  },
  {
   "cell_type": "markdown",
   "id": "2e410314",
   "metadata": {},
   "source": [
    "Теперь перейдем к преобразованию типов данных. Как уже упоминалось ранее, мы преобразуем тип данных только у **оценок пользователей** в тип `float`.\n",
    "\n",
    "На данную характеристику необходимо обратить особое внимание, ведь она принимает не только численные значения, но и особое значение `tbd`. Чтобы не повторять смену типов данных на более поздних этапах, для начала обработаем данное уникальное значение."
   ]
  },
  {
   "cell_type": "markdown",
   "id": "c7fa4c62",
   "metadata": {},
   "source": [
    "Что обозначает `tbd`? Чтобы гарантировать точное отображение оценок, данных критиками или пользователями, многие ресурсы не отображают суммарную оценку одной из категорий до тех пор, пока они не будут иметь некоторое обязательное минимальное число оценок. После достижения минимального порога, оценка появляется. \n",
    "\n",
    "Получается, по некоторым играм было опубликовано недостаточное количество оценок от пользователей для расчета средней пользовательской оценки и поэтому у таких игр возникало уникальное значение `tbd`. Оставить данное значение как есть мы не можем - это значительно усложнит дальнейший анализ. В таком случае заменим `tbd` на уникальное значение оценки -1. "
   ]
  },
  {
   "cell_type": "code",
   "execution_count": 9,
   "id": "1b0568d9",
   "metadata": {},
   "outputs": [],
   "source": [
    "data.loc[data['user_score'] == \"tbd\", 'user_score'] = -1"
   ]
  },
  {
   "cell_type": "markdown",
   "id": "d7f27a2e",
   "metadata": {},
   "source": [
    "Теперь мы можем спокойно преобразовать тип у данной переменной."
   ]
  },
  {
   "cell_type": "code",
   "execution_count": 10,
   "id": "a9b15485",
   "metadata": {},
   "outputs": [],
   "source": [
    "data['user_score'] = data['user_score'].astype('float', errors = 'ignore')"
   ]
  },
  {
   "cell_type": "markdown",
   "id": "001c226a",
   "metadata": {},
   "source": [
    "### Расчет суммарных продаж"
   ]
  },
  {
   "cell_type": "markdown",
   "id": "5f898668",
   "metadata": {},
   "source": [
    "Теперь займемся расчетом дополнительной характеристики - суммарному объему продаж. Поскольку у характеристик, участвующих в подсчете, отсутствуют наблюдения с пропусками, мы можем провести расчет на любом этапе предобработки. Проведение расчетов именно сейчас обусловлено тем, что это сможет помочь при работе над пропущенными значениями далее."
   ]
  },
  {
   "cell_type": "code",
   "execution_count": 11,
   "id": "8f711e83",
   "metadata": {},
   "outputs": [],
   "source": [
    "data['sum_sales'] = data['NA_sales'] + data['JP_sales'] + data['EU_sales'] + data['other_sales']"
   ]
  },
  {
   "cell_type": "markdown",
   "id": "9cb8331b",
   "metadata": {},
   "source": [
    "### Обработка пропусков"
   ]
  },
  {
   "cell_type": "markdown",
   "id": "1116c76a",
   "metadata": {},
   "source": [
    "Перейдем к работе с пропущенными переменными. Начнем с вывода общей информации о пропусках."
   ]
  },
  {
   "cell_type": "code",
   "execution_count": 12,
   "id": "3afd4f5b",
   "metadata": {},
   "outputs": [
    {
     "data": {
      "text/plain": [
       "name                  2\n",
       "platform              0\n",
       "year_of_release     269\n",
       "genre                 2\n",
       "NA_sales              0\n",
       "EU_sales              0\n",
       "JP_sales              0\n",
       "other_sales           0\n",
       "critic_score       8578\n",
       "user_score         6701\n",
       "rating_cat         6766\n",
       "sum_sales             0\n",
       "dtype: int64"
      ]
     },
     "execution_count": 12,
     "metadata": {},
     "output_type": "execute_result"
    }
   ],
   "source": [
    "data.isna().sum()"
   ]
  },
  {
   "cell_type": "code",
   "execution_count": 13,
   "id": "b546fb20",
   "metadata": {},
   "outputs": [
    {
     "name": "stdout",
     "output_type": "stream",
     "text": [
      "Доля пропусков в столбце name: 0.000\n",
      "Доля пропусков в столбце year_of_release: 0.016\n",
      "Доля пропусков в столбце genre: 0.000\n",
      "Доля пропусков в столбце critic_score: 0.513\n",
      "Доля пропусков в столбце user_score: 0.401\n",
      "Доля пропусков в столбце rating_cat: 0.405\n"
     ]
    }
   ],
   "source": [
    "for name in ['name', 'year_of_release', 'genre', 'critic_score', 'user_score', 'rating_cat']:\n",
    "    print(f'Доля пропусков в столбце {name}:', '%.3f' % data[name].isna().mean())"
   ]
  },
  {
   "cell_type": "markdown",
   "id": "0fca5a7f",
   "metadata": {},
   "source": [
    "Рассмотрим все переменные, в которых присутствуют пропуски. \n",
    "\n",
    "Начнем с переменных, отвечающих за **имя** и **жанр** игры, поскольку в этих характеристиках наименьшее число пропущенных значений. Выведем эти наблюдения и посмотрим общую информацию по таким играм - возможно, благодаря дополнительной информации мы сможем найти, что это были за игры, и самостоятельно заполнить пропуски."
   ]
  },
  {
   "cell_type": "code",
   "execution_count": 14,
   "id": "275f29e7",
   "metadata": {},
   "outputs": [
    {
     "data": {
      "text/html": [
       "<div>\n",
       "<style scoped>\n",
       "    .dataframe tbody tr th:only-of-type {\n",
       "        vertical-align: middle;\n",
       "    }\n",
       "\n",
       "    .dataframe tbody tr th {\n",
       "        vertical-align: top;\n",
       "    }\n",
       "\n",
       "    .dataframe thead th {\n",
       "        text-align: right;\n",
       "    }\n",
       "</style>\n",
       "<table border=\"1\" class=\"dataframe\">\n",
       "  <thead>\n",
       "    <tr style=\"text-align: right;\">\n",
       "      <th></th>\n",
       "      <th>name</th>\n",
       "      <th>platform</th>\n",
       "      <th>year_of_release</th>\n",
       "      <th>genre</th>\n",
       "      <th>NA_sales</th>\n",
       "      <th>EU_sales</th>\n",
       "      <th>JP_sales</th>\n",
       "      <th>other_sales</th>\n",
       "      <th>critic_score</th>\n",
       "      <th>user_score</th>\n",
       "      <th>rating_cat</th>\n",
       "      <th>sum_sales</th>\n",
       "    </tr>\n",
       "  </thead>\n",
       "  <tbody>\n",
       "    <tr>\n",
       "      <th>659</th>\n",
       "      <td>NaN</td>\n",
       "      <td>GEN</td>\n",
       "      <td>1993.0</td>\n",
       "      <td>NaN</td>\n",
       "      <td>1.78</td>\n",
       "      <td>0.53</td>\n",
       "      <td>0.00</td>\n",
       "      <td>0.08</td>\n",
       "      <td>NaN</td>\n",
       "      <td>NaN</td>\n",
       "      <td>NaN</td>\n",
       "      <td>2.39</td>\n",
       "    </tr>\n",
       "    <tr>\n",
       "      <th>14244</th>\n",
       "      <td>NaN</td>\n",
       "      <td>GEN</td>\n",
       "      <td>1993.0</td>\n",
       "      <td>NaN</td>\n",
       "      <td>0.00</td>\n",
       "      <td>0.00</td>\n",
       "      <td>0.03</td>\n",
       "      <td>0.00</td>\n",
       "      <td>NaN</td>\n",
       "      <td>NaN</td>\n",
       "      <td>NaN</td>\n",
       "      <td>0.03</td>\n",
       "    </tr>\n",
       "  </tbody>\n",
       "</table>\n",
       "</div>"
      ],
      "text/plain": [
       "      name platform  year_of_release genre  NA_sales  EU_sales  JP_sales  \\\n",
       "659    NaN      GEN           1993.0   NaN      1.78      0.53      0.00   \n",
       "14244  NaN      GEN           1993.0   NaN      0.00      0.00      0.03   \n",
       "\n",
       "       other_sales  critic_score  user_score  rating_cat  sum_sales  \n",
       "659           0.08           NaN         NaN         NaN       2.39  \n",
       "14244         0.00           NaN         NaN         NaN       0.03  "
      ]
     },
     "execution_count": 14,
     "metadata": {},
     "output_type": "execute_result"
    }
   ],
   "source": [
    "data[data['name'].isna() == True]"
   ]
  },
  {
   "cell_type": "markdown",
   "id": "da60ef23",
   "metadata": {},
   "source": [
    "По стечению обстоятельств, нет названия и жанра у одних и тех же игр. В целом, по двум этим играм мало информации, так что восстановить ее вручную не представляется возможным. В таком случае мы можем удалить эти наблюдения и на это есть две причины. Во-первых, доля наблюдений с пропусками в характеристиках **имени** и **жанра** от общей выборки крайне мала. Во-вторых, что более важно, мы проводим текущий анализ для того, чтобы компания \"Стримчик\" выявила потенциально популярный продукт и спланировала рекламные компании. Если одна из игр с пропусками вдруг окажется потенциальным продуктом, компания не сможет рекламировать ее, не зная ее названия. В таком случае от этих двух наблюдений действительно стоит избавиться."
   ]
  },
  {
   "cell_type": "code",
   "execution_count": 15,
   "id": "df3855eb",
   "metadata": {},
   "outputs": [],
   "source": [
    "data = data.dropna(subset=['genre', 'name'])"
   ]
  },
  {
   "cell_type": "markdown",
   "id": "9179add1",
   "metadata": {},
   "source": [
    "Перейдем к анализу переменной, отвечающей за **год релиза** видеоигры. Доля наблюдений с пропусками для данной характеристики также не велика - она составляет чуть больше полутора процентов. К сожалению, заполнить эти пропуски собственноручно для нас не представляется возможным, ведь в абсолютном выражении число пропусков все-таки велико, чтобы искать каждую из игр в отдельности. Но и удаление данных наблюдений будет поспешным решением - мы просто потеряем часть данных, которая могла бы оказать значимое влияние на результат. В таком случае допустимо оставить пропуски у данной характеристики незаполненными."
   ]
  },
  {
   "cell_type": "markdown",
   "id": "35a9e439",
   "metadata": {},
   "source": [
    "Теперь рассмотрим следующие характеристики - **оценки критиков** и **оценки пользователей**. Доля пропусков у обеих переменных весьма велика, поэтому не стоит оставлять эти значения без обработки. Попробуем восстановить примерную оценку игры от пользователей и критиков в зависимости от суммарных объемов продаж. Мы руководствовались следующей логикой - чем выше были оценки игры, тем больше копий было продано, поскольку видя хорошие оценки, пользователи с большей охотой покупали эти самые игры. Примерна похожая логика используется для оценок критиков - чем выше продаже игры, тем лучше ее, вероятно, оценили критики, имеющие возможность пройти игру и дать оценку до официального релиза.\n",
    "\n",
    "Отдельно хотелось бы отметить такой момент. Метод, который мы используем для заполнения пропусков, основывается исключительно на ограничении в исходных данных. Так, для выявления более точных оценок как от пользователей, так и от критиков, можно было бы использовать информацию о студиях, которы выпускали каждую из игр, а также информацию о том, является ли игра частью некоторой серии или нет."
   ]
  },
  {
   "cell_type": "code",
   "execution_count": 16,
   "id": "3735e7fd",
   "metadata": {},
   "outputs": [
    {
     "data": {
      "text/html": [
       "<div>\n",
       "<style scoped>\n",
       "    .dataframe tbody tr th:only-of-type {\n",
       "        vertical-align: middle;\n",
       "    }\n",
       "\n",
       "    .dataframe tbody tr th {\n",
       "        vertical-align: top;\n",
       "    }\n",
       "\n",
       "    .dataframe thead th {\n",
       "        text-align: right;\n",
       "    }\n",
       "</style>\n",
       "<table border=\"1\" class=\"dataframe\">\n",
       "  <thead>\n",
       "    <tr style=\"text-align: right;\">\n",
       "      <th></th>\n",
       "      <th>critic_score</th>\n",
       "      <th>user_score</th>\n",
       "    </tr>\n",
       "    <tr>\n",
       "      <th>sum_sales_cat</th>\n",
       "      <th></th>\n",
       "      <th></th>\n",
       "    </tr>\n",
       "  </thead>\n",
       "  <tbody>\n",
       "    <tr>\n",
       "      <th>(-0.0825, 8.254]</th>\n",
       "      <td>68.853502</td>\n",
       "      <td>5.146099</td>\n",
       "    </tr>\n",
       "    <tr>\n",
       "      <th>(8.254, 16.508]</th>\n",
       "      <td>87.214286</td>\n",
       "      <td>7.195238</td>\n",
       "    </tr>\n",
       "    <tr>\n",
       "      <th>(16.508, 24.762]</th>\n",
       "      <td>83.000000</td>\n",
       "      <td>7.871429</td>\n",
       "    </tr>\n",
       "    <tr>\n",
       "      <th>(24.762, 33.016]</th>\n",
       "      <td>78.500000</td>\n",
       "      <td>7.875000</td>\n",
       "    </tr>\n",
       "    <tr>\n",
       "      <th>(33.016, 41.27]</th>\n",
       "      <td>82.000000</td>\n",
       "      <td>8.300000</td>\n",
       "    </tr>\n",
       "    <tr>\n",
       "      <th>(74.286, 82.54]</th>\n",
       "      <td>76.000000</td>\n",
       "      <td>8.000000</td>\n",
       "    </tr>\n",
       "  </tbody>\n",
       "</table>\n",
       "</div>"
      ],
      "text/plain": [
       "                  critic_score  user_score\n",
       "sum_sales_cat                             \n",
       "(-0.0825, 8.254]     68.853502    5.146099\n",
       "(8.254, 16.508]      87.214286    7.195238\n",
       "(16.508, 24.762]     83.000000    7.871429\n",
       "(24.762, 33.016]     78.500000    7.875000\n",
       "(33.016, 41.27]      82.000000    8.300000\n",
       "(74.286, 82.54]      76.000000    8.000000"
      ]
     },
     "execution_count": 16,
     "metadata": {},
     "output_type": "execute_result"
    }
   ],
   "source": [
    "data['sum_sales_cat'] = pd.cut(data['sum_sales'], bins=10)\n",
    "piv = data.pivot_table(index='sum_sales_cat', values=['critic_score', 'user_score'], aggfunc=['mean'])\n",
    "piv.columns=['critic_score', 'user_score']\n",
    "piv"
   ]
  },
  {
   "cell_type": "code",
   "execution_count": 17,
   "id": "c0340b9c",
   "metadata": {},
   "outputs": [],
   "source": [
    "for score in ['critic_score', 'user_score']:\n",
    "    data.loc[data[\"sum_sales\"] <= 8.254, score] = data.loc[data['sum_sales'] <= 8.254, score].fillna(piv[score][0])\n",
    "    data.loc[data['sum_sales'] <= 16.508, score] = data.loc[data['sum_sales'] <= 16.508, score].fillna(piv[score][1])\n",
    "    data.loc[data['sum_sales'] <= 24.762, score] = data.loc[data['sum_sales'] <= 24.762, score].fillna(piv[score][2])\n",
    "    data.loc[data['sum_sales'] <= 33.016, score] = data.loc[data['sum_sales'] <= 33.016, score].fillna(piv[score][3])\n",
    "    data.loc[data['sum_sales'] <= 41.27, score] = data.loc[data['sum_sales'] <= 41.27, score].fillna(piv[score][4])\n",
    "    data.loc[data['sum_sales'] <= 82.54, score] = data.loc[data['sum_sales'] <= 82.54, score].fillna(piv[score][5])"
   ]
  },
  {
   "cell_type": "markdown",
   "id": "0f9724d0",
   "metadata": {},
   "source": [
    "Наконец, перейдем к последней из переменных с пропущенными значениями - **рейтинг от организации ESRB**. Доля пропусков у данной переменной также довольно велика. Между тем, мы оставим эту характеристику без изменения. Для объяснения причин, почему мы решили проигнорировать пропуски у данной характеристики, немного углубимся в предмет выставления рейтинга. \n",
    "\n",
    "Рейтинг для каждой видеоигры в рамках системы ESRB выставляется следующим образом. Компания, выпустившая игру, отсылает в компанию видеоролик с наиболее впечатляющими и резкими сценами игры, а также заполненную анкету. Именно на основе этих материалов и выставляется рейтинг. Другими словами, рейтинг является слишком субъективной оценкой, формирующейся индивидуально для каждой игры в зависимости от содержания и ее сюжета. Из предоставленных в исходных данных характеристик, к сожалению, ни одна в достаточной мере не описывает ни содержание, ни сюжет самих игр. Кроме того, использовать средний или медианный рейтинг также не совсем правильно - даже максимально похожие по своим характеристикам игры могут обладать существенно различным рейтингом, опять-таки, из-за своего содержания.\n",
    "\n",
    "Однако, незаполнение пропусков приведет к потере существенного объема данных. В таком случае, чтобы не исказить данные, а также не потерять их, воспользуемся значением заглушкой - \"-1\""
   ]
  },
  {
   "cell_type": "code",
   "execution_count": 18,
   "id": "827791cd",
   "metadata": {},
   "outputs": [],
   "source": [
    "data['rating_cat'] = data['rating_cat'].fillna(-1)"
   ]
  },
  {
   "cell_type": "markdown",
   "id": "f0b6b87d",
   "metadata": {},
   "source": [
    "Проверим, что устранение пропусков прошло успешно. Напомним, что нами было принято решение оставить пропуски в переменной, отвечающих за **год выпуска игры**."
   ]
  },
  {
   "cell_type": "code",
   "execution_count": 19,
   "id": "07d29341",
   "metadata": {},
   "outputs": [
    {
     "data": {
      "text/plain": [
       "name                 0\n",
       "platform             0\n",
       "year_of_release    269\n",
       "genre                0\n",
       "NA_sales             0\n",
       "EU_sales             0\n",
       "JP_sales             0\n",
       "other_sales          0\n",
       "critic_score         0\n",
       "user_score           0\n",
       "rating_cat           0\n",
       "sum_sales            0\n",
       "sum_sales_cat        0\n",
       "dtype: int64"
      ]
     },
     "execution_count": 19,
     "metadata": {},
     "output_type": "execute_result"
    }
   ],
   "source": [
    "data.isna().sum()"
   ]
  },
  {
   "cell_type": "markdown",
   "id": "706e4312",
   "metadata": {},
   "source": [
    "Как можно заметить, пропуски действительно остались только в тех переменных, которые мы не стали обрабатывать.\n",
    "\n",
    "Основная часть работы по предобработке данных выполнена. Для того чтобы проверить, что все наши преобразования были проведены успешно, вновь выведем основную информацию о данных."
   ]
  },
  {
   "cell_type": "code",
   "execution_count": 20,
   "id": "598d684e",
   "metadata": {},
   "outputs": [
    {
     "name": "stdout",
     "output_type": "stream",
     "text": [
      "<class 'pandas.core.frame.DataFrame'>\n",
      "Int64Index: 16713 entries, 0 to 16714\n",
      "Data columns (total 13 columns):\n",
      " #   Column           Non-Null Count  Dtype   \n",
      "---  ------           --------------  -----   \n",
      " 0   name             16713 non-null  object  \n",
      " 1   platform         16713 non-null  object  \n",
      " 2   year_of_release  16444 non-null  float64 \n",
      " 3   genre            16713 non-null  object  \n",
      " 4   NA_sales         16713 non-null  float64 \n",
      " 5   EU_sales         16713 non-null  float64 \n",
      " 6   JP_sales         16713 non-null  float64 \n",
      " 7   other_sales      16713 non-null  float64 \n",
      " 8   critic_score     16713 non-null  float64 \n",
      " 9   user_score       16713 non-null  float64 \n",
      " 10  rating_cat       16713 non-null  float64 \n",
      " 11  sum_sales        16713 non-null  float64 \n",
      " 12  sum_sales_cat    16713 non-null  category\n",
      "dtypes: category(1), float64(9), object(3)\n",
      "memory usage: 1.7+ MB\n"
     ]
    }
   ],
   "source": [
    "data.info()"
   ]
  },
  {
   "cell_type": "code",
   "execution_count": 21,
   "id": "c04c97c7",
   "metadata": {},
   "outputs": [
    {
     "data": {
      "text/html": [
       "<div>\n",
       "<style scoped>\n",
       "    .dataframe tbody tr th:only-of-type {\n",
       "        vertical-align: middle;\n",
       "    }\n",
       "\n",
       "    .dataframe tbody tr th {\n",
       "        vertical-align: top;\n",
       "    }\n",
       "\n",
       "    .dataframe thead th {\n",
       "        text-align: right;\n",
       "    }\n",
       "</style>\n",
       "<table border=\"1\" class=\"dataframe\">\n",
       "  <thead>\n",
       "    <tr style=\"text-align: right;\">\n",
       "      <th></th>\n",
       "      <th>name</th>\n",
       "      <th>platform</th>\n",
       "      <th>year_of_release</th>\n",
       "      <th>genre</th>\n",
       "      <th>NA_sales</th>\n",
       "      <th>EU_sales</th>\n",
       "      <th>JP_sales</th>\n",
       "      <th>other_sales</th>\n",
       "      <th>critic_score</th>\n",
       "      <th>user_score</th>\n",
       "      <th>rating_cat</th>\n",
       "      <th>sum_sales</th>\n",
       "      <th>sum_sales_cat</th>\n",
       "    </tr>\n",
       "  </thead>\n",
       "  <tbody>\n",
       "    <tr>\n",
       "      <th>0</th>\n",
       "      <td>Wii Sports</td>\n",
       "      <td>Wii</td>\n",
       "      <td>2006.0</td>\n",
       "      <td>Sports</td>\n",
       "      <td>41.36</td>\n",
       "      <td>28.96</td>\n",
       "      <td>3.77</td>\n",
       "      <td>8.45</td>\n",
       "      <td>76.0</td>\n",
       "      <td>8.000</td>\n",
       "      <td>2.0</td>\n",
       "      <td>82.54</td>\n",
       "      <td>(74.286, 82.54]</td>\n",
       "    </tr>\n",
       "    <tr>\n",
       "      <th>1</th>\n",
       "      <td>Super Mario Bros.</td>\n",
       "      <td>NES</td>\n",
       "      <td>1985.0</td>\n",
       "      <td>Platform</td>\n",
       "      <td>29.08</td>\n",
       "      <td>3.58</td>\n",
       "      <td>6.81</td>\n",
       "      <td>0.77</td>\n",
       "      <td>82.0</td>\n",
       "      <td>8.300</td>\n",
       "      <td>-1.0</td>\n",
       "      <td>40.24</td>\n",
       "      <td>(33.016, 41.27]</td>\n",
       "    </tr>\n",
       "    <tr>\n",
       "      <th>2</th>\n",
       "      <td>Mario Kart Wii</td>\n",
       "      <td>Wii</td>\n",
       "      <td>2008.0</td>\n",
       "      <td>Racing</td>\n",
       "      <td>15.68</td>\n",
       "      <td>12.76</td>\n",
       "      <td>3.79</td>\n",
       "      <td>3.29</td>\n",
       "      <td>82.0</td>\n",
       "      <td>8.300</td>\n",
       "      <td>2.0</td>\n",
       "      <td>35.52</td>\n",
       "      <td>(33.016, 41.27]</td>\n",
       "    </tr>\n",
       "    <tr>\n",
       "      <th>3</th>\n",
       "      <td>Wii Sports Resort</td>\n",
       "      <td>Wii</td>\n",
       "      <td>2009.0</td>\n",
       "      <td>Sports</td>\n",
       "      <td>15.61</td>\n",
       "      <td>10.93</td>\n",
       "      <td>3.28</td>\n",
       "      <td>2.95</td>\n",
       "      <td>80.0</td>\n",
       "      <td>8.000</td>\n",
       "      <td>2.0</td>\n",
       "      <td>32.77</td>\n",
       "      <td>(24.762, 33.016]</td>\n",
       "    </tr>\n",
       "    <tr>\n",
       "      <th>4</th>\n",
       "      <td>Pokemon Red/Pokemon Blue</td>\n",
       "      <td>GB</td>\n",
       "      <td>1996.0</td>\n",
       "      <td>Role-Playing</td>\n",
       "      <td>11.27</td>\n",
       "      <td>8.89</td>\n",
       "      <td>10.22</td>\n",
       "      <td>1.00</td>\n",
       "      <td>78.5</td>\n",
       "      <td>7.875</td>\n",
       "      <td>-1.0</td>\n",
       "      <td>31.38</td>\n",
       "      <td>(24.762, 33.016]</td>\n",
       "    </tr>\n",
       "  </tbody>\n",
       "</table>\n",
       "</div>"
      ],
      "text/plain": [
       "                       name platform  year_of_release         genre  NA_sales  \\\n",
       "0                Wii Sports      Wii           2006.0        Sports     41.36   \n",
       "1         Super Mario Bros.      NES           1985.0      Platform     29.08   \n",
       "2            Mario Kart Wii      Wii           2008.0        Racing     15.68   \n",
       "3         Wii Sports Resort      Wii           2009.0        Sports     15.61   \n",
       "4  Pokemon Red/Pokemon Blue       GB           1996.0  Role-Playing     11.27   \n",
       "\n",
       "   EU_sales  JP_sales  other_sales  critic_score  user_score  rating_cat  \\\n",
       "0     28.96      3.77         8.45          76.0       8.000         2.0   \n",
       "1      3.58      6.81         0.77          82.0       8.300        -1.0   \n",
       "2     12.76      3.79         3.29          82.0       8.300         2.0   \n",
       "3     10.93      3.28         2.95          80.0       8.000         2.0   \n",
       "4      8.89     10.22         1.00          78.5       7.875        -1.0   \n",
       "\n",
       "   sum_sales     sum_sales_cat  \n",
       "0      82.54   (74.286, 82.54]  \n",
       "1      40.24   (33.016, 41.27]  \n",
       "2      35.52   (33.016, 41.27]  \n",
       "3      32.77  (24.762, 33.016]  \n",
       "4      31.38  (24.762, 33.016]  "
      ]
     },
     "execution_count": 21,
     "metadata": {},
     "output_type": "execute_result"
    }
   ],
   "source": [
    "data.head()"
   ]
  },
  {
   "cell_type": "markdown",
   "id": "f5e51962",
   "metadata": {},
   "source": [
    "Итак, нами была проведена работа по подготовке данных для дальнейшего анализа.\n",
    "\n",
    "В рамках данного этапа мы:\n",
    "\n",
    "    1. Преобразовали названия характеристик, а именно привели их к более удобному в работе формату - нижнему регистру\n",
    "    \n",
    "    2. Преобразовали тип данных у некоторых характеристик\n",
    "Перевели одну из исходных характеристик в численный тип, что в дальнейшем упростит работу с ней\n",
    "\n",
    "    3. Выявили и обработали пропуски и уникальные значения\n",
    "Из 11 исходных характеристик 6 имели пропуски. По итогу проделанной работы пропущенные значения остались только в 2 из 13 характеристик. Для каждой характеристики или их группы мы попытались подобрать наиболее оптимальный путь для заполнения пропущенных значений. \n",
    "\n",
    "    4. Провели дополнительные расчеты новых характеристик\n",
    "\n",
    "Также поговорим немного о потенциально возможных причинах возникновения пропущенных значений. По исходному заданию нам сказано, что данные по видеоиграм собирались из открытых источников. В таком случае, наиболее вероятной причиной потери некоторых данных является случайная составляющая или человеческий фактор - например, произошла потеря некоторой части исходных данных при считывании их из источника или при объединении. Также можно предположить, что по некоторым наиболее старым видеоиграм могло не оказаться части данных - т.е. была проблема случайного пропуска в самом исходнике."
   ]
  },
  {
   "cell_type": "markdown",
   "id": "5563b6b2",
   "metadata": {},
   "source": [
    "## Исследовательский анализ данных"
   ]
  },
  {
   "cell_type": "markdown",
   "id": "f19572c0",
   "metadata": {},
   "source": [
    "Перейдем к исследовательской части проекта. В рамках данного блока мы проанализируем наиболее значимые характеристики игр - год выпуска, жанр, платформы. Также на данном этапе мы отсечем часть нерелевантных данных - информацию о тех играх, которые были выпущены слишком давно и их особенности не соответствуют текущим реалиям."
   ]
  },
  {
   "cell_type": "markdown",
   "id": "20fad12c",
   "metadata": {},
   "source": [
    "### Анализ выпуска игр"
   ]
  },
  {
   "cell_type": "markdown",
   "id": "f7a9e184",
   "metadata": {},
   "source": [
    "Начнем блок анализа с изучения времени выпуска игр из исходного набора данных. Для этого посмотрим, сколько игр выпускалось каждый год в рассматриваемый период. Также, поскольку в первые года игр выпускалось существенно меньше, рассмотрим более детально период, начиная с 2000 года. "
   ]
  },
  {
   "cell_type": "code",
   "execution_count": 22,
   "id": "52338322",
   "metadata": {},
   "outputs": [],
   "source": [
    "font = {'family': 'serif','weight': 'normal', 'size': 20}"
   ]
  },
  {
   "cell_type": "code",
   "execution_count": 23,
   "id": "e6ca683a",
   "metadata": {},
   "outputs": [
    {
     "data": {
      "image/png": "[encoded data removed]",
      "text/plain": [
       "<Figure size 1440x720 with 1 Axes>"
      ]
     },
     "metadata": {
      "needs_background": "light"
     },
     "output_type": "display_data"
    }
   ],
   "source": [
    "plt.figure(figsize=[20, 10])\n",
    "plt.hist(data['year_of_release'])\n",
    "plt.title('Распределение игр по годам выпуска', fontdict=font)\n",
    "plt.xlabel('Год', fontdict=font)\n",
    "plt.ylabel('Объем выпуска (кол-во)', fontdict=font)\n",
    "plt.grid(True)\n",
    "plt.show()"
   ]
  },
  {
   "cell_type": "code",
   "execution_count": 24,
   "id": "701c5175",
   "metadata": {},
   "outputs": [
    {
     "data": {
      "image/png": "[encoded data removed]",
      "text/plain": [
       "<Figure size 1440x720 with 1 Axes>"
      ]
     },
     "metadata": {
      "needs_background": "light"
     },
     "output_type": "display_data"
    }
   ],
   "source": [
    "plt.figure(figsize=[20, 10])\n",
    "plt.hist(data[data['year_of_release'] >= 2000]['year_of_release'])\n",
    "plt.title('Распределение игр по годам выпуска', fontdict=font)\n",
    "plt.xlabel('Год', fontdict=font)\n",
    "plt.ylabel('Объем выпуска (кол-во)', fontdict=font)\n",
    "plt.grid(True)\n",
    "plt.show()"
   ]
  },
  {
   "cell_type": "markdown",
   "id": "0528f887",
   "metadata": {},
   "source": [
    "Что можно сказать о количестве выпускаемых игр по годам? В первое рассматриваемое десятилетие наблюдается небольшое снижение в объеме выпускаемых игр, после чего начинается стремительный общий рост данного показателя, который при этом чередуется с падением объемов продаж каждый второй год. Пик в объеме выпускаемых игр в год достигается в 2009, после чего он продолжает снижаться вплоть до последнего года в выборке. \n",
    "\n",
    "В целом, полученные результаты вполне логичны. В первые рассматриваемые года создание игр было процессом длительным и непростым в силу того уровня развития технологий. Со временем прогресс значительно вырос и вместе с ним выросло число видеоигр - теперь создавать их было куда проще и они стали более доступными для широкой части населения. В определенный момент, который как раз приходится на пик по объему производства, компании, выпускающие игры несколько меняют свой вектор - теперь становится принятым брать не количеством выпускаемых игр, а их качеством. Из-за этого новые игры начинают выходить реже. \n",
    "\n",
    "Также хотелось бы отметить тот факт, что исходный период, в рамках которого мы рассматриваем выпускаемые игры, не совсем актуален для текущего времени. Можно выделить три основных периода:\n",
    "* с 1980 до 2000 - зарождение игровой индустрии\n",
    "* с 2000 до 2009 - стремительный рост и развитие\n",
    "* с 2009 до 2016 - новые реалии\n",
    "Уже на данном этапе, мы можем с уверенностью сказать, что данными за первый период мы можем пренебречь для дальнейшего анализа. Однако, для выбора окончательных границ актуального периода необходимо провести дополнительный анализ."
   ]
  },
  {
   "cell_type": "markdown",
   "id": "78e88262",
   "metadata": {},
   "source": [
    "Теперь рассмотрим распределение игр по годам относительно наиболее популярных платформ. Отберем некоторое количество консолей по суммарным продажам и построим для них распределение по годам."
   ]
  },
  {
   "cell_type": "code",
   "execution_count": 25,
   "id": "e5e4177b",
   "metadata": {},
   "outputs": [
    {
     "data": {
      "text/html": [
       "<div>\n",
       "<style scoped>\n",
       "    .dataframe tbody tr th:only-of-type {\n",
       "        vertical-align: middle;\n",
       "    }\n",
       "\n",
       "    .dataframe tbody tr th {\n",
       "        vertical-align: top;\n",
       "    }\n",
       "\n",
       "    .dataframe thead th {\n",
       "        text-align: right;\n",
       "    }\n",
       "</style>\n",
       "<table border=\"1\" class=\"dataframe\">\n",
       "  <thead>\n",
       "    <tr style=\"text-align: right;\">\n",
       "      <th></th>\n",
       "      <th>sum_sales</th>\n",
       "    </tr>\n",
       "    <tr>\n",
       "      <th>platform</th>\n",
       "      <th></th>\n",
       "    </tr>\n",
       "  </thead>\n",
       "  <tbody>\n",
       "    <tr>\n",
       "      <th>PS2</th>\n",
       "      <td>1255.77</td>\n",
       "    </tr>\n",
       "    <tr>\n",
       "      <th>X360</th>\n",
       "      <td>971.42</td>\n",
       "    </tr>\n",
       "    <tr>\n",
       "      <th>PS3</th>\n",
       "      <td>939.65</td>\n",
       "    </tr>\n",
       "    <tr>\n",
       "      <th>Wii</th>\n",
       "      <td>907.51</td>\n",
       "    </tr>\n",
       "    <tr>\n",
       "      <th>DS</th>\n",
       "      <td>806.12</td>\n",
       "    </tr>\n",
       "    <tr>\n",
       "      <th>PS</th>\n",
       "      <td>730.86</td>\n",
       "    </tr>\n",
       "    <tr>\n",
       "      <th>GBA</th>\n",
       "      <td>317.85</td>\n",
       "    </tr>\n",
       "    <tr>\n",
       "      <th>PS4</th>\n",
       "      <td>314.14</td>\n",
       "    </tr>\n",
       "    <tr>\n",
       "      <th>PSP</th>\n",
       "      <td>294.05</td>\n",
       "    </tr>\n",
       "    <tr>\n",
       "      <th>PC</th>\n",
       "      <td>259.52</td>\n",
       "    </tr>\n",
       "  </tbody>\n",
       "</table>\n",
       "</div>"
      ],
      "text/plain": [
       "          sum_sales\n",
       "platform           \n",
       "PS2         1255.77\n",
       "X360         971.42\n",
       "PS3          939.65\n",
       "Wii          907.51\n",
       "DS           806.12\n",
       "PS           730.86\n",
       "GBA          317.85\n",
       "PS4          314.14\n",
       "PSP          294.05\n",
       "PC           259.52"
      ]
     },
     "execution_count": 25,
     "metadata": {},
     "output_type": "execute_result"
    }
   ],
   "source": [
    "data.pivot_table(index='platform', values='sum_sales', aggfunc='sum').sort_values('sum_sales', ascending =False).head(10)"
   ]
  },
  {
   "cell_type": "markdown",
   "id": "47537428",
   "metadata": {},
   "source": [
    "Остановимся на 6 топовых консолях по суммарному объему продаж - разрыв между 6 и 7 слишком велик. "
   ]
  },
  {
   "cell_type": "code",
   "execution_count": 26,
   "id": "e4eb1000",
   "metadata": {
    "scrolled": false
   },
   "outputs": [
    {
     "data": {
      "image/png": "[encoded data removed]",
      "text/plain": [
       "<Figure size 1440x720 with 1 Axes>"
      ]
     },
     "metadata": {
      "needs_background": "light"
     },
     "output_type": "display_data"
    },
    {
     "data": {
      "image/png": "[encoded data removed]",
      "text/plain": [
       "<Figure size 1440x720 with 1 Axes>"
      ]
     },
     "metadata": {
      "needs_background": "light"
     },
     "output_type": "display_data"
    },
    {
     "data": {
      "image/png": "[encoded data removed]",
      "text/plain": [
       "<Figure size 1440x720 with 1 Axes>"
      ]
     },
     "metadata": {
      "needs_background": "light"
     },
     "output_type": "display_data"
    },
    {
     "data": {
      "image/png": "[encoded data removed]",
      "text/plain": [
       "<Figure size 1440x720 with 1 Axes>"
      ]
     },
     "metadata": {
      "needs_background": "light"
     },
     "output_type": "display_data"
    },
    {
     "data": {
      "image/png": "[encoded data removed]",
      "text/plain": [
       "<Figure size 1440x720 with 1 Axes>"
      ]
     },
     "metadata": {
      "needs_background": "light"
     },
     "output_type": "display_data"
    },
    {
     "data": {
      "image/png": "[encoded data removed]",
      "text/plain": [
       "<Figure size 1440x720 with 1 Axes>"
      ]
     },
     "metadata": {
      "needs_background": "light"
     },
     "output_type": "display_data"
    }
   ],
   "source": [
    "for platform in ['PS2', 'X360', 'PS3', 'Wii', 'DS', 'PS']:\n",
    "    plt.figure(figsize=[20, 10])\n",
    "    plt.hist(data.query('platform == @platform')['year_of_release'])\n",
    "    plt.title(f'Распределение игр по годам выпуска для {platform}', fontdict=font)\n",
    "    plt.xlabel('Год', fontdict=font)\n",
    "    plt.ylabel('Объем выпуска (кол-во)', fontdict=font)\n",
    "    plt.grid(True)\n",
    "    plt.show()"
   ]
  },
  {
   "cell_type": "markdown",
   "id": "7397ea9d",
   "metadata": {},
   "source": [
    "Как можно заметить по полученным графикам, количество игр, выпускаемых для каждой платформы, подчиняется общему принципу. Вначале наблюдается существенный рост объемов выпускаемых игр, однако после достижения пика данный показатель стремительно сокращается. Примечательно, что зачастую спад в выпуске приходится как раз перед или в сам год объявления платформы нового поколения в рамках одной серии - как, например, спад в играх на PS3 с 2012 года и официальный анонс PS4 в начале 2013 года.\n",
    "\n",
    "Также поговорим немного о цикличности в данных. Как можно заметить, примерный срок популярности платформы составляет 4-6 лет - как раз через столько выходит платформа нового поколения и популярность старых начинает снижаться."
   ]
  },
  {
   "cell_type": "markdown",
   "id": "4d2ae7d4",
   "metadata": {},
   "source": [
    "Итак, как мы уже отмечали ранее, учитывать полный набор данных не оптимально - игровая индустрия слишком бысто меняется, и то, что было актуально раньше, вскоре может перестать быть таковым. Чтобы избежать получения неактуальных результатов, нам стоит ограничить нашу выборку. По анализу выпускаемых по годам игр мы определили, что в конечную выборку стоит включить данные начиная с 2000 года. После мы провели анализ платформ на цикличность и выявили, что средний срок популярности платформы составляет 6 лет. Теперь, благодаря полученной информации нами было принято решение включить в выборку только те видеоигры, которые были выпущены начиная с 2010 года. \n",
    "\n",
    "Почему именно этот год? Исходная выборка заканчивается на 2016 году, а прогноз компания-заказчик будет стоить для 2017 года. Следовательно, для получения хорошего прогноза стоит использовать более релевантный период. Поскольку игровая индустрия является одной из наиболее быстро развивающихся и изменяющихся, остановимся на интервале в три года до момента прогнозирования, то есть с 2014 года. Таким образом мы не станем учитывать близкие к \"смерти\" платформы, а также не упустим те, которые только начинают набирать популярность.\n",
    "\n",
    "Итак, создадим новый датафрейм, который будет включать только те видеоигры, которые выходили с 2014 года."
   ]
  },
  {
   "cell_type": "code",
   "execution_count": 27,
   "id": "12fbb166",
   "metadata": {},
   "outputs": [],
   "source": [
    "data_act = data.query('year_of_release >= 2014')"
   ]
  },
  {
   "cell_type": "markdown",
   "id": "766135f1",
   "metadata": {},
   "source": [
    "### Анализ платформ"
   ]
  },
  {
   "cell_type": "markdown",
   "id": "ce17b598",
   "metadata": {},
   "source": [
    "Перейдем к следующему блоку анализа - анализу продаж по платформам. Для начала посмотрим, как изменялся объем продаж для каждой из платформ в рассматриваемый период. Для наглядности отобразим изменения в продажах на общем графике, где можно будет одновременно наблюдать данные по всем платформам, попавшим в итоговый набор данных. "
   ]
  },
  {
   "cell_type": "code",
   "execution_count": 28,
   "id": "e76cf2bd",
   "metadata": {},
   "outputs": [
    {
     "data": {
      "image/png": "[encoded data removed]",
      "text/plain": [
       "<Figure size 1080x576 with 1 Axes>"
      ]
     },
     "metadata": {
      "needs_background": "light"
     },
     "output_type": "display_data"
    }
   ],
   "source": [
    "platform_plot = data_act.pivot_table(index=['year_of_release'], columns = 'platform', values='sum_sales', aggfunc = 'sum')\n",
    "\n",
    "fig, ax = plt.subplots(figsize=(15,8))\n",
    "ax.plot(platform_plot)\n",
    "ax.set_title('Изменение в объеме выпускаемых игр по платформам', fontdict=font)\n",
    "plt.xlabel('Год', fontdict=font)\n",
    "plt.ylabel('Объем выпуска (кол-во)', fontdict=font)\n",
    "ax.grid(True)\n",
    "ax.legend(loc='best', labels = list(platform_plot.columns))\n",
    "plt.show()"
   ]
  },
  {
   "cell_type": "markdown",
   "id": "67feaf5e",
   "metadata": {},
   "source": [
    "Лидерами продаж являются две платформы - PlayStation 4 и Xbox One. Обе консоли являются последними вышедшими в рамках своих серий, так что их популярность довольно логична. Остальные же платформы демонстрируют преимущественно падение в объемах продаж. Данный результат также весьма ожидаем - остальные консоли были выпущены куда раньше тех двух, что лидируют по продажам, а значит количество игр, подходящих для данных платформ, также снижается, что негативно сказывается на объемах продаж. Кроме того, среди \"угасающих\" платформ довольно много представителей одой серии (таких, как серии PlayStation или Wii), так что не удивительно, что их популярность снижается на фоне выхода платформ нового поколения. \n",
    "\n",
    "Отдельно хотелось бы обратить внимание на группу компактных консолей - серии Wii и Nintendo. Обе серии изначально имеют куда меньшую популярность по сравнению с теми же гигантами индустрии, как PlayStation, да и именных игр с заведомо высокой популярностью для данных платформ выходит куда меньше. Между тем, такие консоли нельзя полностью исключать из анализа, ведь, как и любая платформа, они имеют свою значимую базу пользователей.\n",
    "\n",
    "Итак, какие же платформы можно назвать наиболее популярными? К такому типу можно отнести три платформы. Среди гигантов, несомненно, выделяются PlayStation 4 и Xbox One, которые были реализованы совсем недавно, и их цикл еще не достиг точки снижения популярности. Отдельно отметим, что снижение в объемах продаж в 2016 году наблюдается для всех платформ, а значит мы можем не зацикливаться на данном факте слишком сильно. Возможно, сбор данных происходил не в конце 2016 года и часть вышедших после сбора игр просто не была учтена. Среди компактных платформ хотелось бы выделить 3DS, но с весьма критическим замечанием - данная платформа имеет существенную популярность только для пользователей из Японии, а в других регионах ее популярность существенно ниже (в данном выводе мы убедимся позже на этапе анализа пользователей). Однако, чтобы не упустить часть рынка, связанного с компактными консолями, стоит учесть и ее. "
   ]
  },
  {
   "cell_type": "markdown",
   "id": "fe78da44",
   "metadata": {},
   "source": [
    "Перейдем к следующей стадии анализа платформ - построению диаграммы ящик с усами."
   ]
  },
  {
   "cell_type": "code",
   "execution_count": 29,
   "id": "dfa1b64a",
   "metadata": {},
   "outputs": [
    {
     "data": {
      "image/png": "[encoded data removed]",
      "text/plain": [
       "<Figure size 1080x576 with 1 Axes>"
      ]
     },
     "metadata": {
      "needs_background": "light"
     },
     "output_type": "display_data"
    }
   ],
   "source": [
    "data_act.boxplot(column='sum_sales', by='platform', figsize=(15,8)) \n",
    "plt.ylim(0, 2)\n",
    "plt.show()"
   ]
  },
  {
   "cell_type": "markdown",
   "id": "aaac3eb5",
   "metadata": {},
   "source": [
    "В целом, сделанные нами ранее выводы также подтверждаются и на диаграмме ящик с усами. Медианные продажи у крупных и популярных платформ нескольких последних поколений наиболее высоки. У менее поздних и именных платформ размах диапазона, в рамках которого лежит большинство наблюдений, значительно меньше. Из примечательного хотелось бы отметить тот факт, что у двух из трех выбранных нами серий (самых крупных), диапазон для большинства значений консоли нового поколения превышает аналогичный показатель его предшественника. Провести подобный анализ для Nintendo не представляется возможным, поскольку консоль предыдущего поколения данной серии не вошла в актуальный набор данных. "
   ]
  },
  {
   "cell_type": "markdown",
   "id": "dd6e9b90",
   "metadata": {},
   "source": [
    "Кратко подытожим полученные по платформам выводы. Наиболее потенциально прибыльные платформы - PlayStation 4 и Xbox One. Именно по данным платформам наблюдаются наибольшие продажи в последние несколько лет. PS4 существенно превосходит своего предшественника по квартальным продажам.\n",
    "\n",
    "Из компактных приставок выделяется Nintendo 3DS, но стоит учитывать, что данная консоль относится к группе портативных, а значит рынок видеоигр для данной группы заведомо меньше по сравнению с классическими приставками."
   ]
  },
  {
   "cell_type": "markdown",
   "id": "e4a45641",
   "metadata": {},
   "source": [
    "### Анализ оценок"
   ]
  },
  {
   "cell_type": "markdown",
   "id": "7293ab53",
   "metadata": {},
   "source": [
    "Теперь перейдем к анализу влияния **отзывов пользователей и критиков** на продажи. Для удобства рассмотрим данное влияние на примере одной наиболее популярной платформы. По результатам предыдущего анализа, наиболее популярной платформой можно назвать PlayStation 4 - именно на ее примере мы и рассмотрим влияние, оказываемое отзывами на продажи игр. \n",
    "\n",
    "Начнем с построения диаграммы рассеяния и расчета корреляции - наиболее простого способа для выявления потенциальной зависимости."
   ]
  },
  {
   "cell_type": "code",
   "execution_count": 30,
   "id": "05150cad",
   "metadata": {},
   "outputs": [
    {
     "data": {
      "image/png": "[encoded data removed]",
      "text/plain": [
       "<Figure size 864x288 with 2 Axes>"
      ]
     },
     "metadata": {
      "needs_background": "light"
     },
     "output_type": "display_data"
    },
    {
     "name": "stdout",
     "output_type": "stream",
     "text": [
      "Коэффициент корреляции Пирсона между sum_sales и user_score составляет 0.09164764519222252\n",
      "Коэффициент корреляции Пирсона между sum_sales и critic_score составляет 0.38476645385924224\n"
     ]
    }
   ],
   "source": [
    "fig, (ax1, ax2) = plt.subplots(1, 2, figsize=(12,4))\n",
    "fig.suptitle('Анализ отзывов на продажи на платформе PS4', fontsize=18)\n",
    "ax1.scatter(data_act.query('platform == \"PS4\"')['user_score'], data_act.query('platform == \"PS4\"')['sum_sales'])\n",
    "ax1.set_title('Зависимость sum_sales от user_score')\n",
    "ax1.set_xlabel('Оценки пользователей')\n",
    "ax1.set_ylabel('Объем продаж')\n",
    "ax1.grid(True)\n",
    "ax2.scatter(data_act.query('platform == \"PS4\"')['critic_score'], data_act.query('platform == \"PS4\"')['sum_sales'])\n",
    "ax2.set_title('Зависимость sum_sales от critic_score')\n",
    "ax2.set_xlabel('Оценки критиков')\n",
    "ax2.set_ylabel('Объем продаж')\n",
    "ax2.grid(True)\n",
    "plt.tight_layout()\n",
    "plt.show()\n",
    "\n",
    "for name in ['user_score', 'critic_score']:\n",
    "    print(f'Коэффициент корреляции Пирсона между sum_sales и {name} составляет', data_act.query('platform == \"PS4\"')['sum_sales'].corr(data_act.query('platform == \"PS4\"')[name]))"
   ]
  },
  {
   "cell_type": "markdown",
   "id": "8a22fb2c",
   "metadata": {},
   "source": [
    "Итак, что мы можем сказать по полученным результатам? Начнем с анализа влияния **оценок пользователей**. По графику мы можем сказать о наличии некоторой положительной линейной связи между **оценками** и **объемами продаж**. Это довольно логично - чем больше положительных отзывов об игре, тем привлекательнее она становится в глазах потенциальных покупателей. Между тем, скорее всего, связь между данными характеристиками несильная, что подтверждается расчетом коэффициента корреляции. Можно попробовать объяснить подобный результат следующим образом. Первые оценки для большинства игр появляются именно от критиков, особенно от тех, кому была выдана игра до официального релиза. И поэтому первые покупки игры, которые в долевом отношении от итоговых покупок составляют основную массу, осуществляются под влиянием именно оценок критиков. А вот на более поздние продажи игр как раз оказывают влияние оценки пользователей. Ведь, видя как другие такие же пользователи хорошо оценили игру, те, кто до этого сомневался в покупке, могут таки решить приобрести игру. И, поскольку доля поздних продаж куда меньше, то и оцениваемое влияние выходит также меньшим. \n",
    "\n",
    "В подтверждение предыдущих выводов говорят полученные результаты относительно связи между **оценками критиков** и **суммарными продажами**. Что визуально, что в расчетном выражении, между данными пресутсвуют более сильная линейная взаимосвязь. Принцип влияния весьма похожий - чем выше оценки критиков, тем выше продажи. Это также довольно логично, ведь чем выше оценили игру те, чье мнение для обычных пользователей выступает в качестве ориентира, тем больше людей захотят сыграть в данную игру, а значит и продажи будут выше. \n",
    "\n",
    "Между тем, важно понимать, что, как и в любой отрасли, результатом работы которой является некоторый продукт, встречаются самые разные исключения. Так, игра может получить крайне высокие оценки у критиков, и крайне низкие от самих пользователей. А может произойти абсолютно обратная ситуация - игра, что была разгромлена критиками, получила крайне высокие пользовательские оценки. И, конечно, оба случая по-разному скажутся на общих продажах. Если для первого случая можно ожидать довольно высокие продажи - за счет предпродаж, совершенных под влиянием оценки критиков, то для второго случая продажи могут быть заниженными."
   ]
  },
  {
   "cell_type": "markdown",
   "id": "c38ac4b1",
   "metadata": {},
   "source": [
    "Насколько же релевантны для других платформ выводы, полученные по PlayStation 4? Для ответа на этот вопрос рассмотрим еще две популярные платформы. Это поможет вычислить общую тенденцию для влияния оценок критиков и пользователей."
   ]
  },
  {
   "cell_type": "code",
   "execution_count": 31,
   "id": "ad806534",
   "metadata": {},
   "outputs": [
    {
     "data": {
      "image/png": "[encoded data removed]",
      "text/plain": [
       "<Figure size 864x288 with 2 Axes>"
      ]
     },
     "metadata": {
      "needs_background": "light"
     },
     "output_type": "display_data"
    },
    {
     "name": "stdout",
     "output_type": "stream",
     "text": [
      "Коэффициент корреляции Пирсона между sum_sales и user_score составляет 0.08760561246308564\n",
      "Коэффициент корреляции Пирсона между sum_sales и critic_score составляет 0.3846950521479985\n"
     ]
    }
   ],
   "source": [
    "fig, (ax1, ax2) = plt.subplots(1, 2, figsize=(12,4))\n",
    "fig.suptitle('Анализ отзывов на продажи на платформе XOne', fontsize=18)\n",
    "ax1.scatter(data_act.query('platform == \"XOne\"')['user_score'], data_act.query('platform == \"XOne\"')['sum_sales'])\n",
    "ax1.set_title('Зависимость sum_sales от user_score')\n",
    "ax1.set_xlabel('Оценки пользователей')\n",
    "ax1.set_ylabel('Объем продаж')\n",
    "ax1.grid(True)\n",
    "ax2.scatter(data_act.query('platform == \"XOne\"')['critic_score'], data_act.query('platform == \"XOne\"')['sum_sales'])\n",
    "ax2.set_title('Зависимость sum_sales от user_score')\n",
    "ax2.set_xlabel('Оценки критиков')\n",
    "ax2.set_ylabel('Объем продаж')\n",
    "ax2.grid(True)\n",
    "plt.tight_layout()\n",
    "plt.show()\n",
    "\n",
    "for name in ['user_score', 'critic_score']:\n",
    "    print(f'Коэффициент корреляции Пирсона между sum_sales и {name} составляет', data_act.query('platform == \"XOne\"')['sum_sales'].corr(data_act.query('platform == \"XOne\"')[name]))"
   ]
  },
  {
   "cell_type": "code",
   "execution_count": 32,
   "id": "d6b97977",
   "metadata": {},
   "outputs": [
    {
     "data": {
      "image/png": "[encoded data removed]",
      "text/plain": [
       "<Figure size 864x288 with 2 Axes>"
      ]
     },
     "metadata": {
      "needs_background": "light"
     },
     "output_type": "display_data"
    },
    {
     "name": "stdout",
     "output_type": "stream",
     "text": [
      "Коэффициент корреляции Пирсона между sum_sales и user_score составляет 0.15409114032918908\n",
      "Коэффициент корреляции Пирсона между sum_sales и critic_score составляет 0.22736358368271975\n"
     ]
    }
   ],
   "source": [
    "fig, (ax1, ax2) = plt.subplots(1, 2, figsize=(12,4))\n",
    "fig.suptitle('Анализ отзывов на продажи на платформе 3DS', fontsize=18)\n",
    "ax1.scatter(data_act.query('platform == \"3DS\"')['user_score'], data_act.query('platform == \"3DS\"')['sum_sales'])\n",
    "ax1.set_title('Зависимость sum_sales от user_score')\n",
    "ax1.set_xlabel('Оценки пользователей')\n",
    "ax1.set_ylabel('Объем продаж')\n",
    "ax1.grid(True)\n",
    "ax2.scatter(data_act.query('platform == \"3DS\"')['critic_score'], data_act.query('platform == \"3DS\"')['sum_sales'])\n",
    "ax2.set_title('Зависимость sum_sales от user_score')\n",
    "ax2.set_xlabel('Оценки критиков')\n",
    "ax2.set_ylabel('Объем продаж')\n",
    "ax2.grid(True)\n",
    "plt.tight_layout()\n",
    "plt.show()\n",
    "\n",
    "for name in ['user_score', 'critic_score']:\n",
    "    print(f'Коэффициент корреляции Пирсона между sum_sales и {name} составляет', \n",
    "          data_act.query('platform == \"3DS\"')['sum_sales'].corr(data_act.query('platform == \"3DS\"')[name]))"
   ]
  },
  {
   "cell_type": "markdown",
   "id": "987a75dc",
   "metadata": {},
   "source": [
    "Результаты, полученные для Xbox One, в целом соответствуют сделанными нами ранее выводам. А вот для платформы Wii U все немного по другому. Влияние, оказываемое как **оценками критиков**, так и **оценками пользователей** становится более одинаковым. Возможно, подобная более сильное влияние у пользователей наблюдается именно у портативных консолей, или, влияние оказывает тот факт, что данная консоль существует дольше PS4 и XOn."
   ]
  },
  {
   "cell_type": "markdown",
   "id": "13688d96",
   "metadata": {},
   "source": [
    "### Анализ жанров"
   ]
  },
  {
   "cell_type": "markdown",
   "id": "ada90d91",
   "metadata": {},
   "source": [
    "Наконец, перейдем к завершающему этапу исследовательского анализа, а именно к анализу жанров. Для начала посмотрим на общее распределение выпускаемых игр по жанрам в течении рассматриваемого нами периода."
   ]
  },
  {
   "cell_type": "code",
   "execution_count": 33,
   "id": "3b777f79",
   "metadata": {},
   "outputs": [
    {
     "data": {
      "image/png": "[encoded data removed]",
      "text/plain": [
       "<Figure size 432x288 with 1 Axes>"
      ]
     },
     "metadata": {
      "needs_background": "light"
     },
     "output_type": "display_data"
    }
   ],
   "source": [
    "data_act.pivot_table(index='genre', values='name', aggfunc='count').sort_values('name').plot(kind='bar')\n",
    "plt.title('Распределение объема выпускаемых игр по жанрам')\n",
    "plt.xlabel('Жанры')\n",
    "plt.ylabel('Объем выпуска (кол-во)')\n",
    "plt.grid(True)\n",
    "plt.show()"
   ]
  },
  {
   "cell_type": "markdown",
   "id": "8f4decc4",
   "metadata": {},
   "source": [
    "Наибольшее число игр выпускается в жанре \"Action\". На русском языке такие игры называются играми жанра \"Экшен\" или \"боевик\" если приводить аналогию с киножанром. В экшен-играх пользователю предлагается взять управление над некоторым главным героем или даже группой ключевых персонажей. Основная задача для таких игр может быть совершенно разной: от нахождения выхода с уровня или победы над некоторым боссом до квинтэссенции всех возможных заданий. Действие таких игр обычно развивается очень динамично, что делает такой жанр невероятно популярным - объем игр, выпускаемых в рамках данного жанра, почти в три раза превышает объем жанра, занимающего второе место по объемам. \n",
    "\n",
    "Вторым по объемам является жанр \"Role-Playing\" или же RPG. В играх данного жанра игроки также управляют персонажами, однако теперь они более разнообразны в своих умениях, характеристиках и путях развития. Кроме того, игры такого жанра чаще всего обладают открытым интересным миром, что также весьма подкупает потенциальных пользователей. Дальше по объемам выпуска идут \"Adventure\" игры/ Важнейшими элементами игры в жанре квеста являются собственно повествование и исследование мира, а ключевую роль в игровом процессе играет решение головоломок и задач, требующих от игрока умственных усилий. Особая популярность жанра приключений обуславливает большим разнообразий сюжета и историй - от классических квестов и головоломок до текстовых новел и визуальных романов.\n",
    "\n",
    "Наименьший объем выпуска наблюдается у следующих жанров - стратегии, пазлы и платформеры. В целом, это также ожидаемый результат. Так, жанры \"стратегия\" и \"платформер\" зачастую являются дополнительным жанром у игр, чей основной жанр относится к куда более популярной категории - \"Аction\" или \"Adventure\". Ведь, зачастую, игра обладает не одним жанром, а несколькими. А вот \"пазлы\" как жанр действительно весьма непопулярны, особенно если мы говорим об играх на платформы - такой тип больше подходит для мобильных игр."
   ]
  },
  {
   "cell_type": "markdown",
   "id": "ec99c3a1",
   "metadata": {},
   "source": [
    "Также посмотрим на жанры в зависимости от объемов продаж."
   ]
  },
  {
   "cell_type": "code",
   "execution_count": 34,
   "id": "6cdee8f4",
   "metadata": {},
   "outputs": [
    {
     "data": {
      "image/png": "[encoded data removed]",
      "text/plain": [
       "<Figure size 432x288 with 1 Axes>"
      ]
     },
     "metadata": {
      "needs_background": "light"
     },
     "output_type": "display_data"
    }
   ],
   "source": [
    "data_act.pivot_table(index='genre', values='sum_sales', aggfunc='median').sort_values('sum_sales').plot(kind='bar', grid=True, title = 'Зависимость sum_sales от genre')\n",
    "plt.title('Распределение медианных продаж игр по жанрам')\n",
    "plt.xlabel('Жанры')\n",
    "plt.ylabel('Объем выпуска (кол-во)')\n",
    "plt.show()"
   ]
  },
  {
   "cell_type": "markdown",
   "id": "eb10f963",
   "metadata": {},
   "source": [
    "Лидирующую позицию занимает жанр \"Shooter\". \"Шутер\" или как по простому можно назвать данный тип игр \"стрелялка\" имеет следующий геймплей - игроку нужно достичь выхода с уровня, с устранением всех противников и препятствий. Благодаря наличию большого количества разнообразных уровней и игровых заданий, наличие множества приспособлений и оружий для выполнения заданий, а также возможности играть с другими пользователями, данный жанр также является весьма популярным среди пользователей и с уверенностью занимает второе место в рейтинге по продажам.\n",
    "\n",
    "Вторым по медианному объему продаж оказался жанр \"Sports\", что также не удивительно - за многие года существования жанра у него сформировалась весьма крупная база фанатов. Отдельное влияние также накладывает немалое число игр, выпускаемых в данном жанре - четвертое место по объему продаж.\n",
    "\n",
    "Наконец, на третьем месте располагаются игры жанра \"Platform\". В данном жанре основу игрового процесса составляют прыжки по платформам, лазанье по лестницам, сбор предметов, необходимых для победы над врагами или завершения уровня. Это довольно давний и устоявшийся жанр игр с немалым числом популярных игровых серий - таких как Mario и Sonic. Неудивительно, что это все привело к неплохой популярность данного жанра.\n",
    "\n",
    "Наименее популярными по проданным копиям являются игры жанра \"Puzzle\", \"Strategy\" и \"Adventure\". Про пазлы мы уже говорили ранее - данный жанр больше подходит под классические мобильные игры и не является популярным на платформах. Жанры \"стратегия\" и \"адвенчер\" также являются более популярными в качестве поджанра у игр, а не в виде самостоятельного жанра."
   ]
  },
  {
   "cell_type": "markdown",
   "id": "38d784a4",
   "metadata": {},
   "source": [
    "Подытожим полученные на данном этапе анализа выводы. Прежде всего, игровая индустрия сильно менялась с момента зарождения - сначала и игр, и платформ становилось больше, однако со временем на плаву остались только крупные и \"мощные\" консоли, а число выпускаемых игр было снижено ради достижения лучшего качества. Также, мы выявили, что средняя продолжительность фазы популярности у консоли составляет 4-6 лет, после чего количество выпускаемых для этих консолей игр идет на спад. Это не удивительно - за такой период обычно создается консоль следующего поколения в рамках серии.\n",
    "\n",
    "Наиболее популярными платформами в последние несколько лет считаются PS4 и XOne - именно они также являются последними вышедшими платформами. На третьем месте располагается Nintendo 3DS, являющаяся наиболее популярным представителем компактных платформ.\n",
    "\n",
    "Если говорить о влиянии отзывов на объем продаж, то оценки обеих групп положительны, однако сила влияния  критиков выше по сравнению с пользователями. По крайней мере для таких крупных платформ PS4 и XOne.\n",
    "\n",
    "Наконец, также упомянем результаты анализа жанров. Наибольшее число выпускаемых игр имеет жанр экшен, а по медианным продажам лидирующее место занимают игры жанра шутер."
   ]
  },
  {
   "cell_type": "markdown",
   "id": "b5a78339",
   "metadata": {},
   "source": [
    "## Составление портрета пользователя каждого региона"
   ]
  },
  {
   "cell_type": "markdown",
   "id": "f197ec63",
   "metadata": {},
   "source": [
    "Мы приступаем к следующему этапу исследования, а именно к составлению классического портрета для пользователей каждого из рассматриваемых регионов - Северная Америка, Европа и Япония.\n",
    "\n",
    "Начнем наш анализ с выявления наиболее популярных жанров для каждого из регионов. "
   ]
  },
  {
   "cell_type": "code",
   "execution_count": 35,
   "id": "3ee5f309",
   "metadata": {},
   "outputs": [
    {
     "data": {
      "text/html": [
       "<table style=\"display:inline\" border=\"1\" class=\"dataframe\">\n",
       "  <thead>\n",
       "    <tr style=\"text-align: right;\">\n",
       "      <th></th>\n",
       "      <th>NA_sales</th>\n",
       "    </tr>\n",
       "    <tr>\n",
       "      <th>genre</th>\n",
       "      <th></th>\n",
       "    </tr>\n",
       "  </thead>\n",
       "  <tbody>\n",
       "    <tr>\n",
       "      <th>Puzzle</th>\n",
       "      <td>0.65</td>\n",
       "    </tr>\n",
       "    <tr>\n",
       "      <th>Strategy</th>\n",
       "      <td>0.98</td>\n",
       "    </tr>\n",
       "    <tr>\n",
       "      <th>Simulation</th>\n",
       "      <td>2.63</td>\n",
       "    </tr>\n",
       "    <tr>\n",
       "      <th>Adventure</th>\n",
       "      <td>5.64</td>\n",
       "    </tr>\n",
       "    <tr>\n",
       "      <th>Platform</th>\n",
       "      <td>6.79</td>\n",
       "    </tr>\n",
       "    <tr>\n",
       "      <th>Racing</th>\n",
       "      <td>8.74</td>\n",
       "    </tr>\n",
       "    <tr>\n",
       "      <th>Fighting</th>\n",
       "      <td>12.43</td>\n",
       "    </tr>\n",
       "    <tr>\n",
       "      <th>Misc</th>\n",
       "      <td>15.05</td>\n",
       "    </tr>\n",
       "    <tr>\n",
       "      <th>Role-Playing</th>\n",
       "      <td>33.47</td>\n",
       "    </tr>\n",
       "    <tr>\n",
       "      <th>Sports</th>\n",
       "      <td>46.13</td>\n",
       "    </tr>\n",
       "    <tr>\n",
       "      <th>Action</th>\n",
       "      <td>72.53</td>\n",
       "    </tr>\n",
       "    <tr>\n",
       "      <th>Shooter</th>\n",
       "      <td>79.02</td>\n",
       "    </tr>\n",
       "  </tbody>\n",
       "</table style=\"display:inline\"><table style=\"display:inline\" border=\"1\" class=\"dataframe\">\n",
       "  <thead>\n",
       "    <tr style=\"text-align: right;\">\n",
       "      <th></th>\n",
       "      <th>EU_sales</th>\n",
       "    </tr>\n",
       "    <tr>\n",
       "      <th>genre</th>\n",
       "      <th></th>\n",
       "    </tr>\n",
       "  </thead>\n",
       "  <tbody>\n",
       "    <tr>\n",
       "      <th>Puzzle</th>\n",
       "      <td>0.52</td>\n",
       "    </tr>\n",
       "    <tr>\n",
       "      <th>Strategy</th>\n",
       "      <td>1.79</td>\n",
       "    </tr>\n",
       "    <tr>\n",
       "      <th>Adventure</th>\n",
       "      <td>6.49</td>\n",
       "    </tr>\n",
       "    <tr>\n",
       "      <th>Fighting</th>\n",
       "      <td>6.69</td>\n",
       "    </tr>\n",
       "    <tr>\n",
       "      <th>Platform</th>\n",
       "      <td>6.80</td>\n",
       "    </tr>\n",
       "    <tr>\n",
       "      <th>Simulation</th>\n",
       "      <td>7.30</td>\n",
       "    </tr>\n",
       "    <tr>\n",
       "      <th>Misc</th>\n",
       "      <td>12.86</td>\n",
       "    </tr>\n",
       "    <tr>\n",
       "      <th>Racing</th>\n",
       "      <td>14.13</td>\n",
       "    </tr>\n",
       "    <tr>\n",
       "      <th>Role-Playing</th>\n",
       "      <td>28.17</td>\n",
       "    </tr>\n",
       "    <tr>\n",
       "      <th>Sports</th>\n",
       "      <td>45.73</td>\n",
       "    </tr>\n",
       "    <tr>\n",
       "      <th>Shooter</th>\n",
       "      <td>65.52</td>\n",
       "    </tr>\n",
       "    <tr>\n",
       "      <th>Action</th>\n",
       "      <td>74.68</td>\n",
       "    </tr>\n",
       "  </tbody>\n",
       "</table style=\"display:inline\"><table style=\"display:inline\" border=\"1\" class=\"dataframe\">\n",
       "  <thead>\n",
       "    <tr style=\"text-align: right;\">\n",
       "      <th></th>\n",
       "      <th>JP_sales</th>\n",
       "    </tr>\n",
       "    <tr>\n",
       "      <th>genre</th>\n",
       "      <th></th>\n",
       "    </tr>\n",
       "  </thead>\n",
       "  <tbody>\n",
       "    <tr>\n",
       "      <th>Puzzle</th>\n",
       "      <td>0.93</td>\n",
       "    </tr>\n",
       "    <tr>\n",
       "      <th>Strategy</th>\n",
       "      <td>0.95</td>\n",
       "    </tr>\n",
       "    <tr>\n",
       "      <th>Racing</th>\n",
       "      <td>1.76</td>\n",
       "    </tr>\n",
       "    <tr>\n",
       "      <th>Simulation</th>\n",
       "      <td>2.31</td>\n",
       "    </tr>\n",
       "    <tr>\n",
       "      <th>Platform</th>\n",
       "      <td>2.69</td>\n",
       "    </tr>\n",
       "    <tr>\n",
       "      <th>Sports</th>\n",
       "      <td>3.26</td>\n",
       "    </tr>\n",
       "    <tr>\n",
       "      <th>Adventure</th>\n",
       "      <td>3.60</td>\n",
       "    </tr>\n",
       "    <tr>\n",
       "      <th>Shooter</th>\n",
       "      <td>4.87</td>\n",
       "    </tr>\n",
       "    <tr>\n",
       "      <th>Misc</th>\n",
       "      <td>5.61</td>\n",
       "    </tr>\n",
       "    <tr>\n",
       "      <th>Fighting</th>\n",
       "      <td>6.37</td>\n",
       "    </tr>\n",
       "    <tr>\n",
       "      <th>Action</th>\n",
       "      <td>29.58</td>\n",
       "    </tr>\n",
       "    <tr>\n",
       "      <th>Role-Playing</th>\n",
       "      <td>31.16</td>\n",
       "    </tr>\n",
       "  </tbody>\n",
       "</table style=\"display:inline\">"
      ]
     },
     "metadata": {},
     "output_type": "display_data"
    }
   ],
   "source": [
    "gen_NA = data_act.pivot_table(index='genre', values=['NA_sales'], aggfunc='sum').sort_values('NA_sales')\n",
    "gen_EU = data_act.pivot_table(index='genre', values=['EU_sales'], aggfunc='sum').sort_values('EU_sales')\n",
    "gen_JP = data_act.pivot_table(index='genre', values=['JP_sales'], aggfunc='sum').sort_values('JP_sales')\n",
    "\n",
    "display_side_by_side(gen_NA, gen_EU, gen_JP)"
   ]
  },
  {
   "cell_type": "markdown",
   "id": "b1cc0810",
   "metadata": {},
   "source": [
    "Итак, что мы можем сказать по полученным результатам. В целом, наиболее популярным для пользователей из Америки и Европы является примерно одинаковый набор игр, хотя их положение в топе может немного разниться. На первых двух местах располагаются игры жанров шутер и экшен, на третьем спортивные игры, четвертое место - РПГ. О причинах популярности каждого из перечисленных жанров мы уже рассуждали ранее, так что вновь опустим данный момент. Более существенные различия наблюдаются на пятом месте: объединенный жанр \"Misc\" для Америки и гонки для Европы. Вероятно, схожесть в жанрах можно объяснить общей схожестью во вкусах, объясняемой также культурной похожестью.\n",
    "\n",
    "В то же время, для пользователей из Японии список топовых жанров несколько разнится. На первом месте у них располагаются ролевые игры, а вот экшен игры находятся на втором месте. На третьем месте у них располагаются игры жанра \"Fight\" или файтинг - именно японским компаниям принадлежат две из трех наиболее популярных серий файтингов. После следует объединенный жанр и закрывают топ шутеры. С чем может быть связано такое сильное различие в предпочитаемых жанрах? Прежде всего поговорим немного о наиболее популярных японских компаниях, выпускающих видеоигры. Большинство их игр имеет двойной жанр в качестве основного - \"Action/RPG\", а значит популярность каждого из жанра зависит исключительно от того, к какому жанру ее отнесли те люди, которые вносили игру в общие реестры. Перейдем к следующим трем жанрам. Их популярность также весьма объяснима - это либо популярные жанры у компактных платформ (чья популярность выше именно у пользователей из японии, как мы убедимся далее), либо выпускаются именно японскими компаниями."
   ]
  },
  {
   "cell_type": "markdown",
   "id": "47d13deb",
   "metadata": {},
   "source": [
    "Теперь проведем аналогичный анализ по платформам."
   ]
  },
  {
   "cell_type": "code",
   "execution_count": 36,
   "id": "0117c2ad",
   "metadata": {},
   "outputs": [
    {
     "data": {
      "text/html": [
       "<table style=\"display:inline\" border=\"1\" class=\"dataframe\">\n",
       "  <thead>\n",
       "    <tr style=\"text-align: right;\">\n",
       "      <th></th>\n",
       "      <th>NA_sales</th>\n",
       "    </tr>\n",
       "    <tr>\n",
       "      <th>platform</th>\n",
       "      <th></th>\n",
       "    </tr>\n",
       "  </thead>\n",
       "  <tbody>\n",
       "    <tr>\n",
       "      <th>PSP</th>\n",
       "      <td>0.00</td>\n",
       "    </tr>\n",
       "    <tr>\n",
       "      <th>Wii</th>\n",
       "      <td>2.08</td>\n",
       "    </tr>\n",
       "    <tr>\n",
       "      <th>PSV</th>\n",
       "      <td>2.52</td>\n",
       "    </tr>\n",
       "    <tr>\n",
       "      <th>PC</th>\n",
       "      <td>7.23</td>\n",
       "    </tr>\n",
       "    <tr>\n",
       "      <th>WiiU</th>\n",
       "      <td>19.36</td>\n",
       "    </tr>\n",
       "    <tr>\n",
       "      <th>PS3</th>\n",
       "      <td>22.05</td>\n",
       "    </tr>\n",
       "    <tr>\n",
       "      <th>3DS</th>\n",
       "      <td>22.64</td>\n",
       "    </tr>\n",
       "    <tr>\n",
       "      <th>X360</th>\n",
       "      <td>28.30</td>\n",
       "    </tr>\n",
       "    <tr>\n",
       "      <th>XOne</th>\n",
       "      <td>81.27</td>\n",
       "    </tr>\n",
       "    <tr>\n",
       "      <th>PS4</th>\n",
       "      <td>98.61</td>\n",
       "    </tr>\n",
       "  </tbody>\n",
       "</table style=\"display:inline\"><table style=\"display:inline\" border=\"1\" class=\"dataframe\">\n",
       "  <thead>\n",
       "    <tr style=\"text-align: right;\">\n",
       "      <th></th>\n",
       "      <th>EU_sales</th>\n",
       "    </tr>\n",
       "    <tr>\n",
       "      <th>platform</th>\n",
       "      <th></th>\n",
       "    </tr>\n",
       "  </thead>\n",
       "  <tbody>\n",
       "    <tr>\n",
       "      <th>PSP</th>\n",
       "      <td>0.00</td>\n",
       "    </tr>\n",
       "    <tr>\n",
       "      <th>Wii</th>\n",
       "      <td>2.59</td>\n",
       "    </tr>\n",
       "    <tr>\n",
       "      <th>PSV</th>\n",
       "      <td>3.53</td>\n",
       "    </tr>\n",
       "    <tr>\n",
       "      <th>WiiU</th>\n",
       "      <td>13.15</td>\n",
       "    </tr>\n",
       "    <tr>\n",
       "      <th>X360</th>\n",
       "      <td>15.49</td>\n",
       "    </tr>\n",
       "    <tr>\n",
       "      <th>3DS</th>\n",
       "      <td>16.12</td>\n",
       "    </tr>\n",
       "    <tr>\n",
       "      <th>PC</th>\n",
       "      <td>17.97</td>\n",
       "    </tr>\n",
       "    <tr>\n",
       "      <th>PS3</th>\n",
       "      <td>25.54</td>\n",
       "    </tr>\n",
       "    <tr>\n",
       "      <th>XOne</th>\n",
       "      <td>46.25</td>\n",
       "    </tr>\n",
       "    <tr>\n",
       "      <th>PS4</th>\n",
       "      <td>130.04</td>\n",
       "    </tr>\n",
       "  </tbody>\n",
       "</table style=\"display:inline\"><table style=\"display:inline\" border=\"1\" class=\"dataframe\">\n",
       "  <thead>\n",
       "    <tr style=\"text-align: right;\">\n",
       "      <th></th>\n",
       "      <th>JP_sales</th>\n",
       "    </tr>\n",
       "    <tr>\n",
       "      <th>platform</th>\n",
       "      <th></th>\n",
       "    </tr>\n",
       "  </thead>\n",
       "  <tbody>\n",
       "    <tr>\n",
       "      <th>PC</th>\n",
       "      <td>0.00</td>\n",
       "    </tr>\n",
       "    <tr>\n",
       "      <th>Wii</th>\n",
       "      <td>0.00</td>\n",
       "    </tr>\n",
       "    <tr>\n",
       "      <th>X360</th>\n",
       "      <td>0.08</td>\n",
       "    </tr>\n",
       "    <tr>\n",
       "      <th>XOne</th>\n",
       "      <td>0.32</td>\n",
       "    </tr>\n",
       "    <tr>\n",
       "      <th>PSP</th>\n",
       "      <td>0.36</td>\n",
       "    </tr>\n",
       "    <tr>\n",
       "      <th>WiiU</th>\n",
       "      <td>7.31</td>\n",
       "    </tr>\n",
       "    <tr>\n",
       "      <th>PS3</th>\n",
       "      <td>11.22</td>\n",
       "    </tr>\n",
       "    <tr>\n",
       "      <th>PSV</th>\n",
       "      <td>14.54</td>\n",
       "    </tr>\n",
       "    <tr>\n",
       "      <th>PS4</th>\n",
       "      <td>15.02</td>\n",
       "    </tr>\n",
       "    <tr>\n",
       "      <th>3DS</th>\n",
       "      <td>44.24</td>\n",
       "    </tr>\n",
       "  </tbody>\n",
       "</table style=\"display:inline\">"
      ]
     },
     "metadata": {},
     "output_type": "display_data"
    }
   ],
   "source": [
    "plat_NA = data_act.pivot_table(index='platform', values=['NA_sales'], aggfunc='sum').sort_values('NA_sales')\n",
    "plat_EU = data_act.pivot_table(index='platform', values=['EU_sales'], aggfunc='sum').sort_values('EU_sales')\n",
    "plat_JP = data_act.pivot_table(index='platform', values=['JP_sales'], aggfunc='sum').sort_values('JP_sales')\n",
    "display_side_by_side(plat_NA, plat_EU, plat_JP)"
   ]
  },
  {
   "cell_type": "markdown",
   "id": "c5775b10",
   "metadata": {},
   "source": [
    "Тут уже наблюдается сильная волатильность для каждого из регионов. Прежде всего, отметим тот факт, что пользователи из Японии отдают предпочтения платформам, созданным компаниями из их страны - PlayStation и Nintendo обе являются японскими компаниями и именно их платформы занимают топовые места среди предпочтений японских игроков. Также примечательно то, что их более интересуют компактные платформы нежели классические - три из пяти мест в топе.\n",
    "\n",
    "Относительно последнего поколения платформ пользователи из Америки и Европы солидарны во мнении - на первом месте располагается PS4, которую многие посчитали более успешной по сравнению с приставкой основного конкурента - XOne, которая занимает второе место. На третьем месте располагаются разные консоли. Пользователи из Америки отдают предпочтение \"своей\" приставке - Xbox это игровая приставка, разработанная и выпущенная американской компанией Microsoft, в то время как Европейские пользователи более заинтересованы в японском PS от Sony. Четвертое место у обеих групп также разнится. Американские пользователи отдают предпочтение компактной консоли 3DS, в то время как пользователи из Европы более заинтересованы в ПК."
   ]
  },
  {
   "cell_type": "markdown",
   "id": "23432ada",
   "metadata": {},
   "source": [
    "Наконец рассмотрим, влияет ли рейтинг ESRB на продажи в отдельном регионе. Для удобства анализа дополнительно выведем словарь с категориями. "
   ]
  },
  {
   "cell_type": "code",
   "execution_count": 37,
   "id": "4f63549b",
   "metadata": {},
   "outputs": [
    {
     "data": {
      "text/html": [
       "<div>\n",
       "<style scoped>\n",
       "    .dataframe tbody tr th:only-of-type {\n",
       "        vertical-align: middle;\n",
       "    }\n",
       "\n",
       "    .dataframe tbody tr th {\n",
       "        vertical-align: top;\n",
       "    }\n",
       "\n",
       "    .dataframe thead th {\n",
       "        text-align: right;\n",
       "    }\n",
       "</style>\n",
       "<table border=\"1\" class=\"dataframe\">\n",
       "  <thead>\n",
       "    <tr style=\"text-align: right;\">\n",
       "      <th></th>\n",
       "      <th>rating</th>\n",
       "      <th>rating_cat</th>\n",
       "    </tr>\n",
       "  </thead>\n",
       "  <tbody>\n",
       "    <tr>\n",
       "      <th>8</th>\n",
       "      <td>RP</td>\n",
       "      <td>0.0</td>\n",
       "    </tr>\n",
       "    <tr>\n",
       "      <th>7</th>\n",
       "      <td>EC</td>\n",
       "      <td>1.0</td>\n",
       "    </tr>\n",
       "    <tr>\n",
       "      <th>0</th>\n",
       "      <td>E</td>\n",
       "      <td>2.0</td>\n",
       "    </tr>\n",
       "    <tr>\n",
       "      <th>5</th>\n",
       "      <td>K-A</td>\n",
       "      <td>2.0</td>\n",
       "    </tr>\n",
       "    <tr>\n",
       "      <th>4</th>\n",
       "      <td>E10+</td>\n",
       "      <td>3.0</td>\n",
       "    </tr>\n",
       "    <tr>\n",
       "      <th>3</th>\n",
       "      <td>T</td>\n",
       "      <td>4.0</td>\n",
       "    </tr>\n",
       "    <tr>\n",
       "      <th>2</th>\n",
       "      <td>M</td>\n",
       "      <td>5.0</td>\n",
       "    </tr>\n",
       "    <tr>\n",
       "      <th>6</th>\n",
       "      <td>AO</td>\n",
       "      <td>6.0</td>\n",
       "    </tr>\n",
       "    <tr>\n",
       "      <th>1</th>\n",
       "      <td>NaN</td>\n",
       "      <td>NaN</td>\n",
       "    </tr>\n",
       "  </tbody>\n",
       "</table>\n",
       "</div>"
      ],
      "text/plain": [
       "  rating  rating_cat\n",
       "8     RP         0.0\n",
       "7     EC         1.0\n",
       "0      E         2.0\n",
       "5    K-A         2.0\n",
       "4   E10+         3.0\n",
       "3      T         4.0\n",
       "2      M         5.0\n",
       "6     AO         6.0\n",
       "1    NaN         NaN"
      ]
     },
     "execution_count": 37,
     "metadata": {},
     "output_type": "execute_result"
    }
   ],
   "source": [
    "rating_dict.sort_values('rating_cat')"
   ]
  },
  {
   "cell_type": "code",
   "execution_count": 38,
   "id": "14152c5a",
   "metadata": {},
   "outputs": [
    {
     "data": {
      "image/png": "[encoded data removed]",
      "text/plain": [
       "<Figure size 432x288 with 1 Axes>"
      ]
     },
     "metadata": {
      "needs_background": "light"
     },
     "output_type": "display_data"
    },
    {
     "data": {
      "image/png": "[encoded data removed]",
      "text/plain": [
       "<Figure size 432x288 with 1 Axes>"
      ]
     },
     "metadata": {
      "needs_background": "light"
     },
     "output_type": "display_data"
    },
    {
     "data": {
      "image/png": "[encoded data removed]",
      "text/plain": [
       "<Figure size 432x288 with 1 Axes>"
      ]
     },
     "metadata": {
      "needs_background": "light"
     },
     "output_type": "display_data"
    }
   ],
   "source": [
    "for region in ['NA_sales', 'EU_sales', 'JP_sales']:\n",
    "    data_act.pivot_table(index='rating_cat', values=region, aggfunc='sum').plot(kind='bar',\n",
    "                                                                                grid=True, title = f'Зависимость {region} от rating_cat')\n",
    "    plt.title(f'Зависимость {region} от категории рейтинга')\n",
    "    plt.xlabel('Категория рейтинга')\n",
    "    plt.ylabel('Объем продаж')\n",
    "    plt.show()"
   ]
  },
  {
   "cell_type": "markdown",
   "id": "5e68d109",
   "metadata": {},
   "source": [
    "Что ж, влияние рейтинга на продажи в Америке и Европе примерно одинаковые. Наиболее популярной категории являются игры для взрослых. В таких играх довольно много жестокого или сексуального контента и они совершенно не подходят для детей. На втором месте располагаются игры с рейтингом \"для всех\". Основная аудитория таких игр - дети от 6 лет, но такие игры также могут быть интересны и взрослым. В них весьма ограничен жестокий контент, но их содержание весьма интересно, что позволяет им подходить игрокам почти всех возрастных групп. Дальше идет группа игр с жанром для подростков - игроков от 13 лет. Примечательно, что разница в продажах в Европе для данного рейтинга более существенная по сравнению с продажами в Америке. Наконец, меньше всего отдают предпочтение играм для детей от 10 и старше. Есть предположение, что из-за специфики деления игр данного рейтинга в целом выпускается меньше, поэтому их продажи также невелики. Общую похожесть в рейтинге жанров можно объяснить действующими в Америке и Европе рейтинговыми системами - они имеют крайне похожие способы оценивания игр. \n",
    "\n",
    "Для пользователей из Японии результат разбиения по рейтингу весьма разнится. Первое место по продажам занимают игры с рейтингом для подростков и старше. На втором месте у них располагаются игры с рейтингом для всех, и только на третьем месте находятся игры для взрослых. И, наконец, на последнем месте для японских пользователей также располагаются игры для детей от 10 и старше. Что примечательно, число продаж игр без рейтинга в Японии существенно превышает аналогичную группу в Америке и Европе. Вероятно, основная причина кроется в самих рейтингах. В Японии используется рейтинг CERO. Полностью совпадающих категорий в обоих рейтингах всего три - игры для всех, для подростков и взрослые. Именно эти категории и представлены у нас. В таком случае, игры, которые не имеют рейтинг по нашим данным, вероятно, либо относятся к уникальной категории в рамках Японского рейтинга, либо не подходят под американское разбиение по рейтингу."
   ]
  },
  {
   "cell_type": "markdown",
   "id": "3d443c60",
   "metadata": {},
   "source": [
    "Подытожим полученные результаты. Наиболее популярными жанрами для пользователей любых регионов являются игры жанров \"Action/RPG\" и \"Shooter\". Они привлекают игроков своим разнообразием и красочностью. Относительно предпочтений в платформах игроки также менее едины -  наиболее популярной платформой у жителей Америки и Европы является PlayStation 4, в то время как японские игроки отдают свое предпочтение компактным приставкам. Наконец, наибольшее число продаж в Европе и Америке имеют игры со взрослым рейтингом, а в Японии наиболее популярными являются игры для всех возрастов. "
   ]
  },
  {
   "cell_type": "markdown",
   "id": "5faab664",
   "metadata": {},
   "source": [
    "## Проверка гипотез"
   ]
  },
  {
   "cell_type": "markdown",
   "id": "da01a169",
   "metadata": {},
   "source": [
    "Наконец, перейдем к заключающему этапу нашего исследования - проверки гипотез. Всего мы проверим две основные гипотезы о платформах и жанрах. Рассмотрим каждую из гипотез в отдельности."
   ]
  },
  {
   "cell_type": "markdown",
   "id": "9b5c289c",
   "metadata": {},
   "source": [
    "Начнем со сравнения средних оценок пользователей платформ Xbox One и PС. Для начала сформулируем основные гипотезы, которые нам будет обходимо проверить.\n",
    "\n",
    "Нулевая гипотеза имеет следующий вид: средние пользовательские рейтинги платформ Xbox One и PC значимо не различается. Т.е. Н0: Е(оценки пользователей XOne) = Е(оценки пользователей PC).\n",
    "\n",
    "Альтернативная гипотеза, соответственно, будет иметь следующий вид: средние пользовательские рейтинги платформ Xbox One и PC значимо различается. Т.е. Н1: Е(оценки пользователей XOne) ≠ Е(оценки пользователей PC). Мы будем рассматривать именно двухстороннюю альтернативную гипотезу, поскольку для нас не важно, среднее значение какого именно тарифа превышает аналогичный показатель для альтернативного тарифа.\n",
    "\n",
    "Рассмотрим два уровня значимости: 5% и 1%. Для начала сравним полученное значение p-value с 1%. Если нулевая гипотеза не будет отвергаться на столь маленьком уровне, то допустимо не совершать дополнительные проверки - полученный результат будет достаточно релевантен для любого уровня значимости. Если же, напротив, для 1% значимости нулевая гипотеза будет отвергнута, имеет смысл рассмотреть немного больший уровень значимости - ведь, все-таки 1% уровень является крайней мерой при проверке гипотез."
   ]
  },
  {
   "cell_type": "code",
   "execution_count": 39,
   "id": "c1326d74",
   "metadata": {},
   "outputs": [
    {
     "name": "stdout",
     "output_type": "stream",
     "text": [
      "p-значение: 0.9097705444218422\n",
      "Не получилось отвергнуть нулевую гипотезу\n"
     ]
    }
   ],
   "source": [
    "alpha = .01\n",
    "\n",
    "results = st.ttest_ind(data_act.query('platform == \"XOne\"')['user_score'], \n",
    "    data_act.query('platform == \"PC\"')['user_score'])\n",
    "\n",
    "print('p-значение:', results.pvalue)\n",
    "\n",
    "if results.pvalue < alpha:\n",
    "    print(\"Отвергаем нулевую гипотезу\")\n",
    "else:\n",
    "    print(\"Не получилось отвергнуть нулевую гипотезу\")"
   ]
  },
  {
   "cell_type": "code",
   "execution_count": 40,
   "id": "c1c54ded",
   "metadata": {},
   "outputs": [
    {
     "name": "stdout",
     "output_type": "stream",
     "text": [
      "p-значение: 0.9097705444218422\n",
      "Не получилось отвергнуть нулевую гипотезу\n"
     ]
    }
   ],
   "source": [
    "alpha = .05\n",
    "\n",
    "results = st.ttest_ind(data_act.query('platform == \"XOne\"')['user_score'], \n",
    "    data_act.query('platform == \"PC\"')['user_score'])\n",
    "\n",
    "print('p-значение:', results.pvalue)\n",
    "\n",
    "if results.pvalue < alpha:\n",
    "    print(\"Отвергаем нулевую гипотезу\")\n",
    "else:\n",
    "    print(\"Не получилось отвергнуть нулевую гипотезу\")"
   ]
  },
  {
   "cell_type": "markdown",
   "id": "9b26d42f",
   "metadata": {},
   "source": [
    "Согласно полученным результатам мы не имеем достаточного основания отвергнуть основную гипотезу на любом разумном уровне значимости. Полученный результат весьма логичен. Прежде всего, оценка игре ставится за, так сказать, \"внутренность\" этой самой игры, а не за платформу, для которой она выпускалась. "
   ]
  },
  {
   "cell_type": "markdown",
   "id": "4605d63c",
   "metadata": {},
   "source": [
    "Теперь перейдем к анализу средней пользовательской оценки по жанрам, а именно сравним, различается ли средние пользовательские рейтинги жанров Action (англ. «действие», экшен-игры) и Sports (англ. «спортивные соревнования»).\n",
    "\n",
    "Как и прежде, начнем с разработки подходящих формулировок для основных гипотезы, которые нам будет обходимо проверить.\n",
    "\n",
    "Нулевая гипотеза имеет следующий вид: средний пользовательские рейтинги жанров Action и Sports значимо не различается. Т.е. Н0: Е(оценка пользователей жанра Action) = Е(оценка пользователей жанра Sports).\n",
    "\n",
    "Альтернативная гипотеза, соответственно, будет иметь следующий вид: средний пользовательские рейтинги жанров Action и Sports значимо различается. Т.е. Н1: Е(оценка пользователей жанра Action) ≠ Е(оценка пользователей жанра Sports). В данном пункте мы также будет рассматривать именно двухстороннюю альтернативную гипотезу, поскольку для нас не важно, среднее значение какого именно региона превышает аналогичный показатель для альтернативной группы.\n",
    "\n",
    "Рассмотрим два уровня значимости: 5% и 1%. Для начала сравним полученное значение p-value с 1%. Если нулевая гипотеза не будет отвергаться на столь маленьком уровне, то допустимо не совершать дополнительные проверки - полученный результат будет достаточно релевантен для любого уровня значимости. Если же, напротив, для 1% значимости нулевая гипотеза будет отвергнута, имеет смысл рассмотреть немного больший уровень значимости - ведь, все-таки 1% уровень является крайней мерой при проверке гипотез."
   ]
  },
  {
   "cell_type": "code",
   "execution_count": 41,
   "id": "d49d85f5",
   "metadata": {},
   "outputs": [
    {
     "name": "stdout",
     "output_type": "stream",
     "text": [
      "p-значение: 0.0002449154876490993\n",
      "Отвергаем нулевую гипотезу\n"
     ]
    }
   ],
   "source": [
    "alpha = .01\n",
    "\n",
    "results = st.ttest_ind(data_act.query('genre == \"Action\"')['user_score'], \n",
    "    data_act.query('genre == \"Sports\"')['user_score'])\n",
    "\n",
    "print('p-значение:', results.pvalue)\n",
    "\n",
    "if results.pvalue < alpha:\n",
    "    print(\"Отвергаем нулевую гипотезу\")\n",
    "else:\n",
    "    print(\"Не получилось отвергнуть нулевую гипотезу\")"
   ]
  },
  {
   "cell_type": "code",
   "execution_count": 42,
   "id": "d6ac52af",
   "metadata": {},
   "outputs": [
    {
     "name": "stdout",
     "output_type": "stream",
     "text": [
      "p-значение: 0.0002449154876490993\n",
      "Отвергаем нулевую гипотезу\n"
     ]
    }
   ],
   "source": [
    "alpha = .05\n",
    "\n",
    "results = st.ttest_ind(data_act.query('genre == \"Action\"')['user_score'], \n",
    "    data_act.query('genre == \"Sports\"')['user_score'])\n",
    "\n",
    "print('p-значение:', results.pvalue)\n",
    "\n",
    "if results.pvalue < alpha:\n",
    "    print(\"Отвергаем нулевую гипотезу\")\n",
    "else:\n",
    "    print(\"Не получилось отвергнуть нулевую гипотезу\")"
   ]
  },
  {
   "cell_type": "markdown",
   "id": "4abcbd29",
   "metadata": {},
   "source": [
    "На любом разумном уровне значимости наша основная гипотеза отвергается. Это также было весьма ожидаемо - среди игр жанра экшен куда больше интересных и громкоименных игр, чьи рейтинги значительно превышают рейтинги довольно однотипных игр в жанре спорт."
   ]
  },
  {
   "cell_type": "markdown",
   "id": "06a178ca",
   "metadata": {},
   "source": [
    "## Итоговые выводы"
   ]
  },
  {
   "cell_type": "markdown",
   "id": "c5ccadc6",
   "metadata": {},
   "source": [
    "Итак, нами был проведен предварительный анализ выпускаемых видеоигр с целью выявления закономерностей, которые наиболее сильно влияют на успешность игры. Эту информацию поможет компании-заказчику сделать ставку на потенциально популярный продукт и спланировать рекламные кампании.\n",
    "\n",
    "Какие закономерности нам удалось выявить?\n",
    "1. В последние несколько лет стремительно набирают популярность недавно вышедшие платформы PS4 и XOne. В ближайшее время игры будут выходить преимущественно на данные платформы. Среди компактных платформ выделяется Nintendo 3DS.\n",
    "2. Оценки как критиков, так и пользователей имеют положительное влияние на объемы продаж, однако сила влияния первой группы сильнее.\n",
    "3. Наиболее популярный и прибыльный жанр - шутер. Именно на него стоит сделать ставку. Также можно обратить внимание на ролевые игры, ведь нередко они выпускаются под двойным жанром Action/RPG.\n",
    "4. В последние несколько лет наибольшей популярностью у пользователей из Америки и Европы пользуется последняя вышедшая консоль серии PlayStation. Японские пользователи также предпочитают данную серию консолей, но наибольшей популярностью у них пользуются именно компактные переносные консоли из серии Nintendo.\n",
    "5. Американцы и европейцы отдают предпочтение взрослым играм, а на втором месту у них игры для всех возрастов. У японских пользователей, напротив, на первом месте располагаются игры для подростков, а на втором - игры для всех возрастов. Однако результаты для японских пользователей могут быть менее точными в силу существенного числа игр без рейтинга. \n",
    "6. Средние оценки на платформах серии Xbox и ПК значимо не разнятся. Для играков куда важнее содержание игры, чем предназначенная для нее платформа.\n",
    "7. А вот средние оценки игр жанров экшен и спорт существенно разнятся. "
   ]
  }
 ],
 "metadata": {
  "ExecuteTimeLog": [
   {
    "duration": 1110,
    "start_time": "2022-05-09T08:36:25.106Z"
   },
   {
    "duration": 155,
    "start_time": "2022-05-09T08:36:26.218Z"
   },
   {
    "duration": 25,
    "start_time": "2022-05-09T08:36:26.375Z"
   },
   {
    "duration": 13,
    "start_time": "2022-05-09T08:36:26.404Z"
   },
   {
    "duration": 6,
    "start_time": "2022-05-09T08:36:26.419Z"
   },
   {
    "duration": 138,
    "start_time": "2022-05-09T08:36:26.427Z"
   },
   {
    "duration": 26,
    "start_time": "2022-05-09T08:36:26.566Z"
   },
   {
    "duration": 7,
    "start_time": "2022-05-09T08:36:26.595Z"
   },
   {
    "duration": 12,
    "start_time": "2022-05-09T08:36:26.604Z"
   },
   {
    "duration": 8,
    "start_time": "2022-05-09T08:36:26.619Z"
   },
   {
    "duration": 14,
    "start_time": "2022-05-09T08:36:26.628Z"
   },
   {
    "duration": 19,
    "start_time": "2022-05-09T08:36:26.643Z"
   },
   {
    "duration": 18,
    "start_time": "2022-05-09T08:36:26.663Z"
   },
   {
    "duration": 20,
    "start_time": "2022-05-09T08:36:26.683Z"
   },
   {
    "duration": 29,
    "start_time": "2022-05-09T08:36:26.705Z"
   },
   {
    "duration": 7,
    "start_time": "2022-05-09T08:36:26.736Z"
   },
   {
    "duration": 23,
    "start_time": "2022-05-09T08:36:26.744Z"
   },
   {
    "duration": 26,
    "start_time": "2022-05-09T08:36:26.768Z"
   },
   {
    "duration": 12,
    "start_time": "2022-05-09T08:36:26.799Z"
   },
   {
    "duration": 16,
    "start_time": "2022-05-09T08:36:26.812Z"
   },
   {
    "duration": 17,
    "start_time": "2022-05-09T08:36:26.829Z"
   },
   {
    "duration": 161,
    "start_time": "2022-05-09T08:36:26.848Z"
   },
   {
    "duration": 157,
    "start_time": "2022-05-09T08:36:27.012Z"
   },
   {
    "duration": 28,
    "start_time": "2022-05-09T08:36:27.171Z"
   },
   {
    "duration": 128,
    "start_time": "2022-05-09T08:36:27.201Z"
   },
   {
    "duration": 0,
    "start_time": "2022-05-09T08:36:27.332Z"
   },
   {
    "duration": 0,
    "start_time": "2022-05-09T08:36:27.333Z"
   },
   {
    "duration": 0,
    "start_time": "2022-05-09T08:36:27.334Z"
   },
   {
    "duration": 0,
    "start_time": "2022-05-09T08:36:27.335Z"
   },
   {
    "duration": 0,
    "start_time": "2022-05-09T08:36:27.337Z"
   },
   {
    "duration": 0,
    "start_time": "2022-05-09T08:36:27.338Z"
   },
   {
    "duration": 0,
    "start_time": "2022-05-09T08:36:27.340Z"
   },
   {
    "duration": 0,
    "start_time": "2022-05-09T08:36:27.341Z"
   },
   {
    "duration": 0,
    "start_time": "2022-05-09T08:36:27.342Z"
   },
   {
    "duration": 0,
    "start_time": "2022-05-09T08:36:27.343Z"
   },
   {
    "duration": 0,
    "start_time": "2022-05-09T08:36:27.344Z"
   },
   {
    "duration": 0,
    "start_time": "2022-05-09T08:36:27.345Z"
   },
   {
    "duration": 0,
    "start_time": "2022-05-09T08:36:27.347Z"
   },
   {
    "duration": 0,
    "start_time": "2022-05-09T08:36:27.348Z"
   },
   {
    "duration": 0,
    "start_time": "2022-05-09T08:36:27.349Z"
   },
   {
    "duration": 0,
    "start_time": "2022-05-09T08:36:27.350Z"
   },
   {
    "duration": 0,
    "start_time": "2022-05-09T08:36:27.351Z"
   },
   {
    "duration": 3,
    "start_time": "2022-05-09T08:37:11.576Z"
   },
   {
    "duration": 108,
    "start_time": "2022-05-09T08:37:11.588Z"
   },
   {
    "duration": 13,
    "start_time": "2022-05-09T08:37:11.698Z"
   },
   {
    "duration": 14,
    "start_time": "2022-05-09T08:37:11.713Z"
   },
   {
    "duration": 7,
    "start_time": "2022-05-09T08:37:11.729Z"
   },
   {
    "duration": 138,
    "start_time": "2022-05-09T08:37:11.737Z"
   },
   {
    "duration": 26,
    "start_time": "2022-05-09T08:37:11.877Z"
   },
   {
    "duration": 5,
    "start_time": "2022-05-09T08:37:11.905Z"
   },
   {
    "duration": 10,
    "start_time": "2022-05-09T08:37:11.912Z"
   },
   {
    "duration": 7,
    "start_time": "2022-05-09T08:37:11.924Z"
   },
   {
    "duration": 10,
    "start_time": "2022-05-09T08:37:11.934Z"
   },
   {
    "duration": 9,
    "start_time": "2022-05-09T08:37:11.946Z"
   },
   {
    "duration": 47,
    "start_time": "2022-05-09T08:37:11.957Z"
   },
   {
    "duration": 9,
    "start_time": "2022-05-09T08:37:12.006Z"
   },
   {
    "duration": 9,
    "start_time": "2022-05-09T08:37:12.017Z"
   },
   {
    "duration": 6,
    "start_time": "2022-05-09T08:37:12.028Z"
   },
   {
    "duration": 20,
    "start_time": "2022-05-09T08:37:12.036Z"
   },
   {
    "duration": 56,
    "start_time": "2022-05-09T08:37:12.058Z"
   },
   {
    "duration": 10,
    "start_time": "2022-05-09T08:37:12.116Z"
   },
   {
    "duration": 16,
    "start_time": "2022-05-09T08:37:12.128Z"
   },
   {
    "duration": 16,
    "start_time": "2022-05-09T08:37:12.145Z"
   },
   {
    "duration": 149,
    "start_time": "2022-05-09T08:37:12.163Z"
   },
   {
    "duration": 145,
    "start_time": "2022-05-09T08:37:12.313Z"
   },
   {
    "duration": 14,
    "start_time": "2022-05-09T08:37:12.460Z"
   },
   {
    "duration": 759,
    "start_time": "2022-05-09T08:37:12.476Z"
   },
   {
    "duration": 7,
    "start_time": "2022-05-09T08:37:13.237Z"
   },
   {
    "duration": 351,
    "start_time": "2022-05-09T08:37:13.246Z"
   },
   {
    "duration": 304,
    "start_time": "2022-05-09T08:37:13.599Z"
   },
   {
    "duration": 622,
    "start_time": "2022-05-09T08:37:13.907Z"
   },
   {
    "duration": 762,
    "start_time": "2022-05-09T08:37:14.531Z"
   },
   {
    "duration": 618,
    "start_time": "2022-05-09T08:37:15.294Z"
   },
   {
    "duration": 395,
    "start_time": "2022-05-09T08:37:15.914Z"
   },
   {
    "duration": 385,
    "start_time": "2022-05-09T08:37:16.311Z"
   },
   {
    "duration": 213,
    "start_time": "2022-05-09T08:37:16.697Z"
   },
   {
    "duration": 0,
    "start_time": "2022-05-09T08:37:16.912Z"
   },
   {
    "duration": 0,
    "start_time": "2022-05-09T08:37:16.913Z"
   },
   {
    "duration": 0,
    "start_time": "2022-05-09T08:37:16.914Z"
   },
   {
    "duration": 0,
    "start_time": "2022-05-09T08:37:16.915Z"
   },
   {
    "duration": 0,
    "start_time": "2022-05-09T08:37:16.916Z"
   },
   {
    "duration": 0,
    "start_time": "2022-05-09T08:37:16.917Z"
   },
   {
    "duration": 0,
    "start_time": "2022-05-09T08:37:16.918Z"
   },
   {
    "duration": 3,
    "start_time": "2022-05-09T08:41:31.791Z"
   },
   {
    "duration": 114,
    "start_time": "2022-05-09T08:41:31.798Z"
   },
   {
    "duration": 14,
    "start_time": "2022-05-09T08:41:31.914Z"
   },
   {
    "duration": 20,
    "start_time": "2022-05-09T08:41:31.930Z"
   },
   {
    "duration": 4,
    "start_time": "2022-05-09T08:41:31.952Z"
   },
   {
    "duration": 122,
    "start_time": "2022-05-09T08:41:31.957Z"
   },
   {
    "duration": 19,
    "start_time": "2022-05-09T08:41:32.081Z"
   },
   {
    "duration": 5,
    "start_time": "2022-05-09T08:41:32.101Z"
   },
   {
    "duration": 13,
    "start_time": "2022-05-09T08:41:32.107Z"
   },
   {
    "duration": 20,
    "start_time": "2022-05-09T08:41:38.026Z"
   },
   {
    "duration": 34,
    "start_time": "2022-05-09T08:41:48.407Z"
   },
   {
    "duration": 35,
    "start_time": "2022-05-09T08:42:04.222Z"
   },
   {
    "duration": 3,
    "start_time": "2022-05-09T09:06:18.615Z"
   },
   {
    "duration": 96,
    "start_time": "2022-05-09T09:06:18.626Z"
   },
   {
    "duration": 14,
    "start_time": "2022-05-09T09:06:18.724Z"
   },
   {
    "duration": 14,
    "start_time": "2022-05-09T09:06:18.740Z"
   },
   {
    "duration": 3,
    "start_time": "2022-05-09T09:06:18.756Z"
   },
   {
    "duration": 129,
    "start_time": "2022-05-09T09:06:18.760Z"
   },
   {
    "duration": 15,
    "start_time": "2022-05-09T09:06:18.891Z"
   },
   {
    "duration": 6,
    "start_time": "2022-05-09T09:06:18.908Z"
   },
   {
    "duration": 7,
    "start_time": "2022-05-09T09:06:18.916Z"
   },
   {
    "duration": 19,
    "start_time": "2022-05-09T09:06:18.925Z"
   },
   {
    "duration": 8,
    "start_time": "2022-05-09T09:06:18.946Z"
   },
   {
    "duration": 10,
    "start_time": "2022-05-09T09:06:18.956Z"
   },
   {
    "duration": 37,
    "start_time": "2022-05-09T09:06:18.967Z"
   },
   {
    "duration": 7,
    "start_time": "2022-05-09T09:06:19.006Z"
   },
   {
    "duration": 8,
    "start_time": "2022-05-09T09:06:19.015Z"
   },
   {
    "duration": 6,
    "start_time": "2022-05-09T09:06:19.025Z"
   },
   {
    "duration": 64,
    "start_time": "2022-05-09T09:06:19.033Z"
   },
   {
    "duration": 21,
    "start_time": "2022-05-09T09:06:39.431Z"
   },
   {
    "duration": 24,
    "start_time": "2022-05-09T09:06:41.043Z"
   },
   {
    "duration": 36,
    "start_time": "2022-05-09T09:06:52.014Z"
   },
   {
    "duration": 3,
    "start_time": "2022-05-09T09:07:19.573Z"
   },
   {
    "duration": 94,
    "start_time": "2022-05-09T09:07:19.590Z"
   },
   {
    "duration": 13,
    "start_time": "2022-05-09T09:07:19.686Z"
   },
   {
    "duration": 16,
    "start_time": "2022-05-09T09:07:19.701Z"
   },
   {
    "duration": 3,
    "start_time": "2022-05-09T09:07:19.720Z"
   },
   {
    "duration": 141,
    "start_time": "2022-05-09T09:07:19.724Z"
   },
   {
    "duration": 13,
    "start_time": "2022-05-09T09:07:19.867Z"
   },
   {
    "duration": 4,
    "start_time": "2022-05-09T09:07:19.893Z"
   },
   {
    "duration": 9,
    "start_time": "2022-05-09T09:07:19.899Z"
   },
   {
    "duration": 5,
    "start_time": "2022-05-09T09:07:19.910Z"
   },
   {
    "duration": 8,
    "start_time": "2022-05-09T09:07:19.917Z"
   },
   {
    "duration": 8,
    "start_time": "2022-05-09T09:07:19.927Z"
   },
   {
    "duration": 14,
    "start_time": "2022-05-09T09:07:19.936Z"
   },
   {
    "duration": 7,
    "start_time": "2022-05-09T09:07:19.952Z"
   },
   {
    "duration": 9,
    "start_time": "2022-05-09T09:07:19.992Z"
   },
   {
    "duration": 11,
    "start_time": "2022-05-09T09:07:20.002Z"
   },
   {
    "duration": 17,
    "start_time": "2022-05-09T09:07:20.015Z"
   },
   {
    "duration": 34,
    "start_time": "2022-05-09T09:07:20.034Z"
   },
   {
    "duration": 32,
    "start_time": "2022-05-09T09:07:20.070Z"
   },
   {
    "duration": 15,
    "start_time": "2022-05-09T09:07:20.104Z"
   },
   {
    "duration": 3,
    "start_time": "2022-05-09T09:20:06.787Z"
   },
   {
    "duration": 112,
    "start_time": "2022-05-09T09:20:06.803Z"
   },
   {
    "duration": 13,
    "start_time": "2022-05-09T09:20:06.917Z"
   },
   {
    "duration": 20,
    "start_time": "2022-05-09T09:20:06.931Z"
   },
   {
    "duration": 2,
    "start_time": "2022-05-09T09:20:06.953Z"
   },
   {
    "duration": 131,
    "start_time": "2022-05-09T09:20:06.957Z"
   },
   {
    "duration": 14,
    "start_time": "2022-05-09T09:20:07.092Z"
   },
   {
    "duration": 10,
    "start_time": "2022-05-09T09:20:07.107Z"
   },
   {
    "duration": 23,
    "start_time": "2022-05-09T09:20:07.118Z"
   },
   {
    "duration": 21,
    "start_time": "2022-05-09T09:20:07.142Z"
   },
   {
    "duration": 22,
    "start_time": "2022-05-09T09:20:07.165Z"
   },
   {
    "duration": 20,
    "start_time": "2022-05-09T09:20:07.189Z"
   },
   {
    "duration": 23,
    "start_time": "2022-05-09T09:20:07.210Z"
   },
   {
    "duration": 14,
    "start_time": "2022-05-09T09:20:07.235Z"
   },
   {
    "duration": 29,
    "start_time": "2022-05-09T09:20:07.251Z"
   },
   {
    "duration": 14,
    "start_time": "2022-05-09T09:20:07.282Z"
   },
   {
    "duration": 28,
    "start_time": "2022-05-09T09:20:07.298Z"
   },
   {
    "duration": 22,
    "start_time": "2022-05-09T09:20:07.328Z"
   },
   {
    "duration": 8,
    "start_time": "2022-05-09T09:20:07.352Z"
   },
   {
    "duration": 41,
    "start_time": "2022-05-09T09:20:07.361Z"
   },
   {
    "duration": 18,
    "start_time": "2022-05-09T09:20:07.404Z"
   },
   {
    "duration": 134,
    "start_time": "2022-05-09T09:20:07.425Z"
   },
   {
    "duration": 292,
    "start_time": "2022-05-09T09:20:07.562Z"
   },
   {
    "duration": 19,
    "start_time": "2022-05-09T09:20:07.856Z"
   },
   {
    "duration": 1041,
    "start_time": "2022-05-09T09:20:07.877Z"
   },
   {
    "duration": 7,
    "start_time": "2022-05-09T09:20:08.920Z"
   },
   {
    "duration": 273,
    "start_time": "2022-05-09T09:20:08.928Z"
   },
   {
    "duration": 290,
    "start_time": "2022-05-09T09:20:09.203Z"
   },
   {
    "duration": 27,
    "start_time": "2022-05-09T09:20:09.496Z"
   },
   {
    "duration": 4,
    "start_time": "2022-05-09T09:20:54.069Z"
   },
   {
    "duration": 5,
    "start_time": "2022-05-09T09:20:59.524Z"
   },
   {
    "duration": 32,
    "start_time": "2022-05-09T09:29:11.389Z"
   },
   {
    "duration": 32,
    "start_time": "2022-05-09T09:29:25.827Z"
   },
   {
    "duration": 10,
    "start_time": "2022-05-09T09:29:25.861Z"
   },
   {
    "duration": 491,
    "start_time": "2022-05-09T09:29:25.874Z"
   },
   {
    "duration": 10,
    "start_time": "2022-05-09T09:29:26.367Z"
   },
   {
    "duration": 16,
    "start_time": "2022-05-09T09:29:26.378Z"
   },
   {
    "duration": 9,
    "start_time": "2022-05-09T09:29:26.396Z"
   },
   {
    "duration": 10,
    "start_time": "2022-05-09T09:29:26.407Z"
   },
   {
    "duration": 69,
    "start_time": "2022-05-11T14:32:53.702Z"
   },
   {
    "duration": 11,
    "start_time": "2022-05-11T14:33:05.042Z"
   },
   {
    "duration": 1595,
    "start_time": "2022-05-11T14:33:13.719Z"
   },
   {
    "duration": 4,
    "start_time": "2022-05-11T14:33:15.317Z"
   },
   {
    "duration": 252,
    "start_time": "2022-05-11T14:33:18.721Z"
   },
   {
    "duration": 5,
    "start_time": "2022-05-11T14:33:24.457Z"
   },
   {
    "duration": 182,
    "start_time": "2022-05-11T14:33:27.233Z"
   },
   {
    "duration": 26,
    "start_time": "2022-05-11T14:33:29.073Z"
   },
   {
    "duration": 10,
    "start_time": "2022-05-11T14:33:38.651Z"
   },
   {
    "duration": 7,
    "start_time": "2022-05-11T14:33:55.666Z"
   },
   {
    "duration": 8,
    "start_time": "2022-05-11T14:33:57.062Z"
   },
   {
    "duration": 10,
    "start_time": "2022-05-11T14:34:20.989Z"
   },
   {
    "duration": 489,
    "start_time": "2022-05-11T14:34:25.851Z"
   },
   {
    "duration": 448,
    "start_time": "2022-05-11T14:34:49.842Z"
   },
   {
    "duration": 910,
    "start_time": "2022-05-11T14:36:09.039Z"
   },
   {
    "duration": 559,
    "start_time": "2022-05-11T14:36:16.828Z"
   },
   {
    "duration": 570,
    "start_time": "2022-05-11T14:36:38.735Z"
   },
   {
    "duration": 591,
    "start_time": "2022-05-11T14:36:39.330Z"
   },
   {
    "duration": 296,
    "start_time": "2022-05-11T14:37:03.626Z"
   },
   {
    "duration": 318,
    "start_time": "2022-05-11T14:37:09.415Z"
   },
   {
    "duration": 38,
    "start_time": "2022-05-11T14:37:42.044Z"
   },
   {
    "duration": 38,
    "start_time": "2022-05-11T14:38:12.748Z"
   },
   {
    "duration": 12,
    "start_time": "2022-05-11T14:38:23.896Z"
   },
   {
    "duration": 691,
    "start_time": "2022-05-11T14:38:26.262Z"
   },
   {
    "duration": 55,
    "start_time": "2022-05-22T16:56:38.824Z"
   },
   {
    "duration": 1255,
    "start_time": "2022-05-22T16:56:52.170Z"
   },
   {
    "duration": 3,
    "start_time": "2022-05-22T16:56:55.564Z"
   },
   {
    "duration": 196,
    "start_time": "2022-05-22T16:57:01.565Z"
   },
   {
    "duration": 17,
    "start_time": "2022-05-22T16:57:02.965Z"
   },
   {
    "duration": 13,
    "start_time": "2022-05-22T16:57:03.903Z"
   },
   {
    "duration": 3,
    "start_time": "2022-05-22T16:57:07.029Z"
   },
   {
    "duration": 106,
    "start_time": "2022-05-22T16:57:08.628Z"
   },
   {
    "duration": 14,
    "start_time": "2022-05-22T16:57:08.839Z"
   },
   {
    "duration": 5,
    "start_time": "2022-05-22T16:57:10.649Z"
   },
   {
    "duration": 4,
    "start_time": "2022-05-22T16:57:11.745Z"
   },
   {
    "duration": 7,
    "start_time": "2022-05-22T16:57:13.704Z"
   },
   {
    "duration": 8,
    "start_time": "2022-05-22T16:57:16.195Z"
   },
   {
    "duration": 8,
    "start_time": "2022-05-22T16:57:16.840Z"
   },
   {
    "duration": 15,
    "start_time": "2022-05-22T16:57:18.729Z"
   },
   {
    "duration": 7,
    "start_time": "2022-05-22T16:57:20.003Z"
   },
   {
    "duration": 385,
    "start_time": "2022-05-22T16:57:25.966Z"
   },
   {
    "duration": 22,
    "start_time": "2022-05-22T17:10:34.400Z"
   },
   {
    "duration": 22,
    "start_time": "2022-05-22T17:10:35.289Z"
   },
   {
    "duration": 505,
    "start_time": "2022-05-22T17:14:43.861Z"
   },
   {
    "duration": 3,
    "start_time": "2022-05-22T17:14:56.416Z"
   },
   {
    "duration": 8,
    "start_time": "2022-05-22T17:15:12.535Z"
   },
   {
    "duration": 15,
    "start_time": "2022-05-22T17:16:08.965Z"
   },
   {
    "duration": 15,
    "start_time": "2022-05-22T17:16:09.597Z"
   },
   {
    "duration": 341,
    "start_time": "2022-05-22T17:19:32.275Z"
   },
   {
    "duration": 271,
    "start_time": "2022-05-22T17:20:14.687Z"
   },
   {
    "duration": 269,
    "start_time": "2022-05-22T17:22:24.978Z"
   },
   {
    "duration": 254,
    "start_time": "2022-05-22T17:23:37.512Z"
   },
   {
    "duration": 269,
    "start_time": "2022-05-22T17:23:43.898Z"
   },
   {
    "duration": 122,
    "start_time": "2022-05-22T17:23:54.240Z"
   },
   {
    "duration": 130,
    "start_time": "2022-05-22T17:24:28.141Z"
   },
   {
    "duration": 131,
    "start_time": "2022-05-22T17:24:46.001Z"
   },
   {
    "duration": 144,
    "start_time": "2022-05-22T17:25:02.655Z"
   },
   {
    "duration": 292,
    "start_time": "2022-05-22T17:25:12.295Z"
   },
   {
    "duration": 130,
    "start_time": "2022-05-22T17:25:28.481Z"
   },
   {
    "duration": 121,
    "start_time": "2022-05-22T17:27:35.450Z"
   },
   {
    "duration": 175,
    "start_time": "2022-05-22T17:28:23.807Z"
   },
   {
    "duration": 3041,
    "start_time": "2022-05-22T17:29:01.924Z"
   },
   {
    "duration": 2862,
    "start_time": "2022-05-22T17:29:17.932Z"
   },
   {
    "duration": 2974,
    "start_time": "2022-05-22T17:29:40.433Z"
   },
   {
    "duration": 2814,
    "start_time": "2022-05-22T17:31:10.383Z"
   },
   {
    "duration": 25,
    "start_time": "2022-05-22T17:31:33.891Z"
   },
   {
    "duration": 164,
    "start_time": "2022-05-22T17:31:47.854Z"
   },
   {
    "duration": 175,
    "start_time": "2022-05-22T17:33:03.186Z"
   },
   {
    "duration": 2,
    "start_time": "2022-05-22T17:33:33.350Z"
   },
   {
    "duration": 174,
    "start_time": "2022-05-22T17:33:35.430Z"
   },
   {
    "duration": 2,
    "start_time": "2022-05-22T17:34:04.518Z"
   },
   {
    "duration": 173,
    "start_time": "2022-05-22T17:34:05.046Z"
   },
   {
    "duration": 170,
    "start_time": "2022-05-22T17:34:35.898Z"
   },
   {
    "duration": 182,
    "start_time": "2022-05-22T17:34:50.765Z"
   },
   {
    "duration": 375,
    "start_time": "2022-05-22T17:36:45.499Z"
   },
   {
    "duration": 192,
    "start_time": "2022-05-22T17:37:11.086Z"
   },
   {
    "duration": 13,
    "start_time": "2022-05-22T17:38:09.735Z"
   },
   {
    "duration": 1185,
    "start_time": "2022-05-22T17:39:30.080Z"
   },
   {
    "duration": 9,
    "start_time": "2022-05-22T17:46:11.878Z"
   },
   {
    "duration": 6,
    "start_time": "2022-05-22T17:46:16.849Z"
   },
   {
    "duration": 242,
    "start_time": "2022-05-22T17:46:27.595Z"
   },
   {
    "duration": 311,
    "start_time": "2022-05-22T17:49:02.738Z"
   },
   {
    "duration": 242,
    "start_time": "2022-05-22T17:55:51.081Z"
   },
   {
    "duration": 25,
    "start_time": "2022-05-22T17:56:42.605Z"
   },
   {
    "duration": 12,
    "start_time": "2022-05-22T18:00:57.081Z"
   },
   {
    "duration": 12,
    "start_time": "2022-05-22T18:01:35.814Z"
   },
   {
    "duration": 359,
    "start_time": "2022-05-22T18:02:34.419Z"
   },
   {
    "duration": 256,
    "start_time": "2022-05-22T18:02:43.472Z"
   },
   {
    "duration": 259,
    "start_time": "2022-05-22T18:19:12.881Z"
   },
   {
    "duration": 240,
    "start_time": "2022-05-22T18:19:34.098Z"
   },
   {
    "duration": 421,
    "start_time": "2022-05-22T18:20:12.449Z"
   },
   {
    "duration": 444,
    "start_time": "2022-05-22T18:20:31.408Z"
   },
   {
    "duration": 425,
    "start_time": "2022-05-22T18:20:40.328Z"
   },
   {
    "duration": 442,
    "start_time": "2022-05-22T18:21:12.600Z"
   },
   {
    "duration": 435,
    "start_time": "2022-05-22T18:21:31.101Z"
   },
   {
    "duration": 436,
    "start_time": "2022-05-22T18:22:10.208Z"
   },
   {
    "duration": 531,
    "start_time": "2022-05-22T18:22:49.688Z"
   },
   {
    "duration": 400,
    "start_time": "2022-05-22T18:24:24.661Z"
   },
   {
    "duration": 433,
    "start_time": "2022-05-22T18:24:49.547Z"
   },
   {
    "duration": 412,
    "start_time": "2022-05-22T18:24:49.982Z"
   },
   {
    "duration": 200,
    "start_time": "2022-05-22T18:33:15.398Z"
   },
   {
    "duration": 196,
    "start_time": "2022-05-22T18:33:23.392Z"
   },
   {
    "duration": 205,
    "start_time": "2022-05-22T18:41:14.864Z"
   },
   {
    "duration": 27,
    "start_time": "2022-05-22T18:41:47.860Z"
   },
   {
    "duration": 17,
    "start_time": "2022-05-22T18:42:02.727Z"
   },
   {
    "duration": 4,
    "start_time": "2022-05-22T18:44:32.553Z"
   },
   {
    "duration": 156,
    "start_time": "2022-05-22T18:44:43.855Z"
   },
   {
    "duration": 194,
    "start_time": "2022-05-22T18:45:21.854Z"
   },
   {
    "duration": 296,
    "start_time": "2022-05-22T18:47:40.438Z"
   },
   {
    "duration": 188,
    "start_time": "2022-05-22T18:52:55.958Z"
   },
   {
    "duration": 183,
    "start_time": "2022-05-22T18:53:05.809Z"
   },
   {
    "duration": 192,
    "start_time": "2022-05-22T18:55:50.467Z"
   },
   {
    "duration": 204,
    "start_time": "2022-05-22T18:55:59.599Z"
   },
   {
    "duration": 184,
    "start_time": "2022-05-22T18:56:08.862Z"
   },
   {
    "duration": 24,
    "start_time": "2022-05-22T19:07:54.822Z"
   },
   {
    "duration": 29,
    "start_time": "2022-05-22T19:16:43.720Z"
   },
   {
    "duration": 16,
    "start_time": "2022-05-22T19:16:49.674Z"
   },
   {
    "duration": 394,
    "start_time": "2022-05-22T19:16:56.329Z"
   },
   {
    "duration": 408,
    "start_time": "2022-05-22T19:18:46.238Z"
   },
   {
    "duration": 526,
    "start_time": "2022-05-22T19:19:09.121Z"
   },
   {
    "duration": 20,
    "start_time": "2022-05-22T19:19:22.975Z"
   },
   {
    "duration": 9,
    "start_time": "2022-05-22T19:19:23.752Z"
   },
   {
    "duration": 10,
    "start_time": "2022-05-22T19:19:38.346Z"
   },
   {
    "duration": 15,
    "start_time": "2022-05-22T19:19:39.202Z"
   },
   {
    "duration": 1149,
    "start_time": "2022-05-22T19:59:08.091Z"
   },
   {
    "duration": 3,
    "start_time": "2022-05-22T19:59:09.242Z"
   },
   {
    "duration": 68,
    "start_time": "2022-05-22T19:59:09.247Z"
   },
   {
    "duration": 17,
    "start_time": "2022-05-22T19:59:09.317Z"
   },
   {
    "duration": 19,
    "start_time": "2022-05-22T19:59:09.336Z"
   },
   {
    "duration": 3,
    "start_time": "2022-05-22T19:59:09.357Z"
   },
   {
    "duration": 158,
    "start_time": "2022-05-22T19:59:09.361Z"
   },
   {
    "duration": 16,
    "start_time": "2022-05-22T19:59:09.520Z"
   },
   {
    "duration": 5,
    "start_time": "2022-05-22T19:59:09.538Z"
   },
   {
    "duration": 16,
    "start_time": "2022-05-22T19:59:09.545Z"
   },
   {
    "duration": 8,
    "start_time": "2022-05-22T19:59:09.574Z"
   },
   {
    "duration": 26,
    "start_time": "2022-05-22T19:59:09.584Z"
   },
   {
    "duration": 12,
    "start_time": "2022-05-22T19:59:09.612Z"
   },
   {
    "duration": 25,
    "start_time": "2022-05-22T19:59:09.627Z"
   },
   {
    "duration": 26,
    "start_time": "2022-05-22T19:59:09.654Z"
   },
   {
    "duration": 40,
    "start_time": "2022-05-22T19:59:09.682Z"
   },
   {
    "duration": 25,
    "start_time": "2022-05-22T19:59:09.724Z"
   },
   {
    "duration": 4,
    "start_time": "2022-05-22T19:59:09.751Z"
   },
   {
    "duration": 8,
    "start_time": "2022-05-22T19:59:10.590Z"
   },
   {
    "duration": 25,
    "start_time": "2022-05-22T19:59:10.600Z"
   },
   {
    "duration": 15,
    "start_time": "2022-05-22T19:59:10.627Z"
   },
   {
    "duration": 5,
    "start_time": "2022-05-22T19:59:10.643Z"
   },
   {
    "duration": 218,
    "start_time": "2022-05-22T19:59:10.650Z"
   },
   {
    "duration": 217,
    "start_time": "2022-05-22T19:59:10.962Z"
   },
   {
    "duration": 19,
    "start_time": "2022-05-22T19:59:11.181Z"
   },
   {
    "duration": 1403,
    "start_time": "2022-05-22T19:59:11.202Z"
   },
   {
    "duration": 6,
    "start_time": "2022-05-22T19:59:12.608Z"
   },
   {
    "duration": 389,
    "start_time": "2022-05-22T19:59:12.616Z"
   },
   {
    "duration": 270,
    "start_time": "2022-05-22T19:59:13.007Z"
   },
   {
    "duration": 445,
    "start_time": "2022-05-22T19:59:13.280Z"
   },
   {
    "duration": 436,
    "start_time": "2022-05-22T19:59:13.727Z"
   },
   {
    "duration": 500,
    "start_time": "2022-05-22T19:59:14.164Z"
   },
   {
    "duration": 239,
    "start_time": "2022-05-22T19:59:14.665Z"
   },
   {
    "duration": 211,
    "start_time": "2022-05-22T19:59:14.906Z"
   },
   {
    "duration": 27,
    "start_time": "2022-05-22T19:59:15.118Z"
   },
   {
    "duration": 44,
    "start_time": "2022-05-22T19:59:15.146Z"
   },
   {
    "duration": 10,
    "start_time": "2022-05-22T19:59:15.491Z"
   },
   {
    "duration": 432,
    "start_time": "2022-05-22T19:59:15.503Z"
   },
   {
    "duration": 11,
    "start_time": "2022-05-22T19:59:16.390Z"
   },
   {
    "duration": 12,
    "start_time": "2022-05-22T19:59:16.403Z"
   },
   {
    "duration": 12,
    "start_time": "2022-05-22T19:59:16.417Z"
   },
   {
    "duration": 9,
    "start_time": "2022-05-22T19:59:16.432Z"
   }
  ],
  "kernelspec": {
   "display_name": "Python 3 (ipykernel)",
   "language": "python",
   "name": "python3"
  },
  "language_info": {
   "codemirror_mode": {
    "name": "ipython",
    "version": 3
   },
   "file_extension": ".py",
   "mimetype": "text/x-python",
   "name": "python",
   "nbconvert_exporter": "python",
   "pygments_lexer": "ipython3",
   "version": "3.9.7"
  },
  "toc": {
   "base_numbering": 1,
   "nav_menu": {},
   "number_sections": true,
   "sideBar": true,
   "skip_h1_title": true,
   "title_cell": "Table of Contents",
   "title_sidebar": "Contents",
   "toc_cell": true,
   "toc_position": {},
   "toc_section_display": true,
   "toc_window_display": true
  }
 },
 "nbformat": 4,
 "nbformat_minor": 5
}
