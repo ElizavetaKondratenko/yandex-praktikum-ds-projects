{
 "cells": [
  {
   "cell_type": "markdown",
   "id": "c6ebf53a",
   "metadata": {
    "toc": true
   },
   "source": [
    "<h1>Table of Contents<span class=\"tocSkip\"></span></h1>\n",
    "<div class=\"toc\"><ul class=\"toc-item\"><li><span><a href=\"#Описание-проекта\" data-toc-modified-id=\"Описание-проекта-1\"><span class=\"toc-item-num\">1&nbsp;&nbsp;</span>Описание проекта</a></span></li><li><span><a href=\"#Обзор-данных-и-их-подготовка\" data-toc-modified-id=\"Обзор-данных-и-их-подготовка-2\"><span class=\"toc-item-num\">2&nbsp;&nbsp;</span>Обзор данных и их подготовка</a></span></li><li><span><a href=\"#Моделирование\" data-toc-modified-id=\"Моделирование-3\"><span class=\"toc-item-num\">3&nbsp;&nbsp;</span>Моделирование</a></span><ul class=\"toc-item\"><li><span><a href=\"#Логистическая-регрессия\" data-toc-modified-id=\"Логистическая-регрессия-3.1\"><span class=\"toc-item-num\">3.1&nbsp;&nbsp;</span>Логистическая регрессия</a></span></li><li><span><a href=\"#Решающее-дерево\" data-toc-modified-id=\"Решающее-дерево-3.2\"><span class=\"toc-item-num\">3.2&nbsp;&nbsp;</span>Решающее дерево</a></span></li><li><span><a href=\"#Случайный-лес\" data-toc-modified-id=\"Случайный-лес-3.3\"><span class=\"toc-item-num\">3.3&nbsp;&nbsp;</span>Случайный лес</a></span></li></ul></li><li><span><a href=\"#Проверка-качества\" data-toc-modified-id=\"Проверка-качества-4\"><span class=\"toc-item-num\">4&nbsp;&nbsp;</span>Проверка качества</a></span></li><li><span><a href=\"#Проверка-на-вменяемость\" data-toc-modified-id=\"Проверка-на-вменяемость-5\"><span class=\"toc-item-num\">5&nbsp;&nbsp;</span>Проверка на вменяемость</a></span></li><li><span><a href=\"#Заключение\" data-toc-modified-id=\"Заключение-6\"><span class=\"toc-item-num\">6&nbsp;&nbsp;</span>Заключение</a></span></li></ul></div>"
   ]
  },
  {
   "cell_type": "code",
   "execution_count": 1,
   "id": "bec2200f",
   "metadata": {},
   "outputs": [],
   "source": [
    "import pandas as pd\n",
    "import numpy as np\n",
    "import seaborn as sns\n",
    "import matplotlib.pyplot as plt\n",
    "from sklearn.model_selection import train_test_split\n",
    "from sklearn.model_selection import GridSearchCV\n",
    "from sklearn.tree import DecisionTreeClassifier\n",
    "from sklearn.ensemble import RandomForestClassifier\n",
    "from sklearn.linear_model import LogisticRegression\n",
    "from sklearn.metrics import accuracy_score\n",
    "from sklearn.dummy import DummyClassifier"
   ]
  },
  {
   "cell_type": "code",
   "execution_count": 2,
   "id": "329b7d6e",
   "metadata": {},
   "outputs": [],
   "source": [
    "import warnings\n",
    "warnings.filterwarnings('ignore')"
   ]
  },
  {
   "cell_type": "markdown",
   "id": "b079612d",
   "metadata": {},
   "source": [
    "# Рекомендация тарифа"
   ]
  },
  {
   "cell_type": "markdown",
   "id": "0b27cfcd",
   "metadata": {},
   "source": [
    "## Описание проекта"
   ]
  },
  {
   "cell_type": "markdown",
   "id": "b41e6561",
   "metadata": {},
   "source": [
    "**Заказчик** - оператор мобильной связи «Мегалайн». Необходимо провести анализ поведения клиентов для создания системы, основной целью которой будет подбор наиболее оптимального для пользователя тарифа: «Смарт» или «Ультра».\n",
    "\n",
    "**Входные данные** - информация о поведении клиентов, которые уже перешли на эти тарифы.\n",
    "\n",
    "**Основная задача** - построить модель для задачи классификации, которая выберет подходящий тариф. Необходимое условие: значение показателя accuracy должно превышать порог в 0.75."
   ]
  },
  {
   "cell_type": "markdown",
   "id": "01690d21",
   "metadata": {},
   "source": [
    "Каждый объект в наборе данных — это информация о поведении одного пользователя за месяц. В исходном наборе данных всего 5 переменных:\n",
    "* сalls — количество звонков,\n",
    "* minutes — суммарная длительность звонков в минутах,\n",
    "* messages — количество sms-сообщений,\n",
    "* mb_used — израсходованный интернет-трафик в Мб,\n",
    "* is_ultra — каким тарифом пользовался в течение месяца («Ультра» — 1, «Смарт» — 0)."
   ]
  },
  {
   "cell_type": "markdown",
   "id": "e4c85c08",
   "metadata": {},
   "source": [
    "## Обзор данных и их подготовка"
   ]
  },
  {
   "cell_type": "markdown",
   "id": "baa0c924",
   "metadata": {},
   "source": [
    "Начнем с загрузки исходного набора данных и выведения основной информации о нем."
   ]
  },
  {
   "cell_type": "code",
   "execution_count": 3,
   "id": "7d955faf",
   "metadata": {},
   "outputs": [],
   "source": [
    "try:\n",
    "    df = pd.read_csv('users_behavior.csv')\n",
    "except:\n",
    "    df = pd.read_csv('/datasets/users_behavior.csv')"
   ]
  },
  {
   "cell_type": "code",
   "execution_count": 4,
   "id": "576cbf01",
   "metadata": {},
   "outputs": [
    {
     "name": "stdout",
     "output_type": "stream",
     "text": [
      "<class 'pandas.core.frame.DataFrame'>\n",
      "RangeIndex: 3214 entries, 0 to 3213\n",
      "Data columns (total 5 columns):\n",
      " #   Column    Non-Null Count  Dtype  \n",
      "---  ------    --------------  -----  \n",
      " 0   calls     3214 non-null   float64\n",
      " 1   minutes   3214 non-null   float64\n",
      " 2   messages  3214 non-null   float64\n",
      " 3   mb_used   3214 non-null   float64\n",
      " 4   is_ultra  3214 non-null   int64  \n",
      "dtypes: float64(4), int64(1)\n",
      "memory usage: 125.7 KB\n"
     ]
    }
   ],
   "source": [
    "df.info()"
   ]
  },
  {
   "cell_type": "code",
   "execution_count": 5,
   "id": "7db7d25c",
   "metadata": {},
   "outputs": [
    {
     "data": {
      "text/html": [
       "<div>\n",
       "<style scoped>\n",
       "    .dataframe tbody tr th:only-of-type {\n",
       "        vertical-align: middle;\n",
       "    }\n",
       "\n",
       "    .dataframe tbody tr th {\n",
       "        vertical-align: top;\n",
       "    }\n",
       "\n",
       "    .dataframe thead th {\n",
       "        text-align: right;\n",
       "    }\n",
       "</style>\n",
       "<table border=\"1\" class=\"dataframe\">\n",
       "  <thead>\n",
       "    <tr style=\"text-align: right;\">\n",
       "      <th></th>\n",
       "      <th>calls</th>\n",
       "      <th>minutes</th>\n",
       "      <th>messages</th>\n",
       "      <th>mb_used</th>\n",
       "      <th>is_ultra</th>\n",
       "    </tr>\n",
       "  </thead>\n",
       "  <tbody>\n",
       "    <tr>\n",
       "      <th>0</th>\n",
       "      <td>40.0</td>\n",
       "      <td>311.90</td>\n",
       "      <td>83.0</td>\n",
       "      <td>19915.42</td>\n",
       "      <td>0</td>\n",
       "    </tr>\n",
       "    <tr>\n",
       "      <th>1</th>\n",
       "      <td>85.0</td>\n",
       "      <td>516.75</td>\n",
       "      <td>56.0</td>\n",
       "      <td>22696.96</td>\n",
       "      <td>0</td>\n",
       "    </tr>\n",
       "    <tr>\n",
       "      <th>2</th>\n",
       "      <td>77.0</td>\n",
       "      <td>467.66</td>\n",
       "      <td>86.0</td>\n",
       "      <td>21060.45</td>\n",
       "      <td>0</td>\n",
       "    </tr>\n",
       "    <tr>\n",
       "      <th>3</th>\n",
       "      <td>106.0</td>\n",
       "      <td>745.53</td>\n",
       "      <td>81.0</td>\n",
       "      <td>8437.39</td>\n",
       "      <td>1</td>\n",
       "    </tr>\n",
       "    <tr>\n",
       "      <th>4</th>\n",
       "      <td>66.0</td>\n",
       "      <td>418.74</td>\n",
       "      <td>1.0</td>\n",
       "      <td>14502.75</td>\n",
       "      <td>0</td>\n",
       "    </tr>\n",
       "  </tbody>\n",
       "</table>\n",
       "</div>"
      ],
      "text/plain": [
       "   calls  minutes  messages   mb_used  is_ultra\n",
       "0   40.0   311.90      83.0  19915.42         0\n",
       "1   85.0   516.75      56.0  22696.96         0\n",
       "2   77.0   467.66      86.0  21060.45         0\n",
       "3  106.0   745.53      81.0   8437.39         1\n",
       "4   66.0   418.74       1.0  14502.75         0"
      ]
     },
     "execution_count": 5,
     "metadata": {},
     "output_type": "execute_result"
    }
   ],
   "source": [
    "df.head()"
   ]
  },
  {
   "cell_type": "code",
   "execution_count": 6,
   "id": "af0fd381",
   "metadata": {
    "scrolled": true
   },
   "outputs": [
    {
     "data": {
      "image/png": "[encoded data removed]",
      "text/plain": [
       "<Figure size 432x288 with 1 Axes>"
      ]
     },
     "metadata": {
      "needs_background": "light"
     },
     "output_type": "display_data"
    },
    {
     "data": {
      "text/plain": [
       "0    2229\n",
       "1     985\n",
       "Name: is_ultra, dtype: int64"
      ]
     },
     "execution_count": 6,
     "metadata": {},
     "output_type": "execute_result"
    }
   ],
   "source": [
    "sns.countplot(data=df, x='is_ultra')\n",
    "plt.title('Распределение таргета')\n",
    "plt.show()\n",
    "\n",
    "df['is_ultra'].value_counts()"
   ]
  },
  {
   "cell_type": "markdown",
   "id": "661cab81",
   "metadata": {},
   "source": [
    "Данные не имеют пропущенных наблюдений. За исключением бинарной переменной, отвечающей за тариф, характеристики имеют тип `float64`. Поскольку мы работаем с уже обработанным набором данных, дополнительных изменений в исходном наборе проводить не нужно.\n",
    "\n",
    "Довольно интересная ситуация с распределением 1 и 0 у таргета. Доля нолей более чем в два раза превышает долю единиц. Это может существенно повлиять на итоговые модели - если в тренировочной выборке будет слишком мало 1, то итоговая модель на тестовых будет плохо их предсказывать. Данный факт различия долей необходимо будет учесть при делении выборки. "
   ]
  },
  {
   "cell_type": "markdown",
   "id": "7d544a7a",
   "metadata": {},
   "source": [
    "Для упрощения дальнейшей работы разделим наши данные на два блока: целевую переменную и характеристики."
   ]
  },
  {
   "cell_type": "code",
   "execution_count": 7,
   "id": "486cc861",
   "metadata": {},
   "outputs": [],
   "source": [
    "X_numb = df.copy().drop('is_ultra', axis=1)\n",
    "y = df[['is_ultra']]"
   ]
  },
  {
   "cell_type": "markdown",
   "id": "7d145a1e",
   "metadata": {},
   "source": [
    "Также, поскольку нам предстоит осуществлять обучение моделей, разделим исходную выборку на несколько подгрупп. Для обучения моделей воспользуемся тренировочной выборкой, которая будет составлять 80% от исходных данных. На ней же будет осуществляться проверка аccuracy и выбор наилучшей модели. После этого итоговая модель будет проверяться на тренировочной выборке, которая составит 20 % от исходных данных.\n",
    "\n",
    "Дополнительно не забудем учесть тот факт, что доли 1 и 0 в исходной выборке не равны. Для того чтобы отношение долей сохранилось и в подгруппах с данными, передадим параметру stratify значения таргета."
   ]
  },
  {
   "cell_type": "code",
   "execution_count": 8,
   "id": "34ff82d9",
   "metadata": {},
   "outputs": [],
   "source": [
    "X_train, X_test, y_train, y_test = train_test_split(X_numb, y, \n",
    "                                                  test_size=0.2, \n",
    "                                                  stratify = y,\n",
    "                                                  shuffle = True,\n",
    "                                                  random_state=12345)"
   ]
  },
  {
   "cell_type": "markdown",
   "id": "5c59d677",
   "metadata": {},
   "source": [
    "Итак, мы закончили с предварительной работай над исходными данными: кратко изучили их, создали переменные с характеристиками и таргетом, а также разделили нашу выборку на три блока. Теперь можно переходить к непосредственному созданию модели классификации."
   ]
  },
  {
   "cell_type": "code",
   "execution_count": 9,
   "id": "3068197e",
   "metadata": {},
   "outputs": [
    {
     "name": "stdout",
     "output_type": "stream",
     "text": [
      "Размер тренировочной выборки: (2571, 4) (2571, 1)\n",
      "Размер тестовой выборки: (643, 4) (643, 1)\n"
     ]
    }
   ],
   "source": [
    "print('Размер тренировочной выборки:', X_train.shape, y_train.shape)\n",
    "print('Размер тестовой выборки:', X_test.shape, y_test.shape)"
   ]
  },
  {
   "cell_type": "markdown",
   "id": "1e7e443f",
   "metadata": {},
   "source": [
    "Как можно заметить, разбиение произошло успешно - количество наблюдений для характеристик и таргета совпадает для каждой из групп данных."
   ]
  },
  {
   "cell_type": "markdown",
   "id": "ed297407",
   "metadata": {},
   "source": [
    "## Моделирование"
   ]
  },
  {
   "cell_type": "markdown",
   "id": "6823e96c",
   "metadata": {},
   "source": [
    "Данный этап работы посвящен моделированию. В нем мы рассмотрим три модели классификации: логистическую регрессию, решающее дерево и случайный лес. Для каждой из моделей мы попытаемся подобрать такие параметры, благодаря которым будет достигаться наибольшее значение accuracy на валидационной выборке. "
   ]
  },
  {
   "cell_type": "markdown",
   "id": "0ece1964",
   "metadata": {},
   "source": [
    "### Логистическая регрессия"
   ]
  },
  {
   "cell_type": "markdown",
   "id": "2e9b59e3",
   "metadata": {},
   "source": [
    "Начнем с модели **логистической регрессии**. У данной модели мы рассмотрим два параметра: `solvers` и `penalty`. Первый параметр решает, какой решатель использовать для подбора модели. Второй параметр отвечает за наличие регуляризации, которая помогает снижать переобучение модели посредством наложения штрафов за большие коэффициенты. К сожалению, не каждый вид регуляризации подходит к различным видам решателей, что будет необходимо учесть при обучении модели логистической регрессии.\n",
    "\n",
    "Итак, обучим модель логистической регрессии, подбирая такие значения параметров `solvers` и `penalty`, чтобы accuracy было максимальным на валидационной выборке."
   ]
  },
  {
   "cell_type": "code",
   "execution_count": 10,
   "id": "7026440a",
   "metadata": {},
   "outputs": [],
   "source": [
    "logit = LogisticRegression(random_state=9)\n",
    "params_log = {\"penalty\":[\"l1\",\"l2\"], \"solver\":['newton-cg', 'lbfgs', 'liblinear', 'sag', 'saga']}\n",
    "cv_log = GridSearchCV(logit, param_grid=params_log,\n",
    "                      cv=5, scoring='accuracy')"
   ]
  },
  {
   "cell_type": "code",
   "execution_count": 11,
   "id": "6482e7cb",
   "metadata": {},
   "outputs": [
    {
     "data": {
      "text/plain": [
       "GridSearchCV(cv=5, estimator=LogisticRegression(random_state=9),\n",
       "             param_grid={'penalty': ['l1', 'l2'],\n",
       "                         'solver': ['newton-cg', 'lbfgs', 'liblinear', 'sag',\n",
       "                                    'saga']},\n",
       "             scoring='accuracy')"
      ]
     },
     "execution_count": 11,
     "metadata": {},
     "output_type": "execute_result"
    }
   ],
   "source": [
    "cv_log.fit(X_train, y_train)"
   ]
  },
  {
   "cell_type": "code",
   "execution_count": 12,
   "id": "e03eb846",
   "metadata": {},
   "outputs": [
    {
     "name": "stdout",
     "output_type": "stream",
     "text": [
      "Лучшая логистическая регерссия: LogisticRegression(random_state=9, solver='newton-cg')\n",
      "Accuracy: 0.7483510256507121\n"
     ]
    }
   ],
   "source": [
    "print('Лучшая логистическая регерссия:', cv_log.best_estimator_)\n",
    "print('Accuracy:', cv_log.best_score_)"
   ]
  },
  {
   "cell_type": "markdown",
   "id": "480d0f00",
   "metadata": {},
   "source": [
    "Итак, лучшая модель логистической регрессии имеет следующие параметры: solver='newton-cg' и penalty='l2'. К сожалению, достигаемый показатель accuracy на валидационной выборке не превышает минимальный порог в 0.75. Таким образом, данная модель нам не подходит, а значит мы не будем рассматривать ее в дальнейших пунктах."
   ]
  },
  {
   "cell_type": "markdown",
   "id": "6f7e2803",
   "metadata": {},
   "source": [
    "### Решающее дерево"
   ]
  },
  {
   "cell_type": "markdown",
   "id": "63dee8d9",
   "metadata": {},
   "source": [
    "Перейдем к следующей модели - решающее дерево. У данной модели мы рассмотрим следующие параметры: `max_depth` и `max_features`. Первый параметр отвечает за глубину дерева, второй характеризует максимальное число признаков, по которым ищется лучшее разбиение в дереве."
   ]
  },
  {
   "cell_type": "code",
   "execution_count": 13,
   "id": "c0c22966",
   "metadata": {},
   "outputs": [],
   "source": [
    "decision_tree = DecisionTreeClassifier(random_state=9)\n",
    "params_tree = {'max_depth': range (1, 4, 1), 'max_features': ['auto', 'sqrt', 'log2'],\n",
    "               'criterion' :['gini', 'entropy']}\n",
    "cv_tree = GridSearchCV(decision_tree, param_grid=params_tree,\n",
    "                      cv=5, scoring='accuracy')"
   ]
  },
  {
   "cell_type": "code",
   "execution_count": 14,
   "id": "3b4bcfd7",
   "metadata": {},
   "outputs": [
    {
     "data": {
      "text/plain": [
       "GridSearchCV(cv=5, estimator=DecisionTreeClassifier(random_state=9),\n",
       "             param_grid={'criterion': ['gini', 'entropy'],\n",
       "                         'max_depth': range(1, 4),\n",
       "                         'max_features': ['auto', 'sqrt', 'log2']},\n",
       "             scoring='accuracy')"
      ]
     },
     "execution_count": 14,
     "metadata": {},
     "output_type": "execute_result"
    }
   ],
   "source": [
    "cv_tree.fit(X_train, y_train)"
   ]
  },
  {
   "cell_type": "code",
   "execution_count": 15,
   "id": "ac51d256",
   "metadata": {},
   "outputs": [
    {
     "name": "stdout",
     "output_type": "stream",
     "text": [
      "Лучшее дерево решений: DecisionTreeClassifier(criterion='entropy', max_depth=3, max_features='auto',\n",
      "                       random_state=9)\n",
      "Accuracy: 0.7930860186619318\n"
     ]
    }
   ],
   "source": [
    "print('Лучшее дерево решений:', cv_tree.best_estimator_)\n",
    "print('Accuracy:', cv_tree.best_score_)"
   ]
  },
  {
   "cell_type": "code",
   "execution_count": 16,
   "id": "03744f82",
   "metadata": {},
   "outputs": [
    {
     "data": {
      "text/plain": [
       "DecisionTreeClassifier(criterion='entropy', max_depth=3, max_features='auto',\n",
       "                       random_state=9)"
      ]
     },
     "execution_count": 16,
     "metadata": {},
     "output_type": "execute_result"
    }
   ],
   "source": [
    "decision_tree = DecisionTreeClassifier(criterion='entropy', max_depth=3, max_features='auto',\n",
    "                       random_state=9)\n",
    "decision_tree.fit(X_train, y_train)"
   ]
  },
  {
   "cell_type": "code",
   "execution_count": 17,
   "id": "51663f2d",
   "metadata": {},
   "outputs": [
    {
     "data": {
      "image/png": "[encoded data removed]",
      "text/plain": [
       "<Figure size 1440x720 with 1 Axes>"
      ]
     },
     "metadata": {
      "needs_background": "light"
     },
     "output_type": "display_data"
    }
   ],
   "source": [
    "from sklearn import tree\n",
    "plt.figure(figsize=(20,10))\n",
    "tree.plot_tree(decision_tree)\n",
    "plt.show()"
   ]
  },
  {
   "cell_type": "markdown",
   "id": "fafef654",
   "metadata": {},
   "source": [
    "Лучшее дерево решений имеет следующие параметры: criterion='entropy', max_depth=3 и max_features='auto'. На валидационной выборке качество модели превышает минимальный порог, а значит данная модель может быть рассмотрена в качестве одной из исходных. Окончательный вывод о лучшей модели можно будет сделать после обучения последней из оставшихся моделей."
   ]
  },
  {
   "cell_type": "markdown",
   "id": "8fe6f3ce",
   "metadata": {},
   "source": [
    "### Случайный лес"
   ]
  },
  {
   "cell_type": "markdown",
   "id": "1c9a2029",
   "metadata": {},
   "source": [
    "Наконец, перейдем к последней модели - случайному лесу. У данной модели мы рассмотрим следующие параметры: `max_depth`, `max_features` и `n_estimators`. Первые два мы уже рассматривали при построении дерева решений, так что подробнее расскажем только о последнем. Он определяет общее число деревьев, которые построит наша модель."
   ]
  },
  {
   "cell_type": "code",
   "execution_count": 18,
   "id": "60a16ccb",
   "metadata": {},
   "outputs": [],
   "source": [
    "random_forest = RandomForestClassifier(random_state=9)\n",
    "# Задаем модель для обучения\n",
    "params_forest = {'max_depth': range (1, 4, 1), 'max_features': ['auto', 'sqrt', 'log2'],\n",
    "               'criterion' :['gini', 'entropy'], 'n_estimators': range(50, 100, 10)}\n",
    "# Указываем параметры для перебора\n",
    "cv_forest = GridSearchCV(random_forest, param_grid=params_forest,\n",
    "                      cv=5, scoring='accuracy')"
   ]
  },
  {
   "cell_type": "code",
   "execution_count": 19,
   "id": "81d9c93c",
   "metadata": {},
   "outputs": [
    {
     "data": {
      "text/plain": [
       "GridSearchCV(cv=5, estimator=RandomForestClassifier(random_state=9),\n",
       "             param_grid={'criterion': ['gini', 'entropy'],\n",
       "                         'max_depth': range(1, 4),\n",
       "                         'max_features': ['auto', 'sqrt', 'log2'],\n",
       "                         'n_estimators': range(50, 100, 10)},\n",
       "             scoring='accuracy')"
      ]
     },
     "execution_count": 19,
     "metadata": {},
     "output_type": "execute_result"
    }
   ],
   "source": [
    "cv_forest.fit(X_train, y_train)"
   ]
  },
  {
   "cell_type": "code",
   "execution_count": 20,
   "id": "c67d102e",
   "metadata": {
    "scrolled": true
   },
   "outputs": [
    {
     "name": "stdout",
     "output_type": "stream",
     "text": [
      "Лучший случайный лес: RandomForestClassifier(max_depth=3, n_estimators=70, random_state=9)\n",
      "Accuracy: 0.7954191379245211\n"
     ]
    }
   ],
   "source": [
    "print('Лучший случайный лес:', cv_forest.best_estimator_)\n",
    "print('Accuracy:', cv_forest.best_score_)"
   ]
  },
  {
   "cell_type": "markdown",
   "id": "a76091db",
   "metadata": {},
   "source": [
    "Лучшая модель случайного леса имеет следующие параметры: max_depth=3, n_estimators=70 и criterion=gini. Показатель качества данной модели также превышает пороговое значение. Более того, качество данной модели превосходит качество дерева решений, на основе чего мы принимаем модель случайного леса в качестве итоговой модели. "
   ]
  },
  {
   "cell_type": "markdown",
   "id": "f5fcb5ac",
   "metadata": {},
   "source": [
    "## Проверка качества"
   ]
  },
  {
   "cell_type": "markdown",
   "id": "54756e03",
   "metadata": {},
   "source": [
    "На данном этапе рассмотрим, как построенная нами модель, которую мы выбрали в качестве итоговой, справляется с предсказаниями на тестовых данных. Напомним, что по итогу предыдущего этапа работы итоговой моделью была выбрана модель случайного леса со следующими параметрами: max_depth=3, n_estimators=70 и criterion=gini"
   ]
  },
  {
   "cell_type": "code",
   "execution_count": 21,
   "id": "ee5ea603",
   "metadata": {},
   "outputs": [
    {
     "name": "stdout",
     "output_type": "stream",
     "text": [
      "Качество случайного леса на тестовой выборке 0.7993779160186625\n"
     ]
    }
   ],
   "source": [
    "print('Качество случайного леса на тестовой выборке', accuracy_score(y_test, cv_forest.predict(X_test)))"
   ]
  },
  {
   "cell_type": "markdown",
   "id": "9666fcb5",
   "metadata": {},
   "source": [
    "Модель случайного леса показала неплохое значение критерия качества. Как минимум, критерий качества не снизился по сравнению с аналогичным показателем для тренировочной выборки, но и даже немного возрос. Это позволяет сделать вывод о том, что наша модель сильно не переобучилась. "
   ]
  },
  {
   "cell_type": "markdown",
   "id": "83f5d36d",
   "metadata": {},
   "source": [
    "## Проверка на вменяемость"
   ]
  },
  {
   "cell_type": "markdown",
   "id": "c605700f",
   "metadata": {},
   "source": [
    "Дополнительно проведем проверку нашей итоговой модели на вменяемость. Для этого сравним ее значение качества с аналогичным показателем еще двух моделей: случайной и дамми. Качество случайной модели составляет 0.5, а значит наша итоговая модель как минимум лучше модели, выдающей предсказания случайно.\n",
    "\n",
    "Для сравнения нашей итоговой модели с дамми, построим вторую, предварительно подобрав ей лучшие параметры."
   ]
  },
  {
   "cell_type": "code",
   "execution_count": 22,
   "id": "acfd1b32",
   "metadata": {},
   "outputs": [
    {
     "name": "stdout",
     "output_type": "stream",
     "text": [
      "Качество дамми модели на тренировочной выборке 0.6935044729677169\n",
      "Качество дамми модели на тестовой выборке 0.6936236391912908\n"
     ]
    }
   ],
   "source": [
    "best_dummy_model = None\n",
    "best_dummy_result = 0\n",
    "dummy_clf = DummyClassifier(strategy='most_frequent')\n",
    "dummy_clf = dummy_clf.fit(X_train, y_train)\n",
    "print('Качество дамми модели на тренировочной выборке', dummy_clf.score(X_train, y_train))\n",
    "print('Качество дамми модели на тестовой выборке', dummy_clf.score(X_test, y_test))"
   ]
  },
  {
   "cell_type": "markdown",
   "id": "05c5059d",
   "metadata": {},
   "source": [
    "Как можно заметить, качество дамми модели также меньше аналогичных показателей у итоговой модели. Таким образом, мы можем с уверенностью назвать выбранную нами итоговую модель вменяемой. "
   ]
  },
  {
   "cell_type": "markdown",
   "id": "598238f4",
   "metadata": {},
   "source": [
    "## Заключение"
   ]
  },
  {
   "cell_type": "markdown",
   "id": "dffa3593",
   "metadata": {},
   "source": [
    "Нами была проделана работа по созданию модели, которая будет осуществлять подбор наиболее оптимального для пользователя тарифа. Всего нами было рассмотрено три модели: логистическая регрессия, решающее дерево и случайный лес. Для каждой из них мы попытались подобрать наиболее оптимальные параметры, которые бы позволили достичь наибольшее значение accuracy на валидационной выборке. По итогу этапа моделирования только две модели смогли преодолеть минимальный порог по качеству: случайный лес и решающее дерево. Модель логистической регрессии не смогла преодолеть порог показателя accuracy в 0.75 на валидационной выборке.\n",
    "\n",
    "В качестве итоговой была выбрана модель случайного леса со следующими параметрами: max_depth=3, n_estimators=70 и criterion=gini. Именно данная модель показала лучший результат на тренировочной выборке. \n",
    "\n",
    "После этого мы проверили качество нашей итоговой модели на тестовой выборке. Качество нашей итоговой модели еще не идеальное, однако нам удалось получить модель без серьезного переобучения - качество на тесте не упало по сравнению с тренировочным качеством. \n",
    "\n",
    "Также дополнительно мы провели проверку нашей итоговой модели на вменяемойсть. Качество итоговой модели оказалось выше качества случайной и дамми моделей, что позволило нам следать вывод о том, что выбраная нами модель является вменяемой. "
   ]
  }
 ],
 "metadata": {
  "ExecuteTimeLog": [
   {
    "duration": 2068,
    "start_time": "2022-05-25T17:19:00.348Z"
   },
   {
    "duration": 255,
    "start_time": "2022-05-25T17:19:02.418Z"
   },
   {
    "duration": 14,
    "start_time": "2022-05-25T17:19:02.675Z"
   },
   {
    "duration": 20,
    "start_time": "2022-05-25T17:19:02.691Z"
   },
   {
    "duration": 97,
    "start_time": "2022-05-25T17:19:02.713Z"
   },
   {
    "duration": 4,
    "start_time": "2022-05-25T17:19:02.812Z"
   },
   {
    "duration": 30,
    "start_time": "2022-05-25T17:19:02.817Z"
   },
   {
    "duration": 792,
    "start_time": "2022-05-25T17:19:02.849Z"
   },
   {
    "duration": 5,
    "start_time": "2022-05-25T17:19:03.642Z"
   },
   {
    "duration": 34,
    "start_time": "2022-05-25T17:19:03.649Z"
   },
   {
    "duration": 3,
    "start_time": "2022-05-25T17:19:03.685Z"
   },
   {
    "duration": 534,
    "start_time": "2022-05-25T17:19:03.690Z"
   },
   {
    "duration": 1508,
    "start_time": "2022-05-25T17:19:04.225Z"
   },
   {
    "duration": 5,
    "start_time": "2022-05-25T17:19:05.734Z"
   },
   {
    "duration": 7,
    "start_time": "2022-05-25T17:19:05.740Z"
   },
   {
    "duration": 21,
    "start_time": "2022-05-25T17:19:05.748Z"
   },
   {
    "duration": 9,
    "start_time": "2022-05-25T17:19:05.770Z"
   },
   {
    "duration": 5,
    "start_time": "2022-05-25T17:19:05.781Z"
   },
   {
    "duration": 1718,
    "start_time": "2022-06-05T17:45:30.083Z"
   },
   {
    "duration": 149,
    "start_time": "2022-06-05T17:45:32.865Z"
   },
   {
    "duration": 13,
    "start_time": "2022-06-05T17:45:33.659Z"
   },
   {
    "duration": 75,
    "start_time": "2022-06-05T17:45:49.779Z"
   },
   {
    "duration": 15,
    "start_time": "2022-06-05T17:45:54.391Z"
   },
   {
    "duration": 18,
    "start_time": "2022-06-05T17:45:55.188Z"
   },
   {
    "duration": 119,
    "start_time": "2022-06-05T17:45:56.149Z"
   },
   {
    "duration": 5,
    "start_time": "2022-06-05T17:45:58.814Z"
   },
   {
    "duration": 36,
    "start_time": "2022-06-05T17:46:00.023Z"
   },
   {
    "duration": 28,
    "start_time": "2022-06-05T17:46:02.105Z"
   },
   {
    "duration": 5,
    "start_time": "2022-06-05T17:46:17.244Z"
   },
   {
    "duration": 3,
    "start_time": "2022-06-05T17:58:38.957Z"
   },
   {
    "duration": 53,
    "start_time": "2022-06-05T17:59:25.081Z"
   },
   {
    "duration": 6,
    "start_time": "2022-06-05T17:59:28.891Z"
   },
   {
    "duration": 28,
    "start_time": "2022-06-05T17:59:31.043Z"
   },
   {
    "duration": 33,
    "start_time": "2022-06-05T17:59:42.346Z"
   },
   {
    "duration": 4,
    "start_time": "2022-06-05T18:05:44.695Z"
   },
   {
    "duration": 4,
    "start_time": "2022-06-05T18:06:06.394Z"
   },
   {
    "duration": 8,
    "start_time": "2022-06-05T18:06:06.771Z"
   },
   {
    "duration": 23,
    "start_time": "2022-06-05T18:06:11.883Z"
   },
   {
    "duration": 3,
    "start_time": "2022-06-05T18:06:50.044Z"
   },
   {
    "duration": 21,
    "start_time": "2022-06-05T18:06:50.422Z"
   },
   {
    "duration": 4,
    "start_time": "2022-06-05T18:07:03.847Z"
   },
   {
    "duration": 28,
    "start_time": "2022-06-05T18:07:04.583Z"
   },
   {
    "duration": 3,
    "start_time": "2022-06-05T18:07:13.249Z"
   },
   {
    "duration": 23,
    "start_time": "2022-06-05T18:07:13.727Z"
   },
   {
    "duration": 10,
    "start_time": "2022-06-05T18:08:18.896Z"
   },
   {
    "duration": 30,
    "start_time": "2022-06-05T18:08:19.221Z"
   },
   {
    "duration": 3,
    "start_time": "2022-06-05T18:09:18.559Z"
   },
   {
    "duration": 23,
    "start_time": "2022-06-05T18:09:19.104Z"
   },
   {
    "duration": 7,
    "start_time": "2022-06-05T18:11:20.850Z"
   },
   {
    "duration": 2769,
    "start_time": "2022-06-05T18:11:21.503Z"
   },
   {
    "duration": 10,
    "start_time": "2022-06-05T18:12:35.233Z"
   },
   {
    "duration": 24,
    "start_time": "2022-06-05T18:12:35.660Z"
   },
   {
    "duration": 5,
    "start_time": "2022-06-05T18:12:50.568Z"
   },
   {
    "duration": 1937,
    "start_time": "2022-06-05T18:12:53.616Z"
   },
   {
    "duration": 5,
    "start_time": "2022-06-05T18:19:56.574Z"
   },
   {
    "duration": 6,
    "start_time": "2022-06-05T18:20:06.465Z"
   },
   {
    "duration": 7,
    "start_time": "2022-06-05T18:20:28.459Z"
   },
   {
    "duration": 3,
    "start_time": "2022-06-05T18:25:54.085Z"
   },
   {
    "duration": 4,
    "start_time": "2022-06-05T18:26:22.850Z"
   },
   {
    "duration": 671,
    "start_time": "2022-06-05T18:26:23.147Z"
   },
   {
    "duration": 11,
    "start_time": "2022-06-05T18:26:55.620Z"
   },
   {
    "duration": 9,
    "start_time": "2022-06-05T18:26:59.478Z"
   },
   {
    "duration": 4,
    "start_time": "2022-06-05T18:27:15.815Z"
   },
   {
    "duration": 5,
    "start_time": "2022-06-05T18:27:40.414Z"
   },
   {
    "duration": 5,
    "start_time": "2022-06-05T18:28:31.254Z"
   },
   {
    "duration": 1433,
    "start_time": "2022-06-05T18:28:31.618Z"
   },
   {
    "duration": 4,
    "start_time": "2022-06-05T18:28:35.117Z"
   },
   {
    "duration": 5,
    "start_time": "2022-06-05T18:28:35.697Z"
   },
   {
    "duration": 3,
    "start_time": "2022-06-05T18:28:41.843Z"
   },
   {
    "duration": 543,
    "start_time": "2022-06-05T18:28:42.247Z"
   },
   {
    "duration": 4,
    "start_time": "2022-06-05T18:28:43.556Z"
   },
   {
    "duration": 4,
    "start_time": "2022-06-05T18:28:44.190Z"
   },
   {
    "duration": 19,
    "start_time": "2022-06-05T18:29:03.550Z"
   },
   {
    "duration": 136,
    "start_time": "2022-06-05T18:29:11.447Z"
   },
   {
    "duration": 10,
    "start_time": "2022-06-05T18:30:32.670Z"
   },
   {
    "duration": 18,
    "start_time": "2022-06-05T18:30:34.052Z"
   },
   {
    "duration": 138,
    "start_time": "2022-06-05T18:33:12.669Z"
   },
   {
    "duration": 3,
    "start_time": "2022-06-05T18:35:41.987Z"
   },
   {
    "duration": 4,
    "start_time": "2022-06-05T18:36:05.409Z"
   },
   {
    "duration": 193038,
    "start_time": "2022-06-05T18:36:05.652Z"
   },
   {
    "duration": 0,
    "start_time": "2022-06-05T18:39:18.693Z"
   },
   {
    "duration": 0,
    "start_time": "2022-06-05T18:39:18.694Z"
   },
   {
    "duration": 4,
    "start_time": "2022-06-05T18:39:24.467Z"
   },
   {
    "duration": 65593,
    "start_time": "2022-06-05T18:39:24.780Z"
   },
   {
    "duration": 4,
    "start_time": "2022-06-05T18:40:30.375Z"
   },
   {
    "duration": 14,
    "start_time": "2022-06-05T18:40:30.380Z"
   },
   {
    "duration": 19,
    "start_time": "2022-06-05T18:42:06.392Z"
   },
   {
    "duration": 6,
    "start_time": "2022-06-05T18:44:02.123Z"
   },
   {
    "duration": 31,
    "start_time": "2022-06-05T18:44:26.761Z"
   },
   {
    "duration": 16,
    "start_time": "2022-06-05T18:44:52.410Z"
   },
   {
    "duration": 1510,
    "start_time": "2022-06-06T08:26:24.644Z"
   },
   {
    "duration": 3,
    "start_time": "2022-06-06T08:26:26.156Z"
   },
   {
    "duration": 69,
    "start_time": "2022-06-06T08:26:34.763Z"
   },
   {
    "duration": 19,
    "start_time": "2022-06-06T08:26:35.687Z"
   },
   {
    "duration": 16,
    "start_time": "2022-06-06T08:26:36.346Z"
   },
   {
    "duration": 101,
    "start_time": "2022-06-06T08:26:37.073Z"
   },
   {
    "duration": 6,
    "start_time": "2022-06-06T08:26:39.695Z"
   },
   {
    "duration": 30,
    "start_time": "2022-06-06T08:26:44.840Z"
   },
   {
    "duration": 4,
    "start_time": "2022-06-06T08:26:50.127Z"
   },
   {
    "duration": 74,
    "start_time": "2022-06-06T14:12:06.244Z"
   },
   {
    "duration": 1088,
    "start_time": "2022-06-06T14:12:24.726Z"
   },
   {
    "duration": 1422,
    "start_time": "2022-06-06T14:12:41.602Z"
   },
   {
    "duration": 3,
    "start_time": "2022-06-06T14:12:43.026Z"
   },
   {
    "duration": 47,
    "start_time": "2022-06-06T14:12:43.031Z"
   },
   {
    "duration": 12,
    "start_time": "2022-06-06T14:12:43.080Z"
   },
   {
    "duration": 18,
    "start_time": "2022-06-06T14:12:43.094Z"
   },
   {
    "duration": 103,
    "start_time": "2022-06-06T14:12:43.114Z"
   },
   {
    "duration": 20,
    "start_time": "2022-06-06T14:12:43.219Z"
   },
   {
    "duration": 27,
    "start_time": "2022-06-06T14:12:43.244Z"
   },
   {
    "duration": 7,
    "start_time": "2022-06-06T14:12:43.273Z"
   },
   {
    "duration": 7,
    "start_time": "2022-06-06T14:12:43.283Z"
   },
   {
    "duration": 7660,
    "start_time": "2022-06-06T14:12:43.292Z"
   },
   {
    "duration": 92,
    "start_time": "2022-06-06T14:12:50.955Z"
   },
   {
    "duration": 74,
    "start_time": "2022-06-06T14:12:51.057Z"
   },
   {
    "duration": 582,
    "start_time": "2022-06-06T14:12:51.133Z"
   },
   {
    "duration": 18,
    "start_time": "2022-06-06T14:12:51.717Z"
   },
   {
    "duration": 24,
    "start_time": "2022-06-06T14:12:51.736Z"
   },
   {
    "duration": 572,
    "start_time": "2022-06-06T14:12:51.761Z"
   },
   {
    "duration": 518,
    "start_time": "2022-06-06T14:12:52.335Z"
   },
   {
    "duration": 0,
    "start_time": "2022-06-06T14:12:52.855Z"
   },
   {
    "duration": 0,
    "start_time": "2022-06-06T14:12:52.856Z"
   },
   {
    "duration": 0,
    "start_time": "2022-06-06T14:12:52.857Z"
   },
   {
    "duration": 0,
    "start_time": "2022-06-06T14:12:52.858Z"
   },
   {
    "duration": 0,
    "start_time": "2022-06-06T14:12:52.859Z"
   },
   {
    "duration": 377,
    "start_time": "2022-06-06T14:13:37.317Z"
   },
   {
    "duration": 362,
    "start_time": "2022-06-06T14:14:01.247Z"
   },
   {
    "duration": 422,
    "start_time": "2022-06-06T14:14:13.067Z"
   },
   {
    "duration": 857,
    "start_time": "2022-06-06T14:14:29.701Z"
   },
   {
    "duration": 635,
    "start_time": "2022-06-06T14:14:53.389Z"
   },
   {
    "duration": 484,
    "start_time": "2022-06-06T14:15:09.253Z"
   },
   {
    "duration": 670,
    "start_time": "2022-06-06T14:15:12.587Z"
   },
   {
    "duration": 49,
    "start_time": "2022-06-06T14:15:47.547Z"
   },
   {
    "duration": 4185,
    "start_time": "2022-06-06T14:20:56.475Z"
   },
   {
    "duration": 3,
    "start_time": "2022-06-06T14:21:00.663Z"
   },
   {
    "duration": 82,
    "start_time": "2022-06-06T14:21:00.668Z"
   },
   {
    "duration": 17,
    "start_time": "2022-06-06T14:21:00.754Z"
   },
   {
    "duration": 27,
    "start_time": "2022-06-06T14:21:00.774Z"
   },
   {
    "duration": 188,
    "start_time": "2022-06-06T14:21:00.803Z"
   },
   {
    "duration": 7,
    "start_time": "2022-06-06T14:21:00.994Z"
   },
   {
    "duration": 88,
    "start_time": "2022-06-06T14:21:01.007Z"
   },
   {
    "duration": 30,
    "start_time": "2022-06-06T14:21:01.098Z"
   },
   {
    "duration": 31,
    "start_time": "2022-06-06T14:21:01.132Z"
   },
   {
    "duration": 7973,
    "start_time": "2022-06-06T14:21:01.166Z"
   },
   {
    "duration": 10,
    "start_time": "2022-06-06T14:21:09.145Z"
   },
   {
    "duration": 111,
    "start_time": "2022-06-06T14:21:09.159Z"
   },
   {
    "duration": 647,
    "start_time": "2022-06-06T14:21:09.272Z"
   },
   {
    "duration": 11,
    "start_time": "2022-06-06T14:21:09.921Z"
   },
   {
    "duration": 45,
    "start_time": "2022-06-06T14:21:09.933Z"
   },
   {
    "duration": 607,
    "start_time": "2022-06-06T14:21:09.980Z"
   },
   {
    "duration": 717,
    "start_time": "2022-06-06T14:21:10.589Z"
   },
   {
    "duration": 3,
    "start_time": "2022-06-06T14:21:11.309Z"
   },
   {
    "duration": 73540,
    "start_time": "2022-06-06T14:21:11.314Z"
   },
   {
    "duration": 9,
    "start_time": "2022-06-06T14:22:24.855Z"
   },
   {
    "duration": 38,
    "start_time": "2022-06-06T14:22:24.867Z"
   },
   {
    "duration": 12,
    "start_time": "2022-06-06T14:22:24.907Z"
   }
  ],
  "kernelspec": {
   "display_name": "Python 3 (ipykernel)",
   "language": "python",
   "name": "python3"
  },
  "language_info": {
   "codemirror_mode": {
    "name": "ipython",
    "version": 3
   },
   "file_extension": ".py",
   "mimetype": "text/x-python",
   "name": "python",
   "nbconvert_exporter": "python",
   "pygments_lexer": "ipython3",
   "version": "3.9.7"
  },
  "toc": {
   "base_numbering": 1,
   "nav_menu": {},
   "number_sections": true,
   "sideBar": true,
   "skip_h1_title": true,
   "title_cell": "Table of Contents",
   "title_sidebar": "Contents",
   "toc_cell": true,
   "toc_position": {},
   "toc_section_display": true,
   "toc_window_display": false
  }
 },
 "nbformat": 4,
 "nbformat_minor": 5
}
