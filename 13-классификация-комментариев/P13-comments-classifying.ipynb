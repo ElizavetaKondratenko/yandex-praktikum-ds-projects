{
 "cells": [
  {
   "cell_type": "markdown",
   "id": "38f86013",
   "metadata": {
    "toc": true
   },
   "source": [
    "<h1>Table of Contents<span class=\"tocSkip\"></span></h1>\n",
    "<div class=\"toc\"><ul class=\"toc-item\"><li><span><a href=\"#Описание-проекта\" data-toc-modified-id=\"Описание-проекта-1\"><span class=\"toc-item-num\">1&nbsp;&nbsp;</span>Описание проекта</a></span></li><li><span><a href=\"#Описание-и-предобработка-данных\" data-toc-modified-id=\"Описание-и-предобработка-данных-2\"><span class=\"toc-item-num\">2&nbsp;&nbsp;</span>Описание и предобработка данных</a></span><ul class=\"toc-item\"><li><span><a href=\"#Загрузка-и-первичный-анализ-данных\" data-toc-modified-id=\"Загрузка-и-первичный-анализ-данных-2.1\"><span class=\"toc-item-num\">2.1&nbsp;&nbsp;</span>Загрузка и первичный анализ данных</a></span></li><li><span><a href=\"#Лемматизация-текстов\" data-toc-modified-id=\"Лемматизация-текстов-2.2\"><span class=\"toc-item-num\">2.2&nbsp;&nbsp;</span>Лемматизация текстов</a></span></li><li><span><a href=\"#Отчистка-текста\" data-toc-modified-id=\"Отчистка-текста-2.3\"><span class=\"toc-item-num\">2.3&nbsp;&nbsp;</span>Отчистка текста</a></span></li><li><span><a href=\"#Деление-данных-на-трейн-и-тест\" data-toc-modified-id=\"Деление-данных-на-трейн-и-тест-2.4\"><span class=\"toc-item-num\">2.4&nbsp;&nbsp;</span>Деление данных на трейн и тест</a></span></li></ul></li><li><span><a href=\"#Построение-моделей\" data-toc-modified-id=\"Построение-моделей-3\"><span class=\"toc-item-num\">3&nbsp;&nbsp;</span>Построение моделей</a></span><ul class=\"toc-item\"><li><span><a href=\"#Логистическая-регрессия\" data-toc-modified-id=\"Логистическая-регрессия-3.1\"><span class=\"toc-item-num\">3.1&nbsp;&nbsp;</span>Логистическая регрессия</a></span></li><li><span><a href=\"#Случайный-лес\" data-toc-modified-id=\"Случайный-лес-3.2\"><span class=\"toc-item-num\">3.2&nbsp;&nbsp;</span>Случайный лес</a></span></li><li><span><a href=\"#CatBoost-классификация\" data-toc-modified-id=\"CatBoost-классификация-3.3\"><span class=\"toc-item-num\">3.3&nbsp;&nbsp;</span>CatBoost классификация</a></span></li></ul></li><li><span><a href=\"#Итоговые-выводы\" data-toc-modified-id=\"Итоговые-выводы-4\"><span class=\"toc-item-num\">4&nbsp;&nbsp;</span>Итоговые выводы</a></span></li></ul></div>"
   ]
  },
  {
   "cell_type": "code",
   "execution_count": 1,
   "id": "0bf689e6",
   "metadata": {},
   "outputs": [
    {
     "name": "stderr",
     "output_type": "stream",
     "text": [
      "[nltk_data] Downloading package wordnet to\n",
      "[nltk_data]     C:\\Users\\Elizaveta\\AppData\\Roaming\\nltk_data...\n",
      "[nltk_data]   Package wordnet is already up-to-date!\n",
      "[nltk_data] Downloading package averaged_perceptron_tagger to\n",
      "[nltk_data]     C:\\Users\\Elizaveta\\AppData\\Roaming\\nltk_data...\n",
      "[nltk_data]   Package averaged_perceptron_tagger is already up-to-\n",
      "[nltk_data]       date!\n",
      "[nltk_data] Downloading package punkt to\n",
      "[nltk_data]     C:\\Users\\Elizaveta\\AppData\\Roaming\\nltk_data...\n",
      "[nltk_data]   Package punkt is already up-to-date!\n"
     ]
    }
   ],
   "source": [
    "import pandas as pd\n",
    "import numpy as np\n",
    "import seaborn as sns\n",
    "\n",
    "import re\n",
    "\n",
    "import nltk\n",
    "nltk.download('wordnet')\n",
    "from nltk.stem import WordNetLemmatizer\n",
    "nltk.download('averaged_perceptron_tagger')\n",
    "nltk.download('punkt')\n",
    "from nltk.corpus import wordnet\n",
    "\n",
    "from nltk.corpus import stopwords\n",
    "\n",
    "from sklearn.feature_extraction.text import TfidfVectorizer\n",
    "from sklearn.model_selection import train_test_split\n",
    "\n",
    "from sklearn.metrics import f1_score\n",
    "\n",
    "from sklearn.model_selection import RandomizedSearchCV\n",
    "from sklearn.ensemble import RandomForestClassifier\n",
    "from sklearn.linear_model import LogisticRegression\n",
    "from catboost import CatBoostClassifier\n",
    "from sklearn.neighbors import KNeighborsClassifier"
   ]
  },
  {
   "cell_type": "code",
   "execution_count": 2,
   "id": "95399e9a",
   "metadata": {},
   "outputs": [],
   "source": [
    "from sklearn.pipeline import Pipeline"
   ]
  },
  {
   "cell_type": "code",
   "execution_count": 3,
   "id": "1cbe79d7",
   "metadata": {},
   "outputs": [],
   "source": [
    "import warnings\n",
    "warnings.filterwarnings('ignore')"
   ]
  },
  {
   "cell_type": "markdown",
   "id": "6c1a7544",
   "metadata": {},
   "source": [
    "# Проект для «Викишоп»"
   ]
  },
  {
   "cell_type": "markdown",
   "id": "62e80fa7",
   "metadata": {},
   "source": [
    "## Описание проекта"
   ]
  },
  {
   "cell_type": "markdown",
   "id": "918ca637",
   "metadata": {},
   "source": [
    "**Заказчик** - интернет-магазин «Викишоп», который планирует запустить новый сервис. Благодаря данному сервису пользователи смогут редактировать и дополнять описания товаров подобно тому, как это делается в вики-сообществах. То есть клиенты предлагают свои правки и комментируют изменения других. Магазину нужен инструмент, который будет искать токсичные комментарии и отправлять их на модерацию - модель, которая будет классифицировать комментарии на позитивные и негативные. При этом нужно достичь значение метрики качества F1 не меньше 0.75.\n",
    "\n",
    "**Исходные данные** - набор данных с разметкой о токсичности правок."
   ]
  },
  {
   "cell_type": "markdown",
   "id": "ae2eee96",
   "metadata": {},
   "source": [
    "## Описание и предобработка данных"
   ]
  },
  {
   "cell_type": "markdown",
   "id": "3bbfbb3c",
   "metadata": {},
   "source": [
    "### Загрузка и первичный анализ данных"
   ]
  },
  {
   "cell_type": "markdown",
   "id": "07112534",
   "metadata": {},
   "source": [
    "Начнем работу с загрузки данных."
   ]
  },
  {
   "cell_type": "code",
   "execution_count": 4,
   "id": "2bda6aad",
   "metadata": {},
   "outputs": [],
   "source": [
    "try:\n",
    "    data = pd.read_csv('/datasets/toxic_comments.csv', on_bad_lines='skip')\n",
    "except:\n",
    "    data = pd.read_csv('toxic_comments.csv', on_bad_lines='skip')"
   ]
  },
  {
   "cell_type": "markdown",
   "id": "548b3179",
   "metadata": {},
   "source": [
    "Также перед началом работы выведем основную информацию об исходных данных."
   ]
  },
  {
   "cell_type": "code",
   "execution_count": 5,
   "id": "9c495f10",
   "metadata": {},
   "outputs": [
    {
     "name": "stdout",
     "output_type": "stream",
     "text": [
      "<class 'pandas.core.frame.DataFrame'>\n",
      "RangeIndex: 159292 entries, 0 to 159291\n",
      "Data columns (total 3 columns):\n",
      " #   Column      Non-Null Count   Dtype \n",
      "---  ------      --------------   ----- \n",
      " 0   Unnamed: 0  159292 non-null  int64 \n",
      " 1   text        159292 non-null  object\n",
      " 2   toxic       159292 non-null  int64 \n",
      "dtypes: int64(2), object(1)\n",
      "memory usage: 3.6+ MB\n"
     ]
    },
    {
     "data": {
      "text/html": [
       "<div>\n",
       "<style scoped>\n",
       "    .dataframe tbody tr th:only-of-type {\n",
       "        vertical-align: middle;\n",
       "    }\n",
       "\n",
       "    .dataframe tbody tr th {\n",
       "        vertical-align: top;\n",
       "    }\n",
       "\n",
       "    .dataframe thead th {\n",
       "        text-align: right;\n",
       "    }\n",
       "</style>\n",
       "<table border=\"1\" class=\"dataframe\">\n",
       "  <thead>\n",
       "    <tr style=\"text-align: right;\">\n",
       "      <th></th>\n",
       "      <th>Unnamed: 0</th>\n",
       "      <th>text</th>\n",
       "      <th>toxic</th>\n",
       "    </tr>\n",
       "  </thead>\n",
       "  <tbody>\n",
       "    <tr>\n",
       "      <th>0</th>\n",
       "      <td>0</td>\n",
       "      <td>Explanation\\nWhy the edits made under my usern...</td>\n",
       "      <td>0</td>\n",
       "    </tr>\n",
       "    <tr>\n",
       "      <th>1</th>\n",
       "      <td>1</td>\n",
       "      <td>D'aww! He matches this background colour I'm s...</td>\n",
       "      <td>0</td>\n",
       "    </tr>\n",
       "    <tr>\n",
       "      <th>2</th>\n",
       "      <td>2</td>\n",
       "      <td>Hey man, I'm really not trying to edit war. It...</td>\n",
       "      <td>0</td>\n",
       "    </tr>\n",
       "    <tr>\n",
       "      <th>3</th>\n",
       "      <td>3</td>\n",
       "      <td>\"\\nMore\\nI can't make any real suggestions on ...</td>\n",
       "      <td>0</td>\n",
       "    </tr>\n",
       "    <tr>\n",
       "      <th>4</th>\n",
       "      <td>4</td>\n",
       "      <td>You, sir, are my hero. Any chance you remember...</td>\n",
       "      <td>0</td>\n",
       "    </tr>\n",
       "  </tbody>\n",
       "</table>\n",
       "</div>"
      ],
      "text/plain": [
       "   Unnamed: 0                                               text  toxic\n",
       "0           0  Explanation\\nWhy the edits made under my usern...      0\n",
       "1           1  D'aww! He matches this background colour I'm s...      0\n",
       "2           2  Hey man, I'm really not trying to edit war. It...      0\n",
       "3           3  \"\\nMore\\nI can't make any real suggestions on ...      0\n",
       "4           4  You, sir, are my hero. Any chance you remember...      0"
      ]
     },
     "execution_count": 5,
     "metadata": {},
     "output_type": "execute_result"
    }
   ],
   "source": [
    "data.info()\n",
    "data.head()"
   ]
  },
  {
   "cell_type": "markdown",
   "id": "3473981a",
   "metadata": {},
   "source": [
    "Исходный набор данных состоит из почти 160 тыс. наблюдений. Информативных столбца два: сам текст описания или правки, а также пометка о том, был ли отнесен данных текст к категории \"токсичный\" или нет. Пропусков в данных не обнаружено, тип переменных соответствует их смыслу.\n",
    "\n",
    "Дополнительно рассмотрим переменную 'toxic' на распределение классов."
   ]
  },
  {
   "cell_type": "code",
   "execution_count": 6,
   "id": "5e1bc4f8",
   "metadata": {},
   "outputs": [
    {
     "data": {
      "text/plain": [
       "<AxesSubplot:xlabel='toxic', ylabel='count'>"
      ]
     },
     "execution_count": 6,
     "metadata": {},
     "output_type": "execute_result"
    },
    {
     "data": {
      "image/png": "[encoded data removed]",
      "text/plain": [
       "<Figure size 432x288 with 1 Axes>"
      ]
     },
     "metadata": {
      "needs_background": "light"
     },
     "output_type": "display_data"
    }
   ],
   "source": [
    "sns.countplot(x = 'toxic', data = data)"
   ]
  },
  {
   "cell_type": "markdown",
   "id": "c06487b0",
   "metadata": {},
   "source": [
    "Как можно заметить превалирует нулевой класс, т.е. те комментарии, которые не были отмечены как токсичные. Это будет необходимо учесть при разбиении на подвыборки и в процессе обучения моделей. "
   ]
  },
  {
   "cell_type": "markdown",
   "id": "087df478",
   "metadata": {},
   "source": [
    "### Лемматизация текстов"
   ]
  },
  {
   "cell_type": "markdown",
   "id": "bf0a264e",
   "metadata": {},
   "source": [
    "Начнем предобработку текстов. Для начала проведем лемматизацию. Поскольку используемый нами лемматайзер наиболее эффективно обрабатывает слова, зная их часть речи, дополнительно создадим функцию, которая присвоит каждому слову в тексте соответствующую ему часть речи."
   ]
  },
  {
   "cell_type": "code",
   "execution_count": 7,
   "id": "111916f9",
   "metadata": {},
   "outputs": [],
   "source": [
    "lemmatizer = WordNetLemmatizer()"
   ]
  },
  {
   "cell_type": "code",
   "execution_count": 8,
   "id": "6b9afb4d",
   "metadata": {},
   "outputs": [],
   "source": [
    "def pos_tagger(nltk_tag):\n",
    "    if nltk_tag.startswith('J'):\n",
    "        return wordnet.ADJ\n",
    "    elif nltk_tag.startswith('V'):\n",
    "        return wordnet.VERB\n",
    "    elif nltk_tag.startswith('N'):\n",
    "        return wordnet.NOUN\n",
    "    elif nltk_tag.startswith('R'):\n",
    "        return wordnet.ADV\n",
    "    else:         \n",
    "        return None"
   ]
  },
  {
   "cell_type": "markdown",
   "id": "a4f60888",
   "metadata": {},
   "source": [
    "Также создадим функцию, которая будет проводить процедуру лемматизации для всех наблюдений. На вход она получает строку, после чего делит текст пословно и определяет часть речи каждого слова. После этого, зная слово и его часть речи, лемматайзер будет приводить слово к исходной форме. По итогу функция возвращает строку, в которой все слова приведены к исходной форме."
   ]
  },
  {
   "cell_type": "code",
   "execution_count": 9,
   "id": "7af96ba2",
   "metadata": {},
   "outputs": [],
   "source": [
    "def lemms_creating(row):\n",
    "    pos_tagged = nltk.pos_tag(nltk.word_tokenize(row['text'])) \n",
    "    wordnet_tagged = list(map(lambda x: (x[0], pos_tagger(x[1])), pos_tagged))\n",
    "    \n",
    "    lemmatized_sentence = []\n",
    "    for word, tag in wordnet_tagged:\n",
    "        if tag is None:\n",
    "            # if there is no available tag, append the token as is\n",
    "            lemmatized_sentence.append(word)\n",
    "        else:       \n",
    "            # else use the tag to lemmatize the token\n",
    "            lemmatized_sentence.append(lemmatizer.lemmatize(word, tag))\n",
    "        \n",
    "    lemmatized_sentence = \" \".join(lemmatized_sentence)\n",
    "    return lemmatized_sentence"
   ]
  },
  {
   "cell_type": "markdown",
   "id": "a5df85a9",
   "metadata": {},
   "source": [
    "Применим получившиеся функции к данным и выведем полученный результат."
   ]
  },
  {
   "cell_type": "code",
   "execution_count": 10,
   "id": "4350e57a",
   "metadata": {},
   "outputs": [],
   "source": [
    "data['text']= data.apply(lemms_creating, axis=1)"
   ]
  },
  {
   "cell_type": "code",
   "execution_count": 11,
   "id": "69b275dc",
   "metadata": {},
   "outputs": [
    {
     "data": {
      "text/html": [
       "<div>\n",
       "<style scoped>\n",
       "    .dataframe tbody tr th:only-of-type {\n",
       "        vertical-align: middle;\n",
       "    }\n",
       "\n",
       "    .dataframe tbody tr th {\n",
       "        vertical-align: top;\n",
       "    }\n",
       "\n",
       "    .dataframe thead th {\n",
       "        text-align: right;\n",
       "    }\n",
       "</style>\n",
       "<table border=\"1\" class=\"dataframe\">\n",
       "  <thead>\n",
       "    <tr style=\"text-align: right;\">\n",
       "      <th></th>\n",
       "      <th>Unnamed: 0</th>\n",
       "      <th>text</th>\n",
       "      <th>toxic</th>\n",
       "    </tr>\n",
       "  </thead>\n",
       "  <tbody>\n",
       "    <tr>\n",
       "      <th>0</th>\n",
       "      <td>0</td>\n",
       "      <td>Explanation Why the edits make under my userna...</td>\n",
       "      <td>0</td>\n",
       "    </tr>\n",
       "    <tr>\n",
       "      <th>1</th>\n",
       "      <td>1</td>\n",
       "      <td>D'aww ! He match this background colour I 'm s...</td>\n",
       "      <td>0</td>\n",
       "    </tr>\n",
       "    <tr>\n",
       "      <th>2</th>\n",
       "      <td>2</td>\n",
       "      <td>Hey man , I 'm really not try to edit war . It...</td>\n",
       "      <td>0</td>\n",
       "    </tr>\n",
       "    <tr>\n",
       "      <th>3</th>\n",
       "      <td>3</td>\n",
       "      <td>`` More I ca n't make any real suggestion on i...</td>\n",
       "      <td>0</td>\n",
       "    </tr>\n",
       "    <tr>\n",
       "      <th>4</th>\n",
       "      <td>4</td>\n",
       "      <td>You , sir , be my hero . Any chance you rememb...</td>\n",
       "      <td>0</td>\n",
       "    </tr>\n",
       "  </tbody>\n",
       "</table>\n",
       "</div>"
      ],
      "text/plain": [
       "   Unnamed: 0                                               text  toxic\n",
       "0           0  Explanation Why the edits make under my userna...      0\n",
       "1           1  D'aww ! He match this background colour I 'm s...      0\n",
       "2           2  Hey man , I 'm really not try to edit war . It...      0\n",
       "3           3  `` More I ca n't make any real suggestion on i...      0\n",
       "4           4  You , sir , be my hero . Any chance you rememb...      0"
      ]
     },
     "execution_count": 11,
     "metadata": {},
     "output_type": "execute_result"
    }
   ],
   "source": [
    "data.head()"
   ]
  },
  {
   "cell_type": "markdown",
   "id": "c00c0e43",
   "metadata": {},
   "source": [
    "Как можно заметить, преобразование в большинстве своем прошло успешно - не были обработан только слова с ошибками  и опечатки."
   ]
  },
  {
   "cell_type": "markdown",
   "id": "ccb65f05",
   "metadata": {},
   "source": [
    "### Отчистка текста"
   ]
  },
  {
   "cell_type": "markdown",
   "id": "dbd64ded",
   "metadata": {},
   "source": [
    "Теперь проведем чистку текста от ненужных символов, т.е. оставим только буквы и пробелы."
   ]
  },
  {
   "cell_type": "code",
   "execution_count": 12,
   "id": "e8bc73aa",
   "metadata": {},
   "outputs": [],
   "source": [
    "def clear_text(row):\n",
    "    text_new = re.sub(r'[^a-zA-Z ]', ' ', row['text'])\n",
    "    text_new = text_new.split()\n",
    "    text_new = \" \".join(text_new)\n",
    "    return text_new"
   ]
  },
  {
   "cell_type": "code",
   "execution_count": 13,
   "id": "0ac46109",
   "metadata": {},
   "outputs": [],
   "source": [
    "data['text'] = data.apply(clear_text, axis=1)"
   ]
  },
  {
   "cell_type": "code",
   "execution_count": 14,
   "id": "052e791f",
   "metadata": {},
   "outputs": [
    {
     "data": {
      "text/html": [
       "<div>\n",
       "<style scoped>\n",
       "    .dataframe tbody tr th:only-of-type {\n",
       "        vertical-align: middle;\n",
       "    }\n",
       "\n",
       "    .dataframe tbody tr th {\n",
       "        vertical-align: top;\n",
       "    }\n",
       "\n",
       "    .dataframe thead th {\n",
       "        text-align: right;\n",
       "    }\n",
       "</style>\n",
       "<table border=\"1\" class=\"dataframe\">\n",
       "  <thead>\n",
       "    <tr style=\"text-align: right;\">\n",
       "      <th></th>\n",
       "      <th>Unnamed: 0</th>\n",
       "      <th>text</th>\n",
       "      <th>toxic</th>\n",
       "    </tr>\n",
       "  </thead>\n",
       "  <tbody>\n",
       "    <tr>\n",
       "      <th>0</th>\n",
       "      <td>0</td>\n",
       "      <td>Explanation Why the edits make under my userna...</td>\n",
       "      <td>0</td>\n",
       "    </tr>\n",
       "    <tr>\n",
       "      <th>1</th>\n",
       "      <td>1</td>\n",
       "      <td>D aww He match this background colour I m seem...</td>\n",
       "      <td>0</td>\n",
       "    </tr>\n",
       "    <tr>\n",
       "      <th>2</th>\n",
       "      <td>2</td>\n",
       "      <td>Hey man I m really not try to edit war It s ju...</td>\n",
       "      <td>0</td>\n",
       "    </tr>\n",
       "    <tr>\n",
       "      <th>3</th>\n",
       "      <td>3</td>\n",
       "      <td>More I ca n t make any real suggestion on impr...</td>\n",
       "      <td>0</td>\n",
       "    </tr>\n",
       "    <tr>\n",
       "      <th>4</th>\n",
       "      <td>4</td>\n",
       "      <td>You sir be my hero Any chance you remember wha...</td>\n",
       "      <td>0</td>\n",
       "    </tr>\n",
       "  </tbody>\n",
       "</table>\n",
       "</div>"
      ],
      "text/plain": [
       "   Unnamed: 0                                               text  toxic\n",
       "0           0  Explanation Why the edits make under my userna...      0\n",
       "1           1  D aww He match this background colour I m seem...      0\n",
       "2           2  Hey man I m really not try to edit war It s ju...      0\n",
       "3           3  More I ca n t make any real suggestion on impr...      0\n",
       "4           4  You sir be my hero Any chance you remember wha...      0"
      ]
     },
     "execution_count": 14,
     "metadata": {},
     "output_type": "execute_result"
    }
   ],
   "source": [
    "data.head()"
   ]
  },
  {
   "cell_type": "markdown",
   "id": "433b51cb",
   "metadata": {},
   "source": [
    "Чистка текста также прошла успешно - ненужные и неинформативные символы были удалены."
   ]
  },
  {
   "cell_type": "markdown",
   "id": "c27255fb",
   "metadata": {},
   "source": [
    "### Деление данных на трейн и тест"
   ]
  },
  {
   "cell_type": "markdown",
   "id": "a27ef493",
   "metadata": {},
   "source": [
    "На текущий момент предобработка закончена. Теперь поделим наши обработанные данные на тренировочные и тестовые."
   ]
  },
  {
   "cell_type": "code",
   "execution_count": 15,
   "id": "7a3250cb",
   "metadata": {},
   "outputs": [],
   "source": [
    "X = data[['text']].copy()\n",
    "y = data[['toxic']].copy()"
   ]
  },
  {
   "cell_type": "code",
   "execution_count": 16,
   "id": "c0317370",
   "metadata": {},
   "outputs": [],
   "source": [
    "X_train, X_test, y_train, y_test = train_test_split(X,y,\n",
    "                                                    test_size = 0.2,\n",
    "                                                    stratify = y,\n",
    "                                                    shuffle = True,\n",
    "                                                    random_state = 9)"
   ]
  },
  {
   "cell_type": "code",
   "execution_count": 17,
   "id": "4dc3f821",
   "metadata": {},
   "outputs": [
    {
     "data": {
      "text/html": [
       "<div>\n",
       "<style scoped>\n",
       "    .dataframe tbody tr th:only-of-type {\n",
       "        vertical-align: middle;\n",
       "    }\n",
       "\n",
       "    .dataframe tbody tr th {\n",
       "        vertical-align: top;\n",
       "    }\n",
       "\n",
       "    .dataframe thead th {\n",
       "        text-align: right;\n",
       "    }\n",
       "</style>\n",
       "<table border=\"1\" class=\"dataframe\">\n",
       "  <thead>\n",
       "    <tr style=\"text-align: right;\">\n",
       "      <th></th>\n",
       "      <th>text</th>\n",
       "    </tr>\n",
       "  </thead>\n",
       "  <tbody>\n",
       "    <tr>\n",
       "      <th>129813</th>\n",
       "      <td>From the lead onwards the page refers to chip ...</td>\n",
       "    </tr>\n",
       "    <tr>\n",
       "      <th>116545</th>\n",
       "      <td>The English language literature do talk a lot ...</td>\n",
       "    </tr>\n",
       "    <tr>\n",
       "      <th>90600</th>\n",
       "      <td>Being intimidate at the poll place get my clea...</td>\n",
       "    </tr>\n",
       "    <tr>\n",
       "      <th>84698</th>\n",
       "      <td>PICTURE YOUR MOTHER WITH HER WRINKLED UP ASS I...</td>\n",
       "    </tr>\n",
       "    <tr>\n",
       "      <th>101620</th>\n",
       "      <td>I ll be go back myself to look at the date est...</td>\n",
       "    </tr>\n",
       "  </tbody>\n",
       "</table>\n",
       "</div>"
      ],
      "text/plain": [
       "                                                     text\n",
       "129813  From the lead onwards the page refers to chip ...\n",
       "116545  The English language literature do talk a lot ...\n",
       "90600   Being intimidate at the poll place get my clea...\n",
       "84698   PICTURE YOUR MOTHER WITH HER WRINKLED UP ASS I...\n",
       "101620  I ll be go back myself to look at the date est..."
      ]
     },
     "execution_count": 17,
     "metadata": {},
     "output_type": "execute_result"
    }
   ],
   "source": [
    "X_train.head()"
   ]
  },
  {
   "cell_type": "markdown",
   "id": "1239712f",
   "metadata": {},
   "source": [
    "Мы изучили исходные данные, обработали текст: перевели все слова к исходным формам, а также почистили их от ненужных символов. Теперь мы можем приступить к этапу моделирования. "
   ]
  },
  {
   "cell_type": "markdown",
   "id": "8374418c",
   "metadata": {},
   "source": [
    "## Построение моделей"
   ]
  },
  {
   "cell_type": "markdown",
   "id": "a53ecb51",
   "metadata": {},
   "source": [
    "В данном проекте мы рассмотрим три группы моделей: логистическую регрессию, случайный лес и CatBoost классификатор. Для каждой из моделей мы попытаемся подобрать наилучшие параметры основываясь на значении метрики качества F1-score."
   ]
  },
  {
   "cell_type": "markdown",
   "id": "a6da9ab5",
   "metadata": {},
   "source": [
    "Для оптимизации работы и более справедливой оценки на кросс-валидации дополнительно создадим пайплайн, который сначала будет проводить векторизацию текстов посредством функции TF-IDF, а потом обучать заданную модель. "
   ]
  },
  {
   "cell_type": "markdown",
   "id": "c07cdc89",
   "metadata": {},
   "source": [
    "### Логистическая регрессия"
   ]
  },
  {
   "cell_type": "markdown",
   "id": "028edad6",
   "metadata": {},
   "source": [
    "Начнем с логистической регрессии. После обучения выведем среднее качество лучшей модели по cv."
   ]
  },
  {
   "cell_type": "code",
   "execution_count": 18,
   "id": "015e941c",
   "metadata": {},
   "outputs": [],
   "source": [
    "stopwords = set(stopwords.words('english'))\n",
    "count_tf_idf = TfidfVectorizer(stop_words=stopwords)"
   ]
  },
  {
   "cell_type": "code",
   "execution_count": 19,
   "id": "59a1ebe7",
   "metadata": {},
   "outputs": [
    {
     "data": {
      "text/plain": [
       "RandomizedSearchCV(cv=3,\n",
       "                   estimator=Pipeline(steps=[('vectorization',\n",
       "                                              TfidfVectorizer(stop_words={'a',\n",
       "                                                                          'about',\n",
       "                                                                          'above',\n",
       "                                                                          'after',\n",
       "                                                                          'again',\n",
       "                                                                          'against',\n",
       "                                                                          'ain',\n",
       "                                                                          'all',\n",
       "                                                                          'am',\n",
       "                                                                          'an',\n",
       "                                                                          'and',\n",
       "                                                                          'any',\n",
       "                                                                          'are',\n",
       "                                                                          'aren',\n",
       "                                                                          \"aren't\",\n",
       "                                                                          'as',\n",
       "                                                                          'at',\n",
       "                                                                          'be',\n",
       "                                                                          'because',\n",
       "                                                                          'been',\n",
       "                                                                          'before',\n",
       "                                                                          'being',\n",
       "                                                                          'below',\n",
       "                                                                          'between',\n",
       "                                                                          'both',\n",
       "                                                                          'but',\n",
       "                                                                          'by',\n",
       "                                                                          'can',\n",
       "                                                                          'couldn',\n",
       "                                                                          \"couldn't\", ...})),\n",
       "                                             ('logit',\n",
       "                                              LogisticRegression(class_weight='balanced',\n",
       "                                                                 random_state=9))]),\n",
       "                   n_jobs=-1,\n",
       "                   param_distributions={'logit__C': array([1.00000000e-05, 8.48342898e-05, 7.19685673e-04, 6.10540230e-03,\n",
       "       5.17947468e-02, 4.39397056e-01, 3.72759372e+00, 3.16227766e+01,\n",
       "       2.68269580e+02, 2.27584593e+03, 1.93069773e+04, 1.63789371e+05,\n",
       "       1.38949549e+06, 1.17876863e+07, 1.00000000e+08]),\n",
       "                                        'logit__penalty': ['l2']},\n",
       "                   scoring='f1')"
      ]
     },
     "execution_count": 19,
     "metadata": {},
     "output_type": "execute_result"
    }
   ],
   "source": [
    "logit = LogisticRegression(random_state=9, class_weight='balanced')\n",
    "params_log = {'logit__C': np.logspace(-5, 8, 15),'logit__penalty':['l2']}\n",
    "pipeline =  Pipeline([(\"vectorization\", count_tf_idf), (\"logit\", logit)])\n",
    "cv_log = RandomizedSearchCV(pipeline, param_distributions=params_log,\n",
    "                      cv=3, scoring='f1', n_jobs=-1)\n",
    "cv_log.fit(X_train['text'], y_train)"
   ]
  },
  {
   "cell_type": "code",
   "execution_count": 20,
   "id": "0b2f523d",
   "metadata": {},
   "outputs": [
    {
     "data": {
      "text/plain": [
       "0.7537072044594503"
      ]
     },
     "execution_count": 20,
     "metadata": {},
     "output_type": "execute_result"
    }
   ],
   "source": [
    "cv_log.best_score_"
   ]
  },
  {
   "cell_type": "markdown",
   "id": "b6e1ad00",
   "metadata": {},
   "source": [
    "Модель логистической регрессии показала неплохое качество на тренировочных данных, а также сумела пересечь порог по необходимому качеству - хоть и по нижней границе. "
   ]
  },
  {
   "cell_type": "markdown",
   "id": "df5b574a",
   "metadata": {},
   "source": [
    "### Случайный лес"
   ]
  },
  {
   "cell_type": "markdown",
   "id": "22d450bd",
   "metadata": {},
   "source": [
    "Теперь повторим процедуру подбора параметров для случайного леса. "
   ]
  },
  {
   "cell_type": "code",
   "execution_count": 21,
   "id": "7025dfaf",
   "metadata": {},
   "outputs": [
    {
     "data": {
      "text/plain": [
       "RandomizedSearchCV(cv=3,\n",
       "                   estimator=Pipeline(steps=[('vectorization',\n",
       "                                              TfidfVectorizer(stop_words={'a',\n",
       "                                                                          'about',\n",
       "                                                                          'above',\n",
       "                                                                          'after',\n",
       "                                                                          'again',\n",
       "                                                                          'against',\n",
       "                                                                          'ain',\n",
       "                                                                          'all',\n",
       "                                                                          'am',\n",
       "                                                                          'an',\n",
       "                                                                          'and',\n",
       "                                                                          'any',\n",
       "                                                                          'are',\n",
       "                                                                          'aren',\n",
       "                                                                          \"aren't\",\n",
       "                                                                          'as',\n",
       "                                                                          'at',\n",
       "                                                                          'be',\n",
       "                                                                          'because',\n",
       "                                                                          'been',\n",
       "                                                                          'before',\n",
       "                                                                          'being',\n",
       "                                                                          'below',\n",
       "                                                                          'between',\n",
       "                                                                          'both',\n",
       "                                                                          'but',\n",
       "                                                                          'by',\n",
       "                                                                          'can',\n",
       "                                                                          'couldn',\n",
       "                                                                          \"couldn't\", ...})),\n",
       "                                             ('random_forest',\n",
       "                                              RandomForestClassifier(class_weight='balanced',\n",
       "                                                                     n_jobs=-1,\n",
       "                                                                     random_state=9))]),\n",
       "                   n_jobs=-1,\n",
       "                   param_distributions={'random_forest__max_depth': range(1, 7),\n",
       "                                        'random_forest__max_features': ['auto',\n",
       "                                                                        'sqrt',\n",
       "                                                                        'log2'],\n",
       "                                        'random_forest__n_estimators': range(90, 120, 10)},\n",
       "                   scoring='f1')"
      ]
     },
     "execution_count": 21,
     "metadata": {},
     "output_type": "execute_result"
    }
   ],
   "source": [
    "forest = RandomForestClassifier(random_state=9, n_jobs=-1, class_weight='balanced')\n",
    "params_forest = {'random_forest__max_depth': range (1, 7, 1), 'random_forest__max_features': ['auto', 'sqrt', 'log2'], \n",
    "                 'random_forest__n_estimators': range(90, 120, 10)}\n",
    "pipeline =  Pipeline([('vectorization', count_tf_idf), (\"random_forest\", forest)])\n",
    "cv_forest = RandomizedSearchCV(pipeline, param_distributions=params_forest,\n",
    "                      cv=3, scoring='f1', n_jobs=-1)\n",
    "cv_forest.fit(X_train['text'], y_train)"
   ]
  },
  {
   "cell_type": "code",
   "execution_count": 22,
   "id": "bbf3567d",
   "metadata": {},
   "outputs": [
    {
     "data": {
      "text/plain": [
       "0.34720463587716993"
      ]
     },
     "execution_count": 22,
     "metadata": {},
     "output_type": "execute_result"
    }
   ],
   "source": [
    "cv_forest.best_score_"
   ]
  },
  {
   "cell_type": "markdown",
   "id": "21b7f9d2",
   "metadata": {},
   "source": [
    "Модель случайного леса имеет куда более низкий уровень качества, а также не пересекает заявленный заказчиком порог - данная модель исключается из дальнейшего рассмотрения."
   ]
  },
  {
   "cell_type": "markdown",
   "id": "bfda646c",
   "metadata": {},
   "source": [
    "### CatBoost классификация"
   ]
  },
  {
   "cell_type": "markdown",
   "id": "12d35515",
   "metadata": {},
   "source": [
    "Наконец, построим модель CatBoost классификации."
   ]
  },
  {
   "cell_type": "code",
   "execution_count": 23,
   "id": "ffb26e24",
   "metadata": {
    "scrolled": true
   },
   "outputs": [
    {
     "data": {
      "text/plain": [
       "RandomizedSearchCV(cv=3,\n",
       "                   estimator=Pipeline(steps=[('vectorization',\n",
       "                                              TfidfVectorizer(stop_words={'a',\n",
       "                                                                          'about',\n",
       "                                                                          'above',\n",
       "                                                                          'after',\n",
       "                                                                          'again',\n",
       "                                                                          'against',\n",
       "                                                                          'ain',\n",
       "                                                                          'all',\n",
       "                                                                          'am',\n",
       "                                                                          'an',\n",
       "                                                                          'and',\n",
       "                                                                          'any',\n",
       "                                                                          'are',\n",
       "                                                                          'aren',\n",
       "                                                                          \"aren't\",\n",
       "                                                                          'as',\n",
       "                                                                          'at',\n",
       "                                                                          'be',\n",
       "                                                                          'because',\n",
       "                                                                          'been',\n",
       "                                                                          'before',\n",
       "                                                                          'being',\n",
       "                                                                          'below',\n",
       "                                                                          'between',\n",
       "                                                                          'both',\n",
       "                                                                          'but',\n",
       "                                                                          'by',\n",
       "                                                                          'can',\n",
       "                                                                          'couldn',\n",
       "                                                                          \"couldn't\", ...})),\n",
       "                                             ('cat',\n",
       "                                              <catboost.core.CatBoostClassifier object at 0x000001F0CF9C4130>)]),\n",
       "                   n_jobs=-1,\n",
       "                   param_distributions={'cat__depth': range(1, 7),\n",
       "                                        'cat__grow_policy': ['Depthwise'],\n",
       "                                        'cat__n_estimators': range(90, 120, 10)},\n",
       "                   scoring='f1')"
      ]
     },
     "execution_count": 23,
     "metadata": {},
     "output_type": "execute_result"
    }
   ],
   "source": [
    "cat = CatBoostClassifier(random_state=9, verbose=False)\n",
    "params_cat = {'cat__n_estimators': range(90, 120, 10),\n",
    "               'cat__depth': range (1, 7, 1), 'cat__grow_policy': ['Depthwise']}\n",
    "pipeline =  Pipeline([('vectorization', count_tf_idf), (\"cat\", cat)])\n",
    "cat_cv = RandomizedSearchCV(pipeline, params_cat, cv=3, scoring='f1', n_jobs=-1)\n",
    "cat_cv.fit(X_train['text'], y_train)"
   ]
  },
  {
   "cell_type": "code",
   "execution_count": 24,
   "id": "255487d2",
   "metadata": {},
   "outputs": [
    {
     "data": {
      "text/plain": [
       "0.7371877958028165"
      ]
     },
     "execution_count": 24,
     "metadata": {},
     "output_type": "execute_result"
    }
   ],
   "source": [
    "cat_cv.best_score_"
   ]
  },
  {
   "cell_type": "markdown",
   "id": "efd53d97",
   "metadata": {},
   "source": [
    "Модель классификации CatBoost показала неплохой результат на тренировочных данных, однако она не смогла пересечь порог качества, так что она также исключается из дальнейшего рассмотрения.\n",
    "\n",
    "По итогу мы остановились на модели логистической регрессии - она не только была единственной моделью, которой удалось пересечь минимальный порог качества, но также имела наибольшее значение f1 статистики на тренировочных данных. Оценим, как будет работать наша итоговая модель на тренировочных данных."
   ]
  },
  {
   "cell_type": "code",
   "execution_count": 26,
   "id": "d30582f6",
   "metadata": {},
   "outputs": [
    {
     "data": {
      "text/plain": [
       "0.7508926119198024"
      ]
     },
     "execution_count": 26,
     "metadata": {},
     "output_type": "execute_result"
    }
   ],
   "source": [
    "f1_score(y_test, cv_log.predict(X_test['text']))"
   ]
  },
  {
   "cell_type": "markdown",
   "id": "d879d5d3",
   "metadata": {},
   "source": [
    "Наша итоговая модель отлично показала себя и на тренировочных данных - значение f1 статистики почти не изменилось, что свидетельствует о минимальном переобучении нашей модели. "
   ]
  },
  {
   "cell_type": "markdown",
   "id": "94545c08",
   "metadata": {},
   "source": [
    "## Итоговые выводы"
   ]
  },
  {
   "cell_type": "markdown",
   "id": "eeace5da",
   "metadata": {},
   "source": [
    "Перед нами стояла задача создать модель, которая по предлагаемому ей тексту будет определять, является ли этот текст токсичным или нет. \n",
    "\n",
    "На первом этапе работы мы провели первичную обработку исходных текстов:\n",
    "* перевели тексты в нужную кодировку\n",
    "* лемматизировали исходные тексты\n",
    "* удалили ненужные и неинформативные слова\n",
    "* почистили  тексты от стоп-слов\n",
    "* провели оценку значимости каждого слова в тексте\n",
    "\n",
    "После этапа предобработки мы перешли к этапу моделирования. Нами были рассмотрены три модели: логистическая регрессия, случайный лес и CatBoost классификатор. В качестве итоговой была выбрана модель логистической регрессии - именно она имела наилучшее качество на тренировочных данных, а также соответствовала запросу заказчика в f1-score не ниже 0,75. \n",
    "\n",
    "На тестовых данных итоговая модель показала себя отлично - величина f1 статистики почти не отличается от аналогичного показателя на тренировочных данных, что свидетельствует о минимальном переобучении итоговой модели. "
   ]
  }
 ],
 "metadata": {
  "kernelspec": {
   "display_name": "Python 3 (ipykernel)",
   "language": "python",
   "name": "python3"
  },
  "language_info": {
   "codemirror_mode": {
    "name": "ipython",
    "version": 3
   },
   "file_extension": ".py",
   "mimetype": "text/x-python",
   "name": "python",
   "nbconvert_exporter": "python",
   "pygments_lexer": "ipython3",
   "version": "3.9.7"
  },
  "toc": {
   "base_numbering": 1,
   "nav_menu": {},
   "number_sections": true,
   "sideBar": true,
   "skip_h1_title": true,
   "title_cell": "Table of Contents",
   "title_sidebar": "Contents",
   "toc_cell": true,
   "toc_position": {},
   "toc_section_display": true,
   "toc_window_display": false
  }
 },
 "nbformat": 4,
 "nbformat_minor": 5
}
